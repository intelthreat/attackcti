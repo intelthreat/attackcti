{
 "cells": [
  {
   "cell_type": "code",
   "execution_count": 1,
   "metadata": {},
   "outputs": [],
   "source": [
    "from attackcti import attack_client\n"
   ]
  },
  {
   "cell_type": "code",
   "execution_count": 2,
   "metadata": {},
   "outputs": [],
   "source": [
    "from pandas import * \n",
    "from pandas import json_normalize\n",
    "import json \n"
   ]
  },
  {
   "cell_type": "code",
   "execution_count": 3,
   "metadata": {},
   "outputs": [],
   "source": [
    "lift = attack_client()"
   ]
  },
  {
   "cell_type": "code",
   "execution_count": 4,
   "metadata": {},
   "outputs": [
    {
     "name": "stdout",
     "output_type": "stream",
     "text": [
      "CPU times: user 2.86 s, sys: 521 ms, total: 3.38 s\n",
      "Wall time: 1min 20s\n"
     ]
    }
   ],
   "source": [
    "%time all_enterprise = lift.get_enterprise()"
   ]
  },
  {
   "cell_type": "code",
   "execution_count": 5,
   "metadata": {},
   "outputs": [
    {
     "name": "stdout",
     "output_type": "stream",
     "text": [
      "CPU times: user 151 ms, sys: 30.6 ms, total: 181 ms\n",
      "Wall time: 8.48 s\n"
     ]
    }
   ],
   "source": [
    "%time all_pre = lift.get_pre()"
   ]
  },
  {
   "cell_type": "code",
   "execution_count": 6,
   "metadata": {},
   "outputs": [
    {
     "name": "stdout",
     "output_type": "stream",
     "text": [
      "CPU times: user 291 ms, sys: 43.3 ms, total: 334 ms\n",
      "Wall time: 25.2 s\n"
     ]
    }
   ],
   "source": [
    "%time all_mobile = lift.get_mobile()\n"
   ]
  },
  {
   "cell_type": "code",
   "execution_count": 7,
   "metadata": {},
   "outputs": [
    {
     "name": "stdout",
     "output_type": "stream",
     "text": [
      "CPU times: user 32.5 s, sys: 613 ms, total: 33.1 s\n",
      "Wall time: 2min 39s\n"
     ]
    }
   ],
   "source": [
    "%time all_attack = lift.get_stix_objects() "
   ]
  },
  {
   "cell_type": "code",
   "execution_count": 8,
   "metadata": {},
   "outputs": [
    {
     "data": {
      "text/plain": [
       "dict"
      ]
     },
     "execution_count": 8,
     "metadata": {},
     "output_type": "execute_result"
    }
   ],
   "source": [
    "type(all_attack)"
   ]
  },
  {
   "cell_type": "code",
   "execution_count": 12,
   "metadata": {},
   "outputs": [
    {
     "name": "stdout",
     "output_type": "stream",
     "text": [
      "Number of techniques in ATT&CK\n",
      "535\n"
     ]
    }
   ],
   "source": [
    "print(\"Number of techniques in ATT&CK\")\n",
    "print(len(all_attack['techniques']))"
   ]
  },
  {
   "cell_type": "code",
   "execution_count": 16,
   "metadata": {},
   "outputs": [
    {
     "data": {
      "text/html": [
       "<div>\n",
       "<style scoped>\n",
       "    .dataframe tbody tr th:only-of-type {\n",
       "        vertical-align: middle;\n",
       "    }\n",
       "\n",
       "    .dataframe tbody tr th {\n",
       "        vertical-align: top;\n",
       "    }\n",
       "\n",
       "    .dataframe thead th {\n",
       "        text-align: right;\n",
       "    }\n",
       "</style>\n",
       "<table border=\"1\" class=\"dataframe\">\n",
       "  <thead>\n",
       "    <tr style=\"text-align: right;\">\n",
       "      <th></th>\n",
       "      <th>created</th>\n",
       "      <th>name</th>\n",
       "      <th>x_mitre_data_sources</th>\n",
       "      <th>x_mitre_platforms</th>\n",
       "    </tr>\n",
       "  </thead>\n",
       "  <tbody>\n",
       "    <tr>\n",
       "      <th>0</th>\n",
       "      <td>2019-10-09T18:48:31.906Z</td>\n",
       "      <td>Account Access Removal</td>\n",
       "      <td>[Windows event logs, Process command-line para...</td>\n",
       "      <td>[Linux, macOS, Windows]</td>\n",
       "    </tr>\n",
       "    <tr>\n",
       "      <th>1</th>\n",
       "      <td>2019-10-08T20:08:56.205Z</td>\n",
       "      <td>Web Session Cookie</td>\n",
       "      <td>[Authentication logs, Office 365 account logs]</td>\n",
       "      <td>[Office 365, SaaS]</td>\n",
       "    </tr>\n",
       "    <tr>\n",
       "      <th>2</th>\n",
       "      <td>2019-10-08T20:04:35.508Z</td>\n",
       "      <td>Steal Web Session Cookie</td>\n",
       "      <td>[File monitoring, API monitoring]</td>\n",
       "      <td>[Linux, macOS, Windows, Office 365, SaaS]</td>\n",
       "    </tr>\n",
       "    <tr>\n",
       "      <th>3</th>\n",
       "      <td>2019-10-04T20:42:28.541Z</td>\n",
       "      <td>System Shutdown/Reboot</td>\n",
       "      <td>[Windows event logs, Process command-line para...</td>\n",
       "      <td>[Linux, macOS, Windows]</td>\n",
       "    </tr>\n",
       "    <tr>\n",
       "      <th>4</th>\n",
       "      <td>2019-09-19T14:07:11.734Z</td>\n",
       "      <td>Emond</td>\n",
       "      <td>[File monitoring, API monitoring]</td>\n",
       "      <td>[macOS]</td>\n",
       "    </tr>\n",
       "  </tbody>\n",
       "</table>\n",
       "</div>"
      ],
      "text/plain": [
       "                    created                      name  \\\n",
       "0  2019-10-09T18:48:31.906Z    Account Access Removal   \n",
       "1  2019-10-08T20:08:56.205Z        Web Session Cookie   \n",
       "2  2019-10-08T20:04:35.508Z  Steal Web Session Cookie   \n",
       "3  2019-10-04T20:42:28.541Z    System Shutdown/Reboot   \n",
       "4  2019-09-19T14:07:11.734Z                     Emond   \n",
       "\n",
       "                                x_mitre_data_sources  \\\n",
       "0  [Windows event logs, Process command-line para...   \n",
       "1     [Authentication logs, Office 365 account logs]   \n",
       "2                  [File monitoring, API monitoring]   \n",
       "3  [Windows event logs, Process command-line para...   \n",
       "4                  [File monitoring, API monitoring]   \n",
       "\n",
       "                           x_mitre_platforms  \n",
       "0                    [Linux, macOS, Windows]  \n",
       "1                         [Office 365, SaaS]  \n",
       "2  [Linux, macOS, Windows, Office 365, SaaS]  \n",
       "3                    [Linux, macOS, Windows]  \n",
       "4                                    [macOS]  "
      ]
     },
     "execution_count": 16,
     "metadata": {},
     "output_type": "execute_result"
    }
   ],
   "source": [
    "techniques = []\n",
    "for t in all_attack['techniques']:\n",
    "    techniques.append(json.loads(t.serialize()))\n",
    "df = json_normalize(techniques)\n",
    "df.reindex(['created','name', 'x_mitre_data_sources', 'x_mitre_platforms'], axis=1)[0:5]"
   ]
  },
  {
   "cell_type": "code",
   "execution_count": 17,
   "metadata": {},
   "outputs": [
    {
     "data": {
      "text/plain": [
       "['name',\n",
       " 'description',\n",
       " 'id',\n",
       " 'object_marking_refs',\n",
       " 'type',\n",
       " 'created_by_ref',\n",
       " 'created',\n",
       " 'kill_chain_phases',\n",
       " 'external_references',\n",
       " 'modified',\n",
       " 'x_mitre_data_sources',\n",
       " 'x_mitre_permissions_required',\n",
       " 'x_mitre_platforms',\n",
       " 'x_mitre_version',\n",
       " 'x_mitre_impact_type',\n",
       " 'x_mitre_detection',\n",
       " 'x_mitre_contributors',\n",
       " 'x_mitre_defense_bypassed',\n",
       " 'x_mitre_network_requirements',\n",
       " 'x_mitre_effective_permissions',\n",
       " 'x_mitre_system_requirements',\n",
       " 'x_mitre_remote_support',\n",
       " 'x_mitre_old_attack_id',\n",
       " 'x_mitre_detectable_by_common_defenses_explanation',\n",
       " 'x_mitre_difficulty_for_adversary',\n",
       " 'x_mitre_difficulty_for_adversary_explanation',\n",
       " 'x_mitre_detectable_by_common_defenses',\n",
       " 'x_mitre_deprecated',\n",
       " 'x_mitre_tactic_type',\n",
       " 'revoked']"
      ]
     },
     "execution_count": 17,
     "metadata": {},
     "output_type": "execute_result"
    }
   ],
   "source": [
    "list(df)"
   ]
  },
  {
   "cell_type": "code",
   "execution_count": 19,
   "metadata": {},
   "outputs": [
    {
     "name": "stdout",
     "output_type": "stream",
     "text": [
      "{'name': 'Account Access Removal', 'description': 'Adversaries may interrupt availability of system and network resources by inhibiting access to accounts utilized by legitimate users. Accounts may be deleted, locked, or manipulated (ex: changed credentials) to remove access to accounts.\\n\\nAdversaries may also subsequently log off and/or reboot boxes to set malicious changes into place.(Citation: CarbonBlack LockerGoga 2019)(Citation: Unit42 LockerGoga 2019)', 'id': 'attack-pattern--b24e2a20-3b3d-4bf0-823b-1ed765398fb0', 'object_marking_refs': ['marking-definition--fa42a846-8d90-4e51-bc29-71d5b4802168'], 'type': 'attack-pattern', 'created_by_ref': 'identity--c78cb6e5-0c4b-4611-8297-d1b8b55e40b5', 'created': '2019-10-09T18:48:31.906Z', 'kill_chain_phases': [{'kill_chain_name': 'mitre-attack', 'phase_name': 'impact'}], 'external_references': [{'external_id': 'T1531', 'source_name': 'mitre-attack', 'url': 'https://attack.mitre.org/techniques/T1531'}, {'source_name': 'CarbonBlack LockerGoga 2019', 'description': 'CarbonBlack Threat Analysis Unit. (2019, March 22). TAU Threat Intelligence Notification – LockerGoga Ransomware. Retrieved April 16, 2019.', 'url': 'https://www.carbonblack.com/2019/03/22/tau-threat-intelligence-notification-lockergoga-ransomware/'}, {'description': 'Harbison, M.. (2019, March 26). Born This Way? Origins of LockerGoga. Retrieved April 16, 2019.', 'source_name': 'Unit42 LockerGoga 2019', 'url': 'https://unit42.paloaltonetworks.com/born-this-way-origins-of-lockergoga/'}], 'modified': '2019-10-14T23:29:24.908Z', 'x_mitre_data_sources': ['Windows event logs', 'Process command-line parameters', 'Process monitoring'], 'x_mitre_permissions_required': ['User', 'Administrator', 'root', 'SYSTEM'], 'x_mitre_platforms': ['Linux', 'macOS', 'Windows'], 'x_mitre_version': '1.0', 'x_mitre_impact_type': ['Availability'], 'x_mitre_detection': \"Use process monitoring to monitor the execution and command line parameters of binaries involved in deleting accounts or changing passwords, such as use of [Net](https://attack.mitre.org/software/S0039). Windows event logs may also designate activity associated with an adversary's attempt to remove access to an account:\\n\\n* Event ID 4723 - An attempt was made to change an account's password\\n* Event ID 4724 - An attempt was made to reset an account's password\\n* Event ID 4726 - A user account was deleted\\n* Event ID 4740 - A user account was locked out\\n\\nAlerting on [Net](https://attack.mitre.org/software/S0039) and these Event IDs may generate a high degree of false positives, so compare against baseline knowledge for how systems are typically used and correlate modification events with other indications of malicious activity where possible.\"}\n"
     ]
    }
   ],
   "source": [
    "print(techniques[0])"
   ]
  },
  {
   "cell_type": "code",
   "execution_count": 2,
   "metadata": {},
   "outputs": [
    {
     "name": "stdout",
     "output_type": "stream",
     "text": [
      "Number of mitigations in ATT&CK\n"
     ]
    },
    {
     "ename": "NameError",
     "evalue": "name 'all_attack' is not defined",
     "output_type": "error",
     "traceback": [
      "\u001b[0;31m---------------------------------------------------------------------------\u001b[0m",
      "\u001b[0;31mNameError\u001b[0m                                 Traceback (most recent call last)",
      "\u001b[0;32m<ipython-input-2-59fa84f01638>\u001b[0m in \u001b[0;36m<module>\u001b[0;34m\u001b[0m\n\u001b[1;32m      1\u001b[0m \u001b[0mprint\u001b[0m\u001b[0;34m(\u001b[0m\u001b[0;34m\"Number of mitigations in ATT&CK\"\u001b[0m\u001b[0;34m)\u001b[0m\u001b[0;34m\u001b[0m\u001b[0;34m\u001b[0m\u001b[0m\n\u001b[0;32m----> 2\u001b[0;31m \u001b[0mtype\u001b[0m\u001b[0;34m(\u001b[0m\u001b[0mall_attack\u001b[0m\u001b[0;34m[\u001b[0m\u001b[0;34m'mitigations'\u001b[0m\u001b[0;34m]\u001b[0m\u001b[0;34m)\u001b[0m\u001b[0;34m\u001b[0m\u001b[0;34m\u001b[0m\u001b[0m\n\u001b[0m",
      "\u001b[0;31mNameError\u001b[0m: name 'all_attack' is not defined"
     ]
    }
   ],
   "source": [
    "print(\"Number of mitigations in ATT&CK\")\n",
    "len(all_attack['mitigations'])"
   ]
  },
  {
   "cell_type": "code",
   "execution_count": 22,
   "metadata": {},
   "outputs": [
    {
     "data": {
      "text/html": [
       "<div>\n",
       "<style scoped>\n",
       "    .dataframe tbody tr th:only-of-type {\n",
       "        vertical-align: middle;\n",
       "    }\n",
       "\n",
       "    .dataframe tbody tr th {\n",
       "        vertical-align: top;\n",
       "    }\n",
       "\n",
       "    .dataframe thead th {\n",
       "        text-align: right;\n",
       "    }\n",
       "</style>\n",
       "<table border=\"1\" class=\"dataframe\">\n",
       "  <thead>\n",
       "    <tr style=\"text-align: right;\">\n",
       "      <th></th>\n",
       "      <th>type</th>\n",
       "      <th>name</th>\n",
       "      <th>description</th>\n",
       "      <th>external_references</th>\n",
       "      <th>created_by_ref</th>\n",
       "      <th>created</th>\n",
       "      <th>id</th>\n",
       "      <th>modified</th>\n",
       "      <th>object_marking_refs</th>\n",
       "      <th>x_mitre_version</th>\n",
       "      <th>x_mitre_deprecated</th>\n",
       "      <th>x_mitre_old_attack_id</th>\n",
       "    </tr>\n",
       "  </thead>\n",
       "  <tbody>\n",
       "    <tr>\n",
       "      <th>0</th>\n",
       "      <td>course-of-action</td>\n",
       "      <td>Do Not Mitigate</td>\n",
       "      <td>This category is to associate techniques that ...</td>\n",
       "      <td>[{'external_id': 'M1055', 'source_name': 'mitr...</td>\n",
       "      <td>identity--c78cb6e5-0c4b-4611-8297-d1b8b55e40b5</td>\n",
       "      <td>2019-07-19T14:58:42.715Z</td>\n",
       "      <td>course-of-action--787fb64d-c87b-4ee5-a341-0ef1...</td>\n",
       "      <td>2019-07-23T14:44:24.727Z</td>\n",
       "      <td>[marking-definition--fa42a846-8d90-4e51-bc29-7...</td>\n",
       "      <td>1.0</td>\n",
       "      <td>NaN</td>\n",
       "      <td>NaN</td>\n",
       "    </tr>\n",
       "    <tr>\n",
       "      <th>1</th>\n",
       "      <td>course-of-action</td>\n",
       "      <td>Software Configuration</td>\n",
       "      <td>Implement configuration changes to software (o...</td>\n",
       "      <td>[{'external_id': 'M1054', 'source_name': 'mitr...</td>\n",
       "      <td>identity--c78cb6e5-0c4b-4611-8297-d1b8b55e40b5</td>\n",
       "      <td>2019-07-19T14:40:23.529Z</td>\n",
       "      <td>course-of-action--b5dbb4c5-b0b1-40b1-80b6-e9e8...</td>\n",
       "      <td>2019-07-19T14:57:15.656Z</td>\n",
       "      <td>[marking-definition--fa42a846-8d90-4e51-bc29-7...</td>\n",
       "      <td>1.0</td>\n",
       "      <td>NaN</td>\n",
       "      <td>NaN</td>\n",
       "    </tr>\n",
       "    <tr>\n",
       "      <th>2</th>\n",
       "      <td>course-of-action</td>\n",
       "      <td>Data Backup</td>\n",
       "      <td>Take and store data backups from end user syst...</td>\n",
       "      <td>[{'external_id': 'M1053', 'source_name': 'mitr...</td>\n",
       "      <td>identity--c78cb6e5-0c4b-4611-8297-d1b8b55e40b5</td>\n",
       "      <td>2019-07-19T14:33:33.543Z</td>\n",
       "      <td>course-of-action--3efe43d1-6f3f-4fcb-ab39-4a73...</td>\n",
       "      <td>2019-07-19T14:33:33.543Z</td>\n",
       "      <td>[marking-definition--fa42a846-8d90-4e51-bc29-7...</td>\n",
       "      <td>1.0</td>\n",
       "      <td>NaN</td>\n",
       "      <td>NaN</td>\n",
       "    </tr>\n",
       "    <tr>\n",
       "      <th>3</th>\n",
       "      <td>course-of-action</td>\n",
       "      <td>User Account Control</td>\n",
       "      <td>Configure Windows User Account Control to miti...</td>\n",
       "      <td>[{'external_id': 'M1052', 'source_name': 'mitr...</td>\n",
       "      <td>identity--c78cb6e5-0c4b-4611-8297-d1b8b55e40b5</td>\n",
       "      <td>2019-06-11T17:14:35.170Z</td>\n",
       "      <td>course-of-action--2c2ad92a-d710-41ab-a996-1db1...</td>\n",
       "      <td>2019-06-11T17:14:35.170Z</td>\n",
       "      <td>[marking-definition--fa42a846-8d90-4e51-bc29-7...</td>\n",
       "      <td>1.0</td>\n",
       "      <td>NaN</td>\n",
       "      <td>NaN</td>\n",
       "    </tr>\n",
       "  </tbody>\n",
       "</table>\n",
       "</div>"
      ],
      "text/plain": [
       "               type                    name  \\\n",
       "0  course-of-action         Do Not Mitigate   \n",
       "1  course-of-action  Software Configuration   \n",
       "2  course-of-action             Data Backup   \n",
       "3  course-of-action    User Account Control   \n",
       "\n",
       "                                         description  \\\n",
       "0  This category is to associate techniques that ...   \n",
       "1  Implement configuration changes to software (o...   \n",
       "2  Take and store data backups from end user syst...   \n",
       "3  Configure Windows User Account Control to miti...   \n",
       "\n",
       "                                 external_references  \\\n",
       "0  [{'external_id': 'M1055', 'source_name': 'mitr...   \n",
       "1  [{'external_id': 'M1054', 'source_name': 'mitr...   \n",
       "2  [{'external_id': 'M1053', 'source_name': 'mitr...   \n",
       "3  [{'external_id': 'M1052', 'source_name': 'mitr...   \n",
       "\n",
       "                                   created_by_ref                   created  \\\n",
       "0  identity--c78cb6e5-0c4b-4611-8297-d1b8b55e40b5  2019-07-19T14:58:42.715Z   \n",
       "1  identity--c78cb6e5-0c4b-4611-8297-d1b8b55e40b5  2019-07-19T14:40:23.529Z   \n",
       "2  identity--c78cb6e5-0c4b-4611-8297-d1b8b55e40b5  2019-07-19T14:33:33.543Z   \n",
       "3  identity--c78cb6e5-0c4b-4611-8297-d1b8b55e40b5  2019-06-11T17:14:35.170Z   \n",
       "\n",
       "                                                  id  \\\n",
       "0  course-of-action--787fb64d-c87b-4ee5-a341-0ef1...   \n",
       "1  course-of-action--b5dbb4c5-b0b1-40b1-80b6-e9e8...   \n",
       "2  course-of-action--3efe43d1-6f3f-4fcb-ab39-4a73...   \n",
       "3  course-of-action--2c2ad92a-d710-41ab-a996-1db1...   \n",
       "\n",
       "                   modified  \\\n",
       "0  2019-07-23T14:44:24.727Z   \n",
       "1  2019-07-19T14:57:15.656Z   \n",
       "2  2019-07-19T14:33:33.543Z   \n",
       "3  2019-06-11T17:14:35.170Z   \n",
       "\n",
       "                                 object_marking_refs x_mitre_version  \\\n",
       "0  [marking-definition--fa42a846-8d90-4e51-bc29-7...             1.0   \n",
       "1  [marking-definition--fa42a846-8d90-4e51-bc29-7...             1.0   \n",
       "2  [marking-definition--fa42a846-8d90-4e51-bc29-7...             1.0   \n",
       "3  [marking-definition--fa42a846-8d90-4e51-bc29-7...             1.0   \n",
       "\n",
       "  x_mitre_deprecated x_mitre_old_attack_id  \n",
       "0                NaN                   NaN  \n",
       "1                NaN                   NaN  \n",
       "2                NaN                   NaN  \n",
       "3                NaN                   NaN  "
      ]
     },
     "execution_count": 22,
     "metadata": {},
     "output_type": "execute_result"
    }
   ],
   "source": [
    "mitigations = []\n",
    "for t in all_attack['mitigations']:\n",
    "    mitigations.append(json.loads(t.serialize()))\n",
    "df = json_normalize(mitigations)\n",
    "df[0:4]"
   ]
  },
  {
   "cell_type": "code",
   "execution_count": 23,
   "metadata": {},
   "outputs": [
    {
     "data": {
      "text/plain": [
       "['type',\n",
       " 'name',\n",
       " 'description',\n",
       " 'external_references',\n",
       " 'created_by_ref',\n",
       " 'created',\n",
       " 'id',\n",
       " 'modified',\n",
       " 'object_marking_refs',\n",
       " 'x_mitre_version',\n",
       " 'x_mitre_deprecated',\n",
       " 'x_mitre_old_attack_id']"
      ]
     },
     "execution_count": 23,
     "metadata": {},
     "output_type": "execute_result"
    }
   ],
   "source": [
    "list(df)"
   ]
  },
  {
   "cell_type": "code",
   "execution_count": 25,
   "metadata": {},
   "outputs": [
    {
     "data": {
      "text/html": [
       "<div>\n",
       "<style scoped>\n",
       "    .dataframe tbody tr th:only-of-type {\n",
       "        vertical-align: middle;\n",
       "    }\n",
       "\n",
       "    .dataframe tbody tr th {\n",
       "        vertical-align: top;\n",
       "    }\n",
       "\n",
       "    .dataframe thead th {\n",
       "        text-align: right;\n",
       "    }\n",
       "</style>\n",
       "<table border=\"1\" class=\"dataframe\">\n",
       "  <thead>\n",
       "    <tr style=\"text-align: right;\">\n",
       "      <th></th>\n",
       "      <th>name</th>\n",
       "      <th>description</th>\n",
       "      <th>external_references</th>\n",
       "    </tr>\n",
       "  </thead>\n",
       "  <tbody>\n",
       "    <tr>\n",
       "      <th>0</th>\n",
       "      <td>Do Not Mitigate</td>\n",
       "      <td>This category is to associate techniques that ...</td>\n",
       "      <td>[{'external_id': 'M1055', 'source_name': 'mitr...</td>\n",
       "    </tr>\n",
       "    <tr>\n",
       "      <th>1</th>\n",
       "      <td>Software Configuration</td>\n",
       "      <td>Implement configuration changes to software (o...</td>\n",
       "      <td>[{'external_id': 'M1054', 'source_name': 'mitr...</td>\n",
       "    </tr>\n",
       "    <tr>\n",
       "      <th>2</th>\n",
       "      <td>Data Backup</td>\n",
       "      <td>Take and store data backups from end user syst...</td>\n",
       "      <td>[{'external_id': 'M1053', 'source_name': 'mitr...</td>\n",
       "    </tr>\n",
       "    <tr>\n",
       "      <th>3</th>\n",
       "      <td>User Account Control</td>\n",
       "      <td>Configure Windows User Account Control to miti...</td>\n",
       "      <td>[{'external_id': 'M1052', 'source_name': 'mitr...</td>\n",
       "    </tr>\n",
       "    <tr>\n",
       "      <th>4</th>\n",
       "      <td>Update Software</td>\n",
       "      <td>Perform regular software updates to mitigate e...</td>\n",
       "      <td>[{'external_id': 'M1051', 'source_name': 'mitr...</td>\n",
       "    </tr>\n",
       "  </tbody>\n",
       "</table>\n",
       "</div>"
      ],
      "text/plain": [
       "                     name                                        description  \\\n",
       "0         Do Not Mitigate  This category is to associate techniques that ...   \n",
       "1  Software Configuration  Implement configuration changes to software (o...   \n",
       "2             Data Backup  Take and store data backups from end user syst...   \n",
       "3    User Account Control  Configure Windows User Account Control to miti...   \n",
       "4         Update Software  Perform regular software updates to mitigate e...   \n",
       "\n",
       "                                 external_references  \n",
       "0  [{'external_id': 'M1055', 'source_name': 'mitr...  \n",
       "1  [{'external_id': 'M1054', 'source_name': 'mitr...  \n",
       "2  [{'external_id': 'M1053', 'source_name': 'mitr...  \n",
       "3  [{'external_id': 'M1052', 'source_name': 'mitr...  \n",
       "4  [{'external_id': 'M1051', 'source_name': 'mitr...  "
      ]
     },
     "execution_count": 25,
     "metadata": {},
     "output_type": "execute_result"
    }
   ],
   "source": [
    "df.reindex(['name','description','external_references'], axis=1)[0:5]"
   ]
  },
  {
   "cell_type": "code",
   "execution_count": 27,
   "metadata": {},
   "outputs": [
    {
     "data": {
      "text/html": [
       "<div>\n",
       "<style scoped>\n",
       "    .dataframe tbody tr th:only-of-type {\n",
       "        vertical-align: middle;\n",
       "    }\n",
       "\n",
       "    .dataframe tbody tr th {\n",
       "        vertical-align: top;\n",
       "    }\n",
       "\n",
       "    .dataframe thead th {\n",
       "        text-align: right;\n",
       "    }\n",
       "</style>\n",
       "<table border=\"1\" class=\"dataframe\">\n",
       "  <thead>\n",
       "    <tr style=\"text-align: right;\">\n",
       "      <th></th>\n",
       "      <th>type</th>\n",
       "      <th>name</th>\n",
       "      <th>description</th>\n",
       "      <th>external_references</th>\n",
       "      <th>created_by_ref</th>\n",
       "      <th>created</th>\n",
       "      <th>id</th>\n",
       "      <th>modified</th>\n",
       "      <th>object_marking_refs</th>\n",
       "      <th>x_mitre_version</th>\n",
       "      <th>x_mitre_deprecated</th>\n",
       "      <th>x_mitre_old_attack_id</th>\n",
       "    </tr>\n",
       "  </thead>\n",
       "  <tbody>\n",
       "    <tr>\n",
       "      <th>0</th>\n",
       "      <td>course-of-action</td>\n",
       "      <td>Do Not Mitigate</td>\n",
       "      <td>This category is to associate techniques that ...</td>\n",
       "      <td>[{'external_id': 'M1055', 'source_name': 'mitr...</td>\n",
       "      <td>identity--c78cb6e5-0c4b-4611-8297-d1b8b55e40b5</td>\n",
       "      <td>2019-07-19T14:58:42.715Z</td>\n",
       "      <td>course-of-action--787fb64d-c87b-4ee5-a341-0ef1...</td>\n",
       "      <td>2019-07-23T14:44:24.727Z</td>\n",
       "      <td>[marking-definition--fa42a846-8d90-4e51-bc29-7...</td>\n",
       "      <td>1.0</td>\n",
       "      <td>NaN</td>\n",
       "      <td>NaN</td>\n",
       "    </tr>\n",
       "  </tbody>\n",
       "</table>\n",
       "</div>"
      ],
      "text/plain": [
       "               type             name  \\\n",
       "0  course-of-action  Do Not Mitigate   \n",
       "\n",
       "                                         description  \\\n",
       "0  This category is to associate techniques that ...   \n",
       "\n",
       "                                 external_references  \\\n",
       "0  [{'external_id': 'M1055', 'source_name': 'mitr...   \n",
       "\n",
       "                                   created_by_ref                   created  \\\n",
       "0  identity--c78cb6e5-0c4b-4611-8297-d1b8b55e40b5  2019-07-19T14:58:42.715Z   \n",
       "\n",
       "                                                  id  \\\n",
       "0  course-of-action--787fb64d-c87b-4ee5-a341-0ef1...   \n",
       "\n",
       "                   modified  \\\n",
       "0  2019-07-23T14:44:24.727Z   \n",
       "\n",
       "                                 object_marking_refs x_mitre_version  \\\n",
       "0  [marking-definition--fa42a846-8d90-4e51-bc29-7...             1.0   \n",
       "\n",
       "  x_mitre_deprecated x_mitre_old_attack_id  \n",
       "0                NaN                   NaN  "
      ]
     },
     "execution_count": 27,
     "metadata": {},
     "output_type": "execute_result"
    }
   ],
   "source": [
    "df[0:1]"
   ]
  },
  {
   "cell_type": "code",
   "execution_count": 28,
   "metadata": {},
   "outputs": [
    {
     "data": {
      "text/html": [
       "<div>\n",
       "<style scoped>\n",
       "    .dataframe tbody tr th:only-of-type {\n",
       "        vertical-align: middle;\n",
       "    }\n",
       "\n",
       "    .dataframe tbody tr th {\n",
       "        vertical-align: top;\n",
       "    }\n",
       "\n",
       "    .dataframe thead th {\n",
       "        text-align: right;\n",
       "    }\n",
       "</style>\n",
       "<table border=\"1\" class=\"dataframe\">\n",
       "  <thead>\n",
       "    <tr style=\"text-align: right;\">\n",
       "      <th></th>\n",
       "      <th>type</th>\n",
       "      <th>name</th>\n",
       "      <th>description</th>\n",
       "      <th>external_references</th>\n",
       "      <th>created_by_ref</th>\n",
       "      <th>created</th>\n",
       "      <th>id</th>\n",
       "      <th>modified</th>\n",
       "      <th>object_marking_refs</th>\n",
       "      <th>x_mitre_version</th>\n",
       "      <th>x_mitre_deprecated</th>\n",
       "      <th>x_mitre_old_attack_id</th>\n",
       "    </tr>\n",
       "  </thead>\n",
       "  <tbody>\n",
       "    <tr>\n",
       "      <th>0</th>\n",
       "      <td>course-of-action</td>\n",
       "      <td>Do Not Mitigate</td>\n",
       "      <td>This category is to associate techniques that ...</td>\n",
       "      <td>[{'external_id': 'M1055', 'source_name': 'mitr...</td>\n",
       "      <td>identity--c78cb6e5-0c4b-4611-8297-d1b8b55e40b5</td>\n",
       "      <td>2019-07-19T14:58:42.715Z</td>\n",
       "      <td>course-of-action--787fb64d-c87b-4ee5-a341-0ef1...</td>\n",
       "      <td>2019-07-23T14:44:24.727Z</td>\n",
       "      <td>[marking-definition--fa42a846-8d90-4e51-bc29-7...</td>\n",
       "      <td>1.0</td>\n",
       "      <td>NaN</td>\n",
       "      <td>NaN</td>\n",
       "    </tr>\n",
       "    <tr>\n",
       "      <th>1</th>\n",
       "      <td>course-of-action</td>\n",
       "      <td>Software Configuration</td>\n",
       "      <td>Implement configuration changes to software (o...</td>\n",
       "      <td>[{'external_id': 'M1054', 'source_name': 'mitr...</td>\n",
       "      <td>identity--c78cb6e5-0c4b-4611-8297-d1b8b55e40b5</td>\n",
       "      <td>2019-07-19T14:40:23.529Z</td>\n",
       "      <td>course-of-action--b5dbb4c5-b0b1-40b1-80b6-e9e8...</td>\n",
       "      <td>2019-07-19T14:57:15.656Z</td>\n",
       "      <td>[marking-definition--fa42a846-8d90-4e51-bc29-7...</td>\n",
       "      <td>1.0</td>\n",
       "      <td>NaN</td>\n",
       "      <td>NaN</td>\n",
       "    </tr>\n",
       "    <tr>\n",
       "      <th>2</th>\n",
       "      <td>course-of-action</td>\n",
       "      <td>Data Backup</td>\n",
       "      <td>Take and store data backups from end user syst...</td>\n",
       "      <td>[{'external_id': 'M1053', 'source_name': 'mitr...</td>\n",
       "      <td>identity--c78cb6e5-0c4b-4611-8297-d1b8b55e40b5</td>\n",
       "      <td>2019-07-19T14:33:33.543Z</td>\n",
       "      <td>course-of-action--3efe43d1-6f3f-4fcb-ab39-4a73...</td>\n",
       "      <td>2019-07-19T14:33:33.543Z</td>\n",
       "      <td>[marking-definition--fa42a846-8d90-4e51-bc29-7...</td>\n",
       "      <td>1.0</td>\n",
       "      <td>NaN</td>\n",
       "      <td>NaN</td>\n",
       "    </tr>\n",
       "    <tr>\n",
       "      <th>3</th>\n",
       "      <td>course-of-action</td>\n",
       "      <td>User Account Control</td>\n",
       "      <td>Configure Windows User Account Control to miti...</td>\n",
       "      <td>[{'external_id': 'M1052', 'source_name': 'mitr...</td>\n",
       "      <td>identity--c78cb6e5-0c4b-4611-8297-d1b8b55e40b5</td>\n",
       "      <td>2019-06-11T17:14:35.170Z</td>\n",
       "      <td>course-of-action--2c2ad92a-d710-41ab-a996-1db1...</td>\n",
       "      <td>2019-06-11T17:14:35.170Z</td>\n",
       "      <td>[marking-definition--fa42a846-8d90-4e51-bc29-7...</td>\n",
       "      <td>1.0</td>\n",
       "      <td>NaN</td>\n",
       "      <td>NaN</td>\n",
       "    </tr>\n",
       "  </tbody>\n",
       "</table>\n",
       "</div>"
      ],
      "text/plain": [
       "               type                    name  \\\n",
       "0  course-of-action         Do Not Mitigate   \n",
       "1  course-of-action  Software Configuration   \n",
       "2  course-of-action             Data Backup   \n",
       "3  course-of-action    User Account Control   \n",
       "\n",
       "                                         description  \\\n",
       "0  This category is to associate techniques that ...   \n",
       "1  Implement configuration changes to software (o...   \n",
       "2  Take and store data backups from end user syst...   \n",
       "3  Configure Windows User Account Control to miti...   \n",
       "\n",
       "                                 external_references  \\\n",
       "0  [{'external_id': 'M1055', 'source_name': 'mitr...   \n",
       "1  [{'external_id': 'M1054', 'source_name': 'mitr...   \n",
       "2  [{'external_id': 'M1053', 'source_name': 'mitr...   \n",
       "3  [{'external_id': 'M1052', 'source_name': 'mitr...   \n",
       "\n",
       "                                   created_by_ref                   created  \\\n",
       "0  identity--c78cb6e5-0c4b-4611-8297-d1b8b55e40b5  2019-07-19T14:58:42.715Z   \n",
       "1  identity--c78cb6e5-0c4b-4611-8297-d1b8b55e40b5  2019-07-19T14:40:23.529Z   \n",
       "2  identity--c78cb6e5-0c4b-4611-8297-d1b8b55e40b5  2019-07-19T14:33:33.543Z   \n",
       "3  identity--c78cb6e5-0c4b-4611-8297-d1b8b55e40b5  2019-06-11T17:14:35.170Z   \n",
       "\n",
       "                                                  id  \\\n",
       "0  course-of-action--787fb64d-c87b-4ee5-a341-0ef1...   \n",
       "1  course-of-action--b5dbb4c5-b0b1-40b1-80b6-e9e8...   \n",
       "2  course-of-action--3efe43d1-6f3f-4fcb-ab39-4a73...   \n",
       "3  course-of-action--2c2ad92a-d710-41ab-a996-1db1...   \n",
       "\n",
       "                   modified  \\\n",
       "0  2019-07-23T14:44:24.727Z   \n",
       "1  2019-07-19T14:57:15.656Z   \n",
       "2  2019-07-19T14:33:33.543Z   \n",
       "3  2019-06-11T17:14:35.170Z   \n",
       "\n",
       "                                 object_marking_refs x_mitre_version  \\\n",
       "0  [marking-definition--fa42a846-8d90-4e51-bc29-7...             1.0   \n",
       "1  [marking-definition--fa42a846-8d90-4e51-bc29-7...             1.0   \n",
       "2  [marking-definition--fa42a846-8d90-4e51-bc29-7...             1.0   \n",
       "3  [marking-definition--fa42a846-8d90-4e51-bc29-7...             1.0   \n",
       "\n",
       "  x_mitre_deprecated x_mitre_old_attack_id  \n",
       "0                NaN                   NaN  \n",
       "1                NaN                   NaN  \n",
       "2                NaN                   NaN  \n",
       "3                NaN                   NaN  "
      ]
     },
     "execution_count": 28,
     "metadata": {},
     "output_type": "execute_result"
    }
   ],
   "source": [
    "df[0:4]"
   ]
  },
  {
   "cell_type": "code",
   "execution_count": 29,
   "metadata": {},
   "outputs": [
    {
     "name": "stdout",
     "output_type": "stream",
     "text": [
      "Number of attack groups\n"
     ]
    },
    {
     "data": {
      "text/plain": [
       "96"
      ]
     },
     "execution_count": 29,
     "metadata": {},
     "output_type": "execute_result"
    }
   ],
   "source": [
    "print('Number of attack groups')\n",
    "len(all_attack['groups'])"
   ]
  },
  {
   "cell_type": "code",
   "execution_count": 36,
   "metadata": {},
   "outputs": [
    {
     "data": {
      "text/html": [
       "<div>\n",
       "<style scoped>\n",
       "    .dataframe tbody tr th:only-of-type {\n",
       "        vertical-align: middle;\n",
       "    }\n",
       "\n",
       "    .dataframe tbody tr th {\n",
       "        vertical-align: top;\n",
       "    }\n",
       "\n",
       "    .dataframe thead th {\n",
       "        text-align: right;\n",
       "    }\n",
       "</style>\n",
       "<table border=\"1\" class=\"dataframe\">\n",
       "  <thead>\n",
       "    <tr style=\"text-align: right;\">\n",
       "      <th></th>\n",
       "      <th>aliases</th>\n",
       "      <th>type</th>\n",
       "      <th>name</th>\n",
       "      <th>description</th>\n",
       "      <th>external_references</th>\n",
       "      <th>created_by_ref</th>\n",
       "      <th>created</th>\n",
       "      <th>id</th>\n",
       "      <th>modified</th>\n",
       "      <th>object_marking_refs</th>\n",
       "      <th>x_mitre_version</th>\n",
       "      <th>x_mitre_contributors</th>\n",
       "      <th>revoked</th>\n",
       "    </tr>\n",
       "  </thead>\n",
       "  <tbody>\n",
       "    <tr>\n",
       "      <th>0</th>\n",
       "      <td>[APT41]</td>\n",
       "      <td>intrusion-set</td>\n",
       "      <td>APT41</td>\n",
       "      <td>[APT41](https://attack.mitre.org/groups/G0096)...</td>\n",
       "      <td>[{'external_id': 'G0096', 'source_name': 'mitr...</td>\n",
       "      <td>identity--c78cb6e5-0c4b-4611-8297-d1b8b55e40b5</td>\n",
       "      <td>2019-09-23T13:43:36.945Z</td>\n",
       "      <td>intrusion-set--18854f55-ac7c-4634-bd9a-352dd07...</td>\n",
       "      <td>2019-10-14T21:52:59.301Z</td>\n",
       "      <td>[marking-definition--fa42a846-8d90-4e51-bc29-7...</td>\n",
       "      <td>1.0</td>\n",
       "      <td>NaN</td>\n",
       "      <td>NaN</td>\n",
       "    </tr>\n",
       "    <tr>\n",
       "      <th>1</th>\n",
       "      <td>[Machete, El Machete]</td>\n",
       "      <td>intrusion-set</td>\n",
       "      <td>Machete</td>\n",
       "      <td>[Machete](https://attack.mitre.org/groups/G009...</td>\n",
       "      <td>[{'source_name': 'mitre-attack', 'external_id'...</td>\n",
       "      <td>identity--c78cb6e5-0c4b-4611-8297-d1b8b55e40b5</td>\n",
       "      <td>2019-09-13T12:37:10.394Z</td>\n",
       "      <td>intrusion-set--38863958-a201-4ce1-9dbe-539b0b6...</td>\n",
       "      <td>2019-10-15T22:28:40.249Z</td>\n",
       "      <td>[marking-definition--fa42a846-8d90-4e51-bc29-7...</td>\n",
       "      <td>1.0</td>\n",
       "      <td>[Matias Nicolas Porolli, ESET]</td>\n",
       "      <td>NaN</td>\n",
       "    </tr>\n",
       "    <tr>\n",
       "      <th>2</th>\n",
       "      <td>[Kimsuky, Velvet Chollima]</td>\n",
       "      <td>intrusion-set</td>\n",
       "      <td>Kimsuky</td>\n",
       "      <td>[Kimsuky](https://attack.mitre.org/groups/G009...</td>\n",
       "      <td>[{'source_name': 'mitre-attack', 'external_id'...</td>\n",
       "      <td>identity--c78cb6e5-0c4b-4611-8297-d1b8b55e40b5</td>\n",
       "      <td>2019-08-26T15:03:02.577Z</td>\n",
       "      <td>intrusion-set--0ec2f388-bf0f-4b5c-97b1-fc736d2...</td>\n",
       "      <td>2019-10-07T18:26:15.460Z</td>\n",
       "      <td>[marking-definition--fa42a846-8d90-4e51-bc29-7...</td>\n",
       "      <td>1.0</td>\n",
       "      <td>NaN</td>\n",
       "      <td>NaN</td>\n",
       "    </tr>\n",
       "    <tr>\n",
       "      <th>3</th>\n",
       "      <td>[Soft Cell]</td>\n",
       "      <td>intrusion-set</td>\n",
       "      <td>Soft Cell</td>\n",
       "      <td>Operation [Soft Cell](https://attack.mitre.org...</td>\n",
       "      <td>[{'source_name': 'mitre-attack', 'external_id'...</td>\n",
       "      <td>identity--c78cb6e5-0c4b-4611-8297-d1b8b55e40b5</td>\n",
       "      <td>2019-07-18T20:47:50.050Z</td>\n",
       "      <td>intrusion-set--06a11b7e-2a36-47fe-8d3e-82c265d...</td>\n",
       "      <td>2019-07-22T15:49:28.637Z</td>\n",
       "      <td>[marking-definition--fa42a846-8d90-4e51-bc29-7...</td>\n",
       "      <td>1.0</td>\n",
       "      <td>[Cybereason Nocturnus, @nocturnus]</td>\n",
       "      <td>NaN</td>\n",
       "    </tr>\n",
       "    <tr>\n",
       "      <th>4</th>\n",
       "      <td>[TA505]</td>\n",
       "      <td>intrusion-set</td>\n",
       "      <td>TA505</td>\n",
       "      <td>[TA505](https://attack.mitre.org/groups/G0092)...</td>\n",
       "      <td>[{'source_name': 'mitre-attack', 'external_id'...</td>\n",
       "      <td>identity--c78cb6e5-0c4b-4611-8297-d1b8b55e40b5</td>\n",
       "      <td>2019-05-28T15:54:17.213Z</td>\n",
       "      <td>intrusion-set--7eda3dd8-b09b-4705-8090-c2ad9fb...</td>\n",
       "      <td>2019-06-24T19:11:41.060Z</td>\n",
       "      <td>[marking-definition--fa42a846-8d90-4e51-bc29-7...</td>\n",
       "      <td>1.0</td>\n",
       "      <td>NaN</td>\n",
       "      <td>NaN</td>\n",
       "    </tr>\n",
       "    <tr>\n",
       "      <th>5</th>\n",
       "      <td>[Silence]</td>\n",
       "      <td>intrusion-set</td>\n",
       "      <td>Silence</td>\n",
       "      <td>[Silence](https://attack.mitre.org/groups/G009...</td>\n",
       "      <td>[{'source_name': 'mitre-attack', 'external_id'...</td>\n",
       "      <td>identity--c78cb6e5-0c4b-4611-8297-d1b8b55e40b5</td>\n",
       "      <td>2019-05-24T17:57:36.491Z</td>\n",
       "      <td>intrusion-set--d13c8a7f-740b-4efa-a232-de7d6bb...</td>\n",
       "      <td>2019-07-16T16:12:09.085Z</td>\n",
       "      <td>[marking-definition--fa42a846-8d90-4e51-bc29-7...</td>\n",
       "      <td>1.0</td>\n",
       "      <td>[Oleg Skulkin, Group-IB]</td>\n",
       "      <td>NaN</td>\n",
       "    </tr>\n",
       "  </tbody>\n",
       "</table>\n",
       "</div>"
      ],
      "text/plain": [
       "                      aliases           type       name  \\\n",
       "0                     [APT41]  intrusion-set      APT41   \n",
       "1       [Machete, El Machete]  intrusion-set    Machete   \n",
       "2  [Kimsuky, Velvet Chollima]  intrusion-set    Kimsuky   \n",
       "3                 [Soft Cell]  intrusion-set  Soft Cell   \n",
       "4                     [TA505]  intrusion-set      TA505   \n",
       "5                   [Silence]  intrusion-set    Silence   \n",
       "\n",
       "                                         description  \\\n",
       "0  [APT41](https://attack.mitre.org/groups/G0096)...   \n",
       "1  [Machete](https://attack.mitre.org/groups/G009...   \n",
       "2  [Kimsuky](https://attack.mitre.org/groups/G009...   \n",
       "3  Operation [Soft Cell](https://attack.mitre.org...   \n",
       "4  [TA505](https://attack.mitre.org/groups/G0092)...   \n",
       "5  [Silence](https://attack.mitre.org/groups/G009...   \n",
       "\n",
       "                                 external_references  \\\n",
       "0  [{'external_id': 'G0096', 'source_name': 'mitr...   \n",
       "1  [{'source_name': 'mitre-attack', 'external_id'...   \n",
       "2  [{'source_name': 'mitre-attack', 'external_id'...   \n",
       "3  [{'source_name': 'mitre-attack', 'external_id'...   \n",
       "4  [{'source_name': 'mitre-attack', 'external_id'...   \n",
       "5  [{'source_name': 'mitre-attack', 'external_id'...   \n",
       "\n",
       "                                   created_by_ref                   created  \\\n",
       "0  identity--c78cb6e5-0c4b-4611-8297-d1b8b55e40b5  2019-09-23T13:43:36.945Z   \n",
       "1  identity--c78cb6e5-0c4b-4611-8297-d1b8b55e40b5  2019-09-13T12:37:10.394Z   \n",
       "2  identity--c78cb6e5-0c4b-4611-8297-d1b8b55e40b5  2019-08-26T15:03:02.577Z   \n",
       "3  identity--c78cb6e5-0c4b-4611-8297-d1b8b55e40b5  2019-07-18T20:47:50.050Z   \n",
       "4  identity--c78cb6e5-0c4b-4611-8297-d1b8b55e40b5  2019-05-28T15:54:17.213Z   \n",
       "5  identity--c78cb6e5-0c4b-4611-8297-d1b8b55e40b5  2019-05-24T17:57:36.491Z   \n",
       "\n",
       "                                                  id  \\\n",
       "0  intrusion-set--18854f55-ac7c-4634-bd9a-352dd07...   \n",
       "1  intrusion-set--38863958-a201-4ce1-9dbe-539b0b6...   \n",
       "2  intrusion-set--0ec2f388-bf0f-4b5c-97b1-fc736d2...   \n",
       "3  intrusion-set--06a11b7e-2a36-47fe-8d3e-82c265d...   \n",
       "4  intrusion-set--7eda3dd8-b09b-4705-8090-c2ad9fb...   \n",
       "5  intrusion-set--d13c8a7f-740b-4efa-a232-de7d6bb...   \n",
       "\n",
       "                   modified  \\\n",
       "0  2019-10-14T21:52:59.301Z   \n",
       "1  2019-10-15T22:28:40.249Z   \n",
       "2  2019-10-07T18:26:15.460Z   \n",
       "3  2019-07-22T15:49:28.637Z   \n",
       "4  2019-06-24T19:11:41.060Z   \n",
       "5  2019-07-16T16:12:09.085Z   \n",
       "\n",
       "                                 object_marking_refs x_mitre_version  \\\n",
       "0  [marking-definition--fa42a846-8d90-4e51-bc29-7...             1.0   \n",
       "1  [marking-definition--fa42a846-8d90-4e51-bc29-7...             1.0   \n",
       "2  [marking-definition--fa42a846-8d90-4e51-bc29-7...             1.0   \n",
       "3  [marking-definition--fa42a846-8d90-4e51-bc29-7...             1.0   \n",
       "4  [marking-definition--fa42a846-8d90-4e51-bc29-7...             1.0   \n",
       "5  [marking-definition--fa42a846-8d90-4e51-bc29-7...             1.0   \n",
       "\n",
       "                 x_mitre_contributors revoked  \n",
       "0                                 NaN     NaN  \n",
       "1      [Matias Nicolas Porolli, ESET]     NaN  \n",
       "2                                 NaN     NaN  \n",
       "3  [Cybereason Nocturnus, @nocturnus]     NaN  \n",
       "4                                 NaN     NaN  \n",
       "5            [Oleg Skulkin, Group-IB]     NaN  "
      ]
     },
     "execution_count": 36,
     "metadata": {},
     "output_type": "execute_result"
    }
   ],
   "source": [
    "groups =[]\n",
    "for t in all_attack['groups']:\n",
    "    groups.append(json.loads(t.serialize()))\n",
    "df = json_normalize(groups)\n",
    "df[0:6]"
   ]
  },
  {
   "cell_type": "code",
   "execution_count": 39,
   "metadata": {},
   "outputs": [
    {
     "data": {
      "text/plain": [
       "['aliases',\n",
       " 'type',\n",
       " 'name',\n",
       " 'description',\n",
       " 'external_references',\n",
       " 'created_by_ref',\n",
       " 'created',\n",
       " 'id',\n",
       " 'modified',\n",
       " 'object_marking_refs',\n",
       " 'x_mitre_version',\n",
       " 'x_mitre_contributors',\n",
       " 'revoked']"
      ]
     },
     "execution_count": 39,
     "metadata": {},
     "output_type": "execute_result"
    }
   ],
   "source": [
    "list(df)"
   ]
  },
  {
   "cell_type": "code",
   "execution_count": 40,
   "metadata": {},
   "outputs": [
    {
     "data": {
      "text/html": [
       "<div>\n",
       "<style scoped>\n",
       "    .dataframe tbody tr th:only-of-type {\n",
       "        vertical-align: middle;\n",
       "    }\n",
       "\n",
       "    .dataframe tbody tr th {\n",
       "        vertical-align: top;\n",
       "    }\n",
       "\n",
       "    .dataframe thead th {\n",
       "        text-align: right;\n",
       "    }\n",
       "</style>\n",
       "<table border=\"1\" class=\"dataframe\">\n",
       "  <thead>\n",
       "    <tr style=\"text-align: right;\">\n",
       "      <th></th>\n",
       "      <th>aliases</th>\n",
       "      <th>type</th>\n",
       "      <th>name</th>\n",
       "      <th>description</th>\n",
       "      <th>external_references</th>\n",
       "      <th>created_by_ref</th>\n",
       "      <th>created</th>\n",
       "      <th>id</th>\n",
       "      <th>modified</th>\n",
       "      <th>object_marking_refs</th>\n",
       "      <th>x_mitre_version</th>\n",
       "      <th>x_mitre_contributors</th>\n",
       "      <th>revoked</th>\n",
       "    </tr>\n",
       "  </thead>\n",
       "  <tbody>\n",
       "    <tr>\n",
       "      <th>0</th>\n",
       "      <td>[APT41]</td>\n",
       "      <td>intrusion-set</td>\n",
       "      <td>APT41</td>\n",
       "      <td>[APT41](https://attack.mitre.org/groups/G0096)...</td>\n",
       "      <td>[{'external_id': 'G0096', 'source_name': 'mitr...</td>\n",
       "      <td>identity--c78cb6e5-0c4b-4611-8297-d1b8b55e40b5</td>\n",
       "      <td>2019-09-23T13:43:36.945Z</td>\n",
       "      <td>intrusion-set--18854f55-ac7c-4634-bd9a-352dd07...</td>\n",
       "      <td>2019-10-14T21:52:59.301Z</td>\n",
       "      <td>[marking-definition--fa42a846-8d90-4e51-bc29-7...</td>\n",
       "      <td>1.0</td>\n",
       "      <td>NaN</td>\n",
       "      <td>NaN</td>\n",
       "    </tr>\n",
       "  </tbody>\n",
       "</table>\n",
       "</div>"
      ],
      "text/plain": [
       "   aliases           type   name  \\\n",
       "0  [APT41]  intrusion-set  APT41   \n",
       "\n",
       "                                         description  \\\n",
       "0  [APT41](https://attack.mitre.org/groups/G0096)...   \n",
       "\n",
       "                                 external_references  \\\n",
       "0  [{'external_id': 'G0096', 'source_name': 'mitr...   \n",
       "\n",
       "                                   created_by_ref                   created  \\\n",
       "0  identity--c78cb6e5-0c4b-4611-8297-d1b8b55e40b5  2019-09-23T13:43:36.945Z   \n",
       "\n",
       "                                                  id  \\\n",
       "0  intrusion-set--18854f55-ac7c-4634-bd9a-352dd07...   \n",
       "\n",
       "                   modified  \\\n",
       "0  2019-10-14T21:52:59.301Z   \n",
       "\n",
       "                                 object_marking_refs x_mitre_version  \\\n",
       "0  [marking-definition--fa42a846-8d90-4e51-bc29-7...             1.0   \n",
       "\n",
       "  x_mitre_contributors revoked  \n",
       "0                  NaN     NaN  "
      ]
     },
     "execution_count": 40,
     "metadata": {},
     "output_type": "execute_result"
    }
   ],
   "source": [
    "df[0:1]"
   ]
  },
  {
   "cell_type": "code",
   "execution_count": 43,
   "metadata": {},
   "outputs": [
    {
     "data": {
      "text/html": [
       "<div>\n",
       "<style scoped>\n",
       "    .dataframe tbody tr th:only-of-type {\n",
       "        vertical-align: middle;\n",
       "    }\n",
       "\n",
       "    .dataframe tbody tr th {\n",
       "        vertical-align: top;\n",
       "    }\n",
       "\n",
       "    .dataframe thead th {\n",
       "        text-align: right;\n",
       "    }\n",
       "</style>\n",
       "<table border=\"1\" class=\"dataframe\">\n",
       "  <thead>\n",
       "    <tr style=\"text-align: right;\">\n",
       "      <th></th>\n",
       "      <th>name</th>\n",
       "      <th>description</th>\n",
       "    </tr>\n",
       "  </thead>\n",
       "  <tbody>\n",
       "    <tr>\n",
       "      <th>0</th>\n",
       "      <td>APT41</td>\n",
       "      <td>[APT41](https://attack.mitre.org/groups/G0096)...</td>\n",
       "    </tr>\n",
       "    <tr>\n",
       "      <th>1</th>\n",
       "      <td>Machete</td>\n",
       "      <td>[Machete](https://attack.mitre.org/groups/G009...</td>\n",
       "    </tr>\n",
       "    <tr>\n",
       "      <th>2</th>\n",
       "      <td>Kimsuky</td>\n",
       "      <td>[Kimsuky](https://attack.mitre.org/groups/G009...</td>\n",
       "    </tr>\n",
       "    <tr>\n",
       "      <th>3</th>\n",
       "      <td>Soft Cell</td>\n",
       "      <td>Operation [Soft Cell](https://attack.mitre.org...</td>\n",
       "    </tr>\n",
       "    <tr>\n",
       "      <th>4</th>\n",
       "      <td>TA505</td>\n",
       "      <td>[TA505](https://attack.mitre.org/groups/G0092)...</td>\n",
       "    </tr>\n",
       "    <tr>\n",
       "      <th>5</th>\n",
       "      <td>Silence</td>\n",
       "      <td>[Silence](https://attack.mitre.org/groups/G009...</td>\n",
       "    </tr>\n",
       "    <tr>\n",
       "      <th>6</th>\n",
       "      <td>WIRTE</td>\n",
       "      <td>[WIRTE](https://attack.mitre.org/groups/G0090)...</td>\n",
       "    </tr>\n",
       "    <tr>\n",
       "      <th>7</th>\n",
       "      <td>The White Company</td>\n",
       "      <td>[The White Company](https://attack.mitre.org/g...</td>\n",
       "    </tr>\n",
       "    <tr>\n",
       "      <th>8</th>\n",
       "      <td>TEMP.Veles</td>\n",
       "      <td>[TEMP.Veles](https://attack.mitre.org/groups/G...</td>\n",
       "    </tr>\n",
       "    <tr>\n",
       "      <th>9</th>\n",
       "      <td>APT39</td>\n",
       "      <td>[APT39](https://attack.mitre.org/groups/G0087)...</td>\n",
       "    </tr>\n",
       "    <tr>\n",
       "      <th>10</th>\n",
       "      <td>Stolen Pencil</td>\n",
       "      <td>[Stolen Pencil](https://attack.mitre.org/group...</td>\n",
       "    </tr>\n",
       "    <tr>\n",
       "      <th>11</th>\n",
       "      <td>FIN4</td>\n",
       "      <td>[FIN4](https://attack.mitre.org/groups/G0085) ...</td>\n",
       "    </tr>\n",
       "    <tr>\n",
       "      <th>12</th>\n",
       "      <td>Gallmaker</td>\n",
       "      <td>[Gallmaker](https://attack.mitre.org/groups/G0...</td>\n",
       "    </tr>\n",
       "    <tr>\n",
       "      <th>13</th>\n",
       "      <td>SilverTerrier</td>\n",
       "      <td>[SilverTerrier](https://attack.mitre.org/group...</td>\n",
       "    </tr>\n",
       "    <tr>\n",
       "      <th>14</th>\n",
       "      <td>APT38</td>\n",
       "      <td>[APT38](https://attack.mitre.org/groups/G0082)...</td>\n",
       "    </tr>\n",
       "    <tr>\n",
       "      <th>15</th>\n",
       "      <td>Tropic Trooper</td>\n",
       "      <td>[Tropic Trooper](https://attack.mitre.org/grou...</td>\n",
       "    </tr>\n",
       "    <tr>\n",
       "      <th>16</th>\n",
       "      <td>APT19</td>\n",
       "      <td>[APT19](https://attack.mitre.org/groups/G0073)...</td>\n",
       "    </tr>\n",
       "    <tr>\n",
       "      <th>17</th>\n",
       "      <td>Dark Caracal</td>\n",
       "      <td>[Dark Caracal](https://attack.mitre.org/groups...</td>\n",
       "    </tr>\n",
       "    <tr>\n",
       "      <th>18</th>\n",
       "      <td>Leafminer</td>\n",
       "      <td>[Leafminer](https://attack.mitre.org/groups/G0...</td>\n",
       "    </tr>\n",
       "    <tr>\n",
       "      <th>19</th>\n",
       "      <td>Cobalt Group</td>\n",
       "      <td>[Cobalt Group](https://attack.mitre.org/groups...</td>\n",
       "    </tr>\n",
       "    <tr>\n",
       "      <th>20</th>\n",
       "      <td>Orangeworm</td>\n",
       "      <td>[Orangeworm](https://attack.mitre.org/groups/G...</td>\n",
       "    </tr>\n",
       "    <tr>\n",
       "      <th>21</th>\n",
       "      <td>Gorgon Group</td>\n",
       "      <td>[Gorgon Group](https://attack.mitre.org/groups...</td>\n",
       "    </tr>\n",
       "    <tr>\n",
       "      <th>22</th>\n",
       "      <td>Thrip</td>\n",
       "      <td>[Thrip](https://attack.mitre.org/groups/G0076)...</td>\n",
       "    </tr>\n",
       "    <tr>\n",
       "      <th>23</th>\n",
       "      <td>DarkHydrus</td>\n",
       "      <td>[DarkHydrus](https://attack.mitre.org/groups/G...</td>\n",
       "    </tr>\n",
       "    <tr>\n",
       "      <th>24</th>\n",
       "      <td>Dragonfly 2.0</td>\n",
       "      <td>[Dragonfly 2.0](https://attack.mitre.org/group...</td>\n",
       "    </tr>\n",
       "    <tr>\n",
       "      <th>25</th>\n",
       "      <td>Honeybee</td>\n",
       "      <td>[Honeybee](https://attack.mitre.org/groups/G00...</td>\n",
       "    </tr>\n",
       "    <tr>\n",
       "      <th>26</th>\n",
       "      <td>Rancor</td>\n",
       "      <td>[Rancor](https://attack.mitre.org/groups/G0075...</td>\n",
       "    </tr>\n",
       "    <tr>\n",
       "      <th>27</th>\n",
       "      <td>TA459</td>\n",
       "      <td>[TA459](https://attack.mitre.org/groups/G0062)...</td>\n",
       "    </tr>\n",
       "    <tr>\n",
       "      <th>28</th>\n",
       "      <td>FIN8</td>\n",
       "      <td>[FIN8](https://attack.mitre.org/groups/G0061) ...</td>\n",
       "    </tr>\n",
       "    <tr>\n",
       "      <th>29</th>\n",
       "      <td>APT37</td>\n",
       "      <td>[APT37](https://attack.mitre.org/groups/G0067)...</td>\n",
       "    </tr>\n",
       "  </tbody>\n",
       "</table>\n",
       "</div>"
      ],
      "text/plain": [
       "                 name                                        description\n",
       "0               APT41  [APT41](https://attack.mitre.org/groups/G0096)...\n",
       "1             Machete  [Machete](https://attack.mitre.org/groups/G009...\n",
       "2             Kimsuky  [Kimsuky](https://attack.mitre.org/groups/G009...\n",
       "3           Soft Cell  Operation [Soft Cell](https://attack.mitre.org...\n",
       "4               TA505  [TA505](https://attack.mitre.org/groups/G0092)...\n",
       "5             Silence  [Silence](https://attack.mitre.org/groups/G009...\n",
       "6               WIRTE  [WIRTE](https://attack.mitre.org/groups/G0090)...\n",
       "7   The White Company  [The White Company](https://attack.mitre.org/g...\n",
       "8          TEMP.Veles  [TEMP.Veles](https://attack.mitre.org/groups/G...\n",
       "9               APT39  [APT39](https://attack.mitre.org/groups/G0087)...\n",
       "10      Stolen Pencil  [Stolen Pencil](https://attack.mitre.org/group...\n",
       "11               FIN4  [FIN4](https://attack.mitre.org/groups/G0085) ...\n",
       "12          Gallmaker  [Gallmaker](https://attack.mitre.org/groups/G0...\n",
       "13      SilverTerrier  [SilverTerrier](https://attack.mitre.org/group...\n",
       "14              APT38  [APT38](https://attack.mitre.org/groups/G0082)...\n",
       "15     Tropic Trooper  [Tropic Trooper](https://attack.mitre.org/grou...\n",
       "16              APT19  [APT19](https://attack.mitre.org/groups/G0073)...\n",
       "17       Dark Caracal  [Dark Caracal](https://attack.mitre.org/groups...\n",
       "18          Leafminer  [Leafminer](https://attack.mitre.org/groups/G0...\n",
       "19       Cobalt Group  [Cobalt Group](https://attack.mitre.org/groups...\n",
       "20         Orangeworm  [Orangeworm](https://attack.mitre.org/groups/G...\n",
       "21       Gorgon Group  [Gorgon Group](https://attack.mitre.org/groups...\n",
       "22              Thrip  [Thrip](https://attack.mitre.org/groups/G0076)...\n",
       "23         DarkHydrus  [DarkHydrus](https://attack.mitre.org/groups/G...\n",
       "24      Dragonfly 2.0  [Dragonfly 2.0](https://attack.mitre.org/group...\n",
       "25           Honeybee  [Honeybee](https://attack.mitre.org/groups/G00...\n",
       "26             Rancor  [Rancor](https://attack.mitre.org/groups/G0075...\n",
       "27              TA459  [TA459](https://attack.mitre.org/groups/G0062)...\n",
       "28               FIN8  [FIN8](https://attack.mitre.org/groups/G0061) ...\n",
       "29              APT37  [APT37](https://attack.mitre.org/groups/G0067)..."
      ]
     },
     "execution_count": 43,
     "metadata": {},
     "output_type": "execute_result"
    }
   ],
   "source": [
    "df.reindex(['name','description'], axis = 1)[0:30]"
   ]
  },
  {
   "cell_type": "code",
   "execution_count": 45,
   "metadata": {},
   "outputs": [
    {
     "name": "stdout",
     "output_type": "stream",
     "text": [
      "Number of malware in ATT&CK\n"
     ]
    },
    {
     "data": {
      "text/plain": [
       "355"
      ]
     },
     "execution_count": 45,
     "metadata": {},
     "output_type": "execute_result"
    }
   ],
   "source": [
    "print('Number of malware in ATT&CK')\n",
    "len(all_attack['malware'])"
   ]
  },
  {
   "cell_type": "code",
   "execution_count": 48,
   "metadata": {},
   "outputs": [
    {
     "data": {
      "text/plain": [
       "['name',\n",
       " 'description',\n",
       " 'id',\n",
       " 'object_marking_refs',\n",
       " 'type',\n",
       " 'created_by_ref',\n",
       " 'labels',\n",
       " 'created',\n",
       " 'modified',\n",
       " 'external_references',\n",
       " 'x_mitre_platforms',\n",
       " 'x_mitre_version',\n",
       " 'x_mitre_aliases',\n",
       " 'x_mitre_contributors',\n",
       " 'revoked',\n",
       " 'x_mitre_old_attack_id']"
      ]
     },
     "execution_count": 48,
     "metadata": {},
     "output_type": "execute_result"
    }
   ],
   "source": [
    "malware = []\n",
    "for t in all_attack['malware']:\n",
    "    malware.append(json.loads(t.serialize()))\n",
    "df = json_normalize(malware)\n",
    "list(df)"
   ]
  },
  {
   "cell_type": "code",
   "execution_count": 49,
   "metadata": {},
   "outputs": [
    {
     "data": {
      "text/html": [
       "<div>\n",
       "<style scoped>\n",
       "    .dataframe tbody tr th:only-of-type {\n",
       "        vertical-align: middle;\n",
       "    }\n",
       "\n",
       "    .dataframe tbody tr th {\n",
       "        vertical-align: top;\n",
       "    }\n",
       "\n",
       "    .dataframe thead th {\n",
       "        text-align: right;\n",
       "    }\n",
       "</style>\n",
       "<table border=\"1\" class=\"dataframe\">\n",
       "  <thead>\n",
       "    <tr style=\"text-align: right;\">\n",
       "      <th></th>\n",
       "      <th>name</th>\n",
       "      <th>description</th>\n",
       "      <th>id</th>\n",
       "      <th>object_marking_refs</th>\n",
       "      <th>type</th>\n",
       "      <th>created_by_ref</th>\n",
       "      <th>labels</th>\n",
       "      <th>created</th>\n",
       "      <th>modified</th>\n",
       "      <th>external_references</th>\n",
       "      <th>x_mitre_platforms</th>\n",
       "      <th>x_mitre_version</th>\n",
       "      <th>x_mitre_aliases</th>\n",
       "      <th>x_mitre_contributors</th>\n",
       "      <th>revoked</th>\n",
       "      <th>x_mitre_old_attack_id</th>\n",
       "    </tr>\n",
       "  </thead>\n",
       "  <tbody>\n",
       "    <tr>\n",
       "      <th>0</th>\n",
       "      <td>GRIFFON</td>\n",
       "      <td>[GRIFFON](https://attack.mitre.org/software/S0...</td>\n",
       "      <td>malware--04fc1842-f9e4-47cf-8cb8-5c61becad142</td>\n",
       "      <td>[marking-definition--fa42a846-8d90-4e51-bc29-7...</td>\n",
       "      <td>malware</td>\n",
       "      <td>identity--c78cb6e5-0c4b-4611-8297-d1b8b55e40b5</td>\n",
       "      <td>[malware]</td>\n",
       "      <td>2019-10-11T17:29:20.165Z</td>\n",
       "      <td>2019-10-15T17:32:49.571Z</td>\n",
       "      <td>[{'source_name': 'mitre-attack', 'external_id'...</td>\n",
       "      <td>[Windows]</td>\n",
       "      <td>1.0</td>\n",
       "      <td>[GRIFFON]</td>\n",
       "      <td>NaN</td>\n",
       "      <td>NaN</td>\n",
       "      <td>NaN</td>\n",
       "    </tr>\n",
       "  </tbody>\n",
       "</table>\n",
       "</div>"
      ],
      "text/plain": [
       "      name                                        description  \\\n",
       "0  GRIFFON  [GRIFFON](https://attack.mitre.org/software/S0...   \n",
       "\n",
       "                                              id  \\\n",
       "0  malware--04fc1842-f9e4-47cf-8cb8-5c61becad142   \n",
       "\n",
       "                                 object_marking_refs     type  \\\n",
       "0  [marking-definition--fa42a846-8d90-4e51-bc29-7...  malware   \n",
       "\n",
       "                                   created_by_ref     labels  \\\n",
       "0  identity--c78cb6e5-0c4b-4611-8297-d1b8b55e40b5  [malware]   \n",
       "\n",
       "                    created                  modified  \\\n",
       "0  2019-10-11T17:29:20.165Z  2019-10-15T17:32:49.571Z   \n",
       "\n",
       "                                 external_references x_mitre_platforms  \\\n",
       "0  [{'source_name': 'mitre-attack', 'external_id'...         [Windows]   \n",
       "\n",
       "  x_mitre_version x_mitre_aliases x_mitre_contributors revoked  \\\n",
       "0             1.0       [GRIFFON]                  NaN     NaN   \n",
       "\n",
       "  x_mitre_old_attack_id  \n",
       "0                   NaN  "
      ]
     },
     "execution_count": 49,
     "metadata": {},
     "output_type": "execute_result"
    }
   ],
   "source": [
    "df[0:1]"
   ]
  },
  {
   "cell_type": "code",
   "execution_count": 51,
   "metadata": {},
   "outputs": [
    {
     "data": {
      "text/html": [
       "<div>\n",
       "<style scoped>\n",
       "    .dataframe tbody tr th:only-of-type {\n",
       "        vertical-align: middle;\n",
       "    }\n",
       "\n",
       "    .dataframe tbody tr th {\n",
       "        vertical-align: top;\n",
       "    }\n",
       "\n",
       "    .dataframe thead th {\n",
       "        text-align: right;\n",
       "    }\n",
       "</style>\n",
       "<table border=\"1\" class=\"dataframe\">\n",
       "  <thead>\n",
       "    <tr style=\"text-align: right;\">\n",
       "      <th></th>\n",
       "      <th>name</th>\n",
       "    </tr>\n",
       "  </thead>\n",
       "  <tbody>\n",
       "    <tr>\n",
       "      <th>0</th>\n",
       "      <td>GRIFFON</td>\n",
       "    </tr>\n",
       "    <tr>\n",
       "      <th>1</th>\n",
       "      <td>RDFSNIFFER</td>\n",
       "    </tr>\n",
       "  </tbody>\n",
       "</table>\n",
       "</div>"
      ],
      "text/plain": [
       "         name\n",
       "0     GRIFFON\n",
       "1  RDFSNIFFER"
      ]
     },
     "execution_count": 51,
     "metadata": {},
     "output_type": "execute_result"
    }
   ],
   "source": [
    "df.reindex(['name'],axis =1)[0:2]"
   ]
  },
  {
   "cell_type": "code",
   "execution_count": 52,
   "metadata": {},
   "outputs": [],
   "source": [
    "df.to_csv('/Users/doreddy/Desktop/mitre_malware.csv')"
   ]
  },
  {
   "cell_type": "code",
   "execution_count": 53,
   "metadata": {},
   "outputs": [
    {
     "name": "stdout",
     "output_type": "stream",
     "text": [
      "Number of tools in ATT&CK\n"
     ]
    },
    {
     "data": {
      "text/plain": [
       "60"
      ]
     },
     "execution_count": 53,
     "metadata": {},
     "output_type": "execute_result"
    }
   ],
   "source": [
    "print('Number of tools in ATT&CK')\n",
    "len(all_attack['tools'])"
   ]
  },
  {
   "cell_type": "code",
   "execution_count": 54,
   "metadata": {},
   "outputs": [
    {
     "data": {
      "text/plain": [
       "['name',\n",
       " 'description',\n",
       " 'id',\n",
       " 'object_marking_refs',\n",
       " 'type',\n",
       " 'created_by_ref',\n",
       " 'labels',\n",
       " 'created',\n",
       " 'modified',\n",
       " 'external_references',\n",
       " 'x_mitre_platforms',\n",
       " 'x_mitre_version',\n",
       " 'x_mitre_aliases',\n",
       " 'x_mitre_contributors',\n",
       " 'x_mitre_old_attack_id']"
      ]
     },
     "execution_count": 54,
     "metadata": {},
     "output_type": "execute_result"
    }
   ],
   "source": [
    "tools =[]\n",
    "for t in all_attack['tools']:\n",
    "    tools.append(json.loads(t.serialize()))\n",
    "df = json_normalize(tools)\n",
    "list(df)"
   ]
  },
  {
   "cell_type": "code",
   "execution_count": 55,
   "metadata": {},
   "outputs": [
    {
     "data": {
      "text/html": [
       "<div>\n",
       "<style scoped>\n",
       "    .dataframe tbody tr th:only-of-type {\n",
       "        vertical-align: middle;\n",
       "    }\n",
       "\n",
       "    .dataframe tbody tr th {\n",
       "        vertical-align: top;\n",
       "    }\n",
       "\n",
       "    .dataframe thead th {\n",
       "        text-align: right;\n",
       "    }\n",
       "</style>\n",
       "<table border=\"1\" class=\"dataframe\">\n",
       "  <thead>\n",
       "    <tr style=\"text-align: right;\">\n",
       "      <th></th>\n",
       "      <th>name</th>\n",
       "      <th>description</th>\n",
       "      <th>id</th>\n",
       "      <th>object_marking_refs</th>\n",
       "      <th>type</th>\n",
       "      <th>created_by_ref</th>\n",
       "      <th>labels</th>\n",
       "      <th>created</th>\n",
       "      <th>modified</th>\n",
       "      <th>external_references</th>\n",
       "      <th>x_mitre_platforms</th>\n",
       "      <th>x_mitre_version</th>\n",
       "      <th>x_mitre_aliases</th>\n",
       "      <th>x_mitre_contributors</th>\n",
       "      <th>x_mitre_old_attack_id</th>\n",
       "    </tr>\n",
       "  </thead>\n",
       "  <tbody>\n",
       "    <tr>\n",
       "      <th>0</th>\n",
       "      <td>MailSniper</td>\n",
       "      <td>MailSniper is a penetration testing tool for s...</td>\n",
       "      <td>tool--999c4e6e-b8dc-4b4f-8d6e-1b829f29997e</td>\n",
       "      <td>[marking-definition--fa42a846-8d90-4e51-bc29-7...</td>\n",
       "      <td>tool</td>\n",
       "      <td>identity--c78cb6e5-0c4b-4611-8297-d1b8b55e40b5</td>\n",
       "      <td>[tool]</td>\n",
       "      <td>2019-10-05T02:34:01.189Z</td>\n",
       "      <td>2019-10-15T18:27:30.488Z</td>\n",
       "      <td>[{'source_name': 'mitre-attack', 'external_id'...</td>\n",
       "      <td>[Office 365, Windows, Azure AD]</td>\n",
       "      <td>1.0</td>\n",
       "      <td>[MailSniper]</td>\n",
       "      <td>NaN</td>\n",
       "      <td>NaN</td>\n",
       "    </tr>\n",
       "  </tbody>\n",
       "</table>\n",
       "</div>"
      ],
      "text/plain": [
       "         name                                        description  \\\n",
       "0  MailSniper  MailSniper is a penetration testing tool for s...   \n",
       "\n",
       "                                           id  \\\n",
       "0  tool--999c4e6e-b8dc-4b4f-8d6e-1b829f29997e   \n",
       "\n",
       "                                 object_marking_refs  type  \\\n",
       "0  [marking-definition--fa42a846-8d90-4e51-bc29-7...  tool   \n",
       "\n",
       "                                   created_by_ref  labels  \\\n",
       "0  identity--c78cb6e5-0c4b-4611-8297-d1b8b55e40b5  [tool]   \n",
       "\n",
       "                    created                  modified  \\\n",
       "0  2019-10-05T02:34:01.189Z  2019-10-15T18:27:30.488Z   \n",
       "\n",
       "                                 external_references  \\\n",
       "0  [{'source_name': 'mitre-attack', 'external_id'...   \n",
       "\n",
       "                 x_mitre_platforms x_mitre_version x_mitre_aliases  \\\n",
       "0  [Office 365, Windows, Azure AD]             1.0    [MailSniper]   \n",
       "\n",
       "  x_mitre_contributors x_mitre_old_attack_id  \n",
       "0                  NaN                   NaN  "
      ]
     },
     "execution_count": 55,
     "metadata": {},
     "output_type": "execute_result"
    }
   ],
   "source": [
    "df[0:1]"
   ]
  },
  {
   "cell_type": "code",
   "execution_count": 56,
   "metadata": {},
   "outputs": [],
   "source": [
    "df.to_csv('/Users/doreddy/Desktop/mitre_all_tools.csv')"
   ]
  },
  {
   "cell_type": "code",
   "execution_count": 57,
   "metadata": {},
   "outputs": [
    {
     "data": {
      "text/html": [
       "<div>\n",
       "<style scoped>\n",
       "    .dataframe tbody tr th:only-of-type {\n",
       "        vertical-align: middle;\n",
       "    }\n",
       "\n",
       "    .dataframe tbody tr th {\n",
       "        vertical-align: top;\n",
       "    }\n",
       "\n",
       "    .dataframe thead th {\n",
       "        text-align: right;\n",
       "    }\n",
       "</style>\n",
       "<table border=\"1\" class=\"dataframe\">\n",
       "  <thead>\n",
       "    <tr style=\"text-align: right;\">\n",
       "      <th></th>\n",
       "      <th>name</th>\n",
       "      <th>description</th>\n",
       "      <th>created</th>\n",
       "    </tr>\n",
       "  </thead>\n",
       "  <tbody>\n",
       "    <tr>\n",
       "      <th>0</th>\n",
       "      <td>MailSniper</td>\n",
       "      <td>MailSniper is a penetration testing tool for s...</td>\n",
       "      <td>2019-10-05T02:34:01.189Z</td>\n",
       "    </tr>\n",
       "    <tr>\n",
       "      <th>1</th>\n",
       "      <td>esentutl</td>\n",
       "      <td>[esentutl](https://attack.mitre.org/software/S...</td>\n",
       "      <td>2019-09-03T18:25:36.963Z</td>\n",
       "    </tr>\n",
       "    <tr>\n",
       "      <th>2</th>\n",
       "      <td>PoshC2</td>\n",
       "      <td>[PoshC2](https://attack.mitre.org/software/S03...</td>\n",
       "      <td>2019-04-23T12:31:58.125Z</td>\n",
       "    </tr>\n",
       "  </tbody>\n",
       "</table>\n",
       "</div>"
      ],
      "text/plain": [
       "         name                                        description  \\\n",
       "0  MailSniper  MailSniper is a penetration testing tool for s...   \n",
       "1    esentutl  [esentutl](https://attack.mitre.org/software/S...   \n",
       "2      PoshC2  [PoshC2](https://attack.mitre.org/software/S03...   \n",
       "\n",
       "                    created  \n",
       "0  2019-10-05T02:34:01.189Z  \n",
       "1  2019-09-03T18:25:36.963Z  \n",
       "2  2019-04-23T12:31:58.125Z  "
      ]
     },
     "execution_count": 57,
     "metadata": {},
     "output_type": "execute_result"
    }
   ],
   "source": [
    "df.reindex(['name','description','created'],axis = 1)[0:3]"
   ]
  },
  {
   "cell_type": "code",
   "execution_count": 58,
   "metadata": {},
   "outputs": [
    {
     "data": {
      "text/plain": [
       "{'name': 'MailSniper',\n",
       " 'description': 'MailSniper is a penetration testing tool for searching through email in a Microsoft Exchange environment for specific terms (passwords, insider intel, network architecture information, etc.). It can be used by a non-administrative user to search their own email, or by an Exchange administrator to search the mailboxes of every user in a domain.(Citation: GitHub MailSniper)',\n",
       " 'id': 'tool--999c4e6e-b8dc-4b4f-8d6e-1b829f29997e',\n",
       " 'object_marking_refs': ['marking-definition--fa42a846-8d90-4e51-bc29-71d5b4802168'],\n",
       " 'type': 'tool',\n",
       " 'created_by_ref': 'identity--c78cb6e5-0c4b-4611-8297-d1b8b55e40b5',\n",
       " 'labels': ['tool'],\n",
       " 'created': '2019-10-05T02:34:01.189Z',\n",
       " 'modified': '2019-10-15T18:27:30.488Z',\n",
       " 'external_references': [{'source_name': 'mitre-attack',\n",
       "   'external_id': 'S0413',\n",
       "   'url': 'https://attack.mitre.org/software/S0413'},\n",
       "  {'source_name': 'GitHub MailSniper',\n",
       "   'description': 'Bullock, B., . (2018, November 20). MailSniper. Retrieved October 4, 2019.',\n",
       "   'url': 'https://github.com/dafthack/MailSniper'}],\n",
       " 'x_mitre_platforms': ['Office 365', 'Windows', 'Azure AD'],\n",
       " 'x_mitre_version': '1.0',\n",
       " 'x_mitre_aliases': ['MailSniper']}"
      ]
     },
     "execution_count": 58,
     "metadata": {},
     "output_type": "execute_result"
    }
   ],
   "source": [
    "tools[0]"
   ]
  },
  {
   "cell_type": "code",
   "execution_count": 59,
   "metadata": {},
   "outputs": [
    {
     "name": "stdout",
     "output_type": "stream",
     "text": [
      "Number of matrices in ATT&CK\n"
     ]
    },
    {
     "data": {
      "text/plain": [
       "4"
      ]
     },
     "execution_count": 59,
     "metadata": {},
     "output_type": "execute_result"
    }
   ],
   "source": [
    "print('Number of matrices in ATT&CK')\n",
    "len(all_attack['matrix'])"
   ]
  },
  {
   "cell_type": "code",
   "execution_count": 68,
   "metadata": {},
   "outputs": [
    {
     "data": {
      "text/html": [
       "<div>\n",
       "<style scoped>\n",
       "    .dataframe tbody tr th:only-of-type {\n",
       "        vertical-align: middle;\n",
       "    }\n",
       "\n",
       "    .dataframe tbody tr th {\n",
       "        vertical-align: top;\n",
       "    }\n",
       "\n",
       "    .dataframe thead th {\n",
       "        text-align: right;\n",
       "    }\n",
       "</style>\n",
       "<table border=\"1\" class=\"dataframe\">\n",
       "  <thead>\n",
       "    <tr style=\"text-align: right;\">\n",
       "      <th></th>\n",
       "      <th>type</th>\n",
       "      <th>name</th>\n",
       "      <th>description</th>\n",
       "      <th>created_by_ref</th>\n",
       "      <th>created</th>\n",
       "      <th>id</th>\n",
       "      <th>modified</th>\n",
       "      <th>object_marking_refs</th>\n",
       "      <th>external_references</th>\n",
       "      <th>tactic_refs</th>\n",
       "    </tr>\n",
       "  </thead>\n",
       "  <tbody>\n",
       "    <tr>\n",
       "      <th>0</th>\n",
       "      <td>x-mitre-matrix</td>\n",
       "      <td>Enterprise ATT&amp;CK</td>\n",
       "      <td>The full ATT&amp;CK Matrix includes techniques spa...</td>\n",
       "      <td>identity--c78cb6e5-0c4b-4611-8297-d1b8b55e40b5</td>\n",
       "      <td>2018-10-17T00:14:20.652Z</td>\n",
       "      <td>x-mitre-matrix--eafc1b4c-5e56-4965-bd4e-66a6a8...</td>\n",
       "      <td>2019-04-16T21:39:18.247Z</td>\n",
       "      <td>[marking-definition--fa42a846-8d90-4e51-bc29-7...</td>\n",
       "      <td>[{'source_name': 'mitre-attack', 'external_id'...</td>\n",
       "      <td>[x-mitre-tactic--ffd5bcee-6e16-4dd2-8eca-7b3be...</td>\n",
       "    </tr>\n",
       "    <tr>\n",
       "      <th>1</th>\n",
       "      <td>x-mitre-matrix</td>\n",
       "      <td>PRE-ATT&amp;CK</td>\n",
       "      <td>The MITRE PRE-ATT&amp;CK Matrix™ is an overview of...</td>\n",
       "      <td>identity--c78cb6e5-0c4b-4611-8297-d1b8b55e40b5</td>\n",
       "      <td>2018-10-17T00:14:20.652Z</td>\n",
       "      <td>x-mitre-matrix--2e2c97c3-1908-4e2d-a711-a27d38...</td>\n",
       "      <td>2018-11-06T19:05:34.143Z</td>\n",
       "      <td>[marking-definition--fa42a846-8d90-4e51-bc29-7...</td>\n",
       "      <td>[{'source_name': 'mitre-attack', 'external_id'...</td>\n",
       "      <td>[x-mitre-tactic--b2a086f2-d3db-408b-b4d4-e09a1...</td>\n",
       "    </tr>\n",
       "    <tr>\n",
       "      <th>2</th>\n",
       "      <td>x-mitre-matrix</td>\n",
       "      <td>Device Access</td>\n",
       "      <td>The MITRE ATT&amp;CK Matrix™ provides a visual rep...</td>\n",
       "      <td>identity--c78cb6e5-0c4b-4611-8297-d1b8b55e40b5</td>\n",
       "      <td>2018-10-17T00:14:20.652Z</td>\n",
       "      <td>x-mitre-matrix--a382db5e-d009-4135-b893-0e0ff0...</td>\n",
       "      <td>2018-10-17T00:14:20.652Z</td>\n",
       "      <td>[marking-definition--fa42a846-8d90-4e51-bc29-7...</td>\n",
       "      <td>[{'source_name': 'mitre-attack', 'external_id'...</td>\n",
       "      <td>[x-mitre-tactic--0a93fd8e-4a83-4c15-8203-db290...</td>\n",
       "    </tr>\n",
       "    <tr>\n",
       "      <th>3</th>\n",
       "      <td>x-mitre-matrix</td>\n",
       "      <td>Network-Based Effects</td>\n",
       "      <td>The MITRE ATT&amp;CK Matrix™ provides a visual rep...</td>\n",
       "      <td>identity--c78cb6e5-0c4b-4611-8297-d1b8b55e40b5</td>\n",
       "      <td>2018-10-17T00:14:20.652Z</td>\n",
       "      <td>x-mitre-matrix--5104d5f0-16b7-4aec-8ae3-0a90cd...</td>\n",
       "      <td>2018-10-17T00:14:20.652Z</td>\n",
       "      <td>[marking-definition--fa42a846-8d90-4e51-bc29-7...</td>\n",
       "      <td>[{'source_name': 'mitre-attack', 'external_id'...</td>\n",
       "      <td>[x-mitre-tactic--9eb4c21e-4fa8-44c9-b167-dbfc4...</td>\n",
       "    </tr>\n",
       "  </tbody>\n",
       "</table>\n",
       "</div>"
      ],
      "text/plain": [
       "             type                   name  \\\n",
       "0  x-mitre-matrix      Enterprise ATT&CK   \n",
       "1  x-mitre-matrix             PRE-ATT&CK   \n",
       "2  x-mitre-matrix          Device Access   \n",
       "3  x-mitre-matrix  Network-Based Effects   \n",
       "\n",
       "                                         description  \\\n",
       "0  The full ATT&CK Matrix includes techniques spa...   \n",
       "1  The MITRE PRE-ATT&CK Matrix™ is an overview of...   \n",
       "2  The MITRE ATT&CK Matrix™ provides a visual rep...   \n",
       "3  The MITRE ATT&CK Matrix™ provides a visual rep...   \n",
       "\n",
       "                                   created_by_ref                   created  \\\n",
       "0  identity--c78cb6e5-0c4b-4611-8297-d1b8b55e40b5  2018-10-17T00:14:20.652Z   \n",
       "1  identity--c78cb6e5-0c4b-4611-8297-d1b8b55e40b5  2018-10-17T00:14:20.652Z   \n",
       "2  identity--c78cb6e5-0c4b-4611-8297-d1b8b55e40b5  2018-10-17T00:14:20.652Z   \n",
       "3  identity--c78cb6e5-0c4b-4611-8297-d1b8b55e40b5  2018-10-17T00:14:20.652Z   \n",
       "\n",
       "                                                  id  \\\n",
       "0  x-mitre-matrix--eafc1b4c-5e56-4965-bd4e-66a6a8...   \n",
       "1  x-mitre-matrix--2e2c97c3-1908-4e2d-a711-a27d38...   \n",
       "2  x-mitre-matrix--a382db5e-d009-4135-b893-0e0ff0...   \n",
       "3  x-mitre-matrix--5104d5f0-16b7-4aec-8ae3-0a90cd...   \n",
       "\n",
       "                   modified  \\\n",
       "0  2019-04-16T21:39:18.247Z   \n",
       "1  2018-11-06T19:05:34.143Z   \n",
       "2  2018-10-17T00:14:20.652Z   \n",
       "3  2018-10-17T00:14:20.652Z   \n",
       "\n",
       "                                 object_marking_refs  \\\n",
       "0  [marking-definition--fa42a846-8d90-4e51-bc29-7...   \n",
       "1  [marking-definition--fa42a846-8d90-4e51-bc29-7...   \n",
       "2  [marking-definition--fa42a846-8d90-4e51-bc29-7...   \n",
       "3  [marking-definition--fa42a846-8d90-4e51-bc29-7...   \n",
       "\n",
       "                                 external_references  \\\n",
       "0  [{'source_name': 'mitre-attack', 'external_id'...   \n",
       "1  [{'source_name': 'mitre-attack', 'external_id'...   \n",
       "2  [{'source_name': 'mitre-attack', 'external_id'...   \n",
       "3  [{'source_name': 'mitre-attack', 'external_id'...   \n",
       "\n",
       "                                         tactic_refs  \n",
       "0  [x-mitre-tactic--ffd5bcee-6e16-4dd2-8eca-7b3be...  \n",
       "1  [x-mitre-tactic--b2a086f2-d3db-408b-b4d4-e09a1...  \n",
       "2  [x-mitre-tactic--0a93fd8e-4a83-4c15-8203-db290...  \n",
       "3  [x-mitre-tactic--9eb4c21e-4fa8-44c9-b167-dbfc4...  "
      ]
     },
     "execution_count": 68,
     "metadata": {},
     "output_type": "execute_result"
    }
   ],
   "source": [
    "\n",
    "df = json_normalize(all_attack['matrix'])\n",
    "df[0:4]\n"
   ]
  },
  {
   "cell_type": "code",
   "execution_count": 69,
   "metadata": {},
   "outputs": [
    {
     "name": "stdout",
     "output_type": "stream",
     "text": [
      "CPU times: user 1.68 ms, sys: 1.51 ms, total: 3.19 ms\n",
      "Wall time: 2.28 ms\n"
     ]
    }
   ],
   "source": [
    "%time df.to_csv('/Users/doreddy/Desktop/matrix_mitre.csv')"
   ]
  },
  {
   "cell_type": "code",
   "execution_count": 70,
   "metadata": {},
   "outputs": [
    {
     "data": {
      "text/plain": [
       "dict"
      ]
     },
     "execution_count": 70,
     "metadata": {},
     "output_type": "execute_result"
    }
   ],
   "source": [
    "type(all_enterprise)"
   ]
  },
  {
   "cell_type": "code",
   "execution_count": 71,
   "metadata": {},
   "outputs": [
    {
     "data": {
      "text/plain": [
       "['techniques',\n",
       " 'mitigations',\n",
       " 'groups',\n",
       " 'malware',\n",
       " 'tools',\n",
       " 'relationships',\n",
       " 'tactics',\n",
       " 'matrix',\n",
       " 'identity',\n",
       " 'marking-definition']"
      ]
     },
     "execution_count": 71,
     "metadata": {},
     "output_type": "execute_result"
    }
   ],
   "source": [
    "list(all_enterprise)"
   ]
  },
  {
   "cell_type": "code",
   "execution_count": 72,
   "metadata": {},
   "outputs": [
    {
     "name": "stdout",
     "output_type": "stream",
     "text": [
      "Numebr of enterprise techniques\n"
     ]
    },
    {
     "data": {
      "text/plain": [
       "266"
      ]
     },
     "execution_count": 72,
     "metadata": {},
     "output_type": "execute_result"
    }
   ],
   "source": [
    "print('Numebr of enterprise techniques')\n",
    "len(all_enterprise['techniques'])"
   ]
  },
  {
   "cell_type": "code",
   "execution_count": 73,
   "metadata": {},
   "outputs": [
    {
     "data": {
      "text/plain": [
       "pandas.core.frame.DataFrame"
      ]
     },
     "execution_count": 73,
     "metadata": {},
     "output_type": "execute_result"
    }
   ],
   "source": [
    "all_enterprise_techniques = []\n",
    "for t in all_enterprise['techniques']:\n",
    "    all_enterprise_techniques.append(json.loads(t.serialize()))\n",
    "df = json_normalize(all_enterprise_techniques)\n",
    "\n",
    "type(df)"
   ]
  },
  {
   "cell_type": "code",
   "execution_count": 77,
   "metadata": {},
   "outputs": [
    {
     "data": {
      "text/plain": [
       "['name',\n",
       " 'description',\n",
       " 'id',\n",
       " 'object_marking_refs',\n",
       " 'type',\n",
       " 'created_by_ref',\n",
       " 'created',\n",
       " 'kill_chain_phases',\n",
       " 'external_references',\n",
       " 'modified',\n",
       " 'x_mitre_data_sources',\n",
       " 'x_mitre_permissions_required',\n",
       " 'x_mitre_platforms',\n",
       " 'x_mitre_version',\n",
       " 'x_mitre_impact_type',\n",
       " 'x_mitre_detection',\n",
       " 'x_mitre_contributors',\n",
       " 'x_mitre_defense_bypassed',\n",
       " 'x_mitre_network_requirements',\n",
       " 'x_mitre_effective_permissions',\n",
       " 'x_mitre_system_requirements',\n",
       " 'x_mitre_remote_support']"
      ]
     },
     "execution_count": 77,
     "metadata": {},
     "output_type": "execute_result"
    }
   ],
   "source": [
    "list(df)"
   ]
  },
  {
   "cell_type": "code",
   "execution_count": 79,
   "metadata": {},
   "outputs": [],
   "source": [
    "df.to_csv('/Users/doreddy/Desktop/mitre/mitre_all_enterprise_techniques.csv')"
   ]
  },
  {
   "cell_type": "code",
   "execution_count": 80,
   "metadata": {},
   "outputs": [
    {
     "data": {
      "text/plain": [
       "307"
      ]
     },
     "execution_count": 80,
     "metadata": {},
     "output_type": "execute_result"
    }
   ],
   "source": [
    "len(all_enterprise['malware'])"
   ]
  },
  {
   "cell_type": "code",
   "execution_count": 81,
   "metadata": {},
   "outputs": [
    {
     "data": {
      "text/plain": [
       "355"
      ]
     },
     "execution_count": 81,
     "metadata": {},
     "output_type": "execute_result"
    }
   ],
   "source": [
    "len(all_attack['malware'])"
   ]
  },
  {
   "cell_type": "code",
   "execution_count": 83,
   "metadata": {},
   "outputs": [
    {
     "name": "stdout",
     "output_type": "stream",
     "text": [
      "enterprise malware\n"
     ]
    },
    {
     "data": {
      "text/plain": [
       "307"
      ]
     },
     "execution_count": 83,
     "metadata": {},
     "output_type": "execute_result"
    }
   ],
   "source": [
    "print('enterprise malware')\n",
    "len(all_enterprise['malware'])"
   ]
  },
  {
   "cell_type": "code",
   "execution_count": 84,
   "metadata": {},
   "outputs": [
    {
     "data": {
      "text/plain": [
       "355"
      ]
     },
     "execution_count": 84,
     "metadata": {},
     "output_type": "execute_result"
    }
   ],
   "source": [
    "len(all_attack['malware'])"
   ]
  },
  {
   "cell_type": "code",
   "execution_count": 85,
   "metadata": {},
   "outputs": [
    {
     "data": {
      "text/plain": [
       "['name',\n",
       " 'description',\n",
       " 'id',\n",
       " 'object_marking_refs',\n",
       " 'type',\n",
       " 'created_by_ref',\n",
       " 'labels',\n",
       " 'created',\n",
       " 'modified',\n",
       " 'external_references',\n",
       " 'x_mitre_platforms',\n",
       " 'x_mitre_version',\n",
       " 'x_mitre_aliases',\n",
       " 'x_mitre_contributors',\n",
       " 'revoked',\n",
       " 'x_mitre_old_attack_id']"
      ]
     },
     "execution_count": 85,
     "metadata": {},
     "output_type": "execute_result"
    }
   ],
   "source": [
    "all_enterprise_malware =[]\n",
    "for t in all_enterprise['malware']:\n",
    "    all_enterprise_malware.append(json.loads(t.serialize()))\n",
    "df = json_normalize(all_enterprise_malware)\n",
    "list(df)"
   ]
  },
  {
   "cell_type": "code",
   "execution_count": 107,
   "metadata": {},
   "outputs": [
    {
     "data": {
      "text/html": [
       "<div>\n",
       "<style scoped>\n",
       "    .dataframe tbody tr th:only-of-type {\n",
       "        vertical-align: middle;\n",
       "    }\n",
       "\n",
       "    .dataframe tbody tr th {\n",
       "        vertical-align: top;\n",
       "    }\n",
       "\n",
       "    .dataframe thead th {\n",
       "        text-align: right;\n",
       "    }\n",
       "</style>\n",
       "<table border=\"1\" class=\"dataframe\">\n",
       "  <thead>\n",
       "    <tr style=\"text-align: right;\">\n",
       "      <th></th>\n",
       "      <th>name</th>\n",
       "      <th>description</th>\n",
       "      <th>created</th>\n",
       "      <th>external_references</th>\n",
       "    </tr>\n",
       "  </thead>\n",
       "  <tbody>\n",
       "    <tr>\n",
       "      <th>0</th>\n",
       "      <td>GRIFFON</td>\n",
       "      <td>[GRIFFON](https://attack.mitre.org/software/S0...</td>\n",
       "      <td>2019-10-11T17:29:20.165Z</td>\n",
       "      <td>[{'source_name': 'mitre-attack', 'external_id'...</td>\n",
       "    </tr>\n",
       "  </tbody>\n",
       "</table>\n",
       "</div>"
      ],
      "text/plain": [
       "      name                                        description  \\\n",
       "0  GRIFFON  [GRIFFON](https://attack.mitre.org/software/S0...   \n",
       "\n",
       "                    created                                external_references  \n",
       "0  2019-10-11T17:29:20.165Z  [{'source_name': 'mitre-attack', 'external_id'...  "
      ]
     },
     "execution_count": 107,
     "metadata": {},
     "output_type": "execute_result"
    }
   ],
   "source": [
    "df.reindex(['name','description','created','external_references'], axis = 1)"
   ]
  },
  {
   "cell_type": "code",
   "execution_count": 108,
   "metadata": {},
   "outputs": [
    {
     "data": {
      "text/plain": [
       "['name', 'description', 'created', 'external_references']"
      ]
     },
     "execution_count": 108,
     "metadata": {},
     "output_type": "execute_result"
    }
   ],
   "source": [
    "list(df)"
   ]
  },
  {
   "cell_type": "code",
   "execution_count": 103,
   "metadata": {},
   "outputs": [],
   "source": [
    "df.to_csv('/Users/doreddy/Documents/GAP IR/attackcti/enterprise_malware.csv')"
   ]
  },
  {
   "cell_type": "code",
   "execution_count": 109,
   "metadata": {},
   "outputs": [
    {
     "name": "stdout",
     "output_type": "stream",
     "text": [
      "all pre techniques\n"
     ]
    }
   ],
   "source": [
    "print('all pre techniques')\n"
   ]
  },
  {
   "cell_type": "code",
   "execution_count": 110,
   "metadata": {},
   "outputs": [],
   "source": [
    "pre_techniques = lift.get_pre_techniques()\n"
   ]
  },
  {
   "cell_type": "code",
   "execution_count": 111,
   "metadata": {},
   "outputs": [
    {
     "data": {
      "text/plain": [
       "list"
      ]
     },
     "execution_count": 111,
     "metadata": {},
     "output_type": "execute_result"
    }
   ],
   "source": [
    "type(pre_techniques)"
   ]
  },
  {
   "cell_type": "code",
   "execution_count": 112,
   "metadata": {},
   "outputs": [
    {
     "data": {
      "text/plain": [
       "[AttackPattern(type='attack-pattern', id='attack-pattern--b182f29c-2505-4b32-a000-0440ef189f59', created_by_ref='identity--c78cb6e5-0c4b-4611-8297-d1b8b55e40b5', created='2018-04-18T17:59:24.739Z', modified='2018-10-17T00:14:20.652Z', name='Spearphishing for Information', description=\"Spearphishing for information is a specific variant of spearphishing. Spearphishing for information is different from other forms of spearphishing in that it it doesn't leverage malicious code. All forms of spearphishing are elctronically delivered social engineering targeted at a specific individual, company, or industry. Spearphishing for information is an attempt to trick targets into divulging information, frequently credentials, without involving malicious code. Spearphishing for information frequently involves masquerading as a source with a reason to collect information (such as a system administrator or a bank) and providing a user with a website link to visit. The given website often closely resembles a legitimate site in appearance and has a URL containing elements from the real site. From the fake website, information is gathered in web forms and sent to the attacker. Spearphishing for information may also try to obtain information directly through the exchange of emails, instant messengers or other electronic conversation means. (Citation: ATTACKREF GRIZZLY STEPPE JAR)\", kill_chain_phases=[KillChainPhase(kill_chain_name='mitre-pre-attack', phase_name='technical-information-gathering')], external_references=[ExternalReference(source_name='mitre-pre-attack', url='https://attack.mitre.org/techniques/T1397', external_id='T1397'), ExternalReference(source_name='ATTACKREF GRIZZLY STEPPE JAR', description='Department of Homeland Security and Federal Bureau of Investigation. (2016, December 29). GRIZZLY STEPPE – Russian Malicious Cyber Activity. Retrieved January 11, 2017.')], object_marking_refs=['marking-definition--fa42a846-8d90-4e51-bc29-71d5b4802168'], x_mitre_detectable_by_common_defenses='Partial', x_mitre_detectable_by_common_defenses_explanation='Depending on the specific method of phishing, the detections can vary. For emails, filtering based on DKIP+SPF or header analysis can help detect when the email sender is spoofed. When it comes to following links, network intrusion detection systems (NIDS), firewalls, removing links, exploding shortened links, proxy monitoring, blocking uncategorized sites, and site reputation based filtering can all provide detection opportunities.', x_mitre_difficulty_for_adversary='Yes', x_mitre_difficulty_for_adversary_explanation='Sending emails is trivial, and, over time, an adversary can refine their technique to minimize detection by making their emails seem legitimate in structure and content.', x_mitre_old_attack_id='PRE-T1174', x_mitre_version='1.0'),\n",
       " AttackPattern(type='attack-pattern', id='attack-pattern--795c1a92-3a26-453e-b99a-6a566aa94dc6', created_by_ref='identity--c78cb6e5-0c4b-4611-8297-d1b8b55e40b5', created='2017-12-14T16:46:06.044Z', modified='2018-10-17T00:14:20.652Z', name='Acquire and/or use 3rd party infrastructure services', description='A wide variety of cloud, virtual private services, hosting, compute, and storage solutions are available. Additionally botnets are available for rent or purchase. Use of these solutions allow an adversary to stage, launch, and execute an attack from infrastructure that does not physically tie back to them and can be rapidly provisioned, modified, and shut down. (Citation: TrendmicroHideoutsLease)', kill_chain_phases=[KillChainPhase(kill_chain_name='mitre-pre-attack', phase_name='establish-&-maintain-infrastructure')], external_references=[ExternalReference(source_name='mitre-pre-attack', url='https://attack.mitre.org/techniques/T1329', external_id='T1329'), ExternalReference(source_name='TrendmicroHideoutsLease', description='Max Goncharov. (2015, July 15). Criminal Hideouts for Lease: Bulletproof Hosting Services. Retrieved March 6, 2017.')], object_marking_refs=['marking-definition--fa42a846-8d90-4e51-bc29-71d5b4802168'], x_mitre_detectable_by_common_defenses='No', x_mitre_detectable_by_common_defenses_explanation='Hard to differentiate from standard business operations.', x_mitre_difficulty_for_adversary='Yes', x_mitre_difficulty_for_adversary_explanation='Wide variety of cloud/VPS/hosting/compute/storage solutions available for adversary to acquire freely or at a low cost.', x_mitre_old_attack_id='PRE-T1106', x_mitre_version='1.0'),\n",
       " AttackPattern(type='attack-pattern', id='attack-pattern--03f4a766-7a21-4b5e-9ccf-e0cf422ab983', created_by_ref='identity--c78cb6e5-0c4b-4611-8297-d1b8b55e40b5', created='2017-12-14T16:46:06.044Z', modified='2019-02-19T18:56:56.071Z', name='Acquire or compromise 3rd party signing certificates', description=\"Code signing is the process of digitally signing executables and scripts to confirm the software author and guarantee that the code has not been altered or corrupted. Users may trust a signed piece of code more than an unsigned piece of code even if they don't know who issued the certificate or who the author is. (Citation: DiginotarCompromise)\", kill_chain_phases=[KillChainPhase(kill_chain_name='mitre-pre-attack', phase_name='establish-&-maintain-infrastructure')], external_references=[ExternalReference(source_name='mitre-pre-attack', url='https://attack.mitre.org/techniques/T1332', external_id='T1332'), ExternalReference(source_name='DiginotarCompromise', description='Dennis Fisher. (2012, October 31). FINAL REPORT ON DIGINOTAR HACK SHOWS TOTAL COMPROMISE OF CA SERVERS. Retrieved March 6, 2017.')], object_marking_refs=['marking-definition--fa42a846-8d90-4e51-bc29-71d5b4802168'], x_mitre_detectable_by_common_defenses='No', x_mitre_detectable_by_common_defenses_explanation='Defender will not know what certificates an adversary acquires from a 3rd party. Defender will not know prior to public disclosure if a 3rd party has had their certificate compromised.', x_mitre_difficulty_for_adversary='No', x_mitre_difficulty_for_adversary_explanation='It is trivial to purchase code signing certificates within an organization; many exist and are available at reasonable cost. It is complex to factor or steal 3rd party code signing certificates for use in malicious mechanisms', x_mitre_old_attack_id='PRE-T1109', x_mitre_version='1.0'),\n",
       " AttackPattern(type='attack-pattern', id='attack-pattern--773950e1-090c-488b-a480-9ff236312e31', created_by_ref='identity--c78cb6e5-0c4b-4611-8297-d1b8b55e40b5', created='2017-12-14T16:46:06.044Z', modified='2018-10-17T00:14:20.652Z', name='Analyze data collected', description='An adversary will assess collected information such as software/hardware versions, vulnerabilities, patch level, etc.  They will analyze technical scanning results to identify weaknesses in the confirmation or architecture. (Citation: SurveyDetectionStrategies) (Citation: CyberReconPaper) (Citation: RSA-APTRecon) (Citation: FireEyeAPT28)', kill_chain_phases=[KillChainPhase(kill_chain_name='mitre-pre-attack', phase_name='technical-weakness-identification')], external_references=[ExternalReference(source_name='mitre-pre-attack', url='https://attack.mitre.org/techniques/T1287', external_id='T1287'), ExternalReference(source_name='SurveyDetectionStrategies', description='Jamal Raiyn. (2014). A survey of Cyber Attack Detection Strategies. Retrieved March 5, 2017.'), ExternalReference(source_name='CyberReconPaper', description='H. P. Sanghvi and M. S. Dahiya. (2013, February). Cyber Reconnaissance: An Alarm before Cyber Attack. Retrieved March 5, 2017.'), ExternalReference(source_name='RSA-APTRecon', description='Rotem Kerner. (2015, October). RECONNAISSANCE: A Walkthrough of the “APT” Intelligence Gathering Process. Retrieved March 1, 2017.'), ExternalReference(source_name='FireEyeAPT28', description='FireEye, Inc. (2014). APT 28: A Window into Russia’s Cyber Espionage Operations?. Retrieved March 1, 2017.')], object_marking_refs=['marking-definition--fa42a846-8d90-4e51-bc29-71d5b4802168'], x_mitre_detectable_by_common_defenses='No', x_mitre_detectable_by_common_defenses_explanation='This can be done offline after the data has been collected.', x_mitre_difficulty_for_adversary='Yes', x_mitre_difficulty_for_adversary_explanation='Many of the common tools highlight these weaknesses automatically.  Adversary can \"dry run\" against the target using known exploits or burner devices to determine key identifiers of software, hardware, and services.', x_mitre_old_attack_id='PRE-T1064', x_mitre_version='1.0'),\n",
       " AttackPattern(type='attack-pattern', id='attack-pattern--34450117-d1d5-417c-bb74-4359fc6551ca', created_by_ref='identity--c78cb6e5-0c4b-4611-8297-d1b8b55e40b5', created='2017-12-14T16:46:06.044Z', modified='2018-10-17T00:14:20.652Z', name='Analyze presence of outsourced capabilities', description='Outsourcing, the arrangement of one company providing goods or services to another company for something that could be done in-house, provides another avenue for an adversary to target. Businesses often have networks, portals, or other technical connections between themselves and their outsourced/partner organizations that could be exploited. Additionally, outsourced/partner organization information could provide opportunities for phishing. (Citation: Scasny2015) (Citation: OPM Breach)', kill_chain_phases=[KillChainPhase(kill_chain_name='mitre-pre-attack', phase_name='organizational-weakness-identification')], external_references=[ExternalReference(source_name='mitre-pre-attack', url='https://attack.mitre.org/techniques/T1303', external_id='T1303'), ExternalReference(source_name='Scasny2015', description='Gregory Scasny. (2015, September 14). Understanding Open Source Intelligence (OSINT) and its relationship to Identity Theft. Retrieved March 1, 2017.'), ExternalReference(source_name='OPM Breach', description='Hon. Jason Chaffetz, Hon. Mark Meadows, Hon. Will Hurd. (2016, September 7). The OPM Data Breach: How the Government Jeopardized Our National Security for More than a Generation. Retrieved March 28, 2017.')], object_marking_refs=['marking-definition--fa42a846-8d90-4e51-bc29-71d5b4802168'], x_mitre_detectable_by_common_defenses='No', x_mitre_detectable_by_common_defenses_explanation=\"Much of this analysis can be done using the target's open source website, which is purposely designed to be informational and may not have extensive visitor tracking capabilities.\", x_mitre_difficulty_for_adversary='Yes', x_mitre_difficulty_for_adversary_explanation='Analyzing business relationships from information gathering may provide insight into outsourced capabilities.  In certain industries, outsourced capabilities or close business partnerships may be advertised on corporate websites.', x_mitre_old_attack_id='PRE-T1080', x_mitre_version='1.0'),\n",
       " AttackPattern(type='attack-pattern', id='attack-pattern--d3999268-740f-467e-a075-c82e2d04be62', created_by_ref='identity--c78cb6e5-0c4b-4611-8297-d1b8b55e40b5', created='2017-12-14T16:46:06.044Z', modified='2018-10-17T00:14:20.652Z', name='Assess leadership areas of interest', description='Leadership assesses the areas of most interest to them and generates Key Intelligence Topics (KIT) or Key Intelligence Questions (KIQ). For example, an adversary knows from open and closed source reporting that cyber is of interest, resulting in it being a KIT. (Citation: ODNIIntegration)', kill_chain_phases=[KillChainPhase(kill_chain_name='mitre-pre-attack', phase_name='priority-definition-planning')], external_references=[ExternalReference(source_name='mitre-pre-attack', url='https://attack.mitre.org/techniques/T1224', external_id='T1224'), ExternalReference(source_name='ODNIIntegration', description='Office of the Director of National Intelligence. (n.d.). Intelligence Integration - Who Are We. Retrieved March 2, 2017.')], object_marking_refs=['marking-definition--fa42a846-8d90-4e51-bc29-71d5b4802168'], x_mitre_detectable_by_common_defenses='No', x_mitre_detectable_by_common_defenses_explanation='Normally, defender is unable to detect.  Few agencies and commercial organizations may have unique insights.', x_mitre_difficulty_for_adversary='Yes', x_mitre_difficulty_for_adversary_explanation='Normal aspect of adversary planning lifecycle.  May not be done by all adversaries.', x_mitre_old_attack_id='PRE-T1001', x_mitre_version='1.0'),\n",
       " AttackPattern(type='attack-pattern', id='attack-pattern--4fad17d3-8f42-449d-ac4b-dbb4c486127d', created_by_ref='identity--c78cb6e5-0c4b-4611-8297-d1b8b55e40b5', created='2017-12-14T16:46:06.044Z', modified='2018-10-17T00:14:20.652Z', name='Assign KITs, KIQs, and/or intelligence requirements', description='Once generated, Key Intelligence Topics (KITs), Key Intelligence Questions (KIQs), and/or intelligence requirements are assigned to applicable agencies and/or personnel. For example, an adversary may decide nuclear energy requirements should be assigned to a specific organization based on their mission. (Citation: AnalystsAndPolicymaking) (Citation: JP2-01)', kill_chain_phases=[KillChainPhase(kill_chain_name='mitre-pre-attack', phase_name='priority-definition-direction')], external_references=[ExternalReference(source_name='mitre-pre-attack', url='https://attack.mitre.org/techniques/T1238', external_id='T1238'), ExternalReference(source_name='AnalystsAndPolicymaking', description='Jack Davis. (2002, September). Improving CIA Analytic Performance: Analysts and the Policymaking Process. Retrieved March 5, 2017.'), ExternalReference(source_name='JP2-01', description='Joint Chiefs of Staff. (2012, January 05). Joint and National Intelligence Support to Military Operations. Retrieved March 2, 2017.')], object_marking_refs=['marking-definition--fa42a846-8d90-4e51-bc29-71d5b4802168'], x_mitre_detectable_by_common_defenses='No', x_mitre_detectable_by_common_defenses_explanation='Normally, defender is unable to detect.  Few agencies and commercial organizations may have unique insights.', x_mitre_difficulty_for_adversary='Yes', x_mitre_difficulty_for_adversary_explanation='Normal aspect of adversary planning lifecycle.  May not be done by all adversaries.', x_mitre_old_attack_id='PRE-T1015', x_mitre_version='1.0'),\n",
       " AttackPattern(type='attack-pattern', id='attack-pattern--15ef4da5-3b93-4bb1-a39a-5396661956d3', created_by_ref='identity--c78cb6e5-0c4b-4611-8297-d1b8b55e40b5', created='2017-12-14T16:46:06.044Z', modified='2018-10-17T00:14:20.652Z', name='Build and configure delivery systems', description='Delivery systems are the infrastructure used by the adversary to host malware or other tools used during exploitation. Building and configuring delivery systems may include multiple activities such as registering domain names, renting hosting space, or configuring previously exploited environments. (Citation: APT1)', kill_chain_phases=[KillChainPhase(kill_chain_name='mitre-pre-attack', phase_name='build-capabilities')], external_references=[ExternalReference(source_name='mitre-pre-attack', url='https://attack.mitre.org/techniques/T1347', external_id='T1347'), ExternalReference(source_name='APT1', description='Mandiant. (n.d.). APT1: Exposing One of China’s Cyber Espionage Units. Retrieved March 5, 2017.')], object_marking_refs=['marking-definition--fa42a846-8d90-4e51-bc29-71d5b4802168'], x_mitre_detectable_by_common_defenses='No', x_mitre_detectable_by_common_defenses_explanation='It is detectable once deployed to the public Internet, used for adversarial purposes, discovered, and reported to defenders.', x_mitre_difficulty_for_adversary='Yes', x_mitre_difficulty_for_adversary_explanation='It is easy to create and burn infrastructure. Otherwise, blacklisting would be more successful for defenders.', x_mitre_old_attack_id='PRE-T1124', x_mitre_version='1.0'),\n",
       " AttackPattern(type='attack-pattern', id='attack-pattern--7a265bf0-6acc-4f43-8b22-2e58b443e62e', created_by_ref='identity--c78cb6e5-0c4b-4611-8297-d1b8b55e40b5', created='2017-12-14T16:46:06.044Z', modified='2018-10-17T00:14:20.652Z', name='Choose pre-compromised mobile app developer account credentials or signing keys', description=\"The adversary can use account credentials or signing keys of an existing mobile app developer to publish malicious updates of existing mobile apps to an application store, or to abuse the developer's identity and reputation to publish new malicious apps.  Many mobile devices are configured to automatically install new versions of already-installed apps. (Citation: Fraudenlent Apps Stolen Dev Credentials)\", kill_chain_phases=[KillChainPhase(kill_chain_name='mitre-pre-attack', phase_name='persona-development')], external_references=[ExternalReference(source_name='mitre-pre-attack', url='https://attack.mitre.org/techniques/T1391', external_id='T1391'), ExternalReference(source_name='Fraudenlent Apps Stolen Dev Credentials', description='Galen Gruman. (2014, December 5). Keep out hijackers: Secure your app store dev account. Retrieved April 12, 2017.')], object_marking_refs=['marking-definition--fa42a846-8d90-4e51-bc29-71d5b4802168'], x_mitre_detectable_by_common_defenses='No', x_mitre_detectable_by_common_defenses_explanation='Possible to detect compromised credentials if alerting from a service provider is enabled and acted upon by the individual.', x_mitre_difficulty_for_adversary='No', x_mitre_difficulty_for_adversary_explanation='The difficulty of obtaining useful developer credentials may vary.  Well-organized, professional app developers whose credentials or signing keys would be the most useful to an adversary because of the large install bases of their apps, would likely strongly protect their credentials and signing keys.  Less-organized app developers may not protect their credentials and signing keys as strongly, but the credentials and signing keys would also be less useful to an adversary.  These less-organized app developers may reuse passwords across sites, fail to turn on multi-factor authentication features when available, or store signing keys in unprotected locations.', x_mitre_old_attack_id='PRE-T1168', x_mitre_version='1.0'),\n",
       " AttackPattern(type='attack-pattern', id='attack-pattern--5a68c603-d7f9-4535-927e-ab56819eaa85', created_by_ref='identity--c78cb6e5-0c4b-4611-8297-d1b8b55e40b5', created='2017-12-14T16:46:06.044Z', modified='2018-10-17T00:14:20.652Z', name='Compromise 3rd party or closed-source vulnerability/exploit information', description='There is usually a delay between when a vulnerability or exploit is discovered and when it is made public. An adversary may target the systems of those known to research vulnerabilities in order to gain that knowledge for use during a different attack. (Citation: TempertonDarkHotel)', kill_chain_phases=[KillChainPhase(kill_chain_name='mitre-pre-attack', phase_name='build-capabilities')], external_references=[ExternalReference(source_name='mitre-pre-attack', url='https://attack.mitre.org/techniques/T1354', external_id='T1354'), ExternalReference(source_name='TempertonDarkHotel', description='JAMES TEMPERTON. (2015, August 10). Hacking Team zero-day used in new Darkhotel attacks. Retrieved March 9, 2017.')], object_marking_refs=['marking-definition--fa42a846-8d90-4e51-bc29-71d5b4802168'], x_mitre_detectable_by_common_defenses='No', x_mitre_detectable_by_common_defenses_explanation='The compromise of unknown vulnerabilities would provide little attack and warning against a defender, rendering it highly challenging to detect.', x_mitre_difficulty_for_adversary='No', x_mitre_difficulty_for_adversary_explanation='Finding, attacking, and compromising a 3rd party or closed vulnerability entity is challenging, because those containing the vulnerabilities should be very aware of attacks on their environments have a heightened awareness.', x_mitre_old_attack_id='PRE-T1131', x_mitre_version='1.0'),\n",
       " AttackPattern(type='attack-pattern', id='attack-pattern--a757670d-d600-48d9-8ae9-601d42c184a5', created_by_ref='identity--c78cb6e5-0c4b-4611-8297-d1b8b55e40b5', created='2017-12-14T16:46:06.044Z', modified='2018-10-17T00:14:20.652Z', name='Conduct social engineering', description='Social Engineering is the practice of manipulating people in order to get them to divulge information or take an action. (Citation: SEAttackVectors) (Citation: BeachSE2003)', kill_chain_phases=[KillChainPhase(kill_chain_name='mitre-pre-attack', phase_name='organizational-information-gathering')], external_references=[ExternalReference(source_name='mitre-pre-attack', url='https://attack.mitre.org/techniques/T1279', external_id='T1279'), ExternalReference(source_name='SEAttackVectors', description='Mathew J. Schwartz. (2011, September 14). Social Engineering Leads APT Attack Vectors. Retrieved March 5, 2017.'), ExternalReference(source_name='BeachSE2003', description='Gary Beach. (2003, October 1). Kevin Mitnick on Social Engineering Hackers. Retrieved March 5, 2017.')], object_marking_refs=['marking-definition--fa42a846-8d90-4e51-bc29-71d5b4802168'], x_mitre_detectable_by_common_defenses='No', x_mitre_detectable_by_common_defenses_explanation='No technical means to detect an adversary collecting information about a target.  Any detection would be based upon strong OPSEC policy implementation.', x_mitre_difficulty_for_adversary='Yes', x_mitre_difficulty_for_adversary_explanation='Very effective technique for the adversary that does not require any formal training and relies upon finding just one person who exhibits poor judgement.', x_mitre_old_attack_id='PRE-T1056', x_mitre_version='1.0'),\n",
       " AttackPattern(type='attack-pattern', id='attack-pattern--a425598d-7c19-40f7-9aa3-ac20f0d5c2b2', created_by_ref='identity--c78cb6e5-0c4b-4611-8297-d1b8b55e40b5', created='2017-12-14T16:46:06.044Z', modified='2018-10-17T00:14:20.652Z', name='Create backup infrastructure', description='Backup infrastructure allows an adversary to recover from environmental and system failures. It also facilitates recovery or movement to other infrastructure if the primary infrastructure is discovered or otherwise is no longer viable. (Citation: LUCKYCAT2012)', kill_chain_phases=[KillChainPhase(kill_chain_name='mitre-pre-attack', phase_name='establish-&-maintain-infrastructure')], external_references=[ExternalReference(source_name='mitre-pre-attack', url='https://attack.mitre.org/techniques/T1339', external_id='T1339'), ExternalReference(source_name='LUCKYCAT2012', description='Forward-Looking Threat Research Team. (2012). LUCKYCAT REDUX: Inside an APT Campaign with Multiple Targets in India and Japan. Retrieved March 1, 2017.')], object_marking_refs=['marking-definition--fa42a846-8d90-4e51-bc29-71d5b4802168'], x_mitre_detectable_by_common_defenses='No', x_mitre_detectable_by_common_defenses_explanation='Infrastructure is (typically) outside of control/visibility of defender and as such as tools are staged for specific campaigns, it will not be obvious to those being attacked.', x_mitre_difficulty_for_adversary='Yes', x_mitre_difficulty_for_adversary_explanation='The adversary has control of the infrastructure and will likely be able to add/remove tools to infrastructure, whether acquired via hacking or standard computer acquisition (e.g., [https://aws.amazon.com AWS], commercial storage solutions).', x_mitre_old_attack_id='PRE-T1116', x_mitre_version='1.0'),\n",
       " AttackPattern(type='attack-pattern', id='attack-pattern--38a6d2f5-d948-4235-bb91-bb01604448b4', created_by_ref='identity--c78cb6e5-0c4b-4611-8297-d1b8b55e40b5', created='2017-12-14T16:46:06.044Z', modified='2018-10-17T00:14:20.652Z', name='Credential pharming', description=\"This technique has been deprecated. Please see ATT&CK's Initial Access and Execution tactics for replacement techniques.\\n\\nCredential pharming a  form of attack designed to steal users' credential by redirecting users to fraudulent websites. Pharming can be conducted either by changing the hosts file on a victim's computer or by exploitation of a vulnerability in DNS server software. (Citation: DriveByPharming) (Citation: GoogleDrive Phishing)\", kill_chain_phases=[KillChainPhase(kill_chain_name='mitre-pre-attack', phase_name='launch')], external_references=[ExternalReference(source_name='mitre-pre-attack', url='https://attack.mitre.org/techniques/T1374', external_id='T1374'), ExternalReference(source_name='DriveByPharming', description='Ellen Messmer. (2008, January 22). First case of \"drive-by pharming\" identified in the wild. Retrieved March 2, 2017.'), ExternalReference(source_name='GoogleDrive Phishing', description='Nick Johnston. (2014, March 13). Google Docs Users Targeted by Sophisticated Phishing Scam. Retrieved March 29, 2017.')], object_marking_refs=['marking-definition--fa42a846-8d90-4e51-bc29-71d5b4802168'], x_mitre_deprecated=True, x_mitre_detectable_by_common_defenses='No', x_mitre_detectable_by_common_defenses_explanation='Fidelity of networking monitoring must be able to detect when traffic is diverted to non-normal sources at a site level.  It is possible to identify some methods of pharming, but detection capabilities are limited and not commonly implemented.', x_mitre_difficulty_for_adversary='Yes', x_mitre_difficulty_for_adversary_explanation='Although it can be difficult to spoof/redirect content to a hostile service via DNS poisoning or MiTM attacks, current malware such as Zeus is able to successfully pharm credentials and end users are not well-versed in checking for certificate mismatches.', x_mitre_old_attack_id='PRE-T1151', x_mitre_version='1.0'),\n",
       " AttackPattern(type='attack-pattern', id='attack-pattern--15d5eaa4-597a-47fd-a692-f2bed434d904', created_by_ref='identity--c78cb6e5-0c4b-4611-8297-d1b8b55e40b5', created='2017-12-14T16:46:06.044Z', modified='2019-02-05T23:14:31.804Z', name='Derive intelligence requirements', description='Leadership or key decision makers may derive specific intelligence requirements from Key Intelligence Topics (KITs) or Key Intelligence Questions (KIQs).  Specific intelligence requirements assist analysts in gathering information to establish a baseline of information about a topic or question and collection managers to clarify the types of information that should be collected to satisfy the requirement. (Citation: LowenthalCh4) (Citation: Heffter)', kill_chain_phases=[KillChainPhase(kill_chain_name='mitre-pre-attack', phase_name='priority-definition-planning')], external_references=[ExternalReference(source_name='mitre-pre-attack', url='https://attack.mitre.org/techniques/T1230', external_id='T1230'), ExternalReference(source_name='LowenthalCh4', description='Mark M. Lowenthal. (n.d.). Ch 4: The Intelligence Process--A Macro Look; Who Does What for Whome?, Intelligence: From Secrets to Policy. Retrieved March 2, 2017.'), ExternalReference(source_name='Heffter', description='Clyde R. Heffter. (2011, August 4). A Fresh Look at Collection Requirements. Retrieved March 2, 2017.')], object_marking_refs=['marking-definition--fa42a846-8d90-4e51-bc29-71d5b4802168'], x_mitre_detectable_by_common_defenses='No', x_mitre_detectable_by_common_defenses_explanation='Normally, defender is unable to detect.  Few agencies and commercial organizations may have unique insights.', x_mitre_difficulty_for_adversary='Yes', x_mitre_difficulty_for_adversary_explanation='Normal aspect of adversary planning lifecycle.  May not be done by all adversaries.', x_mitre_old_attack_id='PRE-T1007', x_mitre_version='1.0'),\n",
       " AttackPattern(type='attack-pattern', id='attack-pattern--23ecb7e0-0340-43d9-80a5-8971fe866ddf', created_by_ref='identity--c78cb6e5-0c4b-4611-8297-d1b8b55e40b5', created='2017-12-14T16:46:06.044Z', modified='2018-10-17T00:14:20.652Z', name='Determine domain and IP address space', description='Domain Names are the human readable names used to represent one or more IP addresses. IP addresses are the unique identifier of computing devices on a network. Both pieces of information are valuable to an adversary who is looking to understand the structure of a network. (Citation: RSA-APTRecon)', kill_chain_phases=[KillChainPhase(kill_chain_name='mitre-pre-attack', phase_name='technical-information-gathering')], external_references=[ExternalReference(source_name='mitre-pre-attack', url='https://attack.mitre.org/techniques/T1250', external_id='T1250'), ExternalReference(source_name='RSA-APTRecon', description='Rotem Kerner. (2015, October). RECONNAISSANCE: A Walkthrough of the “APT” Intelligence Gathering Process. Retrieved March 1, 2017.')], object_marking_refs=['marking-definition--fa42a846-8d90-4e51-bc29-71d5b4802168'], x_mitre_detectable_by_common_defenses='No', x_mitre_detectable_by_common_defenses_explanation='Public or easily obtainable information by design.', x_mitre_difficulty_for_adversary='Yes', x_mitre_difficulty_for_adversary_explanation='AS and IANA data are easily available, existing research tools.', x_mitre_old_attack_id='PRE-T1027', x_mitre_version='1.0'),\n",
       " AttackPattern(type='attack-pattern', id='attack-pattern--2011ffeb-8003-41ef-b962-9d1cbfa35e6d', created_by_ref='identity--c78cb6e5-0c4b-4611-8297-d1b8b55e40b5', created='2017-12-14T16:46:06.044Z', modified='2018-10-17T00:14:20.652Z', name='Determine physical locations', description='Physical locality information may be used by an adversary to shape social engineering attempts (language, culture, events, weather, etc.) or to plan for physical actions such as dumpster diving or attempting to access a facility. (Citation: RSA-APTRecon)', kill_chain_phases=[KillChainPhase(kill_chain_name='mitre-pre-attack', phase_name='organizational-information-gathering')], external_references=[ExternalReference(source_name='mitre-pre-attack', url='https://attack.mitre.org/techniques/T1282', external_id='T1282'), ExternalReference(source_name='RSA-APTRecon', description='Rotem Kerner. (2015, October). RECONNAISSANCE: A Walkthrough of the “APT” Intelligence Gathering Process. Retrieved March 1, 2017.')], object_marking_refs=['marking-definition--fa42a846-8d90-4e51-bc29-71d5b4802168'], x_mitre_detectable_by_common_defenses='No', x_mitre_detectable_by_common_defenses_explanation='Adversary searches publicly available sources that list physical locations that cannot be monitored by a defender or are not necessarily monitored (e.g., all IP addresses touching their public web space listing physical locations).', x_mitre_difficulty_for_adversary='Yes', x_mitre_difficulty_for_adversary_explanation='Most corporations now list their locations on public facing websites.  Some challenge still exists to find covert or sensitive locations.', x_mitre_old_attack_id='PRE-T1059', x_mitre_version='1.0'),\n",
       " AttackPattern(type='attack-pattern', id='attack-pattern--82bbd209-f516-45e0-9542-4ffbbc2a8717', created_by_ref='identity--c78cb6e5-0c4b-4611-8297-d1b8b55e40b5', created='2017-12-14T16:46:06.044Z', modified='2018-10-17T00:14:20.652Z', name='Discover new exploits and monitor exploit-provider forums', description='An exploit takes advantage of a bug or vulnerability in order to cause unintended or unanticipated behavior to occur on computer hardware or software. The adversary may need to discover new exploits when existing exploits are no longer relevant to the environment they are trying to compromise. An adversary may monitor exploit provider forums to understand the state of existing, as well as newly discovered, exploits. (Citation: EquationQA)', kill_chain_phases=[KillChainPhase(kill_chain_name='mitre-pre-attack', phase_name='build-capabilities')], external_references=[ExternalReference(source_name='mitre-pre-attack', url='https://attack.mitre.org/techniques/T1350', external_id='T1350'), ExternalReference(source_name='EquationQA', description='Kaspersky Lab. (2015, February). EQUATION GROUP: QUESTIONS AND ANSWERS. Retrieved March 9, 2017.', url='https://www.threatminer.org/_reports/2015/Equation_group_questions_and_answers.pdf')], object_marking_refs=['marking-definition--fa42a846-8d90-4e51-bc29-71d5b4802168'], x_mitre_detectable_by_common_defenses='No', x_mitre_detectable_by_common_defenses_explanation=\"Public source external to the defender's organization.\", x_mitre_difficulty_for_adversary='Yes', x_mitre_difficulty_for_adversary_explanation='Many public sources exist for this information.', x_mitre_old_attack_id='PRE-T1127', x_mitre_version='1.0'),\n",
       " AttackPattern(type='attack-pattern', id='attack-pattern--aadaee0d-794c-4642-8293-7ec22a99fb1a', created_by_ref='identity--c78cb6e5-0c4b-4611-8297-d1b8b55e40b5', created='2017-12-14T16:46:06.044Z', modified='2018-10-17T00:14:20.652Z', name='Domain registration hijacking', description='Domain Registration Hijacking is the act of changing the registration of a domain name without the permission of the original registrant. (Citation: ICANNDomainNameHijacking)', kill_chain_phases=[KillChainPhase(kill_chain_name='mitre-pre-attack', phase_name='establish-&-maintain-infrastructure')], external_references=[ExternalReference(source_name='mitre-pre-attack', url='https://attack.mitre.org/techniques/T1326', external_id='T1326'), ExternalReference(source_name='ICANNDomainNameHijacking', description='ICANN Security and Stability Advisory Committee. (2005, July 12). DOMAIN NAME HIJACKING: INCIDENTS, THREATS, RISKS, AND REMEDIAL ACTIONS. Retrieved March 6, 2017.')], object_marking_refs=['marking-definition--fa42a846-8d90-4e51-bc29-71d5b4802168'], x_mitre_detectable_by_common_defenses='No', x_mitre_detectable_by_common_defenses_explanation='Generally not easily detectable unless domain registrar provides alerting on any updates.', x_mitre_difficulty_for_adversary='Yes', x_mitre_difficulty_for_adversary_explanation='Requires adversary to gain access to an email account for person listed as the domain registrar/POC.  The adversary can then claim that they forgot their password in order to make changes to the domain registration.  Other possibilities include social engineering a domain registration help desk to gain access to an account or take advantage of renewal process gaps.', x_mitre_old_attack_id='PRE-T1103', x_mitre_version='1.0'),\n",
       " AttackPattern(type='attack-pattern', id='attack-pattern--ef6197fd-a58a-4006-bfd6-1d7765d8409d', created_by_ref='identity--c78cb6e5-0c4b-4611-8297-d1b8b55e40b5', created='2017-12-14T16:46:06.044Z', modified='2018-10-17T00:14:20.652Z', name='Enumerate externally facing software applications technologies, languages, and dependencies', description='Software applications will be built using different technologies, languages, and dependencies. This information may reveal vulnerabilities or opportunities to an adversary. (Citation: CommonApplicationAttacks) (Citation: WebApplicationSecurity) (Citation: SANSTop25)', kill_chain_phases=[KillChainPhase(kill_chain_name='mitre-pre-attack', phase_name='technical-information-gathering')], external_references=[ExternalReference(source_name='mitre-pre-attack', url='https://attack.mitre.org/techniques/T1261', external_id='T1261'), ExternalReference(source_name='CommonApplicationAttacks', description='Paul Ionescu. (2015, April 8). The 10 Most Common Application Attacks in Action. Retrieved March 5, 2017.'), ExternalReference(source_name='WebApplicationSecurity', description='Gregory Leonard. (2016, February). Getting Started with Web Application Security. Retrieved March 5, 2017.'), ExternalReference(source_name='SANSTop25', description='SANS Institute. (2011, June 27). CWE/SANS TOP 25 Most Dangerous Software Errors. Retrieved March 5, 2017.')], object_marking_refs=['marking-definition--fa42a846-8d90-4e51-bc29-71d5b4802168'], x_mitre_detectable_by_common_defenses='Yes', x_mitre_detectable_by_common_defenses_explanation='Impossible to differentiate between an adversary and a normal user when accessing a site to determine the languages/technologies used.  If active scanning tools are employed, then the defender has the ability to detect.  However, this is typically not acted upon due to the large volume of this type of traffic and it will likely not prompt the defender to take any actionable defense.  Defender review of access logs may provide some insight based on trends or patterns.', x_mitre_difficulty_for_adversary='Yes', x_mitre_difficulty_for_adversary_explanation='Basic interaction with the site provides insight into the programming languages/technologies used for a given web site.  Additionally many of the active scanning tools will also provide some insight into this information.', x_mitre_old_attack_id='PRE-T1038', x_mitre_version='1.0'),\n",
       " AttackPattern(type='attack-pattern', id='attack-pattern--e754fa49-2db1-416b-92db-7f886decd099', created_by_ref='identity--c78cb6e5-0c4b-4611-8297-d1b8b55e40b5', created='2017-12-14T16:46:06.044Z', modified='2018-10-17T00:14:20.652Z', name='Generate analyst intelligence requirements', description='Analysts may receive Key Intelligence Topics (KITs) and Key Intelligence Questions (KIQs) from leadership or key decision makers and generate intelligence requirements to articulate intricacies of information required on a topic or question. (Citation: Herring1999)', kill_chain_phases=[KillChainPhase(kill_chain_name='mitre-pre-attack', phase_name='priority-definition-planning')], external_references=[ExternalReference(source_name='mitre-pre-attack', url='https://attack.mitre.org/techniques/T1234', external_id='T1234'), ExternalReference(source_name='Herring1999', description='Jan P. Herring. (1999). Key Intelligence Topics: A Process to Identify and Define Intelligence Needs. Retrieved March 2, 2017.')], object_marking_refs=['marking-definition--fa42a846-8d90-4e51-bc29-71d5b4802168'], x_mitre_detectable_by_common_defenses='No', x_mitre_detectable_by_common_defenses_explanation='Normally, defender is unable to detect.  Few agencies and commercial organizations may have unique insights.', x_mitre_difficulty_for_adversary='Yes', x_mitre_difficulty_for_adversary_explanation='Normal aspect of adversary planning lifecycle.  May not be done by all adversaries.', x_mitre_old_attack_id='PRE-T1011', x_mitre_version='1.0'),\n",
       " AttackPattern(type='attack-pattern', id='attack-pattern--1f82ef59-b7da-4cd3-a41c-2e80f80f084f', created_by_ref='identity--c78cb6e5-0c4b-4611-8297-d1b8b55e40b5', created='2017-12-14T16:46:06.044Z', modified='2018-10-17T00:14:20.652Z', name='Identify business processes/tempo', description='Understanding an organizations business processes and tempo may allow an adversary to more effectively craft social engineering attempts or to better hide technical actions, such as those that generate network traffic. (Citation: Scasny2015) (Citation: Infosec-osint)', kill_chain_phases=[KillChainPhase(kill_chain_name='mitre-pre-attack', phase_name='organizational-information-gathering')], external_references=[ExternalReference(source_name='mitre-pre-attack', url='https://attack.mitre.org/techniques/T1280', external_id='T1280'), ExternalReference(source_name='Scasny2015', description='Gregory Scasny. (2015, September 14). Understanding Open Source Intelligence (OSINT) and its relationship to Identity Theft. Retrieved March 1, 2017.'), ExternalReference(source_name='Infosec-osint', description='InfoSec Institute. (2013, September 11). OSINT (Open-Source Intelligence). Retrieved May 9, 2017.')], object_marking_refs=['marking-definition--fa42a846-8d90-4e51-bc29-71d5b4802168'], x_mitre_detectable_by_common_defenses='No', x_mitre_detectable_by_common_defenses_explanation='Current or previous employees may divulge information on the Internet.  If insiders are used, the defender may have policies or tools in place to detect loss of this data or knowledge.', x_mitre_difficulty_for_adversary='No', x_mitre_difficulty_for_adversary_explanation='In some cases, this requires some insider knowledge or specialized access to learn when critical operations occur in a corporation.  For publicly traded US corporations, there is a lot of open source information about their financial reporting obligations (per SEC).  Companies announce their annual shareholder meeting and their quarter phone calls with investors.  Information such as this can help the adversary to glean certain aspects of the business processes and/or rhythm.', x_mitre_old_attack_id='PRE-T1057', x_mitre_version='1.0'),\n",
       " AttackPattern(type='attack-pattern', id='attack-pattern--c721b235-679a-4d76-9ae9-e08921fccf84', created_by_ref='identity--c78cb6e5-0c4b-4611-8297-d1b8b55e40b5', created='2017-12-14T16:46:06.044Z', modified='2018-10-17T00:14:20.652Z', name='Identify job postings and needs/gaps', description='Job postings, on either company sites, or in other forums, provide information on organizational structure and often provide contact information for someone within the organization. This may give an adversary  information on technologies within the organization which could be valuable in attack or provide insight in to possible security weaknesses or limitations in detection or protection mechanisms. (Citation: JobPostingThreat)', kill_chain_phases=[KillChainPhase(kill_chain_name='mitre-pre-attack', phase_name='technical-information-gathering')], external_references=[ExternalReference(source_name='mitre-pre-attack', url='https://attack.mitre.org/techniques/T1248', external_id='T1248'), ExternalReference(source_name='JobPostingThreat', description='Jay D. Krasnow. (2000, October). The Competitive Intelligence and National Security Threat from Website Job Listings. Retrieved March 16, 2017.')], object_marking_refs=['marking-definition--fa42a846-8d90-4e51-bc29-71d5b4802168'], x_mitre_detectable_by_common_defenses='No', x_mitre_detectable_by_common_defenses_explanation='Impossible to differentiate between an adversary and a normal user when accessing open/public information.', x_mitre_difficulty_for_adversary='Yes', x_mitre_difficulty_for_adversary_explanation=\"Publicly posted information by design.  Providing too much detail in the job posting could aid the adversary in learning more about the target's environment and possible technical weaknesses/deficiencies.\", x_mitre_old_attack_id='PRE-T1025', x_mitre_version='1.0'),\n",
       " AttackPattern(type='attack-pattern', id='attack-pattern--c9fb4451-729d-4771-b205-52c1829f949c', created_by_ref='identity--c78cb6e5-0c4b-4611-8297-d1b8b55e40b5', created='2017-12-14T16:46:06.044Z', modified='2018-10-17T00:14:20.652Z', name='Identify resources required to build capabilities', description='As with legitimate development efforts, different skill sets may be required for different phases of an attack. The skills needed may be located in house, can be developed, or may need to be contracted out. (Citation: APT1)', kill_chain_phases=[KillChainPhase(kill_chain_name='mitre-pre-attack', phase_name='build-capabilities')], external_references=[ExternalReference(source_name='mitre-pre-attack', url='https://attack.mitre.org/techniques/T1348', external_id='T1348'), ExternalReference(source_name='APT1', description='Mandiant. (n.d.). APT1: Exposing One of China’s Cyber Espionage Units. Retrieved March 5, 2017.')], object_marking_refs=['marking-definition--fa42a846-8d90-4e51-bc29-71d5b4802168'], x_mitre_detectable_by_common_defenses='No', x_mitre_detectable_by_common_defenses_explanation='Recruitment is, by its nature, either clandestine or off the record.', x_mitre_difficulty_for_adversary='Yes', x_mitre_difficulty_for_adversary_explanation='Like target organizations, adversary organizations are competing to identify and hire top technical talent.  Training less technical staff is also a viable option.', x_mitre_old_attack_id='PRE-T1125', x_mitre_version='1.0'),\n",
       " AttackPattern(type='attack-pattern', id='attack-pattern--59369f72-3005-4e54-9095-3d00efcece73', created_by_ref='identity--c78cb6e5-0c4b-4611-8297-d1b8b55e40b5', created='2017-12-14T16:46:06.044Z', modified='2018-10-17T00:14:20.652Z', name='Identify supply chains', description='Supply chains include the people, processes, and technologies used to move a product or service from a supplier to a consumer. Understanding supply chains may provide an adversary with opportunities to exploit the people, their positions, and relationships, that are part of the supply chain. (Citation: SmithSupplyChain) (Citation: CERT-UKSupplyChain)', kill_chain_phases=[KillChainPhase(kill_chain_name='mitre-pre-attack', phase_name='people-information-gathering')], external_references=[ExternalReference(source_name='mitre-pre-attack', url='https://attack.mitre.org/techniques/T1265', external_id='T1265'), ExternalReference(source_name='SmithSupplyChain', description='Drew Smith. (2015). Is your supply chain safe from cyberattacks?. Retrieved March 5, 2017.'), ExternalReference(source_name='CERT-UKSupplyChain', description='CERT-UK. (2016, October 01). Cyber-security risks in the supply chain. Retrieved March 5, 2017.')], object_marking_refs=['marking-definition--fa42a846-8d90-4e51-bc29-71d5b4802168'], x_mitre_detectable_by_common_defenses='No', x_mitre_detectable_by_common_defenses_explanation='Searching publicly available sources that cannot be monitored by a defender.', x_mitre_difficulty_for_adversary='No', x_mitre_difficulty_for_adversary_explanation='Requires an intensive process to obtain the full picture.  It is possible to obtain basic information/some aspects via OSINT.  May be easier in certain industries where there are a limited number of suppliers (e.g., SCADA).', x_mitre_old_attack_id='PRE-T1042', x_mitre_version='1.0'),\n",
       " AttackPattern(type='attack-pattern', id='attack-pattern--2c8a9df4-52a9-4770-94b3-5e95ab7d59f9', created_by_ref='identity--c78cb6e5-0c4b-4611-8297-d1b8b55e40b5', created='2017-12-14T16:46:06.044Z', modified='2018-10-17T00:14:20.652Z', name='Leverage compromised 3rd party resources', description=\"This technique has been deprecated. Please see ATT&CK's Initial Access and Execution tactics for replacement techniques.\\n\\nThe utilization of resources not owned by the adversary to launch exploits or operations. This includes utilizing equipment that was previously compromised or leveraging access  gained by other methods (such as compromising an employee at a business partner location). (Citation: CitizenLabGreatCannon)\", kill_chain_phases=[KillChainPhase(kill_chain_name='mitre-pre-attack', phase_name='launch')], external_references=[ExternalReference(source_name='mitre-pre-attack', url='https://attack.mitre.org/techniques/T1375', external_id='T1375'), ExternalReference(source_name='CitizenLabGreatCannon', description='Bill Marczak, Jakub Dalek, John Scott-Railton, Ron Deibert, Sarah McKune. (2015, April 10). China’s Great Cannon. Retrieved March 9, 2017.')], object_marking_refs=['marking-definition--fa42a846-8d90-4e51-bc29-71d5b4802168'], x_mitre_deprecated=True, x_mitre_detectable_by_common_defenses='No', x_mitre_detectable_by_common_defenses_explanation='While possible to detect, it requires a broader vantage point than is typical that provides increased insight and conducts extensive data analysis and correlation between events.', x_mitre_difficulty_for_adversary='No', x_mitre_difficulty_for_adversary_explanation='Conducting technique requires either nation-state level capabilities or large amounts of financing to coordinate multiple 3rd party resources to gain desired insight.', x_mitre_old_attack_id='PRE-T1152', x_mitre_version='1.0'),\n",
       " AttackPattern(type='attack-pattern', id='attack-pattern--90884cdb-31dd-431c-87db-9cc7e03191e5', created_by_ref='identity--c78cb6e5-0c4b-4611-8297-d1b8b55e40b5', created='2017-12-14T16:46:06.044Z', modified='2018-10-17T00:14:20.652Z', name='Network-based hiding techniques', description='Technical network hiding techniques are methods of modifying traffic to evade network signature detection or to utilize misattribution techniques. Examples include channel/IP/VLAN hopping, mimicking legitimate operations, or seeding with misinformation. (Citation: HAMMERTOSS2015)', kill_chain_phases=[KillChainPhase(kill_chain_name='mitre-pre-attack', phase_name='adversary-opsec')], external_references=[ExternalReference(source_name='mitre-pre-attack', url='https://attack.mitre.org/techniques/T1315', external_id='T1315'), ExternalReference(source_name='HAMMERTOSS2015', description='FireEye. (2015, July). HAMMERTOSS: Stealthy Tactics Define a Russian Cyber Threat Group. Retrieved March 6, 2017.')], object_marking_refs=['marking-definition--fa42a846-8d90-4e51-bc29-71d5b4802168'], x_mitre_detectable_by_common_defenses='Yes', x_mitre_detectable_by_common_defenses_explanation='Unless defender is dissecting protocols or performing network signature analysis on any protocol deviations/patterns, this technique is largely undetected.', x_mitre_difficulty_for_adversary='No', x_mitre_difficulty_for_adversary_explanation='Some of the hiding techniques require special accesses (network, proximity, physical, etc.) and/or may rely on knowledge of how the defender operates and/or awareness on what visibility the defender has and how it is obtained', x_mitre_old_attack_id='PRE-T1092', x_mitre_version='1.0'),\n",
       " AttackPattern(type='attack-pattern', id='attack-pattern--9d234df0-2344-4db4-bc0f-8de9c6c071a7', created_by_ref='identity--c78cb6e5-0c4b-4611-8297-d1b8b55e40b5', created='2017-12-14T16:46:06.044Z', modified='2018-10-17T00:14:20.652Z', name='Obfuscate operational infrastructure', description='Obfuscation is hiding the day-to-day building and testing of new tools, chat servers, etc. (Citation: DellComfooMasters)', kill_chain_phases=[KillChainPhase(kill_chain_name='mitre-pre-attack', phase_name='adversary-opsec')], external_references=[ExternalReference(source_name='mitre-pre-attack', url='https://attack.mitre.org/techniques/T1318', external_id='T1318'), ExternalReference(source_name='DellComfooMasters', description='Joe Stewart and Don Jackson, Dell SecureWorks Counter Threat Unit(TM) Threat Intelligence. (2013, July 31). Secrets of the Comfoo Masters. Retrieved March 6, 2017.')], object_marking_refs=['marking-definition--fa42a846-8d90-4e51-bc29-71d5b4802168'], x_mitre_detectable_by_common_defenses='Yes', x_mitre_detectable_by_common_defenses_explanation='While possible to detect given a significant sample size, depending on how the unique identifier is used detection may be difficult as similar patterns may be employed elsewhere (e.g., content hosting providers, account reset URLs).', x_mitre_difficulty_for_adversary='Yes', x_mitre_difficulty_for_adversary_explanation='An adversary can easily generate pseudo-random identifiers to associate with a specific target, include the indicator as part of a URL and then identify which target was successful.', x_mitre_old_attack_id='PRE-T1095', x_mitre_version='1.0'),\n",
       " AttackPattern(type='attack-pattern', id='attack-pattern--46017368-6e09-412b-a29c-385be201cc03', created_by_ref='identity--c78cb6e5-0c4b-4611-8297-d1b8b55e40b5', created='2017-12-14T16:46:06.044Z', modified='2018-10-17T00:14:20.652Z', name='Obtain domain/IP registration information', description='For a computing resource to be accessible to the public, domain names and IP addresses must be registered with an authorized organization. (Citation: Google Domains WHOIS) (Citation: FunAndSun2012) (Citation: Scasny2015)', kill_chain_phases=[KillChainPhase(kill_chain_name='mitre-pre-attack', phase_name='technical-information-gathering')], external_references=[ExternalReference(source_name='mitre-pre-attack', url='https://attack.mitre.org/techniques/T1251', external_id='T1251'), ExternalReference(source_name='Google Domains WHOIS', description='Google Domains. (n.d.). About WHOIS. Retrieved April 2, 2017.'), ExternalReference(source_name='FunAndSun2012', description='Jeff Bardin. (2012, October 10). OSINT and Cyber Intelligence - Fun and Sun in Miami. Retrieved March 1, 2017.'), ExternalReference(source_name='Scasny2015', description='Gregory Scasny. (2015, September 14). Understanding Open Source Intelligence (OSINT) and its relationship to Identity Theft. Retrieved March 1, 2017.')], object_marking_refs=['marking-definition--fa42a846-8d90-4e51-bc29-71d5b4802168'], x_mitre_detectable_by_common_defenses='No', x_mitre_detectable_by_common_defenses_explanation='Open access to DNS registration/routing information is inherent in Internet architecture.', x_mitre_difficulty_for_adversary='Yes', x_mitre_difficulty_for_adversary_explanation='Proliferation of DNS information makes registration information functionally freely available.', x_mitre_old_attack_id='PRE-T1028', x_mitre_version='1.0'),\n",
       " AttackPattern(type='attack-pattern', id='attack-pattern--3160347f-11ac-44a3-9640-a648b3c17a8f', created_by_ref='identity--c78cb6e5-0c4b-4611-8297-d1b8b55e40b5', created='2017-12-14T16:46:06.044Z', modified='2018-10-17T00:14:20.652Z', name='Private whois services', description=\"Every domain registrar maintains a publicly viewable database that displays contact information for every registered domain. Private 'whois' services display alternative information, such as their own company data, rather than the owner of the domain. (Citation: APT1)\", kill_chain_phases=[KillChainPhase(kill_chain_name='mitre-pre-attack', phase_name='adversary-opsec')], external_references=[ExternalReference(source_name='mitre-pre-attack', url='https://attack.mitre.org/techniques/T1305', external_id='T1305'), ExternalReference(source_name='APT1', description='Mandiant. (n.d.). APT1: Exposing One of China’s Cyber Espionage Units. Retrieved March 5, 2017.')], object_marking_refs=['marking-definition--fa42a846-8d90-4e51-bc29-71d5b4802168'], x_mitre_detectable_by_common_defenses='Yes', x_mitre_detectable_by_common_defenses_explanation='Algorithmically possible to detect COTS service usage or use of non-specific mailing addresses (PO Boxes, drop sites, etc.)', x_mitre_difficulty_for_adversary='Yes', x_mitre_difficulty_for_adversary_explanation='Commercially available or easy to set up and/or register using a disposable email account.', x_mitre_old_attack_id='PRE-T1082', x_mitre_version='1.0'),\n",
       " AttackPattern(type='attack-pattern', id='attack-pattern--7863b7f1-c18a-4aad-a6cf-4aa6d8797531', created_by_ref='identity--c78cb6e5-0c4b-4611-8297-d1b8b55e40b5', created='2017-12-14T16:46:06.044Z', modified='2018-10-17T00:14:20.652Z', name='Receive operator KITs/KIQs tasking', description='Analysts may receive intelligence requirements from leadership and begin research process to satisfy a requirement.  Part of this process may include delineating between needs and wants and thinking through all the possible aspects associating with satisfying a requirement. (Citation: FBIIntelligencePrimer)', kill_chain_phases=[KillChainPhase(kill_chain_name='mitre-pre-attack', phase_name='priority-definition-planning')], external_references=[ExternalReference(source_name='mitre-pre-attack', url='https://attack.mitre.org/techniques/T1235', external_id='T1235'), ExternalReference(source_name='FBIIntelligencePrimer', description='FBI. (n.d.). Intelligence Branch: Intelligence Primer. Retrieved March 2, 2017.')], object_marking_refs=['marking-definition--fa42a846-8d90-4e51-bc29-71d5b4802168'], x_mitre_detectable_by_common_defenses='No', x_mitre_detectable_by_common_defenses_explanation='Normally, defender is unable to detect.  Few agencies and commercial organizations may have unique insights.', x_mitre_difficulty_for_adversary='Yes', x_mitre_difficulty_for_adversary_explanation='Normal aspect of adversary planning lifecycle.  May not be done by all adversaries.', x_mitre_old_attack_id='PRE-T1012', x_mitre_version='1.0'),\n",
       " AttackPattern(type='attack-pattern', id='attack-pattern--a16e4004-caac-4a0b-acd5-486f8fda1665', created_by_ref='identity--c78cb6e5-0c4b-4611-8297-d1b8b55e40b5', created='2017-12-14T16:46:06.044Z', modified='2018-10-17T00:14:20.652Z', name='Review logs and residual traces', description='Execution of code and network communications often result in logging or other system or network forensic artifacts. An adversary can run their code to identify what is recorded under different conditions. This may result in changes to their code or adding additional actions (such as deleting a record from a log) to the code. (Citation: EDB-39007) (Citation: infosec-covering-tracks)', kill_chain_phases=[KillChainPhase(kill_chain_name='mitre-pre-attack', phase_name='test-capabilities')], external_references=[ExternalReference(source_name='mitre-pre-attack', url='https://attack.mitre.org/techniques/T1358', external_id='T1358'), ExternalReference(source_name='EDB-39007', description='Tavis Ormandy and Natalie Silvanovich. (2015, December 16). FireEye - Wormable Remote Code Execution in MIP JAR Analysis. Retrieved March 9, 2017.'), ExternalReference(source_name='infosec-covering-tracks', description='Infosec Institute. (2015, September 9). Covering Tracks of Attacks. Retrieved May 9, 2017.')], object_marking_refs=['marking-definition--fa42a846-8d90-4e51-bc29-71d5b4802168'], x_mitre_detectable_by_common_defenses='No', x_mitre_detectable_by_common_defenses_explanation='Adversary controls the test and defender likely has no visibility.', x_mitre_difficulty_for_adversary='Yes', x_mitre_difficulty_for_adversary_explanation='Adversary has full control of environment to determine what level of auditing and traces exist on a system after execution.', x_mitre_old_attack_id='PRE-T1135', x_mitre_version='1.0'),\n",
       " AttackPattern(type='attack-pattern', id='attack-pattern--3f157dee-74f0-41fc-801e-f837b8985b0a', created_by_ref='identity--c78cb6e5-0c4b-4611-8297-d1b8b55e40b5', created='2017-12-14T16:46:06.044Z', modified='2018-10-17T00:14:20.652Z', name='Shadow DNS', description='The process of gathering domain account credentials in order to silently create subdomains pointed at malicious servers without tipping off the actual owner. (Citation: CiscoAngler) (Citation: ProofpointDomainShadowing)', kill_chain_phases=[KillChainPhase(kill_chain_name='mitre-pre-attack', phase_name='establish-&-maintain-infrastructure')], external_references=[ExternalReference(source_name='mitre-pre-attack', url='https://attack.mitre.org/techniques/T1340', external_id='T1340'), ExternalReference(source_name='CiscoAngler', description='Nick Biasini. (2015, March 3). Threat Spotlight: Angler Lurking in the Domain Shadows. Retrieved March 6, 2017.'), ExternalReference(source_name='ProofpointDomainShadowing', description='Proofpoint Staff. (2015, December 15). The shadow knows: Malvertising campaigns use domain shadowing to pull in Angler EK. Retrieved March 6, 2017.')], object_marking_refs=['marking-definition--fa42a846-8d90-4e51-bc29-71d5b4802168'], x_mitre_detectable_by_common_defenses='Partial', x_mitre_detectable_by_common_defenses_explanation='Detection of this technique requires individuals to monitor their domain registrant accounts routinely.  In addition, defenders have had success with blacklisting sites or IP addresses, but an adversary can defeat this by rotating either the subdomains or the IP addresses associated with the campaign.', x_mitre_difficulty_for_adversary='Yes', x_mitre_difficulty_for_adversary_explanation='To successfully conduct this attack, an adversary usually phishes the individual behind the domain registrant account, logs in with credentials, and creates a large amount of subdomains.', x_mitre_old_attack_id='PRE-T1117', x_mitre_version='1.0'),\n",
       " AttackPattern(type='attack-pattern', id='attack-pattern--03da0598-ed46-4a73-bf43-0313b3522400', created_by_ref='identity--c78cb6e5-0c4b-4611-8297-d1b8b55e40b5', created='2017-12-14T16:46:06.044Z', modified='2018-10-17T00:14:20.652Z', name='Submit KITs, KIQs, and intelligence requirements', description='Once they have been created, intelligence requirements, Key Intelligence Topics (KITs), and Key Intelligence Questions (KIQs) are submitted into a central management system. (Citation: ICD204) (Citation: KIT-Herring)', kill_chain_phases=[KillChainPhase(kill_chain_name='mitre-pre-attack', phase_name='priority-definition-direction')], external_references=[ExternalReference(source_name='mitre-pre-attack', url='https://attack.mitre.org/techniques/T1237', external_id='T1237'), ExternalReference(source_name='ICD204', description='Office of the Director of National Intelligence. (2015, January 02).  Retrieved March 5, 2017.'), ExternalReference(source_name='KIT-Herring', description='Jan P. Herring. (1999). Key Intelligence Topics: A Process to Identify and Define Intelligence Needs. Retrieved May 19, 2017.')], object_marking_refs=['marking-definition--fa42a846-8d90-4e51-bc29-71d5b4802168'], x_mitre_detectable_by_common_defenses='No', x_mitre_detectable_by_common_defenses_explanation='Normally, defender is unable to detect.  Few agencies and commercial organizations may have unique insights.', x_mitre_difficulty_for_adversary='Yes', x_mitre_difficulty_for_adversary_explanation='Normal aspect of adversary planning lifecycle.  May not be done by all adversaries.', x_mitre_old_attack_id='PRE-T1014', x_mitre_version='1.0'),\n",
       " AttackPattern(type='attack-pattern', id='attack-pattern--0649fc36-72a0-40a0-a2f9-3fc7e3231ad6', created_by_ref='identity--c78cb6e5-0c4b-4611-8297-d1b8b55e40b5', created='2017-12-14T16:46:06.044Z', modified='2018-10-17T00:14:20.652Z', name='Test callback functionality', description='Callbacks are malware communications seeking instructions. An adversary will test their malware to ensure the appropriate instructions are conveyed and the callback software can be reached. (Citation: LeeBeaconing)', kill_chain_phases=[KillChainPhase(kill_chain_name='mitre-pre-attack', phase_name='test-capabilities')], external_references=[ExternalReference(source_name='mitre-pre-attack', url='https://attack.mitre.org/techniques/T1356', external_id='T1356'), ExternalReference(source_name='LeeBeaconing', description='Tony Lee. (2012, December 11). Testing Your Defenses - Beaconing. Retrieved March 9, 2017.')], object_marking_refs=['marking-definition--fa42a846-8d90-4e51-bc29-71d5b4802168'], x_mitre_detectable_by_common_defenses='No', x_mitre_detectable_by_common_defenses_explanation='Adversary controls the test and defender likely has no visibility.', x_mitre_difficulty_for_adversary='Yes', x_mitre_difficulty_for_adversary_explanation=\"Adversary controls or acquires all pieces of infrastructure and can test outside of defender's visibility.\", x_mitre_old_attack_id='PRE-T1133', x_mitre_version='1.0'),\n",
       " AttackPattern(type='attack-pattern', id='attack-pattern--c9ac5715-ee5c-4380-baf4-6f12e304ca93', created_by_ref='identity--c78cb6e5-0c4b-4611-8297-d1b8b55e40b5', created='2017-12-14T16:46:06.044Z', modified='2018-10-17T00:14:20.652Z', name='Test signature detection for file upload/email filters', description='An adversary can test their planned method of attack against existing security products such as email filters or intrusion detection sensors (IDS). (Citation: WiredVirusTotal)', kill_chain_phases=[KillChainPhase(kill_chain_name='mitre-pre-attack', phase_name='test-capabilities')], external_references=[ExternalReference(source_name='mitre-pre-attack', url='https://attack.mitre.org/techniques/T1361', external_id='T1361'), ExternalReference(source_name='WiredVirusTotal', description='Kim Zetter. (14, September 2). A Google Site Meant to Protect You Is Helping Hackers Attack You. Retrieved March 9, 2017.')], object_marking_refs=['marking-definition--fa42a846-8d90-4e51-bc29-71d5b4802168'], x_mitre_detectable_by_common_defenses='Yes', x_mitre_detectable_by_common_defenses_explanation=\"Use of sites like [https://www.virustotal.com VirusTotal] to test signature detection often occurs to test detection.  Defender can also look for newly added uploads as a precursor to an adversary's launch of an attack.\", x_mitre_difficulty_for_adversary='Yes', x_mitre_difficulty_for_adversary_explanation='Current open source technologies and websites exist to facilitate adversary testing of malware against signatures.', x_mitre_old_attack_id='PRE-T1138', x_mitre_version='1.0'),\n",
       " AttackPattern(type='attack-pattern', id='attack-pattern--616238cb-990b-4c71-8f50-d8b10ed8ce6b', created_by_ref='identity--c78cb6e5-0c4b-4611-8297-d1b8b55e40b5', created='2017-12-14T16:46:06.044Z', modified='2018-10-17T00:14:20.652Z', name='Use multiple DNS infrastructures', description='A technique used by the adversary similar to Dynamic DNS with the exception that the use of multiple DNS infrastructures likely have whois records. (Citation: KrebsStLouisFed)', kill_chain_phases=[KillChainPhase(kill_chain_name='mitre-pre-attack', phase_name='establish-&-maintain-infrastructure')], external_references=[ExternalReference(source_name='mitre-pre-attack', url='https://attack.mitre.org/techniques/T1327', external_id='T1327'), ExternalReference(source_name='KrebsStLouisFed', description='Brian Krebs. (2015, May 18). St. Louis Federal Reserve Suffers DNS Breach. Retrieved March 6, 2017.')], object_marking_refs=['marking-definition--fa42a846-8d90-4e51-bc29-71d5b4802168'], x_mitre_detectable_by_common_defenses='Partial', x_mitre_detectable_by_common_defenses_explanation='This is by design captured in public registration logs.  Various tools and services exist to track/query/monitor domain name registration information.  However, tracking multiple DNS infrastructures will likely require multiple tools/services or more advanced analytics.', x_mitre_difficulty_for_adversary='Yes', x_mitre_difficulty_for_adversary_explanation='Requires more planning, but feasible.', x_mitre_old_attack_id='PRE-T1104', x_mitre_version='1.0'),\n",
       " AttackPattern(type='attack-pattern', id='attack-pattern--784ff1bc-1483-41fe-a172-4cd9ae25c06b', created_by_ref='identity--c78cb6e5-0c4b-4611-8297-d1b8b55e40b5', created='2017-12-14T16:46:06.044Z', modified='2018-10-17T00:14:20.652Z', name='Acquire OSINT data sets and information', description='Open source intelligence (OSINT) is intelligence gathered from publicly available sources. This can include both information gathered on-line, such as from search engines, as well as in the physical world. (Citation: RSA-APTRecon)', kill_chain_phases=[KillChainPhase(kill_chain_name='mitre-pre-attack', phase_name='technical-information-gathering')], external_references=[ExternalReference(source_name='mitre-pre-attack', url='https://attack.mitre.org/techniques/T1247', external_id='T1247'), ExternalReference(source_name='RSA-APTRecon', description='Rotem Kerner. (2015, October). RECONNAISSANCE: A Walkthrough of the “APT” Intelligence Gathering Process. Retrieved March 1, 2017.')], object_marking_refs=['marking-definition--fa42a846-8d90-4e51-bc29-71d5b4802168'], x_mitre_detectable_by_common_defenses='No', x_mitre_detectable_by_common_defenses_explanation='This activity is indistinguishable from legitimate business uses and easy to obtain.  Direct access to the selected target is not required for the adversary to conduct this technique.  There is a limited ability to detect this by looking at referrer fields on local web site accesses (e.g., a person who has accessed your web servers from [https://www.shodan.io Shodan]).', x_mitre_difficulty_for_adversary='Yes', x_mitre_difficulty_for_adversary_explanation='Possible to gather technical intelligence about Internet accessible systems/devices by obtaining various commercial data sets and supporting business intelligence tools for ease of analysis.  Commercial data set examples include advertising content delivery networks, Internet mapping/traffic collections, system fingerprinting data sets, device fingerprinting data sets, etc.', x_mitre_old_attack_id='PRE-T1024', x_mitre_version='1.0'),\n",
       " AttackPattern(type='attack-pattern', id='attack-pattern--488da8ed-2887-4ef6-a39a-5b69bc6682c6', created_by_ref='identity--c78cb6e5-0c4b-4611-8297-d1b8b55e40b5', created='2017-12-14T16:46:06.044Z', modified='2018-10-17T00:14:20.652Z', name='Acquire and/or use 3rd party software services', description='A wide variety of 3rd party software services  are available (e.g., [Twitter](https://twitter.com), [Dropbox](https://www.dropbox.com), [GoogleDocs](https://www.google.com/docs/about)). Use of these solutions allow an adversary to stage, launch, and execute an attack from infrastructure that does not physically tie back to them and can be rapidly provisioned, modified, and shut down. (Citation: LOWBALL2015)', kill_chain_phases=[KillChainPhase(kill_chain_name='mitre-pre-attack', phase_name='establish-&-maintain-infrastructure')], external_references=[ExternalReference(source_name='mitre-pre-attack', url='https://attack.mitre.org/techniques/T1330', external_id='T1330'), ExternalReference(source_name='LOWBALL2015', description='FireEye Threat Intelligence. (2015, December 1). China-based Cyber Threat Group Uses Dropbox for Malware Communications and Targets Hong Kong Media Outlets. Retrieved March 1, 2017.')], object_marking_refs=['marking-definition--fa42a846-8d90-4e51-bc29-71d5b4802168'], x_mitre_detectable_by_common_defenses='No', x_mitre_detectable_by_common_defenses_explanation='Defender will not have visibility over account creation for 3rd party software services.', x_mitre_difficulty_for_adversary='Yes', x_mitre_difficulty_for_adversary_explanation='3rd party services like these listed are freely available.', x_mitre_old_attack_id='PRE-T1107', x_mitre_version='1.0'),\n",
       " AttackPattern(type='attack-pattern', id='attack-pattern--87775365-2081-4b6e-99bd-48a3b8f36563', created_by_ref='identity--c78cb6e5-0c4b-4611-8297-d1b8b55e40b5', created='2017-12-14T16:46:06.044Z', modified='2018-10-17T00:14:20.652Z', name='Analyze architecture and configuration posture', description='An adversary may analyze technical scanning results to identify weaknesses in the configuration or architecture of a victim network. These weaknesses could include  architectural flaws, misconfigurations, or improper security controls. (Citation: FireEyeAPT28)', kill_chain_phases=[KillChainPhase(kill_chain_name='mitre-pre-attack', phase_name='technical-weakness-identification')], external_references=[ExternalReference(source_name='mitre-pre-attack', url='https://attack.mitre.org/techniques/T1288', external_id='T1288'), ExternalReference(source_name='FireEyeAPT28', description='FireEye, Inc. (2014). APT 28: A Window into Russia’s Cyber Espionage Operations?. Retrieved March 1, 2017.')], object_marking_refs=['marking-definition--fa42a846-8d90-4e51-bc29-71d5b4802168'], x_mitre_detectable_by_common_defenses='No', x_mitre_detectable_by_common_defenses_explanation='This can be done offline after the data has been collected.', x_mitre_difficulty_for_adversary='Yes', x_mitre_difficulty_for_adversary_explanation='Many of the common tools highlight these weakness automatically.', x_mitre_old_attack_id='PRE-T1065', x_mitre_version='1.0'),\n",
       " AttackPattern(type='attack-pattern', id='attack-pattern--092f05e3-f7c0-4cd2-91be-3a8d6ed3cadc', created_by_ref='identity--c78cb6e5-0c4b-4611-8297-d1b8b55e40b5', created='2017-12-14T16:46:06.044Z', modified='2018-10-17T00:14:20.652Z', name='Analyze organizational skillsets and deficiencies', description='Analyze strengths and weaknesses of the target for potential areas of where to focus compromise efforts. (Citation: FakeLinkedIn)', kill_chain_phases=[KillChainPhase(kill_chain_name='mitre-pre-attack', phase_name='technical-weakness-identification')], external_references=[ExternalReference(source_name='mitre-pre-attack', url='https://attack.mitre.org/techniques/T1289', external_id='T1289'), ExternalReference(source_name='FakeLinkedIn', description='LIFARS. (2015, October 8). Hackers Fake LinkedIn Profiles to Scout Targets. Retrieved March 5, 2017.')], object_marking_refs=['marking-definition--fa42a846-8d90-4e51-bc29-71d5b4802168'], x_mitre_detectable_by_common_defenses='No', x_mitre_detectable_by_common_defenses_explanation='This can be done offline after the data has been collected.', x_mitre_difficulty_for_adversary='Yes', x_mitre_difficulty_for_adversary_explanation='Job postings and hiring requisitions have to be made public for contractors and many times have the name of the organization being supported.  In addition, they outline the skills needed to do a particular job, which can provide insight into the technical structure and organization of a target.', x_mitre_old_attack_id='PRE-T1066', x_mitre_version='1.0'),\n",
       " AttackPattern(type='attack-pattern', id='attack-pattern--ae85ba2f-27ea-42d9-b42a-0fe89ee19ed5', created_by_ref='identity--c78cb6e5-0c4b-4611-8297-d1b8b55e40b5', created='2017-12-14T16:46:06.044Z', modified='2018-10-17T00:14:20.652Z', name='Assess KITs/KIQs benefits', description='Key Intelligence Topics (KITs) and Key Intelligence Questions (KIQs) may be further subdivided to focus on political, economic, diplomatic, military, financial, or intellectual property categories.  An adversary may specify KITs or KIQs in this manner in order to understand how the information they are pursuing can have multiple uses and to consider all aspects of the types of information they need to target for a particular purpose. (Citation: CompetitiveIntelligence) (Citation: CompetitiveIntelligence)KIT.', kill_chain_phases=[KillChainPhase(kill_chain_name='mitre-pre-attack', phase_name='priority-definition-planning')], external_references=[ExternalReference(source_name='mitre-pre-attack', url='https://attack.mitre.org/techniques/T1229', external_id='T1229'), ExternalReference(source_name='CompetitiveIntelligence', description='Matt H. Evans. (n.d.). Course 12: Competitive Intelligence (Part 2 of 2). Retrieved March 2, 2017.')], object_marking_refs=['marking-definition--fa42a846-8d90-4e51-bc29-71d5b4802168'], x_mitre_detectable_by_common_defenses='No', x_mitre_detectable_by_common_defenses_explanation='Normally, defender is unable to detect.  Few agencies and commercial organizations may have unique insights.', x_mitre_difficulty_for_adversary='Yes', x_mitre_difficulty_for_adversary_explanation='Normal aspect of adversary planning lifecycle.  May not be done by all adversaries.', x_mitre_old_attack_id='PRE-T1006', x_mitre_version='1.0'),\n",
       " AttackPattern(type='attack-pattern', id='attack-pattern--d69c3e06-8311-4093-8e3e-0a8e06b15d92', created_by_ref='identity--c78cb6e5-0c4b-4611-8297-d1b8b55e40b5', created='2017-12-14T16:46:06.044Z', modified='2018-10-17T00:14:20.652Z', name='Assess targeting options', description=\"An adversary may assess a target's operational security (OPSEC) practices in order to identify targeting options. A target may share different information in different settings or be more of less cautious in different environments. (Citation: Scasny2015) (Citation: EverstineAirStrikes)\", kill_chain_phases=[KillChainPhase(kill_chain_name='mitre-pre-attack', phase_name='people-weakness-identification')], external_references=[ExternalReference(source_name='mitre-pre-attack', url='https://attack.mitre.org/techniques/T1296', external_id='T1296'), ExternalReference(source_name='Scasny2015', description='Gregory Scasny. (2015, September 14). Understanding Open Source Intelligence (OSINT) and its relationship to Identity Theft. Retrieved March 1, 2017.'), ExternalReference(source_name='EverstineAirStrikes', description=\"Brian Everstine. (2015, June 04). Carlisle: Air Force intel uses ISIS 'moron's' social media posts to target airstrikes. Retrieved March 9, 2017.\")], object_marking_refs=['marking-definition--fa42a846-8d90-4e51-bc29-71d5b4802168'], x_mitre_detectable_by_common_defenses='No', x_mitre_detectable_by_common_defenses_explanation=\"Defender does not have access to information stored outside of defenders scope or visibility (e.g., log data for Facebook is not easily accessible).  Defender has very infrequent visibility into an adversary's more detailed TTPs for developing people targets.\", x_mitre_difficulty_for_adversary='Yes', x_mitre_difficulty_for_adversary_explanation='Information is out in the open for items that are available - part of this is ease of use for consumers to support the expected networking use case.  OSINT can provide many avenues to gather intel which contain weaknesses.  Developing and refining the methodology to exploit weak human targets has been done for years (e.g., spies).', x_mitre_old_attack_id='PRE-T1073', x_mitre_version='1.0'),\n",
       " AttackPattern(type='attack-pattern', id='attack-pattern--0440f60f-9056-4791-a740-8eae96eb61fa', created_by_ref='identity--c78cb6e5-0c4b-4611-8297-d1b8b55e40b5', created='2017-12-14T16:46:06.044Z', modified='2018-10-17T00:14:20.652Z', name='Authorized user performs requested cyber action', description=\"This technique has been deprecated. Please see ATT&CK's Initial Access and Execution tactics for replacement techniques.\\n\\nClicking on links in email, opening attachments, or visiting websites that result in drive by downloads can all result in compromise due to users performing actions of a cyber nature. (Citation: AnonHBGary)\", kill_chain_phases=[KillChainPhase(kill_chain_name='mitre-pre-attack', phase_name='compromise')], external_references=[ExternalReference(source_name='mitre-pre-attack', url='https://attack.mitre.org/techniques/T1386', external_id='T1386'), ExternalReference(source_name='AnonHBGary', description='PETER BRIGHT. (2011, February 15). Anonymous speaks: the inside story of the HBGary hack. Retrieved March 9, 2017.')], object_marking_refs=['marking-definition--fa42a846-8d90-4e51-bc29-71d5b4802168'], x_mitre_deprecated=True, x_mitre_detectable_by_common_defenses='Yes', x_mitre_detectable_by_common_defenses_explanation='Some environments have anti-spearphishing mechanisms to detect or block the link before it reaches the user.', x_mitre_difficulty_for_adversary='Yes', x_mitre_difficulty_for_adversary_explanation='Users unwittingly click on spearphishing links frequently, despite training designed to educate about the perils of spearphishing.', x_mitre_old_attack_id='PRE-T1163', x_mitre_version='1.0'),\n",
       " AttackPattern(type='attack-pattern', id='attack-pattern--45242287-2964-4a3e-9373-159fad4d8195', created_by_ref='identity--c78cb6e5-0c4b-4611-8297-d1b8b55e40b5', created='2017-12-14T16:46:06.044Z', modified='2018-10-17T00:14:20.652Z', name='Buy domain name', description='Domain Names are the human readable names used to represent one or more IP addresses. They can be purchased or, in some cases, acquired for free. (Citation: PWCSofacy2014)', kill_chain_phases=[KillChainPhase(kill_chain_name='mitre-pre-attack', phase_name='establish-&-maintain-infrastructure')], external_references=[ExternalReference(source_name='mitre-pre-attack', url='https://attack.mitre.org/techniques/T1328', external_id='T1328'), ExternalReference(source_name='PWCSofacy2014', description='Tom Lancaster and Michael Yip. (2014, December 05). APT28: Sofacy? So-funny.. Retrieved March 6, 2017.')], object_marking_refs=['marking-definition--fa42a846-8d90-4e51-bc29-71d5b4802168'], x_mitre_detectable_by_common_defenses='Yes', x_mitre_detectable_by_common_defenses_explanation='This is by design captured in public registration logs.  Various tools and services exist to track/query/monitor domain name registration information.', x_mitre_difficulty_for_adversary='Yes', x_mitre_difficulty_for_adversary_explanation='Proliferation of DNS TLDs and registrars.  Adversary may choose domains that are similar to legitimate domains (aka \"domain typosquatting\" or homoglyphs).', x_mitre_old_attack_id='PRE-T1105', x_mitre_version='1.0'),\n",
       " AttackPattern(type='attack-pattern', id='attack-pattern--4900fabf-1142-4c1f-92f5-0b590e049077', created_by_ref='identity--c78cb6e5-0c4b-4611-8297-d1b8b55e40b5', created='2017-12-14T16:46:06.044Z', modified='2018-10-17T00:14:20.652Z', name='Compromise 3rd party infrastructure to support delivery', description='Instead of buying, leasing, or renting infrastructure an adversary may compromise infrastructure and use it for some or all of the attack cycle. (Citation: WateringHole2014) (Citation: FireEye Operation SnowMan)', kill_chain_phases=[KillChainPhase(kill_chain_name='mitre-pre-attack', phase_name='adversary-opsec')], external_references=[ExternalReference(source_name='mitre-pre-attack', url='https://attack.mitre.org/techniques/T1312', external_id='T1312'), ExternalReference(source_name='WateringHole2014', description='Pierluigi Paganini. (2014, February 15). FireEye discovered a new watering hole attack based on 0-day exploit. Retrieved March 1, 2017.'), ExternalReference(source_name='FireEye Operation SnowMan', description='Darien Kindlund, Xiaobo Chen, Mike Scott, Ned Moran, Dan Caselden. (2014, February 13). Operation SnowMan: DeputyDog Actor Compromises US Veterans of Foreign Wars Website. Retrieved March 28, 2017.')], object_marking_refs=['marking-definition--fa42a846-8d90-4e51-bc29-71d5b4802168'], x_mitre_detectable_by_common_defenses='No', x_mitre_detectable_by_common_defenses_explanation='Defender will not have visibility on 3rd party sites unless target is successfully enticed to visit one.', x_mitre_difficulty_for_adversary='Yes', x_mitre_difficulty_for_adversary_explanation='Commonly used technique currently (e.g., [https://www.wordpress.com WordPress] sites) as precursor activity to launching attack against intended target (e.g., acquiring botnet or layers of proxies for reducing attribution possibilities).', x_mitre_old_attack_id='PRE-T1089', x_mitre_version='1.0'),\n",
       " AttackPattern(type='attack-pattern', id='attack-pattern--51bca707-a806-49bf-91e0-03885b0ac85c', created_by_ref='identity--c78cb6e5-0c4b-4611-8297-d1b8b55e40b5', created='2017-12-14T16:46:06.044Z', modified='2019-02-05T23:14:31.793Z', name='Conduct cost/benefit analysis', description='Leadership conducts a cost/benefit analysis that generates a compelling need for information gathering which triggers a Key Intelligence Toptic (KIT) or Key Intelligence Question (KIQ). For example, an adversary compares the cost of cyber intrusions with the expected benefits from increased intelligence collection on cyber adversaries. (Citation: LowenthalCh4) (Citation: KIT-Herring)', kill_chain_phases=[KillChainPhase(kill_chain_name='mitre-pre-attack', phase_name='priority-definition-planning')], external_references=[ExternalReference(source_name='mitre-pre-attack', url='https://attack.mitre.org/techniques/T1226', external_id='T1226'), ExternalReference(source_name='LowenthalCh4', description='Mark M. Lowenthal. (n.d.). Ch 4: The Intelligence Process--A Macro Look; Who Does What for Whome?, Intelligence: From Secrets to Policy. Retrieved March 2, 2017.'), ExternalReference(source_name='KIT-Herring', description='Jan P. Herring. (1999). Key Intelligence Topics: A Process to Identify and Define Intelligence Needs. Retrieved May 19, 2017.')], object_marking_refs=['marking-definition--fa42a846-8d90-4e51-bc29-71d5b4802168'], x_mitre_detectable_by_common_defenses='No', x_mitre_detectable_by_common_defenses_explanation='Normally, defender is unable to detect.  Few agencies and commercial organizations may have unique insights.', x_mitre_difficulty_for_adversary='Yes', x_mitre_difficulty_for_adversary_explanation='Normal aspect of adversary planning lifecycle.  May not be done by all adversaries.', x_mitre_old_attack_id='PRE-T1003', x_mitre_version='1.0'),\n",
       " AttackPattern(type='attack-pattern', id='attack-pattern--b79a1960-d0be-4b51-bb62-b27e91e1dea0', created_by_ref='identity--c78cb6e5-0c4b-4611-8297-d1b8b55e40b5', created='2017-12-14T16:46:06.044Z', modified='2018-10-17T00:14:20.652Z', name='Conduct social engineering or HUMINT operation', description=\"This technique has been deprecated. Please see ATT&CK's Initial Access and Execution tactics for replacement techniques.\\n\\nSocial Engineering is the practice of manipulating people in order to get them to divulge information or take an action. Human Intelligence (HUMINT) is intelligence collected and provided by human sources. (Citation: 17millionScam) (Citation: UbiquityEmailScam)\", kill_chain_phases=[KillChainPhase(kill_chain_name='mitre-pre-attack', phase_name='launch')], external_references=[ExternalReference(source_name='mitre-pre-attack', url='https://attack.mitre.org/techniques/T1376', external_id='T1376'), ExternalReference(source_name='17millionScam', description='Chris Johnston. (2015, February 5). Company loses $17m in email scam. Retrieved March 9, 2017.'), ExternalReference(source_name='UbiquityEmailScam', description='Robert Hackett. (2015, August 10). Fraudsters duped this company into handing over $40 million. Retrieved March 9, 2017.')], object_marking_refs=['marking-definition--fa42a846-8d90-4e51-bc29-71d5b4802168'], x_mitre_deprecated=True, x_mitre_detectable_by_common_defenses='No', x_mitre_detectable_by_common_defenses_explanation=\"Assuming an average company does not train its employees to be aware of social engineering techniques, it is not possible to detect the adversary's use unless a highly motivated or paranoid employee informs security.  This assessment flips to a 1 in cases of environments where security trains employees to be vigilant or in specialized industries where competitive intelligence and business intelligence train employees to be highly aware.  Most likely more complex for an adversary to detect as methods move to physical or non traditionally monitored mechanisms (such as phone calls outside of call centers).  Furthermore, the content of such an interaction may be lost due to lack of collection.\", x_mitre_difficulty_for_adversary='Yes', x_mitre_difficulty_for_adversary_explanation='Assuming an average adversary whose focus is social engineering, it is not difficult for an adversary.  Assuming a HUMINT operation and specialized circumstances, the adversary difficulty becomes 1.   Social engineering can be easily done remotely via email or phone.  In contrast, HUMINT operations typically would require physical contact at some point in the process, increasing the difficulty.', x_mitre_old_attack_id='PRE-T1153', x_mitre_version='1.0'),\n",
       " AttackPattern(type='attack-pattern', id='attack-pattern--eacadff4-164b-451c-bacc-7b29ebfd0c3f', created_by_ref='identity--c78cb6e5-0c4b-4611-8297-d1b8b55e40b5', created='2017-12-14T16:46:06.044Z', modified='2018-10-17T00:14:20.652Z', name='Create infected removable media', description='Use of removable media as part of the Launch phase requires an adversary to determine type, format, and content of the media and associated malware. (Citation: BadUSB)', kill_chain_phases=[KillChainPhase(kill_chain_name='mitre-pre-attack', phase_name='build-capabilities')], external_references=[ExternalReference(source_name='mitre-pre-attack', url='https://attack.mitre.org/techniques/T1355', external_id='T1355'), ExternalReference(source_name='BadUSB', description='Security Research labs. (n.d.). BadUSB Exposure. Retrieved March 9, 2017.')], object_marking_refs=['marking-definition--fa42a846-8d90-4e51-bc29-71d5b4802168'], x_mitre_detectable_by_common_defenses='No', x_mitre_detectable_by_common_defenses_explanation='Adversary will likely use code repositories, but development will be performed on their local systems.', x_mitre_difficulty_for_adversary='Yes', x_mitre_difficulty_for_adversary_explanation='Several exploit repositories and tool suites exist for re-use and tailoring.', x_mitre_old_attack_id='PRE-T1132', x_mitre_version='1.0'),\n",
       " AttackPattern(type='attack-pattern', id='attack-pattern--1ff8b824-5287-4583-ab6a-013bf36d4864', created_by_ref='identity--c78cb6e5-0c4b-4611-8297-d1b8b55e40b5', created='2017-12-14T16:46:06.044Z', modified='2018-10-17T00:14:20.652Z', name='Data Hiding', description='Certain types of traffic (e.g., DNS tunneling, header inject) allow for user-defined fields. These fields can then be used to hide data. In addition to hiding data in network protocols, steganography techniques can be used to hide data in images or other file formats. Detection can be difficult unless a particular signature is already known. (Citation: BotnetsDNSC2) (Citation: HAMMERTOSS2015) (Citation: DNS-Tunnel)', kill_chain_phases=[KillChainPhase(kill_chain_name='mitre-pre-attack', phase_name='adversary-opsec')], external_references=[ExternalReference(source_name='mitre-pre-attack', url='https://attack.mitre.org/techniques/T1320', external_id='T1320'), ExternalReference(source_name='BotnetsDNSC2', description='Christian J. Dietrich,  Christian Rossow, Felix C. Freiling, Herbert Bos, Maarten van Steen, Norbert Pohlmann. (2011). On Botnets that use DNS for Command and Control. Retrieved March 6, 2017.'), ExternalReference(source_name='HAMMERTOSS2015', description='FireEye. (2015, July). HAMMERTOSS: Stealthy Tactics Define a Russian Cyber Threat Group. Retrieved March 6, 2017.'), ExternalReference(source_name='DNS-Tunnel', description='Alexey Shulmi and Sergey Yunakovsky. (2017, April 28). Use of DNS Tunneling for C&C Communications. Retrieved May 9, 2017.')], object_marking_refs=['marking-definition--fa42a846-8d90-4e51-bc29-71d5b4802168'], x_mitre_detectable_by_common_defenses='Yes', x_mitre_detectable_by_common_defenses_explanation='Unless defender is dissecting protocols or performing network signature analysis on any protocol deviations/patterns, this technique is largely undetected.', x_mitre_difficulty_for_adversary='No', x_mitre_difficulty_for_adversary_explanation='This technique requires a more advanced protocol understanding and testing to insert covert communication into legitimate protocol fields.', x_mitre_old_attack_id='PRE-T1097', x_mitre_version='1.0'),\n",
       " AttackPattern(type='attack-pattern', id='attack-pattern--d45fe3c2-0688-43b9-ac07-7eb86f575e93', created_by_ref='identity--c78cb6e5-0c4b-4611-8297-d1b8b55e40b5', created='2017-12-14T16:46:06.044Z', modified='2018-10-17T00:14:20.652Z', name='Determine approach/attack vector', description='The approach or attack vector outlines the specifics behind how the adversary would like to attack the target.  As additional information is known through the other phases of PRE-ATT&CK, an adversary may update the approach or attack vector. (Citation: CyberAdversaryBehavior) (Citation: WITCHCOVEN2015) (Citation: JP3-60) (Citation: JP3-12R) (Citation: DoD Cyber 2015)', kill_chain_phases=[KillChainPhase(kill_chain_name='mitre-pre-attack', phase_name='target-selection')], external_references=[ExternalReference(source_name='mitre-pre-attack', url='https://attack.mitre.org/techniques/T1245', external_id='T1245'), ExternalReference(source_name='CyberAdversaryBehavior', description='Elizabeth Van Ruitenbeek, Ken Keefe, William H. Sanders, and Carol Muehrcke. (2010). Characterizing the Behavior of Cyber Adversaries: The Means, Motive, and Opportunity of Cyberattacks. Retrieved March 5, 2017.'), ExternalReference(source_name='WITCHCOVEN2015', description='Jonathan Wrolstad and Barry Vengerik. (2015, November). Pinpointing Targets: Exploiting Web Analytics to Ensnare Victims. Retrieved March 5, 2017.'), ExternalReference(source_name='JP3-60', description='Joint Chiefs of Staff. (2013, January 31). Joint Targeting. Retrieved May 19, 2017.'), ExternalReference(source_name='JP3-12R', description='Joint Chiefs of Staff. (2013, February 5). Cyberspace Operations. Retrieved May 19, 2017.'), ExternalReference(source_name='DoD Cyber 2015', description='Department of Defense. (2015, April). The Department of Defense Cyber Strategy. Retrieved May 19, 2017.')], object_marking_refs=['marking-definition--fa42a846-8d90-4e51-bc29-71d5b4802168'], x_mitre_detectable_by_common_defenses='No', x_mitre_detectable_by_common_defenses_explanation='Normally, defender is unable to detect.  May change for special use cases or adversary and defender overlays.', x_mitre_difficulty_for_adversary='Yes', x_mitre_difficulty_for_adversary_explanation='This is the normal adversary targeting cycle where they utilize our poor OPSEC practices to their advantage.', x_mitre_old_attack_id='PRE-T1022', x_mitre_version='1.0'),\n",
       " AttackPattern(type='attack-pattern', id='attack-pattern--dc7dfc9f-be1b-4e6e-a2e6-9a9bb2400ec9', created_by_ref='identity--c78cb6e5-0c4b-4611-8297-d1b8b55e40b5', created='2017-12-14T16:46:06.044Z', modified='2018-10-17T00:14:20.652Z', name='Determine highest level tactical element', description='From a tactical viewpoint, an adversary could potentially have a primary and secondary level target.  The primary target represents the highest level tactical element the adversary wishes to attack.  For example, the corporate network within a corporation or the division within an agency. (Citation: CyberAdversaryBehavior) (Citation: JP3-60) (Citation: JP3-12R) (Citation: DoD Cyber 2015)', kill_chain_phases=[KillChainPhase(kill_chain_name='mitre-pre-attack', phase_name='target-selection')], external_references=[ExternalReference(source_name='mitre-pre-attack', url='https://attack.mitre.org/techniques/T1243', external_id='T1243'), ExternalReference(source_name='CyberAdversaryBehavior', description='Elizabeth Van Ruitenbeek, Ken Keefe, William H. Sanders, and Carol Muehrcke. (2010). Characterizing the Behavior of Cyber Adversaries: The Means, Motive, and Opportunity of Cyberattacks. Retrieved March 5, 2017.'), ExternalReference(source_name='JP3-60', description='Joint Chiefs of Staff. (2013, January 31). Joint Targeting. Retrieved May 19, 2017.'), ExternalReference(source_name='JP3-12R', description='Joint Chiefs of Staff. (2013, February 5). Cyberspace Operations. Retrieved May 19, 2017.'), ExternalReference(source_name='DoD Cyber 2015', description='Department of Defense. (2015, April). The Department of Defense Cyber Strategy. Retrieved May 19, 2017.')], object_marking_refs=['marking-definition--fa42a846-8d90-4e51-bc29-71d5b4802168'], x_mitre_detectable_by_common_defenses='No', x_mitre_detectable_by_common_defenses_explanation='Normally, defender is unable to detect.  May change for special use cases or adversary and defender overlays.', x_mitre_difficulty_for_adversary='Yes', x_mitre_difficulty_for_adversary_explanation='This is the normal adversary targeting cycle where they utilize our poor OPSEC practices to their advantage.', x_mitre_old_attack_id='PRE-T1020', x_mitre_version='1.0'),\n",
       " AttackPattern(type='attack-pattern', id='attack-pattern--6063b486-a247-499b-976a-9de16f4e83bc', created_by_ref='identity--c78cb6e5-0c4b-4611-8297-d1b8b55e40b5', created='2017-12-14T16:46:06.044Z', modified='2018-10-17T00:14:20.652Z', name='Develop KITs/KIQs', description=\"Leadership derives Key Intelligence Topics (KITs) and Key Intelligence Questions (KIQs) from the areas of most interest to them.  KITs are an expression of management's intelligence needs with respect to early warning, strategic and operational decisions, knowing the competition, and understanding the competitive situation. KIQs are the critical questions aligned by KIT which provide the basis for collection plans, create a context for analytic work, and/or identify necessary external operations. (Citation: Herring1999)\", kill_chain_phases=[KillChainPhase(kill_chain_name='mitre-pre-attack', phase_name='priority-definition-planning')], external_references=[ExternalReference(source_name='mitre-pre-attack', url='https://attack.mitre.org/techniques/T1227', external_id='T1227'), ExternalReference(source_name='Herring1999', description='Jan P. Herring. (1999). Key Intelligence Topics: A Process to Identify and Define Intelligence Needs. Retrieved March 2, 2017.')], object_marking_refs=['marking-definition--fa42a846-8d90-4e51-bc29-71d5b4802168'], x_mitre_detectable_by_common_defenses='No', x_mitre_detectable_by_common_defenses_explanation='Normally, defender is unable to detect.  Few agencies and commercial organizations may have unique insights.', x_mitre_difficulty_for_adversary='Yes', x_mitre_difficulty_for_adversary_explanation='Normal aspect of adversary planning lifecycle.  May not be done by all adversaries.', x_mitre_old_attack_id='PRE-T1004', x_mitre_version='1.0'),\n",
       " AttackPattern(type='attack-pattern', id='attack-pattern--d2c4206a-a431-4494-834d-52944a79e9f4', created_by_ref='identity--c78cb6e5-0c4b-4611-8297-d1b8b55e40b5', created='2017-12-14T16:46:06.044Z', modified='2018-10-17T00:14:20.652Z', name='Distribute malicious software development tools', description='An adversary could distribute malicious software development tools (e.g., compiler) that hide malicious behavior in software built using the tools. (Citation: PA XcodeGhost) (Citation: Reflections on Trusting Trust)', kill_chain_phases=[KillChainPhase(kill_chain_name='mitre-pre-attack', phase_name='stage-capabilities')], external_references=[ExternalReference(source_name='mitre-pre-attack', url='https://attack.mitre.org/techniques/T1394', external_id='T1394'), ExternalReference(source_name='PA XcodeGhost', description='Claud Xiao. (2015, September 17). Novel Malware XcodeGhost Modifies Xcode, Infects Apple iOS Apps and Hits App Store. Retrieved April 12, 2017.'), ExternalReference(source_name='Reflections on Trusting Trust', description='Ken Thompson. (1984, August). Reflections on Trusting Trust. Retrieved April 12, 2017.')], object_marking_refs=['marking-definition--fa42a846-8d90-4e51-bc29-71d5b4802168'], x_mitre_detectable_by_common_defenses='No', x_mitre_detectable_by_common_defenses_explanation='Developers could check a hash or signature of their development tools to ensure that they match expected values (e.g., Apple provides instructions of how to do so for its Xcode developer tool), but developers may not always do so.', x_mitre_difficulty_for_adversary='No', x_mitre_difficulty_for_adversary_explanation='The adversary would need to either replace the tools provided at the official download location or influence developers to download the tools from an adversary-controlled third-party download location. Desktop operating systems (e.g., Windows, macOS) are increasingly encouraging use of vendor-provided official app stores to distribute software, which utilize code signing and increase the difficulty of replacing development tools with malicious versions.', x_mitre_old_attack_id='PRE-T1171', x_mitre_version='1.0'),\n",
       " AttackPattern(type='attack-pattern', id='attack-pattern--54eb2bab-125f-4d1c-b999-0c692860bafe', created_by_ref='identity--c78cb6e5-0c4b-4611-8297-d1b8b55e40b5', created='2017-12-14T16:46:06.044Z', modified='2018-10-17T00:14:20.652Z', name='Dynamic DNS', description='Dynamic DNS is a automated method to rapidly update the domain name system mapping of hostnames to IPs. (Citation: FireEyeSupplyChain)', kill_chain_phases=[KillChainPhase(kill_chain_name='mitre-pre-attack', phase_name='establish-&-maintain-infrastructure')], external_references=[ExternalReference(source_name='mitre-pre-attack', url='https://attack.mitre.org/techniques/T1333', external_id='T1333'), ExternalReference(source_name='FireEyeSupplyChain', description='FireEye. (2014). SUPPLY CHAIN ANALYSIS: From Quartermaster to SunshopFireEye. Retrieved March 6, 2017.')], object_marking_refs=['marking-definition--fa42a846-8d90-4e51-bc29-71d5b4802168'], x_mitre_detectable_by_common_defenses='No', x_mitre_detectable_by_common_defenses_explanation='Defender will not know at first use what is valid or hostile traffic without more context.', x_mitre_difficulty_for_adversary='Yes', x_mitre_difficulty_for_adversary_explanation='It is relatively easy to subscribe to dynamic DNS providers or find ways to get different IP addresses from a cloud provider.', x_mitre_old_attack_id='PRE-T1110', x_mitre_version='1.0'),\n",
       " AttackPattern(type='attack-pattern', id='attack-pattern--103d72e6-7e0d-4b3a-9373-c38567305c33', created_by_ref='identity--c78cb6e5-0c4b-4611-8297-d1b8b55e40b5', created='2017-12-14T16:46:06.044Z', modified='2018-10-17T00:14:20.652Z', name='Friend/Follow/Connect to targets of interest', description='Once a persona has been developed an adversary will use it to create connections to targets of interest. These connections may be direct or may include trying to connect through others. (Citation: NEWSCASTER2014) (Citation: BlackHatRobinSage)', kill_chain_phases=[KillChainPhase(kill_chain_name='mitre-pre-attack', phase_name='persona-development')], external_references=[ExternalReference(source_name='mitre-pre-attack', url='https://attack.mitre.org/techniques/T1344', external_id='T1344'), ExternalReference(source_name='NEWSCASTER2014', description='Mike Lennon. (2014, May 29). Iranian Hackers Targeted US Officials in Elaborate Social Media Attack Operation. Retrieved March 1, 2017.'), ExternalReference(source_name='BlackHatRobinSage', description='Thomas Ryan. (2010). “Getting In Bed with Robin Sage.”. Retrieved March 6, 2017.')], object_marking_refs=['marking-definition--fa42a846-8d90-4e51-bc29-71d5b4802168'], x_mitre_detectable_by_common_defenses='No', x_mitre_detectable_by_common_defenses_explanation='Unless there is some threat intelligence reporting, these users are hard to differentiate.', x_mitre_difficulty_for_adversary='Yes', x_mitre_difficulty_for_adversary_explanation='The nature of social media is such that the adversary naturally connects to a target of interest without suspicion, given the purpose of the platform is to promote connections between individuals.  Performing activities like typical users, but with specific intent in mind.', x_mitre_old_attack_id='PRE-T1121', x_mitre_version='1.0'),\n",
       " AttackPattern(type='attack-pattern', id='attack-pattern--fb39384c-00e4-414a-88af-e80c4904e0b8', created_by_ref='identity--c78cb6e5-0c4b-4611-8297-d1b8b55e40b5', created='2017-12-14T16:46:06.044Z', modified='2018-10-17T00:14:20.652Z', name='Human performs requested action of physical nature', description=\"This technique has been deprecated. Please see ATT&CK's Initial Access and Execution tactics for replacement techniques.\\n\\nThrough social engineering or other methods, an adversary can get users to perform physical actions that provide access to an adversary.  This could include providing a password over the phone or inserting a 'found' CD or USB into a system. (Citation: AnonHBGary) (Citation: CSOInsideOutside)\", kill_chain_phases=[KillChainPhase(kill_chain_name='mitre-pre-attack', phase_name='compromise')], external_references=[ExternalReference(source_name='mitre-pre-attack', url='https://attack.mitre.org/techniques/T1385', external_id='T1385'), ExternalReference(source_name='AnonHBGary', description='PETER BRIGHT. (2011, February 15). Anonymous speaks: the inside story of the HBGary hack. Retrieved March 9, 2017.'), ExternalReference(source_name='CSOInsideOutside', description='Taylor Armerding. (2012, October 25). Line blurs between insider, outsider attacks. Retrieved March 9, 2017.')], object_marking_refs=['marking-definition--fa42a846-8d90-4e51-bc29-71d5b4802168'], x_mitre_deprecated=True, x_mitre_detectable_by_common_defenses='No', x_mitre_detectable_by_common_defenses_explanation='Non-hypersensing environments do not typically collect this level of detailed information.', x_mitre_difficulty_for_adversary='Yes', x_mitre_difficulty_for_adversary_explanation='Ill-informed users insert devices into their network that they randomly find, despite training educating them why this is not a wise idea.', x_mitre_old_attack_id='PRE-T1162', x_mitre_version='1.0'),\n",
       " AttackPattern(type='attack-pattern', id='attack-pattern--d778cb83-2292-4995-b006-d38f52bc1e64', created_by_ref='identity--c78cb6e5-0c4b-4611-8297-d1b8b55e40b5', created='2017-12-14T16:46:06.044Z', modified='2018-10-17T00:14:20.652Z', name='Identify gap areas', description='Leadership identifies gap areas that generate a compelling need to generate a Key Intelligence Topic (KIT) or Key Intelligence Question (KIQ). (Citation: ODNIIntegration) (Citation: ICD115)', kill_chain_phases=[KillChainPhase(kill_chain_name='mitre-pre-attack', phase_name='priority-definition-planning')], external_references=[ExternalReference(source_name='mitre-pre-attack', url='https://attack.mitre.org/techniques/T1225', external_id='T1225'), ExternalReference(source_name='ODNIIntegration', description='Office of the Director of National Intelligence. (n.d.). Intelligence Integration - Who Are We. Retrieved March 2, 2017.'), ExternalReference(source_name='ICD115', description='Office of the Director of National Intelligence. (2012, December 21). ICD 115: Intelligence Community Capability Requirements Process. Retrieved March 2, 2017.')], object_marking_refs=['marking-definition--fa42a846-8d90-4e51-bc29-71d5b4802168'], x_mitre_detectable_by_common_defenses='No', x_mitre_detectable_by_common_defenses_explanation='Normally, defender is unable to detect.  Few agencies and commercial organizations may have unique insights.', x_mitre_difficulty_for_adversary='Yes', x_mitre_difficulty_for_adversary_explanation='Normal aspect of adversary planning lifecycle.  May not be done by all adversaries.', x_mitre_old_attack_id='PRE-T1002', x_mitre_version='1.0'),\n",
       " AttackPattern(type='attack-pattern', id='attack-pattern--0c0f075b-5d69-43f2-90df-d9ad18f44624', created_by_ref='identity--c78cb6e5-0c4b-4611-8297-d1b8b55e40b5', created='2017-12-14T16:46:06.044Z', modified='2018-10-17T00:14:20.652Z', name='Identify people of interest', description='The attempt to identify people of interest or with an inherent weakness for direct or indirect targeting to determine an approach to compromise a person or organization.  Such targets may include individuals with poor OPSEC practices or those who have a trusted relationship with the intended target. (Citation: RSA-APTRecon) (Citation: Scasny2015)', kill_chain_phases=[KillChainPhase(kill_chain_name='mitre-pre-attack', phase_name='people-information-gathering')], external_references=[ExternalReference(source_name='mitre-pre-attack', url='https://attack.mitre.org/techniques/T1269', external_id='T1269'), ExternalReference(source_name='RSA-APTRecon', description='Rotem Kerner. (2015, October). RECONNAISSANCE: A Walkthrough of the “APT” Intelligence Gathering Process. Retrieved March 1, 2017.'), ExternalReference(source_name='Scasny2015', description='Gregory Scasny. (2015, September 14). Understanding Open Source Intelligence (OSINT) and its relationship to Identity Theft. Retrieved March 1, 2017.')], object_marking_refs=['marking-definition--fa42a846-8d90-4e51-bc29-71d5b4802168'], x_mitre_detectable_by_common_defenses='No', x_mitre_detectable_by_common_defenses_explanation='Common defenses protecting against poor OPSEC practices are traditionally more policy-based in nature rather than technical.  Policy-based mitigations are generally more difficult to enforce and track violations, making it more difficult that this technique can be detected by common defenses.', x_mitre_difficulty_for_adversary='Yes', x_mitre_difficulty_for_adversary_explanation='Specialty cases enable an adversary to use key words in order to search social media and identify personnel with poor OPSEC practices who may have access to specialized information which would make them a target of interest.  In addition, the open nature of social media leads to a tendency among individuals to overshare, encouraging poor OPSEC and increasing the ease by which an adversary can identify interesting targets.', x_mitre_old_attack_id='PRE-T1046', x_mitre_version='1.0'),\n",
       " AttackPattern(type='attack-pattern', id='attack-pattern--7860e21e-7514-4a3f-8a9d-56405ccfdb0c', created_by_ref='identity--c78cb6e5-0c4b-4611-8297-d1b8b55e40b5', created='2017-12-14T16:46:06.044Z', modified='2018-10-17T00:14:20.652Z', name='Identify supply chains', description='Supply chains include the people, processes, and technologies used to move a product or service from a supplier to a consumer. Understanding supply chains may provide an adversary with opportunities to exploit organizational relationships. (Citation: SmithSupplyChain) (Citation: CERT-UKSupplyChain)', kill_chain_phases=[KillChainPhase(kill_chain_name='mitre-pre-attack', phase_name='organizational-information-gathering')], external_references=[ExternalReference(source_name='mitre-pre-attack', url='https://attack.mitre.org/techniques/T1276', external_id='T1276'), ExternalReference(source_name='SmithSupplyChain', description='Drew Smith. (2015). Is your supply chain safe from cyberattacks?. Retrieved March 5, 2017.'), ExternalReference(source_name='CERT-UKSupplyChain', description='CERT-UK. (2016, October 01). Cyber-security risks in the supply chain. Retrieved March 5, 2017.')], object_marking_refs=['marking-definition--fa42a846-8d90-4e51-bc29-71d5b4802168'], x_mitre_detectable_by_common_defenses='No', x_mitre_detectable_by_common_defenses_explanation='Searching publicly available sources that cannot be monitored by a defender.', x_mitre_difficulty_for_adversary='No', x_mitre_difficulty_for_adversary_explanation='Requires an intensive process.  May be easier in certain industries where there are a limited number of suppliers (e.g., SCADA).', x_mitre_old_attack_id='PRE-T1053', x_mitre_version='1.0'),\n",
       " AttackPattern(type='attack-pattern', id='attack-pattern--288b3cc3-f4da-4250-ab8c-d8b5dbed94ca', created_by_ref='identity--c78cb6e5-0c4b-4611-8297-d1b8b55e40b5', created='2017-12-14T16:46:06.044Z', modified='2018-10-17T00:14:20.652Z', name='Identify web defensive services', description='An adversary can attempt to identify web defensive services as [CloudFlare](https://www.cloudflare.com), [IPBan](https://github.com/jjxtra/Windows-IP-Ban-Service), and [Snort](https://www.snort.org). This may be done by passively detecting services, like [CloudFlare](https://www.cloudflare.com) routing, or actively, such as by purposefully tripping security defenses. (Citation: NMAP WAF NSE)', kill_chain_phases=[KillChainPhase(kill_chain_name='mitre-pre-attack', phase_name='technical-information-gathering')], external_references=[ExternalReference(source_name='mitre-pre-attack', url='https://attack.mitre.org/techniques/T1256', external_id='T1256'), ExternalReference(source_name='NMAP WAF NSE', description='Paulino Calderon. (n.d.). http-waf-detect. Retrieved April 2, 2017.')], object_marking_refs=['marking-definition--fa42a846-8d90-4e51-bc29-71d5b4802168'], x_mitre_detectable_by_common_defenses='Yes', x_mitre_detectable_by_common_defenses_explanation='Active service detection may trigger an alert.  Passive service enumeration is not detected.', x_mitre_difficulty_for_adversary='Yes', x_mitre_difficulty_for_adversary_explanation='Adversary can passively detect services (e.g., [https://www.cloudflare.com/ CloudFlare] routing) or actively detect services (e.g., by purposefully tripping security defenses)', x_mitre_old_attack_id='PRE-T1033', x_mitre_version='1.0'),\n",
       " AttackPattern(type='attack-pattern', id='attack-pattern--a54a7708-8f64-45f3-ad51-1abf976986a0', created_by_ref='identity--c78cb6e5-0c4b-4611-8297-d1b8b55e40b5', created='2017-12-14T16:46:06.044Z', modified='2018-10-17T00:14:20.652Z', name='Mine technical blogs/forums', description='Technical blogs and forums provide a way for technical staff to ask for assistance or troubleshoot problems. In doing so they may reveal information such as operating system (OS), network devices, or applications in use. (Citation: FunAndSun2012)', kill_chain_phases=[KillChainPhase(kill_chain_name='mitre-pre-attack', phase_name='technical-information-gathering')], external_references=[ExternalReference(source_name='mitre-pre-attack', url='https://attack.mitre.org/techniques/T1257', external_id='T1257'), ExternalReference(source_name='FunAndSun2012', description='Jeff Bardin. (2012, October 10). OSINT and Cyber Intelligence - Fun and Sun in Miami. Retrieved March 1, 2017.')], object_marking_refs=['marking-definition--fa42a846-8d90-4e51-bc29-71d5b4802168'], x_mitre_detectable_by_common_defenses='No', x_mitre_detectable_by_common_defenses_explanation='Cannot detect access to public sites.', x_mitre_difficulty_for_adversary='Yes', x_mitre_difficulty_for_adversary_explanation='Success is dependent upon the existence of detailed technical specifications for target network posted in blogs/forums.  Poor OPSEC practices result in an adversary gleaning a lot of sensitive information about configurations and/or issues encountered.', x_mitre_old_attack_id='PRE-T1034', x_mitre_version='1.0'),\n",
       " AttackPattern(type='attack-pattern', id='attack-pattern--e6ca2820-a564-4b74-b42a-b6bdf052e5b6', created_by_ref='identity--c78cb6e5-0c4b-4611-8297-d1b8b55e40b5', created='2017-12-14T16:46:06.044Z', modified='2018-10-17T00:14:20.652Z', name='Obfuscate infrastructure', description='Obfuscation is hiding the day-to-day building and testing of new tools, chat servers, etc. (Citation: LUCKYCAT2012)', kill_chain_phases=[KillChainPhase(kill_chain_name='mitre-pre-attack', phase_name='adversary-opsec')], external_references=[ExternalReference(source_name='mitre-pre-attack', url='https://attack.mitre.org/techniques/T1309', external_id='T1309'), ExternalReference(source_name='LUCKYCAT2012', description='Forward-Looking Threat Research Team. (2012). LUCKYCAT REDUX: Inside an APT Campaign with Multiple Targets in India and Japan. Retrieved March 1, 2017.')], object_marking_refs=['marking-definition--fa42a846-8d90-4e51-bc29-71d5b4802168'], x_mitre_detectable_by_common_defenses='Yes', x_mitre_detectable_by_common_defenses_explanation='Difficult, but defender is well aware of technique and attempts to find discrepancies.', x_mitre_difficulty_for_adversary='Yes', x_mitre_difficulty_for_adversary_explanation='Adversary has a variety of solutions, ranging in difficulty, that can be employed (e.g., BGP hijacking, tunneling, reflection, multi-hop, etc.)\\nAdversary can also use misattributable credentials to obtain servers, build environment, [https://aws.amazon.com Amazon Web Services] (AWS) accounts, etc.', x_mitre_old_attack_id='PRE-T1086', x_mitre_version='1.0'),\n",
       " AttackPattern(type='attack-pattern', id='attack-pattern--d58f3996-e293-4f69-a2c8-0e1851cb8297', created_by_ref='identity--c78cb6e5-0c4b-4611-8297-d1b8b55e40b5', created='2017-12-14T16:46:06.044Z', modified='2018-10-17T00:14:20.652Z', name='Obtain Apple iOS enterprise distribution key pair and certificate', description='The adversary can obtain an Apple iOS enterprise distribution key pair and certificate and use it to distribute malicious apps directly to Apple iOS devices without the need to publish the apps to the Apple App Store (where the apps could potentially be detected). (Citation: Apple Developer Enterprise Porgram Apps) (Citation: Fruit vs Zombies) (Citation: WIRELURKER) (Citation: Sideloading Change)', kill_chain_phases=[KillChainPhase(kill_chain_name='mitre-pre-attack', phase_name='persona-development')], external_references=[ExternalReference(source_name='mitre-pre-attack', url='https://attack.mitre.org/techniques/T1392', external_id='T1392'), ExternalReference(source_name='Apple Developer Enterprise Porgram Apps', description='Apple Inc.. (2016). Distributing Apple Developer Enterprise Program Apps. Retrieved April 12, 2017.'), ExternalReference(source_name='Fruit vs Zombies', description='Claud Xiao. (2016). Fruit vs Zombies: Defeat Non-jailbroken iOS Malware. Retrieved April 12, 2017.'), ExternalReference(source_name='WIRELURKER', description='Claud Xiao. (2014). WIRELURKER:  A New Era in iOS and OS X Malware. Retrieved April 12, 2017.'), ExternalReference(source_name='Sideloading Change', description='David Richardson. (2015, September 10). Change to sideloading apps in iOS 9 is a security win. Retrieved April 12, 2017.')], object_marking_refs=['marking-definition--fa42a846-8d90-4e51-bc29-71d5b4802168'], x_mitre_detectable_by_common_defenses='Partial', x_mitre_detectable_by_common_defenses_explanation=\"Starting in iOS 9, Apple has changed the user interface when installing apps to better indicate to users the potential implications of installing apps signed by an enterprise distribution key rather than from Apple's App Store and to make it more difficult for users to inadvertently install these apps. Additionally, enterprise management controls are available that can be imposed to prevent installing these apps. Also, enterprise mobility management / mobile device management (EMM/MDM) systems can be used to scan for the presence of undesired apps on enterprise mobile devices.\", x_mitre_difficulty_for_adversary='No', x_mitre_difficulty_for_adversary_explanation='Apple requires a DUNS number, corporate documentation, and $299 to obtain an enterprise distribution certificate. Additionally, Apple revokes certificates if they discover malicious use.  However, the enrollment information could be falsified to Apple by an adversary, or an adversary could steal an existing enterprise distribution certificate (and the corresponding private key) from a business that already possesses one.', x_mitre_old_attack_id='PRE-T1169', x_mitre_version='1.0'),\n",
       " AttackPattern(type='attack-pattern', id='attack-pattern--13ff5307-b650-405a-9664-d8076930b2bf', created_by_ref='identity--c78cb6e5-0c4b-4611-8297-d1b8b55e40b5', created='2017-12-14T16:46:06.044Z', modified='2018-10-17T00:14:20.652Z', name='Port redirector', description='Redirecting a communication request from one address and port number combination to another. May be set up to obfuscate the final location of communications that will occur in later stages of an attack. (Citation: SecureWorks HTRAN Analysis)', kill_chain_phases=[KillChainPhase(kill_chain_name='mitre-pre-attack', phase_name='stage-capabilities')], external_references=[ExternalReference(source_name='mitre-pre-attack', url='https://attack.mitre.org/techniques/T1363', external_id='T1363'), ExternalReference(source_name='SecureWorks HTRAN Analysis', description='JOE STEWART. (2011, August 3). HTran and the Advanced Persistent Threat. Retrieved March 28, 2017.')], object_marking_refs=['marking-definition--fa42a846-8d90-4e51-bc29-71d5b4802168'], x_mitre_detectable_by_common_defenses='No', x_mitre_detectable_by_common_defenses_explanation='Infrastructure is (typically) outside of control/visibility of defender and as such as tools are staged for specific campaigns, it will not be observable to those being attacked.', x_mitre_difficulty_for_adversary='Yes', x_mitre_difficulty_for_adversary_explanation='Adversary has control of the infrastructure and will likely be able to add/remove tools to infrastructure, whether acquired via hacking or standard computer acquisition (e.g., [https://aws.amazon.com AWS], VPS providers).', x_mitre_old_attack_id='PRE-T1140', x_mitre_version='1.0'),\n",
       " AttackPattern(type='attack-pattern', id='attack-pattern--702dc95d-3266-42dc-9eef-4a19e2445148', created_by_ref='identity--c78cb6e5-0c4b-4611-8297-d1b8b55e40b5', created='2017-12-14T16:46:06.044Z', modified='2018-10-17T00:14:20.652Z', name='Push-notification client-side exploit', description=\"This technique has been deprecated. Please see ATT&CK's Initial Access and Execution tactics for replacement techniques.\\n\\nA technique to push an [iOS](https://www.apple.com/ios) or [Android](https://www.android.com) MMS-type message to the target which does not require interaction on the part of the target to be successful. (Citation: BlackHat Stagefright) (Citation: WikiStagefright)\", kill_chain_phases=[KillChainPhase(kill_chain_name='mitre-pre-attack', phase_name='launch')], external_references=[ExternalReference(source_name='mitre-pre-attack', url='https://attack.mitre.org/techniques/T1373', external_id='T1373'), ExternalReference(source_name='BlackHat Stagefright', description='Joshua Drake. (2015, August 5). Stagefright: Scary Code in the Heart of Android. Retrieved March 29, 2017.'), ExternalReference(source_name='WikiStagefright', description='Wikipedia contributors. (2017, March 8). Stagefright (bug). Retrieved March 9, 2017.')], object_marking_refs=['marking-definition--fa42a846-8d90-4e51-bc29-71d5b4802168'], x_mitre_deprecated=True, x_mitre_detectable_by_common_defenses='No', x_mitre_detectable_by_common_defenses_explanation=\"For non-corporate cellular devices not joined to the corporate network, it is not possible to detect an adversary's use of the technique because messages traverse networks outside of the control of the employer. For corporate cellular devices which are joined to the corporate network, monitoring of messages and ability to patch against push attacks is possible, assuming they are fully monitored.\", x_mitre_difficulty_for_adversary='Yes', x_mitre_difficulty_for_adversary_explanation='Easily executed technique to push an MMS-type message to the target which does not require interaction on the part of the target to be successful.', x_mitre_old_attack_id='PRE-T1150', x_mitre_version='1.0'),\n",
       " AttackPattern(type='attack-pattern', id='attack-pattern--abd5bed1-4c12-45de-a623-ab8dc4ff862a', created_by_ref='identity--c78cb6e5-0c4b-4611-8297-d1b8b55e40b5', created='2017-12-14T16:46:06.044Z', modified='2018-10-17T00:14:20.652Z', name='Research relevant vulnerabilities/CVEs', description='Common Vulnerability Enumeration (CVE) is a dictionary of publicly known information about security vulnerabilities and exposures. An adversary can use this information to target specific software that may be vulnerable. (Citation: WeaponsVulnerable) (Citation: KasperskyCarbanak)', kill_chain_phases=[KillChainPhase(kill_chain_name='mitre-pre-attack', phase_name='technical-weakness-identification')], external_references=[ExternalReference(source_name='mitre-pre-attack', url='https://attack.mitre.org/techniques/T1291', external_id='T1291'), ExternalReference(source_name='WeaponsVulnerable', description='Jack Smith IV. (2015, January 22). Pentagon Chief Weapons Tester: Almost All Military Programs Vulnerable to Cyber-Attacks. Retrieved March 5, 2017.'), ExternalReference(source_name='KasperskyCarbanak', description=\"Kaspersky Lab's Global Research & Analysis Team. (2015, February). CARBANAK APT THE GREAT BANK ROBBERY. Retrieved March 27, 2017.\")], object_marking_refs=['marking-definition--fa42a846-8d90-4e51-bc29-71d5b4802168'], x_mitre_detectable_by_common_defenses='No', x_mitre_detectable_by_common_defenses_explanation=\"Public source external to the defender's organization.\", x_mitre_difficulty_for_adversary='Yes', x_mitre_difficulty_for_adversary_explanation='Using standard headers/fingerprints from normal traffic, it is often trivial to identify the SW or HW the target is running, which can be correlated against known CVEs and exploit packages.', x_mitre_old_attack_id='PRE-T1068', x_mitre_version='1.0'),\n",
       " AttackPattern(type='attack-pattern', id='attack-pattern--54a42187-a20c-4e4e-ba31-8d15c9e1f57f', created_by_ref='identity--c78cb6e5-0c4b-4611-8297-d1b8b55e40b5', created='2017-12-14T16:46:06.044Z', modified='2018-10-17T00:14:20.652Z', name='SSL certificate acquisition for trust breaking', description='Fake certificates can be acquired by legal process or coercion. Or, an adversary can trick a Certificate Authority into issuing a certificate. These fake certificates can be used as a part of Man-in-the-Middle attacks. (Citation: SubvertSSL)', kill_chain_phases=[KillChainPhase(kill_chain_name='mitre-pre-attack', phase_name='establish-&-maintain-infrastructure')], external_references=[ExternalReference(source_name='mitre-pre-attack', url='https://attack.mitre.org/techniques/T1338', external_id='T1338'), ExternalReference(source_name='SubvertSSL', description='Ryan Singel. (2010, March 24). Law Enforcement Appliance Subverts SSL. Retrieved March 2, 2017.')], object_marking_refs=['marking-definition--fa42a846-8d90-4e51-bc29-71d5b4802168'], x_mitre_detectable_by_common_defenses='No', x_mitre_detectable_by_common_defenses_explanation=\"The certificate authority who is hacked cannot easily see they've been compromised, but [https://www.google.com Google] has caught on to this occurring in previous attacks such as DigiNotarDigiNotar2016 and [https://www.verisign.com Verisign].\", x_mitre_difficulty_for_adversary='No', x_mitre_difficulty_for_adversary_explanation='One example of it occurring in the real world is the DigiNotarDigiNotar2016 case.  To be able to do this usually requires sophisticated skills and is traditionally done by a nation state to spy on its citizens.', x_mitre_old_attack_id='PRE-T1115', x_mitre_version='1.0'),\n",
       " AttackPattern(type='attack-pattern', id='attack-pattern--2fc04aa5-48c1-49ec-919a-b88241ef1d17', created_by_ref='identity--c78cb6e5-0c4b-4611-8297-d1b8b55e40b5', created='2017-12-14T16:46:06.044Z', modified='2018-10-17T00:14:20.652Z', name='Spear phishing messages with text only', description=\"This technique has been deprecated. Please see ATT&CK's Initial Access and Execution tactics for replacement techniques.\\n\\nEmails with text only phishing messages do not contain any attachments or links to websites. They are designed to get a user to take a follow on action such as calling a phone number or wiring money. They can also be used to elicit an email response to confirm existence of an account or user. (Citation: Paypal Phone Scam)\", kill_chain_phases=[KillChainPhase(kill_chain_name='mitre-pre-attack', phase_name='launch')], external_references=[ExternalReference(source_name='mitre-pre-attack', url='https://attack.mitre.org/techniques/T1368', external_id='T1368'), ExternalReference(source_name='Paypal Phone Scam', description='Sophos Labs. (2006, July 7). PayPal phone phish scam uses voice recording to steal money. Retrieved March 29, 2017.')], object_marking_refs=['marking-definition--fa42a846-8d90-4e51-bc29-71d5b4802168'], x_mitre_deprecated=True, x_mitre_detectable_by_common_defenses='No', x_mitre_detectable_by_common_defenses_explanation='End user training and awareness is the primary defense for flagging a plain text email so the end user does not respond or take any requested action (e.g., calling a designated number).', x_mitre_difficulty_for_adversary='Yes', x_mitre_difficulty_for_adversary_explanation='Sending messages with text only should be accepted in most cases (e.g., not being filtered based on source, content).', x_mitre_old_attack_id='PRE-T1145', x_mitre_version='1.0'),\n",
       " AttackPattern(type='attack-pattern', id='attack-pattern--b93bd611-da4e-4c84-a40f-325b712bed67', created_by_ref='identity--c78cb6e5-0c4b-4611-8297-d1b8b55e40b5', created='2017-12-14T16:46:06.044Z', modified='2018-10-17T00:14:20.652Z', name='Task requirements', description='Once divided into the most granular parts, analysts work with collection managers to task the collection management system with requirements and sub-requirements. (Citation: Heffter) (Citation: JP2-01)', kill_chain_phases=[KillChainPhase(kill_chain_name='mitre-pre-attack', phase_name='priority-definition-direction')], external_references=[ExternalReference(source_name='mitre-pre-attack', url='https://attack.mitre.org/techniques/T1240', external_id='T1240'), ExternalReference(source_name='Heffter', description='Clyde R. Heffter. (2011, August 4). A Fresh Look at Collection Requirements. Retrieved March 2, 2017.'), ExternalReference(source_name='JP2-01', description='Joint Chiefs of Staff. (2012, January 05). Joint and National Intelligence Support to Military Operations. Retrieved March 2, 2017.')], object_marking_refs=['marking-definition--fa42a846-8d90-4e51-bc29-71d5b4802168'], x_mitre_detectable_by_common_defenses='No', x_mitre_detectable_by_common_defenses_explanation='Normally, defender is unable to detect.  Few agencies and commercial organizations may have unique insights.', x_mitre_difficulty_for_adversary='Yes', x_mitre_difficulty_for_adversary_explanation='Normal aspect of adversary planning lifecycle.  May not be done by all adversaries.', x_mitre_old_attack_id='PRE-T1017', x_mitre_version='1.0'),\n",
       " AttackPattern(type='attack-pattern', id='attack-pattern--18bfa01c-9fa9-409f-91f5-4a2822609d81', created_by_ref='identity--c78cb6e5-0c4b-4611-8297-d1b8b55e40b5', created='2017-12-14T16:46:06.044Z', modified='2018-10-17T00:14:20.652Z', name='Test physical access', description='An  adversary can test physical access options in preparation for the actual attack. This could range from observing behaviors and noting security precautions to actually attempting access. (Citation: OCIAC Pre Incident Indicators) (Citation: NewsAgencySpy)', kill_chain_phases=[KillChainPhase(kill_chain_name='mitre-pre-attack', phase_name='test-capabilities')], external_references=[ExternalReference(source_name='mitre-pre-attack', url='https://attack.mitre.org/techniques/T1360', external_id='T1360'), ExternalReference(source_name='OCIAC Pre Incident Indicators', description='Orange County Intelligence Assessment Center. (n.d.). Pre-Incident Indicators. Retrieved March 28, 2017.'), ExternalReference(source_name='NewsAgencySpy', description='The Canadian Press. (2012, August 22). Reporter says Chinese news agency asked him to spy. Retrieved March 9, 2017.')], object_marking_refs=['marking-definition--fa42a846-8d90-4e51-bc29-71d5b4802168'], x_mitre_detectable_by_common_defenses='Yes', x_mitre_detectable_by_common_defenses_explanation='Defender often install badging, cameras, security guards or other detection techniques for physical security and monitoring.', x_mitre_difficulty_for_adversary='No', x_mitre_difficulty_for_adversary_explanation='Requires a physical presence in the space being entered and increased risk of being detected/detained (e.g., recorded on video camera)', x_mitre_old_attack_id='PRE-T1137', x_mitre_version='1.0'),\n",
       " AttackPattern(type='attack-pattern', id='attack-pattern--2ec57bf1-fcc3-4c19-9516-79b7fde483af', created_by_ref='identity--c78cb6e5-0c4b-4611-8297-d1b8b55e40b5', created='2017-12-14T16:46:06.044Z', modified='2018-10-17T00:14:20.652Z', name='Untargeted client-side exploitation', description=\"This technique has been deprecated. Please see ATT&CK's Initial Access and Execution tactics for replacement techniques.\\n\\nA technique that takes advantage of flaws in client-side applications without targeting specific users. For example, an exploit placed on an often widely used public web site intended for drive-by delivery to whomever visits the site. (Citation: CitizenLabGreatCannon)\", kill_chain_phases=[KillChainPhase(kill_chain_name='mitre-pre-attack', phase_name='launch')], external_references=[ExternalReference(source_name='mitre-pre-attack', url='https://attack.mitre.org/techniques/T1370', external_id='T1370'), ExternalReference(source_name='CitizenLabGreatCannon', description='Bill Marczak, Jakub Dalek, John Scott-Railton, Ron Deibert, Sarah McKune. (2015, April 10). China’s Great Cannon. Retrieved March 9, 2017.')], object_marking_refs=['marking-definition--fa42a846-8d90-4e51-bc29-71d5b4802168'], x_mitre_deprecated=True, x_mitre_detectable_by_common_defenses='Yes', x_mitre_detectable_by_common_defenses_explanation='Defensive technologies exist to scan web content before delivery to the requested end user.  However, this is not fool proof as some sites encrypt web communications and the adversary constantly moves to sites not previously flagged as malicious thus defeating this defense.  Host-based defenses can also aid in detection/mitigation as well as detection by the web site that got compromised.', x_mitre_difficulty_for_adversary='Yes', x_mitre_difficulty_for_adversary_explanation='Commonly executed technique to place an exploit on an often widely used public web site intended for driveby delivery.', x_mitre_old_attack_id='PRE-T1147', x_mitre_version='1.0'),\n",
       " AttackPattern(type='attack-pattern', id='attack-pattern--028ad431-84c5-4eb7-a364-2b797c234f88', created_by_ref='identity--c78cb6e5-0c4b-4611-8297-d1b8b55e40b5', created='2017-12-14T16:46:06.044Z', modified='2018-10-17T00:14:20.652Z', name='Acquire OSINT data sets and information', description='Data sets can be anything from Security Exchange Commission (SEC) filings to public phone numbers. Many datasets are now either publicly available for free or can be purchased from a variety of data vendors.  Open source intelligence (OSINT) is intelligence gathered from publicly available sources. This can include both information gathered on-line as well as in the physical world. (Citation: SANSThreatProfile) (Citation: Infosec-osint) (Citation: isight-osint)', kill_chain_phases=[KillChainPhase(kill_chain_name='mitre-pre-attack', phase_name='organizational-information-gathering')], external_references=[ExternalReference(source_name='mitre-pre-attack', url='https://attack.mitre.org/techniques/T1277', external_id='T1277'), ExternalReference(source_name='SANSThreatProfile', description='Stephen Irwin. (2014, September 8). Creating a Threat Profile for Your Organization. Retrieved March 5, 2017.'), ExternalReference(source_name='Infosec-osint', description='InfoSec Institute. (2013, September 11). OSINT (Open-Source Intelligence). Retrieved May 9, 2017.'), ExternalReference(source_name='isight-osint', description='Dawn Lomer. (2017). 101+ OSINT Resources for Investigators. Retrieved May 9, 2017.')], object_marking_refs=['marking-definition--fa42a846-8d90-4e51-bc29-71d5b4802168'], x_mitre_detectable_by_common_defenses='No', x_mitre_detectable_by_common_defenses_explanation='This activity is indistinguishable from legitimate business uses and easy to obtain.', x_mitre_difficulty_for_adversary='Yes', x_mitre_difficulty_for_adversary_explanation='Large quantities of data exists on people, organizations and technologies whether divulged wittingly or collected as part of doing business on the Internet (unbeknownst to the user/company).  Search engine and database indexing companies continuously mine this information and make it available to anyone who queries for it.', x_mitre_old_attack_id='PRE-T1054', x_mitre_version='1.0'),\n",
       " AttackPattern(type='attack-pattern', id='attack-pattern--e5164428-03ca-4336-a9a7-4d9ea1417e59', created_by_ref='identity--c78cb6e5-0c4b-4611-8297-d1b8b55e40b5', created='2017-12-14T16:46:06.044Z', modified='2019-02-19T18:54:54.471Z', name='Acquire or compromise 3rd party signing certificates', description=\"Code signing is the process of digitally signing executables or scripts to confirm the software author and guarantee that the code has not been altered or corrupted. Users may trust a signed piece of code more than an unsigned piece of code even if they don't know who issued the certificate or who the author is. (Citation: Adobe Code Signing Cert)\", kill_chain_phases=[KillChainPhase(kill_chain_name='mitre-pre-attack', phase_name='adversary-opsec')], external_references=[ExternalReference(source_name='mitre-pre-attack', url='https://attack.mitre.org/techniques/T1310', external_id='T1310'), ExternalReference(source_name='Adobe Code Signing Cert', description='Brad Arkin. (2012, September 27). Inappropriate Use of Adobe Code Signing Certificate. Retrieved March 28, 2017.')], object_marking_refs=['marking-definition--fa42a846-8d90-4e51-bc29-71d5b4802168'], x_mitre_detectable_by_common_defenses='No', x_mitre_detectable_by_common_defenses_explanation='Defender will not know what certificates an adversary acquires from a 3rd party. Defender will not know prior to public disclosure if a 3rd party has had their certificate compromised.', x_mitre_difficulty_for_adversary='No', x_mitre_difficulty_for_adversary_explanation='It is trivial to purchase code signing certificates within an organization; many exist and are available at reasonable cost. It is complex to factor or steal 3rd party code signing certificates for use in malicious mechanisms', x_mitre_old_attack_id='PRE-T1087', x_mitre_version='1.0'),\n",
       " AttackPattern(type='attack-pattern', id='attack-pattern--57619ab3-f6a5-43c8-8dd1-b0b8a986a870', created_by_ref='identity--c78cb6e5-0c4b-4611-8297-d1b8b55e40b5', created='2017-12-14T16:46:06.044Z', modified='2018-10-17T00:14:20.652Z', name='Analyze business processes', description='Business processes, such as who typically communicates with who, or what the supply chain is for a particular part, provide opportunities for social engineering or other  (Citation: Warwick2015)', kill_chain_phases=[KillChainPhase(kill_chain_name='mitre-pre-attack', phase_name='organizational-weakness-identification')], external_references=[ExternalReference(source_name='mitre-pre-attack', url='https://attack.mitre.org/techniques/T1301', external_id='T1301'), ExternalReference(source_name='Warwick2015', description='Warwick Ashford. (2015, March). Cyber crime: What every business needs to know. Retrieved March 6, 2017.')], object_marking_refs=['marking-definition--fa42a846-8d90-4e51-bc29-71d5b4802168'], x_mitre_detectable_by_common_defenses='No', x_mitre_detectable_by_common_defenses_explanation='Social engineering and other attempts to learn about business practices and processes would not immediately be associated with an impending cyber event.', x_mitre_difficulty_for_adversary='No', x_mitre_difficulty_for_adversary_explanation='To get any kind of fidelity into business processes would require insider access.  Basic processes could be mapped, but understanding where in the organization these processes take place and who to target during any given phase of the process would generally be difficult.', x_mitre_old_attack_id='PRE-T1078', x_mitre_version='1.0'),\n",
       " AttackPattern(type='attack-pattern', id='attack-pattern--96eb59d1-6c46-44bb-bfcd-56be02a00d41', created_by_ref='identity--c78cb6e5-0c4b-4611-8297-d1b8b55e40b5', created='2017-12-14T16:46:06.044Z', modified='2018-10-17T00:14:20.652Z', name='Analyze organizational skillsets and deficiencies', description='Understanding organizational skillsets and deficiencies could provide insight in to weakness in defenses, or opportunities for exploitation. (Citation: FakeLinkedIn)', kill_chain_phases=[KillChainPhase(kill_chain_name='mitre-pre-attack', phase_name='people-weakness-identification')], external_references=[ExternalReference(source_name='mitre-pre-attack', url='https://attack.mitre.org/techniques/T1297', external_id='T1297'), ExternalReference(source_name='FakeLinkedIn', description='LIFARS. (2015, October 8). Hackers Fake LinkedIn Profiles to Scout Targets. Retrieved March 5, 2017.')], object_marking_refs=['marking-definition--fa42a846-8d90-4e51-bc29-71d5b4802168'], x_mitre_detectable_by_common_defenses='No', x_mitre_detectable_by_common_defenses_explanation='No access to who is consuming the job postings to know what is being observed.', x_mitre_difficulty_for_adversary='Yes', x_mitre_difficulty_for_adversary_explanation='Job postings have to be made public for contractors and many times have the name of the organization being supported.', x_mitre_old_attack_id='PRE-T1074', x_mitre_version='1.0'),\n",
       " AttackPattern(type='attack-pattern', id='attack-pattern--8e927b19-04a6-4aaa-a42f-4f0a53411d27', created_by_ref='identity--c78cb6e5-0c4b-4611-8297-d1b8b55e40b5', created='2017-12-14T16:46:06.044Z', modified='2018-10-17T00:14:20.652Z', name='Assess current holdings, needs, and wants', description='Analysts assess current information available against requirements that outline needs and wants as part of the research baselining process to begin satisfying a requirement. (Citation: CyberAdvertisingChar) (Citation: CIATradecraft) (Citation: ForensicAdversaryModeling) (Citation: CyberAdversaryBehavior)', kill_chain_phases=[KillChainPhase(kill_chain_name='mitre-pre-attack', phase_name='priority-definition-planning')], external_references=[ExternalReference(source_name='mitre-pre-attack', url='https://attack.mitre.org/techniques/T1236', external_id='T1236'), ExternalReference(source_name='CyberAdvertisingChar', description='Tom Parker, Matt Devost, Marcus Sachs, and Toby Miller. (2003). Cyber Adversary Characterization. Retrieved March 5, 2017.'), ExternalReference(source_name='CIATradecraft', description='Central Intelligence Agency. (2009). A Tradecraft Primer: Structured Analytic Techniques for Improving Intelligence Analysis. Retrieved March 5, 2017.'), ExternalReference(source_name='ForensicAdversaryModeling', description='John Lowry, Rico Valdez, Brad Wood. (n.d.). Adversary Modeling to Develop Forensic Observables. Retrieved March 5, 2017.'), ExternalReference(source_name='CyberAdversaryBehavior', description='Elizabeth Van Ruitenbeek, Ken Keefe, William H. Sanders, and Carol Muehrcke. (2010). Characterizing the Behavior of Cyber Adversaries: The Means, Motive, and Opportunity of Cyberattacks. Retrieved March 5, 2017.')], object_marking_refs=['marking-definition--fa42a846-8d90-4e51-bc29-71d5b4802168'], x_mitre_detectable_by_common_defenses='No', x_mitre_detectable_by_common_defenses_explanation='Normally, defender is unable to detect.  Few agencies and commercial organizations may have unique insights.', x_mitre_difficulty_for_adversary='Yes', x_mitre_difficulty_for_adversary_explanation='Normal aspect of adversary planning lifecycle.  May not be done by all adversaries.', x_mitre_old_attack_id='PRE-T1013', x_mitre_version='1.0'),\n",
       " AttackPattern(type='attack-pattern', id='attack-pattern--1def484d-2343-470d-8925-88f45b5f9615', created_by_ref='identity--c78cb6e5-0c4b-4611-8297-d1b8b55e40b5', created='2017-12-14T16:46:06.044Z', modified='2018-10-17T00:14:20.652Z', name='Assess vulnerability of 3rd party vendors', description='Once a 3rd party vendor has been identified as being of interest it can be probed for vulnerabilities just like the main target would be. (Citation: Zetter2015Threats) (Citation: WSJTargetBreach)', kill_chain_phases=[KillChainPhase(kill_chain_name='mitre-pre-attack', phase_name='organizational-weakness-identification')], external_references=[ExternalReference(source_name='mitre-pre-attack', url='https://attack.mitre.org/techniques/T1298', external_id='T1298'), ExternalReference(source_name='Zetter2015Threats', description='Kim Zetter. (2015, January 4). The Biggest Security Threats We’ll Face in 2015. Retrieved March 5, 2017.'), ExternalReference(source_name='WSJTargetBreach', description=\"Paul Ziobro. (2014, February 6). Target Breach Began With Contractor's Electronic Billing Link. Retrieved March 6, 2017.\")], object_marking_refs=['marking-definition--fa42a846-8d90-4e51-bc29-71d5b4802168'], x_mitre_detectable_by_common_defenses='No', x_mitre_detectable_by_common_defenses_explanation='3rd parties would most likely not report network scans to their partners.  Target network would not know that their 3rd party partners were being used as a vector.', x_mitre_difficulty_for_adversary='Yes', x_mitre_difficulty_for_adversary_explanation='The difficult part is enumerating all 3rd parties.  Finding major partners would not be difficult.  Significantly easier with insider knowledge.  Vulnerability scanning the 3rd party networks is trivial.', x_mitre_old_attack_id='PRE-T1075', x_mitre_version='1.0'),\n",
       " AttackPattern(type='attack-pattern', id='attack-pattern--0e6abb17-0f81-4988-9fd2-4ba0b673d729', created_by_ref='identity--c78cb6e5-0c4b-4611-8297-d1b8b55e40b5', created='2017-12-14T16:46:06.044Z', modified='2018-10-17T00:14:20.652Z', name='Automated system performs requested action', description=\"This technique has been deprecated. Please see ATT&CK's Initial Access and Execution tactics for replacement techniques.\\n\\nUsers may be performing legitimate activity but using media that is compromised (e.g., using a USB drive that comes with malware installed during manufacture or supply). Upon insertion in the system the media auto-runs and the malware executes without further action by the user. (Citation: WSUSpect2015)\", kill_chain_phases=[KillChainPhase(kill_chain_name='mitre-pre-attack', phase_name='compromise')], external_references=[ExternalReference(source_name='mitre-pre-attack', url='https://attack.mitre.org/techniques/T1384', external_id='T1384'), ExternalReference(source_name='WSUSpect2015', description='Paul Stone & Alex Chapman. (2015, August 5). WSUSpect: Compromising the Windows Enterprise via Windows Update. Retrieved March 1, 2017.')], object_marking_refs=['marking-definition--fa42a846-8d90-4e51-bc29-71d5b4802168'], x_mitre_deprecated=True, x_mitre_detectable_by_common_defenses='No', x_mitre_detectable_by_common_defenses_explanation='Environments without extensive endpoint sensing capabilities do not typically collect this level of detailed information.', x_mitre_difficulty_for_adversary='Yes', x_mitre_difficulty_for_adversary_explanation='Autoruns with USB keys and CDs traditionally were always on (e.g., [http://windows.microsoft.com Windows] 7 is now an exception with a new policy of limiting the always on nature of Autoruns), ensuring and automated system completes a requested action.  Specialized use cases exist where automated systems are specifically designed against automatically performing certain actions (e.g., USB/CD insertion and automatically running is disabled in certain environments).', x_mitre_old_attack_id='PRE-T1161', x_mitre_version='1.0'),\n",
       " AttackPattern(type='attack-pattern', id='attack-pattern--8e211ec9-5dfc-4915-aff4-84d5908f0336', created_by_ref='identity--c78cb6e5-0c4b-4611-8297-d1b8b55e40b5', created='2017-12-14T16:46:06.044Z', modified='2018-10-17T00:14:20.652Z', name='C2 protocol development', description='Command and Control (C2 or C&C) is a method by which the adversary communicates with malware. An adversary may use a variety of protocols and methods to execute C2 such as a centralized server, peer to peer, IRC, compromised web sites, or even social media. (Citation: HAMMERTOSS2015)', kill_chain_phases=[KillChainPhase(kill_chain_name='mitre-pre-attack', phase_name='build-capabilities')], external_references=[ExternalReference(source_name='mitre-pre-attack', url='https://attack.mitre.org/techniques/T1352', external_id='T1352'), ExternalReference(source_name='HAMMERTOSS2015', description='FireEye. (2015, July). HAMMERTOSS: Stealthy Tactics Define a Russian Cyber Threat Group. Retrieved March 6, 2017.')], object_marking_refs=['marking-definition--fa42a846-8d90-4e51-bc29-71d5b4802168'], x_mitre_detectable_by_common_defenses='No', x_mitre_detectable_by_common_defenses_explanation='Adversary will likely use code repositories, but development will be performed on their local systems.', x_mitre_difficulty_for_adversary='Yes', x_mitre_difficulty_for_adversary_explanation='C2 over commonly used and permitted protocols provides the necessary cover and access.', x_mitre_old_attack_id='PRE-T1129', x_mitre_version='1.0'),\n",
       " AttackPattern(type='attack-pattern', id='attack-pattern--e51398e6-53dc-4e9f-a323-e54683d8672b', created_by_ref='identity--c78cb6e5-0c4b-4611-8297-d1b8b55e40b5', created='2017-12-14T16:46:06.044Z', modified='2018-10-26T14:58:31.328Z', name='Compromise 3rd party infrastructure to support delivery', description='Instead of buying, leasing, or renting infrastructure an adversary may compromise infrastructure and use it for some or all of the attack cycle. (Citation: WateringHole2014) (Citation: FireEye Operation SnowMan)', kill_chain_phases=[KillChainPhase(kill_chain_name='mitre-pre-attack', phase_name='establish-&-maintain-infrastructure')], external_references=[ExternalReference(source_name='mitre-pre-attack', url='https://attack.mitre.org/techniques/T1334', external_id='T1334'), ExternalReference(source_name='WateringHole2014', description='Pierluigi Paganini. (2014, February 15). FireEye discovered a new watering hole attack based on 0-day exploit. Retrieved March 1, 2017.'), ExternalReference(source_name='FireEye Operation SnowMan', description='Darien Kindlund, Xiaobo Chen, Mike Scott, Ned Moran, Dan Caselden. (2014, February 13). Operation SnowMan: DeputyDog Actor Compromises US Veterans of Foreign Wars Website. Retrieved March 28, 2017.')], object_marking_refs=['marking-definition--fa42a846-8d90-4e51-bc29-71d5b4802168'], x_mitre_detectable_by_common_defenses='No', x_mitre_detectable_by_common_defenses_explanation='Defender will not have visibility on 3rd party sites unless target is successfully enticed to visit one.', x_mitre_difficulty_for_adversary='Yes', x_mitre_difficulty_for_adversary_explanation='Commonly used technique currently (e.g., [https://www.wordpress.com WordPress] sites) as precursor activity to launching attack against intended target (e.g., acquiring botnet or layers of proxies for reducing attribution possibilities).', x_mitre_old_attack_id='PRE-T1111', x_mitre_version='1.0'),\n",
       " AttackPattern(type='attack-pattern', id='attack-pattern--a7c620e5-cbc9-41b2-9695-418ef560f16c', created_by_ref='identity--c78cb6e5-0c4b-4611-8297-d1b8b55e40b5', created='2017-12-14T16:46:06.044Z', modified='2018-10-17T00:14:20.652Z', name='Conduct passive scanning', description='Passive scanning is the act of looking at existing network traffic in order to identify information about the communications system. (Citation: SurveyDetectionStrategies) (Citation: CyberReconPaper)', kill_chain_phases=[KillChainPhase(kill_chain_name='mitre-pre-attack', phase_name='technical-information-gathering')], external_references=[ExternalReference(source_name='mitre-pre-attack', url='https://attack.mitre.org/techniques/T1253', external_id='T1253'), ExternalReference(source_name='SurveyDetectionStrategies', description='Jamal Raiyn. (2014). A survey of Cyber Attack Detection Strategies. Retrieved March 5, 2017.'), ExternalReference(source_name='CyberReconPaper', description='H. P. Sanghvi and M. S. Dahiya. (2013, February). Cyber Reconnaissance: An Alarm before Cyber Attack. Retrieved March 5, 2017.')], object_marking_refs=['marking-definition--fa42a846-8d90-4e51-bc29-71d5b4802168'], x_mitre_detectable_by_common_defenses='No', x_mitre_detectable_by_common_defenses_explanation='Generates no network traffic that would enable detection.', x_mitre_difficulty_for_adversary='Yes', x_mitre_difficulty_for_adversary_explanation='Easy to do but it requires a vantage point conducive to accessing this data.', x_mitre_old_attack_id='PRE-T1030', x_mitre_version='1.0'),\n",
       " AttackPattern(type='attack-pattern', id='attack-pattern--f4c5d1d9-8f0e-46f1-a9fa-f9a440926046', created_by_ref='identity--c78cb6e5-0c4b-4611-8297-d1b8b55e40b5', created='2017-12-14T16:46:06.044Z', modified='2018-10-17T00:14:20.652Z', name='Confirmation of launched compromise achieved', description=\"This technique has been deprecated. Please see ATT&CK's Initial Access and Execution tactics for replacement techniques.\\n\\nUpon successful compromise the adversary may implement methods for confirming success including communication to a command and control server, exfiltration of data, or a verifiable intended effect such as a publicly accessible resource being inaccessible or a web page being defaced. (Citation: FireEye Malware Stages) (Citation: APTNetworkTrafficAnalysis)\", kill_chain_phases=[KillChainPhase(kill_chain_name='mitre-pre-attack', phase_name='compromise')], external_references=[ExternalReference(source_name='mitre-pre-attack', url='https://attack.mitre.org/techniques/T1383', external_id='T1383'), ExternalReference(source_name='FireEye Malware Stages', description='carlota. (2014, November 12). Stages of a Malware Infection. Retrieved April 1, 2017.'), ExternalReference(source_name='APTNetworkTrafficAnalysis', description='Nart Villeneuve and James Bennett. (2012). Detecting APT Activity with Network Traffic Analysis. Retrieved March 9, 2017.')], object_marking_refs=['marking-definition--fa42a846-8d90-4e51-bc29-71d5b4802168'], x_mitre_deprecated=True, x_mitre_detectable_by_common_defenses='Yes', x_mitre_detectable_by_common_defenses_explanation='Current commercial tools and sensitive analytics can be used to detect communications to command and control servers or data exfiltration.', x_mitre_difficulty_for_adversary='Yes', x_mitre_difficulty_for_adversary_explanation='Certainty of the confirmation of compromise is not guaranteed unless the adversary sees communication to a command and control server, exfiltration of data, or an intended effect occur.', x_mitre_old_attack_id='PRE-T1160', x_mitre_version='1.0'),\n",
       " AttackPattern(type='attack-pattern', id='attack-pattern--ec739e26-d097-4804-b04a-54dd81ff11e0', created_by_ref='identity--c78cb6e5-0c4b-4611-8297-d1b8b55e40b5', created='2017-12-14T16:46:06.044Z', modified='2018-10-17T00:14:20.652Z', name='Create strategic plan', description='Strategic plans outline the mission, vision, and goals for an adversary at a high level in relation to the key partners, topics, and functions the adversary carries out. (Citation: KPMGChina5Year) (Citation: China5YearPlans) (Citation: ChinaUN)', kill_chain_phases=[KillChainPhase(kill_chain_name='mitre-pre-attack', phase_name='priority-definition-planning')], external_references=[ExternalReference(source_name='mitre-pre-attack', url='https://attack.mitre.org/techniques/T1231', external_id='T1231'), ExternalReference(source_name='KPMGChina5Year', description='KPMG. (2016, October 19). China’s 13th Five-Year Plan signals a potential new era of Sino-foreign cooperation, finds KPMG report. Retrieved March 2, 2017.'), ExternalReference(source_name='China5YearPlans', description='Wikipedia contributors. (2017, February 8). Five-year plans of China. Retrieved March 2, 2017.'), ExternalReference(source_name='ChinaUN', description=\"People's Republic of China. (2015, November). China's 13th Five-Year Plan. Retrieved May 19, 2017.\")], object_marking_refs=['marking-definition--fa42a846-8d90-4e51-bc29-71d5b4802168'], x_mitre_detectable_by_common_defenses='No', x_mitre_detectable_by_common_defenses_explanation='Normally, defender is unable to detect.  Few agencies and commercial organizations may have unique insights.', x_mitre_difficulty_for_adversary='Yes', x_mitre_difficulty_for_adversary_explanation='Normal aspect of adversary planning lifecycle.  May not be done by all adversaries.', x_mitre_old_attack_id='PRE-T1008', x_mitre_version='1.0'),\n",
       " AttackPattern(type='attack-pattern', id='attack-pattern--d72c0bc0-3007-418c-842c-328027ebdbc1', created_by_ref='identity--c78cb6e5-0c4b-4611-8297-d1b8b55e40b5', created='2017-12-14T16:46:06.044Z', modified='2018-10-17T00:14:20.652Z', name='Deploy exploit using advertising', description=\"This technique has been deprecated. Please see ATT&CK's Initial Access and Execution tactics for replacement techniques.\\n\\nExploits spread through advertising (malvertising) involve injecting malicious or malware-laden advertisements into legitimate online advertising networks and webpages. (Citation: TPMalvertising)\", kill_chain_phases=[KillChainPhase(kill_chain_name='mitre-pre-attack', phase_name='launch')], external_references=[ExternalReference(source_name='mitre-pre-attack', url='https://attack.mitre.org/techniques/T1380', external_id='T1380'), ExternalReference(source_name='TPMalvertising', description='Michael Mimoso. (2015, March 30). AD NETWORKS RIPE FOR ABUSE VIA MALVERTISING. Retrieved March 9, 2017.')], object_marking_refs=['marking-definition--fa42a846-8d90-4e51-bc29-71d5b4802168'], x_mitre_deprecated=True, x_mitre_detectable_by_common_defenses='No', x_mitre_detectable_by_common_defenses_explanation=\"Although some commercial technologies are being advertised which claim to detect malvertising, it largely spreads unknowingly because it doesn't always require an action by a user.\", x_mitre_difficulty_for_adversary='Yes', x_mitre_difficulty_for_adversary_explanation='An adversary can deploy exploits via malvertising using multiple mechanisms.  Such mechanisms include an image ad that is infected, redirection, or using social engineering to get the end user to install the malicious software themselves.', x_mitre_old_attack_id='PRE-T1157', x_mitre_version='1.0'),\n",
       " AttackPattern(type='attack-pattern', id='attack-pattern--a7dff5d5-99f9-4a7e-ac54-a64113c28121', created_by_ref='identity--c78cb6e5-0c4b-4611-8297-d1b8b55e40b5', created='2017-12-14T16:46:06.044Z', modified='2018-10-17T00:14:20.652Z', name='Determine centralization of IT management', description='Determining if a \"corporate\" help desk exists, the degree of access and control it has, and whether there are \"edge\" units that may have different support processes and standards. (Citation: SANSCentratlizeManagement)', kill_chain_phases=[KillChainPhase(kill_chain_name='mitre-pre-attack', phase_name='organizational-information-gathering')], external_references=[ExternalReference(source_name='mitre-pre-attack', url='https://attack.mitre.org/techniques/T1285', external_id='T1285'), ExternalReference(source_name='SANSCentratlizeManagement', description='Scott Rasmussen. (2002, January 28). Centralized Network Security Management: Combining Defense In Depth with Manageable Security. Retrieved March 5, 2017.')], object_marking_refs=['marking-definition--fa42a846-8d90-4e51-bc29-71d5b4802168'], x_mitre_detectable_by_common_defenses='No', x_mitre_detectable_by_common_defenses_explanation='No technical means to detect an adversary collecting information about a target.  Any detection would be based upon strong OPSEC policy implementation.', x_mitre_difficulty_for_adversary='Yes', x_mitre_difficulty_for_adversary_explanation='Requires an adversary to undergo a research process to learn the internal workings of an organization.  An adversary can do this by social engineering individuals in the company by claiming to need to find information for the help desk, or through social engineering of former employees or business partners.', x_mitre_old_attack_id='PRE-T1062', x_mitre_version='1.0'),\n",
       " AttackPattern(type='attack-pattern', id='attack-pattern--c860af4a-376e-46d7-afbf-262c41012227', created_by_ref='identity--c78cb6e5-0c4b-4611-8297-d1b8b55e40b5', created='2017-12-14T16:46:06.044Z', modified='2018-10-17T00:14:20.652Z', name='Determine operational element', description='If going from strategic down to tactical or vice versa, an  adversary would next consider the operational element.  For example, the specific company within an industry or agency within a government. (Citation: CyberAdversaryBehavior) (Citation: JP3-60) (Citation: JP3-12R) (Citation: DoD Cyber 2015)', kill_chain_phases=[KillChainPhase(kill_chain_name='mitre-pre-attack', phase_name='target-selection')], external_references=[ExternalReference(source_name='mitre-pre-attack', url='https://attack.mitre.org/techniques/T1242', external_id='T1242'), ExternalReference(source_name='CyberAdversaryBehavior', description='Elizabeth Van Ruitenbeek, Ken Keefe, William H. Sanders, and Carol Muehrcke. (2010). Characterizing the Behavior of Cyber Adversaries: The Means, Motive, and Opportunity of Cyberattacks. Retrieved March 5, 2017.'), ExternalReference(source_name='JP3-60', description='Joint Chiefs of Staff. (2013, January 31). Joint Targeting. Retrieved May 19, 2017.'), ExternalReference(source_name='JP3-12R', description='Joint Chiefs of Staff. (2013, February 5). Cyberspace Operations. Retrieved May 19, 2017.'), ExternalReference(source_name='DoD Cyber 2015', description='Department of Defense. (2015, April). The Department of Defense Cyber Strategy. Retrieved May 19, 2017.')], object_marking_refs=['marking-definition--fa42a846-8d90-4e51-bc29-71d5b4802168'], x_mitre_detectable_by_common_defenses='No', x_mitre_detectable_by_common_defenses_explanation='Normally, defender is unable to detect.  May change for special use cases or adversary and defender overlays.', x_mitre_difficulty_for_adversary='Yes', x_mitre_difficulty_for_adversary_explanation='This is the normal adversary targeting cycle where they utilize our poor OPSEC practices to their advantage.', x_mitre_old_attack_id='PRE-T1019', x_mitre_version='1.0'),\n",
       " AttackPattern(type='attack-pattern', id='attack-pattern--271e6d40-e191-421a-8f87-a8102452c201', created_by_ref='identity--c78cb6e5-0c4b-4611-8297-d1b8b55e40b5', created='2017-12-14T16:46:06.044Z', modified='2018-10-17T00:14:20.652Z', name='Develop social network persona digital footprint', description='Both newly built personas and pre-compromised personas may require development of additional documentation to make them seem real. This could include filling out profile information, developing social networks, or incorporating photos. (Citation: NEWSCASTER2014) (Citation: BlackHatRobinSage) (Citation: RobinSageInterview)', kill_chain_phases=[KillChainPhase(kill_chain_name='mitre-pre-attack', phase_name='persona-development')], external_references=[ExternalReference(source_name='mitre-pre-attack', url='https://attack.mitre.org/techniques/T1342', external_id='T1342'), ExternalReference(source_name='NEWSCASTER2014', description='Mike Lennon. (2014, May 29). Iranian Hackers Targeted US Officials in Elaborate Social Media Attack Operation. Retrieved March 1, 2017.'), ExternalReference(source_name='BlackHatRobinSage', description='Thomas Ryan. (2010). “Getting In Bed with Robin Sage.”. Retrieved March 6, 2017.'), ExternalReference(source_name='RobinSageInterview', description='Joan Goodchild. (2010, July 8). The Robin Sage experiment: Fake profile fools security pros. Retrieved March 6, 2017.')], object_marking_refs=['marking-definition--fa42a846-8d90-4e51-bc29-71d5b4802168'], x_mitre_detectable_by_common_defenses='No', x_mitre_detectable_by_common_defenses_explanation='Unless there is some threat intelligence reporting, these users are hard to differentiate.', x_mitre_difficulty_for_adversary='Yes', x_mitre_difficulty_for_adversary_explanation=\"The only difference between an adversary conducting this technique and a typical user, is the adversary's intent - to target an individual for compromise.\", x_mitre_old_attack_id='PRE-T1119', x_mitre_version='1.0'),\n",
       " AttackPattern(type='attack-pattern', id='attack-pattern--274164c6-4297-42d4-84b5-2369e51013fe', created_by_ref='identity--c78cb6e5-0c4b-4611-8297-d1b8b55e40b5', created='2017-12-14T16:46:06.044Z', modified='2019-04-17T17:29:42.291Z', name='Domain Generation Algorithms (DGA)', description='The use of algorithms in malware to periodically generate a large number of domain names which function as rendezvous points for malware command and control servers. (Citation: DamballaDGA) (Citation: DambballaDGACyberCriminals)', kill_chain_phases=[KillChainPhase(kill_chain_name='mitre-pre-attack', phase_name='adversary-opsec')], external_references=[ExternalReference(source_name='mitre-pre-attack', url='https://attack.mitre.org/techniques/T1323', external_id='T1323'), ExternalReference(source_name='DamballaDGA', description='Damballa Day Before Zero Blog. (2012, March 5). Domain Generation Algorithms (DGA) in Stealthy Malware. Retrieved March 6, 2017.'), ExternalReference(source_name='DambballaDGACyberCriminals', description='Damballa. (n.d.). DGAs in the Hands of Cyber-Criminals Examining The State Of The Art In Malware Evasion Techniques. Retrieved March 6, 2017.')], object_marking_refs=['marking-definition--fa42a846-8d90-4e51-bc29-71d5b4802168'], x_mitre_deprecated=True, x_mitre_detectable_by_common_defenses='Partial', x_mitre_detectable_by_common_defenses_explanation='It is possible to detect the use of DGAs; however, defenders have largely not been successful at mitigating the domains because they are generally registered less than an hour before they are used and disposed of within 24 hours.', x_mitre_difficulty_for_adversary='Yes', x_mitre_difficulty_for_adversary_explanation='This technique does not require a significant amount of sophistication while still being highly effective.  It was popularized by the Conficker worms but is prevalent in crimeware such as Murofet and BankPatch.', x_mitre_old_attack_id='PRE-T1100', x_mitre_version='2.0'),\n",
       " AttackPattern(type='attack-pattern', id='attack-pattern--78ae433b-289d-4c8d-b8c1-f8de0b7f9090', created_by_ref='identity--c78cb6e5-0c4b-4611-8297-d1b8b55e40b5', created='2017-12-14T16:46:06.044Z', modified='2018-10-17T00:14:20.652Z', name='Enumerate client configurations', description='Client configurations information such as the operating system and web browser, along with additional information such as version or language, are often transmitted as part of web browsing communications.  This can be accomplished in several ways including use of a compromised web site to collect details on visiting computers. (Citation: UnseenWorldOfCookies) (Citation: Panopticlick)', kill_chain_phases=[KillChainPhase(kill_chain_name='mitre-pre-attack', phase_name='technical-information-gathering')], external_references=[ExternalReference(source_name='mitre-pre-attack', url='https://attack.mitre.org/techniques/T1262', external_id='T1262'), ExternalReference(source_name='UnseenWorldOfCookies', description='Joanna Geary, Chris Cross. (2012, April 13). Tracking the trackers: help us reveal the unseen world of cookies. Retrieved March 5, 2017.'), ExternalReference(source_name='Panopticlick', description='Electronic Frontier Foundation. (n.d.). Panopticlick: Is your browser safe against tracking?. Retrieved March 5, 2017.')], object_marking_refs=['marking-definition--fa42a846-8d90-4e51-bc29-71d5b4802168'], x_mitre_detectable_by_common_defenses='No', x_mitre_detectable_by_common_defenses_explanation='Typical information collected as part of accessing web sites (e.g., operating system, browser version, basic configurations).', x_mitre_difficulty_for_adversary='Yes', x_mitre_difficulty_for_adversary_explanation='Basic web scripting capability to collect information of interest on users of interest.  Requires a compromised web site and the users of interest to navigate there.', x_mitre_old_attack_id='PRE-T1039', x_mitre_version='1.0'),\n",
       " AttackPattern(type='attack-pattern', id='attack-pattern--eacd1efe-ee30-4b03-b58f-5b3b1adfe45d', created_by_ref='identity--c78cb6e5-0c4b-4611-8297-d1b8b55e40b5', created='2017-12-14T16:46:06.044Z', modified='2018-10-17T00:14:20.652Z', name='Friend/Follow/Connect to targets of interest', description='A form of social engineering designed build trust and to lay the foundation for future interactions or attacks. (Citation: BlackHatRobinSage)', kill_chain_phases=[KillChainPhase(kill_chain_name='mitre-pre-attack', phase_name='stage-capabilities')], external_references=[ExternalReference(source_name='mitre-pre-attack', url='https://attack.mitre.org/techniques/T1364', external_id='T1364'), ExternalReference(source_name='BlackHatRobinSage', description='Thomas Ryan. (2010). “Getting In Bed with Robin Sage.”. Retrieved March 6, 2017.')], object_marking_refs=['marking-definition--fa42a846-8d90-4e51-bc29-71d5b4802168'], x_mitre_detectable_by_common_defenses='No', x_mitre_detectable_by_common_defenses_explanation='Users have the ability to detect and report non-authenticated individuals requesting to follow, friend or connect to a target.  However the rigidity in validating the users is not typically followed by standard users.', x_mitre_difficulty_for_adversary='Yes', x_mitre_difficulty_for_adversary_explanation='Connecting with \"friends\" is a fundamental requirement for social media - without it, social media is worthless.  An adversary can easily create a profile and request targets to validate the requests.', x_mitre_old_attack_id='PRE-T1141', x_mitre_version='1.0'),\n",
       " AttackPattern(type='attack-pattern', id='attack-pattern--0fad2267-9f46-4ebb-91b5-d543243732cb', created_by_ref='identity--c78cb6e5-0c4b-4611-8297-d1b8b55e40b5', created='2017-12-14T16:46:06.044Z', modified='2018-10-17T00:14:20.652Z', name='Identify analyst level gaps', description='Analysts identify gap areas that generate a compelling need to generate a Key Intelligence Topic (KIT) or Key Intelligence Question (KIQ). (Citation: BrighthubGapAnalysis) (Citation: ICD115) (Citation: JP2-01)', kill_chain_phases=[KillChainPhase(kill_chain_name='mitre-pre-attack', phase_name='priority-definition-planning')], external_references=[ExternalReference(source_name='mitre-pre-attack', url='https://attack.mitre.org/techniques/T1233', external_id='T1233'), ExternalReference(source_name='BrighthubGapAnalysis', description='Ronda Bowen. (2014, March 26). Performing a Gap Analysis: Where Do You Begin?. Retrieved March 14, 2017.'), ExternalReference(source_name='ICD115', description='Office of the Director of National Intelligence. (2012, December 21). ICD 115: Intelligence Community Capability Requirements Process. Retrieved March 2, 2017.'), ExternalReference(source_name='JP2-01', description='Joint Chiefs of Staff. (2012, January 05). Joint and National Intelligence Support to Military Operations. Retrieved March 2, 2017.')], object_marking_refs=['marking-definition--fa42a846-8d90-4e51-bc29-71d5b4802168'], x_mitre_detectable_by_common_defenses='No', x_mitre_detectable_by_common_defenses_explanation='Normally, defender is unable to detect.  Few agencies and commercial organizations may have unique insights.', x_mitre_difficulty_for_adversary='Yes', x_mitre_difficulty_for_adversary_explanation='Normal aspect of adversary planning lifecycle.  May not be done by all adversaries.', x_mitre_old_attack_id='PRE-T1010', x_mitre_version='1.0'),\n",
       " AttackPattern(type='attack-pattern', id='attack-pattern--89a79d91-53e0-4ef5-ba28-558cb8b01f76', created_by_ref='identity--c78cb6e5-0c4b-4611-8297-d1b8b55e40b5', created='2017-12-14T16:46:06.044Z', modified='2018-10-17T00:14:20.652Z', name='Identify groups/roles', description='Personnel internally to a company may belong to a group or maintain a role with  electronic specialized access, authorities, or privilege that make them an attractive target for an adversary.  One example of this is a system administrator. (Citation: RSA-APTRecon)', kill_chain_phases=[KillChainPhase(kill_chain_name='mitre-pre-attack', phase_name='people-information-gathering')], external_references=[ExternalReference(source_name='mitre-pre-attack', url='https://attack.mitre.org/techniques/T1270', external_id='T1270'), ExternalReference(source_name='RSA-APTRecon', description='Rotem Kerner. (2015, October). RECONNAISSANCE: A Walkthrough of the “APT” Intelligence Gathering Process. Retrieved March 1, 2017.')], object_marking_refs=['marking-definition--fa42a846-8d90-4e51-bc29-71d5b4802168'], x_mitre_detectable_by_common_defenses='No', x_mitre_detectable_by_common_defenses_explanation='Searching publicly available sources that cannot be monitored by a defender.', x_mitre_difficulty_for_adversary='No', x_mitre_difficulty_for_adversary_explanation='Requires an adversary to undergo an intensive research process.  It is resource intensive or requires special data access.  May be easier for certain specialty use cases.', x_mitre_old_attack_id='PRE-T1047', x_mitre_version='1.0'),\n",
       " AttackPattern(type='attack-pattern', id='attack-pattern--762771c2-3675-4535-88e9-b1f891758974', created_by_ref='identity--c78cb6e5-0c4b-4611-8297-d1b8b55e40b5', created='2017-12-14T16:46:06.044Z', modified='2018-10-17T00:14:20.652Z', name='Identify personnel with an authority/privilege', description='Personnel internally to a company may have non-electronic specialized access, authorities, or privilege that make them an attractive target for an adversary.  One example of this is an individual with financial authority to authorize large transactions.  An adversary who compromises this individual might be able to subvert large dollar transfers. (Citation: RSA-APTRecon)', kill_chain_phases=[KillChainPhase(kill_chain_name='mitre-pre-attack', phase_name='people-information-gathering')], external_references=[ExternalReference(source_name='mitre-pre-attack', url='https://attack.mitre.org/techniques/T1271', external_id='T1271'), ExternalReference(source_name='RSA-APTRecon', description='Rotem Kerner. (2015, October). RECONNAISSANCE: A Walkthrough of the “APT” Intelligence Gathering Process. Retrieved March 1, 2017.')], object_marking_refs=['marking-definition--fa42a846-8d90-4e51-bc29-71d5b4802168'], x_mitre_detectable_by_common_defenses='No', x_mitre_detectable_by_common_defenses_explanation='The layers of data required and potential gaps of information to map a specific person to an authority or privilege on a network requires access to resources that may not tip off a defender.', x_mitre_difficulty_for_adversary='No', x_mitre_difficulty_for_adversary_explanation='Requires an adversary to undergo an intensive research process.  It is resource intensive or requires special data access.  May be easier for certain specialty use cases.', x_mitre_old_attack_id='PRE-T1048', x_mitre_version='1.0'),\n",
       " AttackPattern(type='attack-pattern', id='attack-pattern--78e41091-d10d-4001-b202-89612892b6ff', created_by_ref='identity--c78cb6e5-0c4b-4611-8297-d1b8b55e40b5', created='2017-12-14T16:46:06.044Z', modified='2018-10-17T00:14:20.652Z', name='Identify supply chains', description='Supply chains include the people, processes, and technologies used to move a product or service from a supplier to a consumer. Understanding supply chains may provide an adversary with opportunities to exploit the technology or interconnections that are part of the supply chain. (Citation: SmithSupplyChain) (Citation: CERT-UKSupplyChain) (Citation: RSA-supply-chain)', kill_chain_phases=[KillChainPhase(kill_chain_name='mitre-pre-attack', phase_name='technical-information-gathering')], external_references=[ExternalReference(source_name='mitre-pre-attack', url='https://attack.mitre.org/techniques/T1246', external_id='T1246'), ExternalReference(source_name='SmithSupplyChain', description='Drew Smith. (2015). Is your supply chain safe from cyberattacks?. Retrieved March 5, 2017.'), ExternalReference(source_name='CERT-UKSupplyChain', description='CERT-UK. (2016, October 01). Cyber-security risks in the supply chain. Retrieved March 5, 2017.'), ExternalReference(source_name='RSA-supply-chain', description='RSA Research. (2017, February). KINGSLAYER – A SUPPLY CHAIN ATTACK. Retrieved May 9, 2017.')], object_marking_refs=['marking-definition--fa42a846-8d90-4e51-bc29-71d5b4802168'], x_mitre_detectable_by_common_defenses='No', x_mitre_detectable_by_common_defenses_explanation='Difficult, if not impossible to detect, because the adversary may collect this information from external sources that cannot be monitored by a defender.', x_mitre_difficulty_for_adversary='No', x_mitre_difficulty_for_adversary_explanation='Supply chain diversity of sourcing increases adversary difficulty with accurate mapping.  Industry practice has moved towards agile sourcing.', x_mitre_old_attack_id='PRE-T1023', x_mitre_version='1.0'),\n",
       " AttackPattern(type='attack-pattern', id='attack-pattern--73e394e5-3d8a-40d1-ab8c-a1b4ea9db424', created_by_ref='identity--c78cb6e5-0c4b-4611-8297-d1b8b55e40b5', created='2017-12-14T16:46:06.044Z', modified='2018-10-17T00:14:20.652Z', name='Install and configure hardware, network, and systems', description='An adversary needs the necessary skills to set up procured equipment and software to create their desired infrastructure. (Citation: KasperskyRedOctober)', kill_chain_phases=[KillChainPhase(kill_chain_name='mitre-pre-attack', phase_name='establish-&-maintain-infrastructure')], external_references=[ExternalReference(source_name='mitre-pre-attack', url='https://attack.mitre.org/techniques/T1336', external_id='T1336'), ExternalReference(source_name='KasperskyRedOctober', description='Kaspersky Labs. (2013, January 14). Kaspersky Lab Identifies Operation “Red October,” an Advanced Cyber-Espionage Campaign Targeting Diplomatic and Government Institutions Worldwide. Retrieved March 6, 2017.')], object_marking_refs=['marking-definition--fa42a846-8d90-4e51-bc29-71d5b4802168'], x_mitre_detectable_by_common_defenses='No', x_mitre_detectable_by_common_defenses_explanation='Defender will not have visibility on 3rd party sites unless target is successfully enticed to visit one.', x_mitre_difficulty_for_adversary='Yes', x_mitre_difficulty_for_adversary_explanation='Skills are common to majority of computer scientists and \"hackers\".  Can be easily obtained through contracting if not organic to adversary\\'s organization.', x_mitre_old_attack_id='PRE-T1113', x_mitre_version='1.0'),\n",
       " AttackPattern(type='attack-pattern', id='attack-pattern--31fa5b03-1ede-4fab-8a68-ed831fcf4899', created_by_ref='identity--c78cb6e5-0c4b-4611-8297-d1b8b55e40b5', created='2017-12-14T16:46:06.044Z', modified='2018-10-17T00:14:20.652Z', name='Misattributable credentials', description='The use of credentials by an adversary with the intent to hide their true identity and/or portray them self as another person or entity.  An adversary may use misattributable credentials in an attack to convince a victim that credentials are legitimate and trustworthy when this is not actually the case. (Citation: FakeSSLCerts)', kill_chain_phases=[KillChainPhase(kill_chain_name='mitre-pre-attack', phase_name='adversary-opsec')], external_references=[ExternalReference(source_name='mitre-pre-attack', url='https://attack.mitre.org/techniques/T1322', external_id='T1322'), ExternalReference(source_name='FakeSSLCerts', description='Paul Mutton. (2014, February 12). Fake SSL certificates deployed across the internet. Retrieved March 1, 2017.')], object_marking_refs=['marking-definition--fa42a846-8d90-4e51-bc29-71d5b4802168'], x_mitre_detectable_by_common_defenses='Partial', x_mitre_detectable_by_common_defenses_explanation='If a previous incident identified the credentials used by an adversary, defenders can potentially use these credentials to track the adversary through reuse of the same credentials.', x_mitre_difficulty_for_adversary='Yes', x_mitre_difficulty_for_adversary_explanation='An adversary can easily create and use misattributable credentials to obtain servers, build environment, [https://aws.amazon.com AWS] accounts, etc.  Many service providers require some form of identifiable information such as a phone number or email address, but there are several avenues to acquire these consistent with the misattributable identity.', x_mitre_old_attack_id='PRE-T1099', x_mitre_version='1.0'),\n",
       " AttackPattern(type='attack-pattern', id='attack-pattern--72c8d526-1247-42d4-919c-6d7a31ca8f39', created_by_ref='identity--c78cb6e5-0c4b-4611-8297-d1b8b55e40b5', created='2017-12-14T16:46:06.044Z', modified='2018-10-17T00:14:20.652Z', name='Obfuscate infrastructure', description='Obfuscation is hiding the day-to-day building and testing of new tools, chat servers, etc. (Citation: FireEyeAPT17)', kill_chain_phases=[KillChainPhase(kill_chain_name='mitre-pre-attack', phase_name='establish-&-maintain-infrastructure')], external_references=[ExternalReference(source_name='mitre-pre-attack', url='https://attack.mitre.org/techniques/T1331', external_id='T1331'), ExternalReference(source_name='FireEyeAPT17', description='FireEye. (2015, May). APT17: Hiding in Plain Sight - FireEye and Microsoft Expose Obfuscation Tactic. Retrieved March 6, 2017.')], object_marking_refs=['marking-definition--fa42a846-8d90-4e51-bc29-71d5b4802168'], x_mitre_detectable_by_common_defenses='No', x_mitre_detectable_by_common_defenses_explanation='Defender will generally not have visibility into their infrastructure.', x_mitre_difficulty_for_adversary='Yes', x_mitre_difficulty_for_adversary_explanation='Building and testing infrastructure and obfuscating it to protect it against intrusions are a standard part of the adversary process in preparing to conduct an operation against a target.', x_mitre_old_attack_id='PRE-T1108', x_mitre_version='1.0'),\n",
       " AttackPattern(type='attack-pattern', id='attack-pattern--3d1488a6-59e6-455a-8b80-78b53edc33fe', created_by_ref='identity--c78cb6e5-0c4b-4611-8297-d1b8b55e40b5', created='2017-12-14T16:46:06.044Z', modified='2018-10-17T00:14:20.652Z', name='Obtain booter/stressor subscription', description='Configure and setup booter/stressor services, often intended for server stress testing, to enable denial of service attacks. (Citation: Krebs-Anna) (Citation: Krebs-Booter) (Citation: Krebs-Bazaar)', kill_chain_phases=[KillChainPhase(kill_chain_name='mitre-pre-attack', phase_name='establish-&-maintain-infrastructure')], external_references=[ExternalReference(source_name='mitre-pre-attack', url='https://attack.mitre.org/techniques/T1396', external_id='T1396'), ExternalReference(source_name='Krebs-Anna', description='Brian Krebs. (2017, January 18). Who is Anna-Senpai, the Mirai Worm Author?. Retrieved May 15, 2017.'), ExternalReference(source_name='Krebs-Booter', description='Brian Krebs. (2016, October 27). Are the Days of “Booter” Services Numbered?. Retrieved May 15, 2017.'), ExternalReference(source_name='Krebs-Bazaar', description='Brian Krebs. (2016, October 31). Hackforums Shutters Booter Service Bazaar. Retrieved May 15, 2017.')], object_marking_refs=['marking-definition--fa42a846-8d90-4e51-bc29-71d5b4802168'], x_mitre_detectable_by_common_defenses='No', x_mitre_detectable_by_common_defenses_explanation='Purchase of booster services is not observable; potentially can trace booster service used to origin of sale, yet not before attack is executed. Furthermore, subscription does not automatically mean foul intention.', x_mitre_difficulty_for_adversary='Yes', x_mitre_difficulty_for_adversary_explanation='Easily accessible and used to launch DDoS attacks by even novice Internet users, and can be purchased from providers for a nominal fee, some of which even accept credit cards and PayPal payments to do.', x_mitre_old_attack_id='PRE-T1173', x_mitre_version='1.0'),\n",
       " AttackPattern(type='attack-pattern', id='attack-pattern--df42286d-dfbd-4455-bc9d-aef52ac29aa7', created_by_ref='identity--c78cb6e5-0c4b-4611-8297-d1b8b55e40b5', created='2017-12-14T16:46:06.044Z', modified='2018-10-17T00:14:20.652Z', name='Post compromise tool development', description='After compromise, an adversary may utilize additional tools to facilitate their end goals. This may include tools to further explore the system, move laterally within a network, exfiltrate data, or destroy data. (Citation: SofacyHits)', kill_chain_phases=[KillChainPhase(kill_chain_name='mitre-pre-attack', phase_name='build-capabilities')], external_references=[ExternalReference(source_name='mitre-pre-attack', url='https://attack.mitre.org/techniques/T1353', external_id='T1353'), ExternalReference(source_name='SofacyHits', description=\"Kaspersky Lab's Global Research & Analysis Team. (2015, December 4). Sofacy APT hits high profile targets with updated toolset. Retrieved March 9, 2017.\")], object_marking_refs=['marking-definition--fa42a846-8d90-4e51-bc29-71d5b4802168'], x_mitre_detectable_by_common_defenses='No', x_mitre_detectable_by_common_defenses_explanation='Adversary will likely use code repositories, but development will be performed on their local systems.', x_mitre_difficulty_for_adversary='Yes', x_mitre_difficulty_for_adversary_explanation=\"Post compromise tool development is a standard part of the adversary's protocol in developing the necessary tools required to completely conduct an attack.\", x_mitre_old_attack_id='PRE-T1130', x_mitre_version='1.0'),\n",
       " AttackPattern(type='attack-pattern', id='attack-pattern--acfcbe7a-4dbc-4471-be2b-134faf479e3e', created_by_ref='identity--c78cb6e5-0c4b-4611-8297-d1b8b55e40b5', created='2017-12-14T16:46:06.044Z', modified='2018-10-17T00:14:20.652Z', name='Receive KITs/KIQs and determine requirements', description=\"Applicable agencies and/or personnel receive intelligence requirements and evaluate them to determine sub-requirements related to topics, questions, or requirements.  For example, an adversary's  nuclear energy requirements may be further divided into nuclear facilities versus nuclear warhead capabilities. (Citation: AnalystsAndPolicymaking)\", kill_chain_phases=[KillChainPhase(kill_chain_name='mitre-pre-attack', phase_name='priority-definition-direction')], external_references=[ExternalReference(source_name='mitre-pre-attack', url='https://attack.mitre.org/techniques/T1239', external_id='T1239'), ExternalReference(source_name='AnalystsAndPolicymaking', description='Jack Davis. (2002, September). Improving CIA Analytic Performance: Analysts and the Policymaking Process. Retrieved March 5, 2017.')], object_marking_refs=['marking-definition--fa42a846-8d90-4e51-bc29-71d5b4802168'], x_mitre_detectable_by_common_defenses='No', x_mitre_detectable_by_common_defenses_explanation='Normally, defender is unable to detect.  Few agencies and commercial organizations may have unique insights.', x_mitre_difficulty_for_adversary='Yes', x_mitre_difficulty_for_adversary_explanation='Normal aspect of adversary planning lifecycle.  May not be done by all adversaries.', x_mitre_old_attack_id='PRE-T1016', x_mitre_version='1.0'),\n",
       " AttackPattern(type='attack-pattern', id='attack-pattern--b26babc7-9127-4bd5-9750-5e49748c9be3', created_by_ref='identity--c78cb6e5-0c4b-4611-8297-d1b8b55e40b5', created='2017-12-14T16:46:06.044Z', modified='2018-10-17T00:14:20.652Z', name='Research visibility gap of security vendors', description='If an adversary can identify which security tools a victim is using they may be able to identify ways around those tools. (Citation: CrowdStrike Putter Panda)', kill_chain_phases=[KillChainPhase(kill_chain_name='mitre-pre-attack', phase_name='technical-weakness-identification')], external_references=[ExternalReference(source_name='mitre-pre-attack', url='https://attack.mitre.org/techniques/T1290', external_id='T1290'), ExternalReference(source_name='CrowdStrike Putter Panda', description='Crowdstrike Global Intelligence Team. (2014, June 9). CrowdStrike Intelligence Report: Putter Panda. Retrieved January 22, 2016.', url='http://cdn0.vox-cdn.com/assets/4589853/crowdstrike-intelligence-report-putter-panda.original.pdf')], object_marking_refs=['marking-definition--fa42a846-8d90-4e51-bc29-71d5b4802168'], x_mitre_detectable_by_common_defenses='No', x_mitre_detectable_by_common_defenses_explanation=\"Public source external to the defender's organization.\", x_mitre_difficulty_for_adversary='No', x_mitre_difficulty_for_adversary_explanation='Requires in-depth research and potentially other intrusions, requires unbounded amount of work to possibly find a return on investment', x_mitre_old_attack_id='PRE-T1067', x_mitre_version='1.0'),\n",
       " AttackPattern(type='attack-pattern', id='attack-pattern--cc0faf66-4df2-4328-9c9c-b0ca5de915ad', created_by_ref='identity--c78cb6e5-0c4b-4611-8297-d1b8b55e40b5', created='2017-12-14T16:46:06.044Z', modified='2018-10-17T00:14:20.652Z', name='Secure and protect infrastructure', description='An adversary may secure and protect their infrastructure just as defenders do. This could include the use of VPNs, security software, logging and monitoring, passwords, or other defensive measures. (Citation: KrebsTerracottaVPN)', kill_chain_phases=[KillChainPhase(kill_chain_name='mitre-pre-attack', phase_name='adversary-opsec')], external_references=[ExternalReference(source_name='mitre-pre-attack', url='https://attack.mitre.org/techniques/T1317', external_id='T1317'), ExternalReference(source_name='KrebsTerracottaVPN', description='Brian Krebs. (2014, August 4). Chinese VPN Service as Attack Platform?. Retrieved March 6, 2017.')], object_marking_refs=['marking-definition--fa42a846-8d90-4e51-bc29-71d5b4802168'], x_mitre_detectable_by_common_defenses='No', x_mitre_detectable_by_common_defenses_explanation='Indistinguishable from standard security practices employed by legitimate operators.', x_mitre_difficulty_for_adversary='Yes', x_mitre_difficulty_for_adversary_explanation='Adversary benefits from our own advances, techniques, and software when securing and protecting their own development infrastructure.', x_mitre_old_attack_id='PRE-T1094', x_mitre_version='1.0'),\n",
       " AttackPattern(type='attack-pattern', id='attack-pattern--c9e85b80-39e8-42df-b275-86a2afcea9e8', created_by_ref='identity--c78cb6e5-0c4b-4611-8297-d1b8b55e40b5', created='2017-12-14T16:46:06.044Z', modified='2018-10-17T00:14:20.652Z', name='Test ability to evade automated mobile application security analysis performed by app stores', description=\"Many mobile devices are configured to only allow applications to be installed from the mainstream vendor app stores (e.g., Apple App Store and Google Play Store). An adversary can submit multiple code samples to these stores deliberately designed to probe the stores' security analysis capabilities, with the goal of determining effective techniques to place malicious applications in the stores that could then be delivered to targeted devices. (Citation: Android Bouncer) (Citation: Adventures in BouncerLand) (Citation: Jekyll on iOS) (Citation: Fruit vs Zombies)\", kill_chain_phases=[KillChainPhase(kill_chain_name='mitre-pre-attack', phase_name='test-capabilities')], external_references=[ExternalReference(source_name='mitre-pre-attack', url='https://attack.mitre.org/techniques/T1393', external_id='T1393'), ExternalReference(source_name='Android Bouncer', description='Jon Oberheide and Charlie Miller. (2012). DISSECTING THE ANDROID BOUNCER. Retrieved April 12, 2017.'), ExternalReference(source_name='Adventures in BouncerLand', description='Nicholas J. Percoco and Sean Schulte. (2012). Adventures in BouncerLand. Retrieved April 12, 2017.'), ExternalReference(source_name='Jekyll on iOS', description='Tielei Wang, Kangjie Lu, Long Lu, Simon Chung, and Wenke Lee. (2013). Jekyll on iOS: When Benign Apps Become Evil. Retrieved April 12, 2017.'), ExternalReference(source_name='Fruit vs Zombies', description='Claud Xiao. (2016). Fruit vs Zombies: Defeat Non-jailbroken iOS Malware. Retrieved April 12, 2017.')], object_marking_refs=['marking-definition--fa42a846-8d90-4e51-bc29-71d5b4802168'], x_mitre_detectable_by_common_defenses='No', x_mitre_detectable_by_common_defenses_explanation='The app store operators (e.g., Apple and Google) may detect the attempts, but it would not be observable to those being attacked.', x_mitre_difficulty_for_adversary='Yes', x_mitre_difficulty_for_adversary_explanation='An adversary can submit code remotely using throwaway accounts, although a registration fee may need to be paid for each new account (e.g., $99 for Apple and $25 for Google Play Store).', x_mitre_old_attack_id='PRE-T1170', x_mitre_version='1.0'),\n",
       " AttackPattern(type='attack-pattern', id='attack-pattern--57061a8a-d7c5-42a9-be60-f79526b95bf6', created_by_ref='identity--c78cb6e5-0c4b-4611-8297-d1b8b55e40b5', created='2017-12-14T16:46:06.044Z', modified='2018-10-17T00:14:20.652Z', name='Test signature detection', description=\"An adversary can test the detections of malicious emails or files by using  publicly available services, such as virus total, to see if their files or emails cause an alert. They can also use similar services that are not openly available and don't publicly publish results or they can test on their own internal infrastructure. (Citation: WiredVirusTotal)\", kill_chain_phases=[KillChainPhase(kill_chain_name='mitre-pre-attack', phase_name='technical-weakness-identification')], external_references=[ExternalReference(source_name='mitre-pre-attack', url='https://attack.mitre.org/techniques/T1292', external_id='T1292'), ExternalReference(source_name='WiredVirusTotal', description='Kim Zetter. (14, September 2). A Google Site Meant to Protect You Is Helping Hackers Attack You. Retrieved March 9, 2017.')], object_marking_refs=['marking-definition--fa42a846-8d90-4e51-bc29-71d5b4802168'], x_mitre_detectable_by_common_defenses='Partial', x_mitre_detectable_by_common_defenses_explanation='If using a common service like [https://www.virustotal.com VirusTotal], it is possible to detect.  If the adversary uses a hostile, less well-known service, the defender would not be aware.', x_mitre_difficulty_for_adversary='Yes', x_mitre_difficulty_for_adversary_explanation='Easy to automate upload/email of a wide range of data packages.', x_mitre_old_attack_id='PRE-T1069', x_mitre_version='1.0'),\n",
       " AttackPattern(type='attack-pattern', id='attack-pattern--e8471f43-2742-4fd7-9af7-8ed1330ada37', created_by_ref='identity--c78cb6e5-0c4b-4611-8297-d1b8b55e40b5', created='2017-12-14T16:46:06.044Z', modified='2018-10-17T00:14:20.652Z', name='Upload, install, and configure software/tools', description='An adversary may stage software and tools for use during later stages of an attack. The software and tools may be placed on systems legitimately in use by the adversary or may be placed on previously compromised infrastructure. (Citation: APT1) (Citation: RedOctober)', kill_chain_phases=[KillChainPhase(kill_chain_name='mitre-pre-attack', phase_name='stage-capabilities')], external_references=[ExternalReference(source_name='mitre-pre-attack', url='https://attack.mitre.org/techniques/T1362', external_id='T1362'), ExternalReference(source_name='APT1', description='Mandiant. (n.d.). APT1: Exposing One of China’s Cyber Espionage Units. Retrieved March 5, 2017.'), ExternalReference(source_name='RedOctober', description='GReAT. (2013, January 17). “Red October”. Detailed Malware Description 4. Second Stage of Attack. Retrieved March 7, 2017.')], object_marking_refs=['marking-definition--fa42a846-8d90-4e51-bc29-71d5b4802168'], x_mitre_detectable_by_common_defenses='No', x_mitre_detectable_by_common_defenses_explanation='Infrastructure is (typically) outside of control/visibility of defender and as such as tools are staged for specific campaigns, it will not be observable to those being attacked.', x_mitre_difficulty_for_adversary='Yes', x_mitre_difficulty_for_adversary_explanation='Adversary has control of the infrastructure and will likely be able to add/remove tools to infrastructure, whether acquired via hacking or standard computer acquisition (e.g., [https://aws.amazon.com AWS], VPS providers).', x_mitre_old_attack_id='PRE-T1139', x_mitre_version='1.0'),\n",
       " AttackPattern(type='attack-pattern', id='attack-pattern--286cc500-4291-45c2-99a1-e760db176402', created_by_ref='identity--c78cb6e5-0c4b-4611-8297-d1b8b55e40b5', created='2017-12-14T16:46:06.044Z', modified='2018-10-17T00:14:20.652Z', name='Acquire and/or use 3rd party infrastructure services', description='A wide variety of cloud, virtual private services, hosting, compute, and storage solutions are available. Additionally botnets are available for rent or purchase. Use of these solutions allow an adversary to stage, launch, and execute an attack from infrastructure that does not physically tie back to them and can be rapidly provisioned, modified, and shut down. (Citation: LUCKYCAT2012)', kill_chain_phases=[KillChainPhase(kill_chain_name='mitre-pre-attack', phase_name='adversary-opsec')], external_references=[ExternalReference(source_name='mitre-pre-attack', url='https://attack.mitre.org/techniques/T1307', external_id='T1307'), ExternalReference(source_name='LUCKYCAT2012', description='Forward-Looking Threat Research Team. (2012). LUCKYCAT REDUX: Inside an APT Campaign with Multiple Targets in India and Japan. Retrieved March 1, 2017.')], object_marking_refs=['marking-definition--fa42a846-8d90-4e51-bc29-71d5b4802168'], x_mitre_detectable_by_common_defenses='No', x_mitre_detectable_by_common_defenses_explanation='3rd party services highly leveraged by legitimate services, hard to distinguish from background noise.  While an adversary can use their own infrastructure, most know this is a sure- re way to get caught. To add degrees of separation, they can buy or rent from another adversary or accomplice.', x_mitre_difficulty_for_adversary='Yes', x_mitre_difficulty_for_adversary_explanation='Wide range of 3rd party services for hosting, rotating, or moving C2, static data, exploits, exfiltration, etc.', x_mitre_old_attack_id='PRE-T1084', x_mitre_version='1.0'),\n",
       " AttackPattern(type='attack-pattern', id='attack-pattern--b3f36317-3940-4d71-968f-e11ac1bf6a31', created_by_ref='identity--c78cb6e5-0c4b-4611-8297-d1b8b55e40b5', created='2017-12-14T16:46:06.044Z', modified='2018-10-17T00:14:20.652Z', name=\"Aggregate individual's digital footprint\", description=\"In addition to a target's social media presence may exist a larger digital footprint, such as accounts and credentials on e-commerce sites or usernames and logins for email.  An adversary familiar with a target's username can mine to determine the target's larger digital footprint via publicly available sources. (Citation: DigitalFootprint) (Citation: trendmicro-vtech)\", kill_chain_phases=[KillChainPhase(kill_chain_name='mitre-pre-attack', phase_name='people-information-gathering')], external_references=[ExternalReference(source_name='mitre-pre-attack', url='https://attack.mitre.org/techniques/T1275', external_id='T1275'), ExternalReference(source_name='DigitalFootprint', description='Christopher Budd. (2016, June 27). The importance of understanding your digital footprint. Retrieved May 4, 2017.'), ExternalReference(source_name='trendmicro-vtech', description='Christopher Budd. (2015, December 1). Understanding the Risks of the VTech Data Breach. Retrieved May 9, 2017.')], object_marking_refs=['marking-definition--fa42a846-8d90-4e51-bc29-71d5b4802168'], x_mitre_detectable_by_common_defenses='No', x_mitre_detectable_by_common_defenses_explanation='Searching publicly available sources that cannot be monitored by a defender.', x_mitre_difficulty_for_adversary='Yes', x_mitre_difficulty_for_adversary_explanation='Information readily available through searches', x_mitre_old_attack_id='PRE-T1052', x_mitre_version='1.0'),\n",
       " AttackPattern(type='attack-pattern', id='attack-pattern--a1e8d61b-22e1-4983-8485-96420152ecd8', created_by_ref='identity--c78cb6e5-0c4b-4611-8297-d1b8b55e40b5', created='2017-12-14T16:46:06.044Z', modified='2018-10-17T00:14:20.652Z', name='Analyze hardware/software security defensive capabilities', description=\"An adversary can probe a victim's network to determine configurations. The configurations may provide opportunities to route traffic through the network in an undetected or less detectable way. (Citation: OSFingerprinting2014)\", kill_chain_phases=[KillChainPhase(kill_chain_name='mitre-pre-attack', phase_name='technical-weakness-identification')], external_references=[ExternalReference(source_name='mitre-pre-attack', url='https://attack.mitre.org/techniques/T1294', external_id='T1294'), ExternalReference(source_name='OSFingerprinting2014', description='InfoSec Institute. (2014, June 19). What You Must Know About OS Fingerprinting. Retrieved March 1, 2017.')], object_marking_refs=['marking-definition--fa42a846-8d90-4e51-bc29-71d5b4802168'], x_mitre_detectable_by_common_defenses='No', x_mitre_detectable_by_common_defenses_explanation='This can be done offline after the data has been collected.', x_mitre_difficulty_for_adversary='Yes', x_mitre_difficulty_for_adversary_explanation='Analyze network traffic to determine security filtering policies, packets dropped, etc.', x_mitre_old_attack_id='PRE-T1071', x_mitre_version='1.0'),\n",
       " AttackPattern(type='attack-pattern', id='attack-pattern--ee40d054-6e83-4302-88dc-a3af98821d8d', created_by_ref='identity--c78cb6e5-0c4b-4611-8297-d1b8b55e40b5', created='2017-12-14T16:46:06.044Z', modified='2018-10-17T00:14:20.652Z', name='Analyze social and business relationships, interests, and affiliations', description=\"Social media provides insight into the target's affiliations with groups and organizations.  Certification information can explain their technical associations and professional associations. Personal information can provide data for exploitation or even blackmail. (Citation: Scasny2015)\", kill_chain_phases=[KillChainPhase(kill_chain_name='mitre-pre-attack', phase_name='people-weakness-identification')], external_references=[ExternalReference(source_name='mitre-pre-attack', url='https://attack.mitre.org/techniques/T1295', external_id='T1295'), ExternalReference(source_name='Scasny2015', description='Gregory Scasny. (2015, September 14). Understanding Open Source Intelligence (OSINT) and its relationship to Identity Theft. Retrieved March 1, 2017.')], object_marking_refs=['marking-definition--fa42a846-8d90-4e51-bc29-71d5b4802168'], x_mitre_detectable_by_common_defenses='No', x_mitre_detectable_by_common_defenses_explanation=\"Public sources are external to the defender's organization.  Some social media sites have an option to show you when users are looking at your profile, but an adversary can evade this tracking depending on how they conduct the searches.\", x_mitre_difficulty_for_adversary='Yes', x_mitre_difficulty_for_adversary_explanation=\"Social and business relationship information for an individual can be found by examining their social media contacts (e.g., [https://www.facebook.com Facebook] and [https://www.linkedin.com LinkedIn]).  Social media also provides insight into the target's affiliations with groups and organizations.  Finally, certification information can explain their technical associations and professional associations.\", x_mitre_old_attack_id='PRE-T1072', x_mitre_version='1.0'),\n",
       " AttackPattern(type='attack-pattern', id='attack-pattern--e2aa077d-60c9-4de5-b015-a9c382877cd9', created_by_ref='identity--c78cb6e5-0c4b-4611-8297-d1b8b55e40b5', created='2017-12-14T16:46:06.044Z', modified='2018-10-17T00:14:20.652Z', name='Assess opportunities created by business deals', description='During mergers, divestitures, or other period of change in joint infrastructure or business processes there may be an opportunity for exploitation. During this type of churn, unusual requests, or other non standard practices may not be as noticeable. (Citation: RossiMergers) (Citation: MeidlHealthMergers)', kill_chain_phases=[KillChainPhase(kill_chain_name='mitre-pre-attack', phase_name='organizational-weakness-identification')], external_references=[ExternalReference(source_name='mitre-pre-attack', url='https://attack.mitre.org/techniques/T1299', external_id='T1299'), ExternalReference(source_name='RossiMergers', description='Ben Rossi. (2014, August 29). Mergers and acquisitions: a new target for cyber attack. Retrieved March 6, 2017.'), ExternalReference(source_name='MeidlHealthMergers', description='Holly Meidl. (2015, December 16). How Health Care Companies Can Reduce the Risk of Cyber-Attack During Mergers and Acquisitions. Retrieved March 6, 2017.')], object_marking_refs=['marking-definition--fa42a846-8d90-4e51-bc29-71d5b4802168'], x_mitre_detectable_by_common_defenses='No', x_mitre_detectable_by_common_defenses_explanation='Most of this activity would target partners and business processes.  Partners would not report.  Difficult to tie this activity to a cyber attack.', x_mitre_difficulty_for_adversary='No', x_mitre_difficulty_for_adversary_explanation='Mapping joint infrastructure and business processes is difficult without insider knowledge or SIGINT capability.  While a merger creates and opportunity to exploit potentially cumbersome or sloppy business processes, advance notice of a merger is difficult; merger information is typically close-hold until the deal is done.', x_mitre_old_attack_id='PRE-T1076', x_mitre_version='1.0'),\n",
       " AttackPattern(type='attack-pattern', id='attack-pattern--a86a21a4-6304-4df3-aa6d-08114c47d48f', created_by_ref='identity--c78cb6e5-0c4b-4611-8297-d1b8b55e40b5', created='2017-12-14T16:46:06.044Z', modified='2018-10-17T00:14:20.652Z', name='Assign KITs/KIQs into categories', description='Leadership organizes Key Intelligence Topics (KITs) and Key Intelligence Questions (KIQs) into three types of categories and creates more if necessary.  An example of a description of key players KIT would be when an adversary assesses the cyber defensive capabilities of a nation-state threat actor. (Citation: Herring1999)', kill_chain_phases=[KillChainPhase(kill_chain_name='mitre-pre-attack', phase_name='priority-definition-planning')], external_references=[ExternalReference(source_name='mitre-pre-attack', url='https://attack.mitre.org/techniques/T1228', external_id='T1228'), ExternalReference(source_name='Herring1999', description='Jan P. Herring. (1999). Key Intelligence Topics: A Process to Identify and Define Intelligence Needs. Retrieved March 2, 2017.')], object_marking_refs=['marking-definition--fa42a846-8d90-4e51-bc29-71d5b4802168'], x_mitre_detectable_by_common_defenses='No', x_mitre_detectable_by_common_defenses_explanation='Normally, defender is unable to detect.  Few agencies and commercial organizations may have unique insights.', x_mitre_difficulty_for_adversary='Yes', x_mitre_difficulty_for_adversary_explanation='Normal aspect of adversary planning lifecycle.  May not be done by all adversaries.', x_mitre_old_attack_id='PRE-T1005', x_mitre_version='1.0'),\n",
       " AttackPattern(type='attack-pattern', id='attack-pattern--4886e3c2-468b-4e26-b7e5-2031d995d13a', created_by_ref='identity--c78cb6e5-0c4b-4611-8297-d1b8b55e40b5', created='2017-12-14T16:46:06.044Z', modified='2018-10-17T00:14:20.652Z', name='Build or acquire exploits', description='An exploit takes advantage of a bug or vulnerability in order to cause unintended or unanticipated behavior to occur on computer hardware or software. The adversary may use or modify existing exploits when those exploits are still relevant to the environment they are trying to compromise. (Citation: NYTStuxnet) (Citation: NationsBuying)', kill_chain_phases=[KillChainPhase(kill_chain_name='mitre-pre-attack', phase_name='build-capabilities')], external_references=[ExternalReference(source_name='mitre-pre-attack', url='https://attack.mitre.org/techniques/T1349', external_id='T1349'), ExternalReference(source_name='NYTStuxnet', description='William J. Broad, John Markoff, and David E. Sanger. (2011, January 15). Israeli Test on Worm Called Crucial in Iran Nuclear Delay. Retrieved March 1, 2017.'), ExternalReference(source_name='NationsBuying', description='Nicole Perlroth and David E. Sanger. (2013, July 12). Nations Buying as Hackers Sell Flaws in Computer Code. Retrieved March 9, 2017.')], object_marking_refs=['marking-definition--fa42a846-8d90-4e51-bc29-71d5b4802168'], x_mitre_detectable_by_common_defenses='No', x_mitre_detectable_by_common_defenses_explanation='Adversary will likely use code repositories, but development will be performed on their local systems.', x_mitre_difficulty_for_adversary='Yes', x_mitre_difficulty_for_adversary_explanation='Several exploit repositories and tool suites exist for re-use and tailoring.', x_mitre_old_attack_id='PRE-T1126', x_mitre_version='1.0'),\n",
       " AttackPattern(type='attack-pattern', id='attack-pattern--9a8c47f6-ae69-4044-917d-4b1602af64d9', created_by_ref='identity--c78cb6e5-0c4b-4611-8297-d1b8b55e40b5', created='2017-12-14T16:46:06.044Z', modified='2018-10-17T00:14:20.652Z', name='Choose pre-compromised persona and affiliated accounts', description='For attacks incorporating social engineering the utilization of an on-line persona is important. Utilizing an existing persona with compromised accounts may engender a level of trust in a potential victim if they have a relationship, or knowledge of, the compromised persona. (Citation: AnonHBGary) (Citation: Hacked Social Media Accounts)', kill_chain_phases=[KillChainPhase(kill_chain_name='mitre-pre-attack', phase_name='persona-development')], external_references=[ExternalReference(source_name='mitre-pre-attack', url='https://attack.mitre.org/techniques/T1343', external_id='T1343'), ExternalReference(source_name='AnonHBGary', description='PETER BRIGHT. (2011, February 15). Anonymous speaks: the inside story of the HBGary hack. Retrieved March 9, 2017.'), ExternalReference(source_name='Hacked Social Media Accounts', description='Marcus Habert. (2015, November 8). What Happens to Hacked Social Media Accounts. Retrieved March 28, 2017.')], object_marking_refs=['marking-definition--fa42a846-8d90-4e51-bc29-71d5b4802168'], x_mitre_detectable_by_common_defenses='No', x_mitre_detectable_by_common_defenses_explanation='Possible to detect compromised credentials if alerting from a service provider is enabled and acted upon by the individual.', x_mitre_difficulty_for_adversary='Yes', x_mitre_difficulty_for_adversary_explanation='It is relatively easy and low cost to purchase compromised credentials.  Mining social media sites offers open source information about a particular target.  Most users tend to reuse passwords across sites and are not paranoid enough to check and see if spoofed sites from their persona exist across current social media.', x_mitre_old_attack_id='PRE-T1120', x_mitre_version='1.0'),\n",
       " AttackPattern(type='attack-pattern', id='attack-pattern--4aeafdb3-eb0b-4e8e-b93f-95cd499088b4', created_by_ref='identity--c78cb6e5-0c4b-4611-8297-d1b8b55e40b5', created='2017-12-14T16:46:06.044Z', modified='2018-10-17T00:14:20.652Z', name='Compromise of externally facing system', description=\"This technique has been deprecated. Please see ATT&CK's Initial Access and Execution tactics for replacement techniques.\\n\\nExternally facing systems allow connections from outside the network as a normal course of operations.  Externally facing systems may include, but are not limited to, websites, web portals, email, DNS, FTP, VPN concentrators, and boarder routers and firewalls. These systems could be in a demilitarized zone (DMZ) or may be within other parts of the internal environment. (Citation: CylanceOpCleaver) (Citation: DailyTechAntiSec)\", kill_chain_phases=[KillChainPhase(kill_chain_name='mitre-pre-attack', phase_name='compromise')], external_references=[ExternalReference(source_name='mitre-pre-attack', url='https://attack.mitre.org/techniques/T1388', external_id='T1388'), ExternalReference(source_name='CylanceOpCleaver', description='CYLANCE. (n.d.). Operation Cleaver. Retrieved March 6, 2017.'), ExternalReference(source_name='DailyTechAntiSec', description=\"Jason Mick. (2011, July 12). AntiSec Exposes U.S. Soldiers' S/Ns, Passwords, Vows Attack on Monsanto. Retrieved March 9, 2017.\")], object_marking_refs=['marking-definition--fa42a846-8d90-4e51-bc29-71d5b4802168'], x_mitre_deprecated=True, x_mitre_detectable_by_common_defenses='Yes', x_mitre_detectable_by_common_defenses_explanation='Most DMZs are monitored but are also designed so that if they are compromised, the damage/risk is limited.', x_mitre_difficulty_for_adversary='Yes', x_mitre_difficulty_for_adversary_explanation='DMZ environments are specifically designed to be isolated because one assumes they will ultimately be compromised by the adversary.', x_mitre_old_attack_id='PRE-T1165', x_mitre_version='1.0'),\n",
       " AttackPattern(type='attack-pattern', id='attack-pattern--af358cad-eb71-4e91-a752-236edc237dae', created_by_ref='identity--c78cb6e5-0c4b-4611-8297-d1b8b55e40b5', created='2017-12-14T16:46:06.044Z', modified='2018-10-17T00:14:20.652Z', name='Conduct social engineering', description='Social Engineering is the practice of manipulating people in order to get them to divulge information or take an action. (Citation: SEAttackVectors) (Citation: BeachSE2003)', kill_chain_phases=[KillChainPhase(kill_chain_name='mitre-pre-attack', phase_name='people-information-gathering')], external_references=[ExternalReference(source_name='mitre-pre-attack', url='https://attack.mitre.org/techniques/T1268', external_id='T1268'), ExternalReference(source_name='SEAttackVectors', description='Mathew J. Schwartz. (2011, September 14). Social Engineering Leads APT Attack Vectors. Retrieved March 5, 2017.'), ExternalReference(source_name='BeachSE2003', description='Gary Beach. (2003, October 1). Kevin Mitnick on Social Engineering Hackers. Retrieved March 5, 2017.')], object_marking_refs=['marking-definition--fa42a846-8d90-4e51-bc29-71d5b4802168'], x_mitre_detectable_by_common_defenses='No', x_mitre_detectable_by_common_defenses_explanation='No technical means to detect an adversary collecting information about a target.  Any detection would be based upon strong OPSEC policy implementation.', x_mitre_difficulty_for_adversary='Yes', x_mitre_difficulty_for_adversary_explanation='Very effective technique for the adversary that does not require any formal training and relies upon finding just one person who exhibits poor judgement.', x_mitre_old_attack_id='PRE-T1045', x_mitre_version='1.0'),\n",
       " AttackPattern(type='attack-pattern', id='attack-pattern--fddd81e9-dd3d-477e-9773-4fb8ae227234', created_by_ref='identity--c78cb6e5-0c4b-4611-8297-d1b8b55e40b5', created='2017-12-14T16:46:06.044Z', modified='2018-10-17T00:14:20.652Z', name='Create custom payloads', description='A payload is the part of the malware which performs a malicious action. The adversary may create custom payloads when none exist with the needed capability or when targeting a specific environment. (Citation: APT1)', kill_chain_phases=[KillChainPhase(kill_chain_name='mitre-pre-attack', phase_name='build-capabilities')], external_references=[ExternalReference(source_name='mitre-pre-attack', url='https://attack.mitre.org/techniques/T1345', external_id='T1345'), ExternalReference(source_name='APT1', description='Mandiant. (n.d.). APT1: Exposing One of China’s Cyber Espionage Units. Retrieved March 5, 2017.')], object_marking_refs=['marking-definition--fa42a846-8d90-4e51-bc29-71d5b4802168'], x_mitre_detectable_by_common_defenses='No', x_mitre_detectable_by_common_defenses_explanation='It is likely that an adversary will create and develop payloads on inaccessible or unknown networks for OPSEC reasons.', x_mitre_difficulty_for_adversary='No', x_mitre_difficulty_for_adversary_explanation='Specialized tools exist for research, development, and testing of virus/malware payloads.', x_mitre_old_attack_id='PRE-T1122', x_mitre_version='1.0'),\n",
       " AttackPattern(type='attack-pattern', id='attack-pattern--76c9e8cb-52e1-4ddc-80d4-5f7231842e06', created_by_ref='identity--c78cb6e5-0c4b-4611-8297-d1b8b55e40b5', created='2017-12-14T16:46:06.044Z', modified='2018-10-17T00:14:20.652Z', name='DNS poisoning', description=\"This technique has been deprecated. Please see ATT&CK's Initial Access and Execution tactics for replacement techniques.\\n\\nDNS (cache) poisoning is the corruption of an Internet server's domain name system table by replacing an Internet address with that of another, rogue address. When a Web user seeks the page with that address, the request is redirected by the rogue entry in the table to a different address. (Citation: Google DNS Poisoning) (Citation: DNS Poisoning China) (Citation: Mexico Modem DNS Poison)\", kill_chain_phases=[KillChainPhase(kill_chain_name='mitre-pre-attack', phase_name='launch')], external_references=[ExternalReference(source_name='mitre-pre-attack', url='https://attack.mitre.org/techniques/T1382', external_id='T1382'), ExternalReference(source_name='Google DNS Poisoning', description='Cindy Liu. (2016, March 30). Google DNS Poisoning Follows Brief Unblocking. Retrieved March 31, 2017.'), ExternalReference(source_name='DNS Poisoning China', description='John Leyden. (2014, January 21). DNS poisoning slams web traffic from millions in China into the wrong hole. Retrieved March 31, 2017.'), ExternalReference(source_name='Mexico Modem DNS Poison', description='Paul Oliveria. (2008, January 11). Targeted Attack in Mexico: DNS Poisoning via Modems. Retrieved April 1, 2017.')], object_marking_refs=['marking-definition--fa42a846-8d90-4e51-bc29-71d5b4802168'], x_mitre_deprecated=True, x_mitre_detectable_by_common_defenses='Partial', x_mitre_detectable_by_common_defenses_explanation='Tracking multiple DNS infrastructures will likely require multiple tools/services, more advanced analytics, and mature detection/response capabilities in order to be effective.   Few defenders demonstrate the mature processes to immediately detect and mitigate against the use of this technique.', x_mitre_difficulty_for_adversary='Yes', x_mitre_difficulty_for_adversary_explanation='Adversary poisons DNS entry to redirect traffic designated for one site to route to an adversary controlled resource.', x_mitre_old_attack_id='PRE-T1159', x_mitre_version='1.0'),\n",
       " AttackPattern(type='attack-pattern', id='attack-pattern--dfa4eaf4-50d9-49de-89e9-d33f579f3e05', created_by_ref='identity--c78cb6e5-0c4b-4611-8297-d1b8b55e40b5', created='2017-12-14T16:46:06.044Z', modified='2018-10-17T00:14:20.652Z', name='Determine 3rd party infrastructure services', description='A wide variety of cloud, virtual private services, hosting, compute, and storage solutions are available as 3rd party infrastructure services. These services could provide an adversary with another avenue of approach or compromise. (Citation: LUCKYCAT2012) (Citation: Schneier-cloud) (Citation: Computerworld-suppliers)', kill_chain_phases=[KillChainPhase(kill_chain_name='mitre-pre-attack', phase_name='organizational-information-gathering')], external_references=[ExternalReference(source_name='mitre-pre-attack', url='https://attack.mitre.org/techniques/T1284', external_id='T1284'), ExternalReference(source_name='LUCKYCAT2012', description='Forward-Looking Threat Research Team. (2012). LUCKYCAT REDUX: Inside an APT Campaign with Multiple Targets in India and Japan. Retrieved March 1, 2017.'), ExternalReference(source_name='Schneier-cloud', description='Bruce Schneier. (2017, April 5). APT10 and Cloud Hopper. Retrieved May 9, 2017.'), ExternalReference(source_name='Computerworld-suppliers', description='Michael Kan. (2017, April 4). Chinese hackers go after third-party IT suppliers to steal data. Retrieved May 9, 2017.')], object_marking_refs=['marking-definition--fa42a846-8d90-4e51-bc29-71d5b4802168'], x_mitre_detectable_by_common_defenses='No', x_mitre_detectable_by_common_defenses_explanation='Adversary searches publicly available sources and may find this information on the 3rd party web site listing new customers/clients.', x_mitre_difficulty_for_adversary='Yes', x_mitre_difficulty_for_adversary_explanation='Press releases may reveal this information particularly when it is an expected cost savings or improvement for scalability/reliability.', x_mitre_old_attack_id='PRE-T1061', x_mitre_version='1.0'),\n",
       " AttackPattern(type='attack-pattern', id='attack-pattern--a2fc93cd-e371-4755-9305-2615b6753d91', created_by_ref='identity--c78cb6e5-0c4b-4611-8297-d1b8b55e40b5', created='2017-12-14T16:46:06.044Z', modified='2019-02-05T23:14:16.924Z', name='Determine external network trust dependencies', description='Network trusts enable communications between different networks with specific accesses and permissions. Network trusts could include the implementation of domain trusts or the use of virtual private networks (VPNs). (Citation: CuckoosEgg) (Citation: CuckoosEggWikipedia) (Citation: KGBComputerMe)', kill_chain_phases=[KillChainPhase(kill_chain_name='mitre-pre-attack', phase_name='technical-information-gathering')], external_references=[ExternalReference(source_name='mitre-pre-attack', url='https://attack.mitre.org/techniques/T1259', external_id='T1259'), ExternalReference(source_name='CuckoosEgg', description=\"Cliff Stoll. (1089). The Cuckoo's Egg. Retrieved August 8, 2017.\"), ExternalReference(source_name='CuckoosEggWikipedia', description=\"Wikipedia contributors. (2017, January 18). The Cuckoo's Egg. Retrieved March 5, 2017.\"), ExternalReference(source_name='KGBComputerMe', description='WBGH Nova. (1990, October 3). The KGB, the Computer and Me. Retrieved March 5, 2017.')], object_marking_refs=['marking-definition--fa42a846-8d90-4e51-bc29-71d5b4802168'], x_mitre_detectable_by_common_defenses='No', x_mitre_detectable_by_common_defenses_explanation='This is not easily performed remotely and therefore not a detectable event.  If the adversary can sniff traffic to deduce trust relations, this is a passive activity and not detectable.', x_mitre_difficulty_for_adversary='No', x_mitre_difficulty_for_adversary_explanation='Determining trust relationships once internal to a network is trivial.  Simple tools like trace route can show evidence of firewalls or VPNs and then hosts on the either side of the firewall indicating a different trusted network. Active Directory command line tools can also identify separate trusted networks.\\n\\nIf completely external to a network, sniffing traffic (if possible) could also reveal the communications protocols that could be guessed to be a trusted network connection (e.g., IPsec, maybe SSL, etc.) though this is error-prone. \\n\\nWith no other access, this is hard for an adversary to do completely from a remote vantage point.', x_mitre_old_attack_id='PRE-T1036', x_mitre_version='1.0'),\n",
       " AttackPattern(type='attack-pattern', id='attack-pattern--b9148981-152a-4a19-95c1-962803f5c9af', created_by_ref='identity--c78cb6e5-0c4b-4611-8297-d1b8b55e40b5', created='2017-12-14T16:46:06.044Z', modified='2018-10-17T00:14:20.652Z', name='Determine secondary level tactical element', description='The secondary level tactical element the adversary seeks to attack is the specific network or area of a network that is vulnerable to attack.  Within the corporate network example, the secondary level tactical element might be a SQL server or a domain controller with a known vulnerability. (Citation: CyberAdversaryBehavior) (Citation: JP3-60) (Citation: JP3-12R) (Citation: DoD Cyber 2015)', kill_chain_phases=[KillChainPhase(kill_chain_name='mitre-pre-attack', phase_name='target-selection')], external_references=[ExternalReference(source_name='mitre-pre-attack', url='https://attack.mitre.org/techniques/T1244', external_id='T1244'), ExternalReference(source_name='CyberAdversaryBehavior', description='Elizabeth Van Ruitenbeek, Ken Keefe, William H. Sanders, and Carol Muehrcke. (2010). Characterizing the Behavior of Cyber Adversaries: The Means, Motive, and Opportunity of Cyberattacks. Retrieved March 5, 2017.'), ExternalReference(source_name='JP3-60', description='Joint Chiefs of Staff. (2013, January 31). Joint Targeting. Retrieved May 19, 2017.'), ExternalReference(source_name='JP3-12R', description='Joint Chiefs of Staff. (2013, February 5). Cyberspace Operations. Retrieved May 19, 2017.'), ExternalReference(source_name='DoD Cyber 2015', description='Department of Defense. (2015, April). The Department of Defense Cyber Strategy. Retrieved May 19, 2017.')], object_marking_refs=['marking-definition--fa42a846-8d90-4e51-bc29-71d5b4802168'], x_mitre_detectable_by_common_defenses='No', x_mitre_detectable_by_common_defenses_explanation='Normally, defender is unable to detect.  May change for special use cases or adversary and defender overlays.', x_mitre_difficulty_for_adversary='Yes', x_mitre_difficulty_for_adversary_explanation='This is the normal adversary targeting cycle where they utilize our poor OPSEC practices to their advantage.', x_mitre_old_attack_id='PRE-T1021', x_mitre_version='1.0'),\n",
       " AttackPattern(type='attack-pattern', id='attack-pattern--ef0f816a-d561-4953-84c6-2a2936c96957', created_by_ref='identity--c78cb6e5-0c4b-4611-8297-d1b8b55e40b5', created='2017-12-14T16:46:06.044Z', modified='2018-10-17T00:14:20.652Z', name='Discover target logon/email address format', description='Email addresses, logon credentials, and other forms of online identification typically share a common format. This makes guessing other credentials within the same domain easier. For example if a known email address is first.last@company.com it is likely that others in the company will have an email in the same format. (Citation: RSA-APTRecon)', kill_chain_phases=[KillChainPhase(kill_chain_name='mitre-pre-attack', phase_name='technical-information-gathering')], external_references=[ExternalReference(source_name='mitre-pre-attack', url='https://attack.mitre.org/techniques/T1255', external_id='T1255'), ExternalReference(source_name='RSA-APTRecon', description='Rotem Kerner. (2015, October). RECONNAISSANCE: A Walkthrough of the “APT” Intelligence Gathering Process. Retrieved March 1, 2017.')], object_marking_refs=['marking-definition--fa42a846-8d90-4e51-bc29-71d5b4802168'], x_mitre_detectable_by_common_defenses='No', x_mitre_detectable_by_common_defenses_explanation='Easily determined and not intended to be protected information. Publicly collected and shared repositories of email addresses exist.', x_mitre_difficulty_for_adversary='Yes', x_mitre_difficulty_for_adversary_explanation='Scraping of known email addresses from the target will likely reveal the target standard for address/username format.  This information is easily discoverable.', x_mitre_old_attack_id='PRE-T1032', x_mitre_version='1.0'),\n",
       " AttackPattern(type='attack-pattern', id='attack-pattern--6c79d654-6506-4f33-b48f-c80babdcc52d', created_by_ref='identity--c78cb6e5-0c4b-4611-8297-d1b8b55e40b5', created='2017-12-14T16:46:06.044Z', modified='2018-10-17T00:14:20.652Z', name='Dumpster dive', description='Dumpster diving is looking through waste for information on technology, people, and/or organizational items of interest. (Citation: FriedDumpsters)', kill_chain_phases=[KillChainPhase(kill_chain_name='mitre-pre-attack', phase_name='organizational-information-gathering')], external_references=[ExternalReference(source_name='mitre-pre-attack', url='https://attack.mitre.org/techniques/T1286', external_id='T1286'), ExternalReference(source_name='FriedDumpsters', description='Robert B. Fried. (n.d.). Dumpsters: Beware of Treasures. Retrieved March 5, 2017.')], object_marking_refs=['marking-definition--fa42a846-8d90-4e51-bc29-71d5b4802168'], x_mitre_detectable_by_common_defenses='Yes', x_mitre_detectable_by_common_defenses_explanation='Strong physical security and monitoring will detect this behavior if performed on premises.', x_mitre_difficulty_for_adversary='Yes', x_mitre_difficulty_for_adversary_explanation='Not difficult if waste is placed in an unsecured or minimally secured area before collection.', x_mitre_old_attack_id='PRE-T1063', x_mitre_version='1.0'),\n",
       " AttackPattern(type='attack-pattern', id='attack-pattern--2b9a666e-bd59-4f67-9031-ed41b428e04a', created_by_ref='identity--c78cb6e5-0c4b-4611-8297-d1b8b55e40b5', created='2017-12-14T16:46:06.044Z', modified='2018-10-17T00:14:20.652Z', name='Acquire OSINT data sets and information', description='Open source intelligence (OSINT) provides free, readily available information about a target while providing the target no indication they are of interest.  Such information can assist an adversary in crafting a successful approach for compromise. (Citation: RSA-APTRecon)', kill_chain_phases=[KillChainPhase(kill_chain_name='mitre-pre-attack', phase_name='people-information-gathering')], external_references=[ExternalReference(source_name='mitre-pre-attack', url='https://attack.mitre.org/techniques/T1266', external_id='T1266'), ExternalReference(source_name='RSA-APTRecon', description='Rotem Kerner. (2015, October). RECONNAISSANCE: A Walkthrough of the “APT” Intelligence Gathering Process. Retrieved March 1, 2017.')], object_marking_refs=['marking-definition--fa42a846-8d90-4e51-bc29-71d5b4802168'], x_mitre_detectable_by_common_defenses='No', x_mitre_detectable_by_common_defenses_explanation='This activity is indistinguishable from legitimate business uses and easy to obtain.', x_mitre_difficulty_for_adversary='Yes', x_mitre_difficulty_for_adversary_explanation='Possible to gather digital intelligence about a person is easily aided by social networking sites, free/for fee people search engines, and publicly available information (e.g., county databases on tickets/DUIs).', x_mitre_old_attack_id='PRE-T1043', x_mitre_version='1.0'),\n",
       " AttackPattern(type='attack-pattern', id='attack-pattern--1a295f87-af63-4d94-b130-039d6221fb11', created_by_ref='identity--c78cb6e5-0c4b-4611-8297-d1b8b55e40b5', created='2017-12-14T16:46:06.044Z', modified='2018-10-17T00:14:20.652Z', name='Acquire and/or use 3rd party software services', description='A wide variety of 3rd party software services  are available (e.g., [Twitter](https://twitter.com), [Dropbox](https://www.dropbox.com), [GoogleDocs](https://www.google.com/docs/about)). Use of these solutions allow an adversary to stage, launch, and execute an attack from infrastructure that does not physically tie back to them and can be rapidly provisioned, modified, and shut down. (Citation: LUCKYCAT2012) (Citation: Nemucod Facebook)', kill_chain_phases=[KillChainPhase(kill_chain_name='mitre-pre-attack', phase_name='adversary-opsec')], external_references=[ExternalReference(source_name='mitre-pre-attack', url='https://attack.mitre.org/techniques/T1308', external_id='T1308'), ExternalReference(source_name='LUCKYCAT2012', description='Forward-Looking Threat Research Team. (2012). LUCKYCAT REDUX: Inside an APT Campaign with Multiple Targets in India and Japan. Retrieved March 1, 2017.'), ExternalReference(source_name='Nemucod Facebook', description='Bart Blaze. (2016, November 20). Nemucod downloader spreading via Facebook. Retrieved March 28, 2017.')], object_marking_refs=['marking-definition--fa42a846-8d90-4e51-bc29-71d5b4802168'], x_mitre_detectable_by_common_defenses='No', x_mitre_detectable_by_common_defenses_explanation='Defender will not have visibility over account creation for 3rd party software services.', x_mitre_difficulty_for_adversary='Yes', x_mitre_difficulty_for_adversary_explanation='3rd party services like these listed are freely available.', x_mitre_old_attack_id='PRE-T1085', x_mitre_version='1.0'),\n",
       " AttackPattern(type='attack-pattern', id='attack-pattern--fe421ab9-c8f3-42f7-9ae1-5d6c324cc925', created_by_ref='identity--c78cb6e5-0c4b-4611-8297-d1b8b55e40b5', created='2017-12-14T16:46:06.044Z', modified='2018-10-17T00:14:20.652Z', name='Analyze application security posture', description=\"An adversary can probe a victim's network to determine configurations. The configurations may provide opportunities to route traffic through the network in an undetected or less detectable way. (Citation: Li2014ExploitKits) (Citation: RecurlyGHOST)\", kill_chain_phases=[KillChainPhase(kill_chain_name='mitre-pre-attack', phase_name='technical-weakness-identification')], external_references=[ExternalReference(source_name='mitre-pre-attack', url='https://attack.mitre.org/techniques/T1293', external_id='T1293'), ExternalReference(source_name='Li2014ExploitKits', description='Brooks Li. (2014, December 17). What’s New in Exploit Kits in 2014. Retrieved March 6, 2017.'), ExternalReference(source_name='RecurlyGHOST', description='Mark Poole. (2015, January 27). GHOST vulnerability (CVE-2015-0235) in popular Linux library glibc allows remote code execution. Retrieved March 6, 2017.')], object_marking_refs=['marking-definition--fa42a846-8d90-4e51-bc29-71d5b4802168'], x_mitre_detectable_by_common_defenses='No', x_mitre_detectable_by_common_defenses_explanation='This can be done offline after the data has been collected.', x_mitre_difficulty_for_adversary='Yes', x_mitre_difficulty_for_adversary_explanation='Analyze technical scanning results to identify weaknesses in the configuration or architecture.  Many of the common tools highlight these weakness automatically (e.g., software security scanning tools or published vulnerabilities about commonly used libraries).', x_mitre_old_attack_id='PRE-T1070', x_mitre_version='1.0'),\n",
       " AttackPattern(type='attack-pattern', id='attack-pattern--7baccb84-356c-4e89-8c5d-58e701f033fc', created_by_ref='identity--c78cb6e5-0c4b-4611-8297-d1b8b55e40b5', created='2017-12-14T16:46:06.044Z', modified='2018-10-17T00:14:20.652Z', name='Analyze organizational skillsets and deficiencies', description='Analyze strengths and weaknesses of the target for potential areas of where to focus compromise efforts. (Citation: FakeLinkedIn)', kill_chain_phases=[KillChainPhase(kill_chain_name='mitre-pre-attack', phase_name='organizational-weakness-identification')], external_references=[ExternalReference(source_name='mitre-pre-attack', url='https://attack.mitre.org/techniques/T1300', external_id='T1300'), ExternalReference(source_name='FakeLinkedIn', description='LIFARS. (2015, October 8). Hackers Fake LinkedIn Profiles to Scout Targets. Retrieved March 5, 2017.')], object_marking_refs=['marking-definition--fa42a846-8d90-4e51-bc29-71d5b4802168'], x_mitre_detectable_by_common_defenses='No', x_mitre_detectable_by_common_defenses_explanation='This can be done offline after the data has been collected.', x_mitre_difficulty_for_adversary='Yes', x_mitre_difficulty_for_adversary_explanation='Analyze strengths and weaknesses of the target for potential areas of where to focus compromise efforts.', x_mitre_old_attack_id='PRE-T1077', x_mitre_version='1.0'),\n",
       " AttackPattern(type='attack-pattern', id='attack-pattern--d3dca536-8bf0-4e43-97c1-44a2353c3d69', created_by_ref='identity--c78cb6e5-0c4b-4611-8297-d1b8b55e40b5', created='2017-12-14T16:46:06.044Z', modified='2018-10-17T00:14:20.652Z', name='Anonymity services', description=\"Anonymity services reduce the amount of information available that can be used to track an adversary's activities.  Multiple options are available to hide activity, limit tracking, and increase anonymity. (Citation: TOR Design) (Citation: Stratfor2012)\", kill_chain_phases=[KillChainPhase(kill_chain_name='mitre-pre-attack', phase_name='adversary-opsec')], external_references=[ExternalReference(source_name='mitre-pre-attack', url='https://attack.mitre.org/techniques/T1306', external_id='T1306'), ExternalReference(source_name='TOR Design', description='Roger Dingledine, Nick Mathewson, Paul Syverson. (2004, August). Tor: The Second-Generation Onion Router. Retrieved March 28, 2017.'), ExternalReference(source_name='Stratfor2012', description='Sean Gallagher. (2012, March 6). Inside the hacking of Stratfor: the FBI’s case against Antisec member Anarchaos. Retrieved March 1, 2017.')], object_marking_refs=['marking-definition--fa42a846-8d90-4e51-bc29-71d5b4802168'], x_mitre_detectable_by_common_defenses='No', x_mitre_detectable_by_common_defenses_explanation='Depends on service.  Some are easy to detect, but are hard to trace (e.g., [https://torproject.org TOR]).', x_mitre_difficulty_for_adversary='Yes', x_mitre_difficulty_for_adversary_explanation='Easy access to anonymizers, quasi-anonymous services like remailers, [https://torproject.org TOR], relays, burner phones, etc.', x_mitre_old_attack_id='PRE-T1083', x_mitre_version='1.0'),\n",
       " AttackPattern(type='attack-pattern', id='attack-pattern--31a57c70-6709-4d06-a473-c3df1f74c1d4', created_by_ref='identity--c78cb6e5-0c4b-4611-8297-d1b8b55e40b5', created='2017-12-14T16:46:06.044Z', modified='2018-10-17T00:14:20.652Z', name='Assess security posture of physical locations', description='Physical access may be required for certain types of adversarial actions. (Citation: CyberPhysicalAssessment) (Citation: CriticalInfrastructureAssessment)', kill_chain_phases=[KillChainPhase(kill_chain_name='mitre-pre-attack', phase_name='organizational-weakness-identification')], external_references=[ExternalReference(source_name='mitre-pre-attack', url='https://attack.mitre.org/techniques/T1302', external_id='T1302'), ExternalReference(source_name='CyberPhysicalAssessment', description='Doug MacDonald, Samuel L Clements, Scott W Patrick, Casey Perkins, George Muller, Mary J Lancaster, Will Hutton. (2013, February). Cyber/physical security vulnerability assessment integration. Retrieved March 6, 2017.'), ExternalReference(source_name='CriticalInfrastructureAssessment', description='J. Depoy, J. Phelan, P. Sholander, B. Smith, G.B. Varnado and G. Wyss. (2015). RISK ASSESSMENT for PHYSICAL AND CYBER ATTACKS on CRITICAL INFRASTRUCTURES. Retrieved March 6, 2017.')], object_marking_refs=['marking-definition--fa42a846-8d90-4e51-bc29-71d5b4802168'], x_mitre_detectable_by_common_defenses='Yes', x_mitre_detectable_by_common_defenses_explanation='Physical security is often unaware of implications of physical access to network.  However, some organizations have thorough physical security measures that would log and report attempted incursions, perimeter breaches, unusual RF at a site, etc.', x_mitre_difficulty_for_adversary='Yes', x_mitre_difficulty_for_adversary_explanation='Social engineering and OSINT are still generally successful.  Physical locations of offices/sites are easily determined.  Monitoring for other sites of interest, such as backup storage vendors, is also easy to accomplish.', x_mitre_old_attack_id='PRE-T1079', x_mitre_version='1.0'),\n",
       " AttackPattern(type='attack-pattern', id='attack-pattern--4dfb98ea-03cc-4a9c-a3a7-b22e14f126c4', created_by_ref='identity--c78cb6e5-0c4b-4611-8297-d1b8b55e40b5', created='2017-12-14T16:46:06.044Z', modified='2018-10-17T00:14:20.652Z', name='Authentication attempt', description=\"This technique has been deprecated. Please see ATT&CK's Initial Access and Execution tactics for replacement techniques.\\n\\nAttempt to use default vendor credentials, brute force credentials, or previously obtained legitimate credentials to authenticate remotely. This access could be to a web portal, through a VPN, or in a phone app. (Citation: Remote Access Healthcare) (Citation: RDP Point of Sale)\", kill_chain_phases=[KillChainPhase(kill_chain_name='mitre-pre-attack', phase_name='launch')], external_references=[ExternalReference(source_name='mitre-pre-attack', url='https://attack.mitre.org/techniques/T1381', external_id='T1381'), ExternalReference(source_name='Remote Access Healthcare', description='Gary Glover. (2015, June 25). Remote access threats are imminent. Retrieved March 31, 2017.'), ExternalReference(source_name='RDP Point of Sale', description='Brian Prince. (2014, July 31). Hackers Turn Remote Desktop Tools Into Gateways for Point-of-Sale Malware Attacks. Retrieved March 31, 2017.')], object_marking_refs=['marking-definition--fa42a846-8d90-4e51-bc29-71d5b4802168'], x_mitre_deprecated=True, x_mitre_detectable_by_common_defenses='Partial', x_mitre_detectable_by_common_defenses_explanation='This is possible with diligent monitoring of login anomalies, expected user behavior/location.  If the adversary uses legitimate credentials, it may go undetected.', x_mitre_difficulty_for_adversary='Yes', x_mitre_difficulty_for_adversary_explanation='Attempt to use default vendor credentials, brute force credentials, or previously obtained legitimate credentials.  This is increasingly difficult to obtain access when two-factor authentication mechanisms are employed.', x_mitre_old_attack_id='PRE-T1158', x_mitre_version='1.0'),\n",
       " AttackPattern(type='attack-pattern', id='attack-pattern--9108e212-1c94-4f8d-be76-1aad9b4c86a4', created_by_ref='identity--c78cb6e5-0c4b-4611-8297-d1b8b55e40b5', created='2017-12-14T16:46:06.044Z', modified='2018-10-17T00:14:20.652Z', name='Build social network persona', description='For attacks incorporating social engineering the utilization of an on-line persona is important. These personas may be fictitious or impersonate real people. The persona may exist on a single site or across multiple sites ([Facebook](https://www.facebook.com), [LinkedIn](https://www.linkedin.com), [Twitter](https://twitter.com), [Google+](https://plus.google.com), etc.). (Citation: NEWSCASTER2014) (Citation: BlackHatRobinSage) (Citation: RobinSageInterview)', kill_chain_phases=[KillChainPhase(kill_chain_name='mitre-pre-attack', phase_name='persona-development')], external_references=[ExternalReference(source_name='mitre-pre-attack', url='https://attack.mitre.org/techniques/T1341', external_id='T1341'), ExternalReference(source_name='NEWSCASTER2014', description='Mike Lennon. (2014, May 29). Iranian Hackers Targeted US Officials in Elaborate Social Media Attack Operation. Retrieved March 1, 2017.'), ExternalReference(source_name='BlackHatRobinSage', description='Thomas Ryan. (2010). “Getting In Bed with Robin Sage.”. Retrieved March 6, 2017.'), ExternalReference(source_name='RobinSageInterview', description='Joan Goodchild. (2010, July 8). The Robin Sage experiment: Fake profile fools security pros. Retrieved March 6, 2017.')], object_marking_refs=['marking-definition--fa42a846-8d90-4e51-bc29-71d5b4802168'], x_mitre_detectable_by_common_defenses='No', x_mitre_detectable_by_common_defenses_explanation='Unless there is some threat intelligence reporting, these users are hard to differentiate.', x_mitre_difficulty_for_adversary='Yes', x_mitre_difficulty_for_adversary_explanation='Performing activities like typical users, but with specific intent in mind.', x_mitre_old_attack_id='PRE-T1118', x_mitre_version='1.0'),\n",
       " AttackPattern(type='attack-pattern', id='attack-pattern--0c592c79-29a7-4a94-81a4-c87eae3aead6', created_by_ref='identity--c78cb6e5-0c4b-4611-8297-d1b8b55e40b5', created='2017-12-14T16:46:06.044Z', modified='2018-10-17T00:14:20.652Z', name='Common, high volume protocols and software', description=\"Certain types of traffic (e.g., Twitter14, HTTP) are more commonly used than others. Utilizing more common protocols and software may make an adversary's traffic more difficult to distinguish from legitimate traffic. (Citation: symantecNITRO)\", kill_chain_phases=[KillChainPhase(kill_chain_name='mitre-pre-attack', phase_name='adversary-opsec')], external_references=[ExternalReference(source_name='mitre-pre-attack', url='https://attack.mitre.org/techniques/T1321', external_id='T1321'), ExternalReference(source_name='symantecNITRO', description='Eric Chien and Gavin O’Gorman. (n.d.). The Nitro Attacks: Stealing Secrets from the Chemical Industry. Retrieved March 1, 2017.')], object_marking_refs=['marking-definition--fa42a846-8d90-4e51-bc29-71d5b4802168'], x_mitre_detectable_by_common_defenses='No', x_mitre_detectable_by_common_defenses_explanation='High level of entropy in communications.  High volume of communications makes it extremely hard for a defender to distinguish between legitimate and adversary communications.', x_mitre_difficulty_for_adversary='Yes', x_mitre_difficulty_for_adversary_explanation='Communications are hidden (but not necessarily encrypted) in an attempt to make the content more difficult to decipher or to make the communication less conspicuous.', x_mitre_old_attack_id='PRE-T1098', x_mitre_version='1.0'),\n",
       " AttackPattern(type='attack-pattern', id='attack-pattern--7f2d3da6-7e34-44a3-9e7f-905455339726', created_by_ref='identity--c78cb6e5-0c4b-4611-8297-d1b8b55e40b5', created='2017-12-14T16:46:06.044Z', modified='2018-10-17T00:14:20.652Z', name='Conduct active scanning', description='Active scanning is the act of sending transmissions to end nodes, and analyzing the responses, in order to identify information about the communications system. (Citation: RSA-APTRecon)', kill_chain_phases=[KillChainPhase(kill_chain_name='mitre-pre-attack', phase_name='technical-information-gathering')], external_references=[ExternalReference(source_name='mitre-pre-attack', url='https://attack.mitre.org/techniques/T1254', external_id='T1254'), ExternalReference(source_name='RSA-APTRecon', description='Rotem Kerner. (2015, October). RECONNAISSANCE: A Walkthrough of the “APT” Intelligence Gathering Process. Retrieved March 1, 2017.')], object_marking_refs=['marking-definition--fa42a846-8d90-4e51-bc29-71d5b4802168'], x_mitre_detectable_by_common_defenses='Yes', x_mitre_detectable_by_common_defenses_explanation='This technique is an expected and voluminous activity when on the Internet.  Active scanning techniques/tools typically generate benign traffic that does not require further investigation by a defender since there is no actionable defense to execute.  The high volume of this activity makes it burdensome for any defender to chase and therefore often ignored.', x_mitre_difficulty_for_adversary='Yes', x_mitre_difficulty_for_adversary_explanation='Various available tools and data sources for scouting and detecting address, routing, version numbers, patch levels, protocols/services running, etc.', x_mitre_old_attack_id='PRE-T1031', x_mitre_version='1.0'),\n",
       " AttackPattern(type='attack-pattern', id='attack-pattern--74a3288e-eee9-4f8e-973a-fbc128e033f1', created_by_ref='identity--c78cb6e5-0c4b-4611-8297-d1b8b55e40b5', created='2017-12-14T16:46:06.044Z', modified='2018-10-17T00:14:20.652Z', name='Conduct social engineering', description='Social Engineering is the practice of manipulating people in order to get them to divulge information or take an action. (Citation: SEAttackVectors) (Citation: BeachSE2003)', kill_chain_phases=[KillChainPhase(kill_chain_name='mitre-pre-attack', phase_name='technical-information-gathering')], external_references=[ExternalReference(source_name='mitre-pre-attack', url='https://attack.mitre.org/techniques/T1249', external_id='T1249'), ExternalReference(source_name='SEAttackVectors', description='Mathew J. Schwartz. (2011, September 14). Social Engineering Leads APT Attack Vectors. Retrieved March 5, 2017.'), ExternalReference(source_name='BeachSE2003', description='Gary Beach. (2003, October 1). Kevin Mitnick on Social Engineering Hackers. Retrieved March 5, 2017.')], object_marking_refs=['marking-definition--fa42a846-8d90-4e51-bc29-71d5b4802168'], x_mitre_detectable_by_common_defenses='No', x_mitre_detectable_by_common_defenses_explanation='No technical means to detect an adversary collecting technical information about a target.  Any detection would be based upon strong OPSEC policy implementation.', x_mitre_difficulty_for_adversary='Yes', x_mitre_difficulty_for_adversary_explanation='Very effective technique for the adversary that does not require any formal training and relies upon finding just one person who exhibits poor judgement.', x_mitre_old_attack_id='PRE-T1026', x_mitre_version='1.0'),\n",
       " AttackPattern(type='attack-pattern', id='attack-pattern--b355817c-cf63-43b4-94a4-05e9645fa910', created_by_ref='identity--c78cb6e5-0c4b-4611-8297-d1b8b55e40b5', created='2017-12-14T16:46:06.044Z', modified='2018-10-17T00:14:20.652Z', name='Create implementation plan', description='Implementation plans specify how the goals of the strategic plan will be executed. (Citation: ChinaCollectionPlan) (Citation: OrderOfBattle)', kill_chain_phases=[KillChainPhase(kill_chain_name='mitre-pre-attack', phase_name='priority-definition-planning')], external_references=[ExternalReference(source_name='mitre-pre-attack', url='https://attack.mitre.org/techniques/T1232', external_id='T1232'), ExternalReference(source_name='ChinaCollectionPlan', description='Thomas B Inglis. (1946, December 31). COLLECTION PLAN TO IMPLEMENT NATIONAL INTELLIGENCE REQUIREMENTS FOR CHINA. Retrieved March 2, 2017.'), ExternalReference(source_name='OrderOfBattle', description='Wikipedia contributors. (2016, November 20). Order of battle. Retrieved March 2, 2017.')], object_marking_refs=['marking-definition--fa42a846-8d90-4e51-bc29-71d5b4802168'], x_mitre_detectable_by_common_defenses='No', x_mitre_detectable_by_common_defenses_explanation='Normally, defender is unable to detect.  Few agencies and commercial organizations may have unique insights.', x_mitre_difficulty_for_adversary='Yes', x_mitre_difficulty_for_adversary_explanation='Normal aspect of adversary planning lifecycle.  May not be done by all adversaries.', x_mitre_old_attack_id='PRE-T1009', x_mitre_version='1.0'),\n",
       " AttackPattern(type='attack-pattern', id='attack-pattern--7823039f-e2d5-4997-853c-ec983631206b', created_by_ref='identity--c78cb6e5-0c4b-4611-8297-d1b8b55e40b5', created='2017-12-14T16:46:06.044Z', modified='2018-10-17T00:14:20.652Z', name='DNSCalc', description='DNS Calc is a technique in which the octets of an IP address are used to calculate the port  for command and control servers from an initial DNS request. (Citation: CrowdstrikeNumberedPanda) (Citation: FireEyeDarwinsAPTGroup) (Citation: Rapid7G20Espionage)', kill_chain_phases=[KillChainPhase(kill_chain_name='mitre-pre-attack', phase_name='adversary-opsec')], external_references=[ExternalReference(source_name='mitre-pre-attack', url='https://attack.mitre.org/techniques/T1324', external_id='T1324'), ExternalReference(source_name='CrowdstrikeNumberedPanda', description='Adam Meyers. (2013, March 29). Whois Numbered Panda. Retrieved March 6, 2017.'), ExternalReference(source_name='FireEyeDarwinsAPTGroup', description='Ned Moran, Mike Oppenheim. (2014, September 3). Darwin’s Favorite APT Group. Retrieved March 6, 2017.'), ExternalReference(source_name='Rapid7G20Espionage', description='nex. (2013, August 26). Upcoming G20 Summit Fuels Espionage Operations. Retrieved March 6, 2017.')], object_marking_refs=['marking-definition--fa42a846-8d90-4e51-bc29-71d5b4802168'], x_mitre_detectable_by_common_defenses='No', x_mitre_detectable_by_common_defenses_explanation='There are not currently available tools that provide the ability to conduct this calculation to detect this type of activity.', x_mitre_difficulty_for_adversary='Yes', x_mitre_difficulty_for_adversary_explanation='This technique assists the adversary in bypassing egress filtering designed to prevent unauthorized communication.  It has been used by APT12, but not otherwise widely reported.  Some botnets are hardcoded to be able to use this technique.', x_mitre_old_attack_id='PRE-T1101', x_mitre_version='1.0'),\n",
       " AttackPattern(type='attack-pattern', id='attack-pattern--856a9371-4f0f-4ea9-946e-f3144204240f', created_by_ref='identity--c78cb6e5-0c4b-4611-8297-d1b8b55e40b5', created='2017-12-14T16:46:06.044Z', modified='2018-10-17T00:14:20.652Z', name='Determine 3rd party infrastructure services', description='Infrastructure services includes the hardware, software, and network resources required to operate a communications environment. This infrastructure can be managed by a 3rd party rather than being managed by the owning organization. (Citation: FFIECAwareness) (Citation: Zetter2015Threats)', kill_chain_phases=[KillChainPhase(kill_chain_name='mitre-pre-attack', phase_name='technical-information-gathering')], external_references=[ExternalReference(source_name='mitre-pre-attack', url='https://attack.mitre.org/techniques/T1260', external_id='T1260'), ExternalReference(source_name='FFIECAwareness', description='Federal Financial Institutions Examination Council. (2016, October 17). Cybersecurity Awareness. Retrieved March 5, 2017.'), ExternalReference(source_name='Zetter2015Threats', description='Kim Zetter. (2015, January 4). The Biggest Security Threats We’ll Face in 2015. Retrieved March 5, 2017.')], object_marking_refs=['marking-definition--fa42a846-8d90-4e51-bc29-71d5b4802168'], x_mitre_detectable_by_common_defenses='No', x_mitre_detectable_by_common_defenses_explanation='The data is passive in nature or not controlled by the defender, so it is hard to identify when an adversary is getting or analyzing the data.', x_mitre_difficulty_for_adversary='Yes', x_mitre_difficulty_for_adversary_explanation='Based on what the 3rd party infrastructure is, there are many tell tail signs which indicate it is hosted by a 3rd party, such as ASN data, MX or CNAME pointers or IP addresses', x_mitre_old_attack_id='PRE-T1037', x_mitre_version='1.0'),\n",
       " AttackPattern(type='attack-pattern', id='attack-pattern--6baf6388-d49f-4804-86a4-5837240555cd', created_by_ref='identity--c78cb6e5-0c4b-4611-8297-d1b8b55e40b5', created='2017-12-14T16:46:06.044Z', modified='2018-10-17T00:14:20.652Z', name='Determine firmware version', description='Firmware is permanent software programmed into the read-only memory of a device. As with other types of software, firmware may be updated over time and have multiple versions. (Citation: Abdelnur Advanced Fingerprinting)', kill_chain_phases=[KillChainPhase(kill_chain_name='mitre-pre-attack', phase_name='technical-information-gathering')], external_references=[ExternalReference(source_name='mitre-pre-attack', url='https://attack.mitre.org/techniques/T1258', external_id='T1258'), ExternalReference(source_name='Abdelnur Advanced Fingerprinting', description='Humberto J. Abdelnur, Radu State, Olivier Festor. (2008). Advanced Network Fingerprinting. Retrieved April 2, 2017.')], object_marking_refs=['marking-definition--fa42a846-8d90-4e51-bc29-71d5b4802168'], x_mitre_detectable_by_common_defenses='No', x_mitre_detectable_by_common_defenses_explanation='No easy way for defenders to detect when an adversary collects this information.', x_mitre_difficulty_for_adversary='Yes', x_mitre_difficulty_for_adversary_explanation='Depending upon the target device, there are variable ways for an adversary to determine the firmware version.  In some cases, this information can be derived from easily obtained information.  For example, in [http://www.cisco.com Cisco] devices, the firmware version is easily determined once the device model and OS version is known since it is included in the release notes.', x_mitre_old_attack_id='PRE-T1035', x_mitre_version='1.0'),\n",
       " AttackPattern(type='attack-pattern', id='attack-pattern--91a3735f-817a-4450-8ed4-f05a0f5c3877', created_by_ref='identity--c78cb6e5-0c4b-4611-8297-d1b8b55e40b5', created='2017-12-14T16:46:06.044Z', modified='2018-10-17T00:14:20.652Z', name='Determine strategic target', description='An adversary undergoes an iterative target selection process that may begin either broadly and narrow down into specifics (strategic to tactical) or narrowly and expand outward (tactical to strategic).  As part of this process, an adversary may determine a high level target they wish to attack. One example of this may be a particular country, government, or commercial sector. (Citation: CyberAdversaryBehavior) (Citation: JP3-60) (Citation: JP3-12R) (Citation: DoD Cyber 2015)', kill_chain_phases=[KillChainPhase(kill_chain_name='mitre-pre-attack', phase_name='target-selection')], external_references=[ExternalReference(source_name='mitre-pre-attack', url='https://attack.mitre.org/techniques/T1241', external_id='T1241'), ExternalReference(source_name='CyberAdversaryBehavior', description='Elizabeth Van Ruitenbeek, Ken Keefe, William H. Sanders, and Carol Muehrcke. (2010). Characterizing the Behavior of Cyber Adversaries: The Means, Motive, and Opportunity of Cyberattacks. Retrieved March 5, 2017.'), ExternalReference(source_name='JP3-60', description='Joint Chiefs of Staff. (2013, January 31). Joint Targeting. Retrieved May 19, 2017.'), ExternalReference(source_name='JP3-12R', description='Joint Chiefs of Staff. (2013, February 5). Cyberspace Operations. Retrieved May 19, 2017.'), ExternalReference(source_name='DoD Cyber 2015', description='Department of Defense. (2015, April). The Department of Defense Cyber Strategy. Retrieved May 19, 2017.')], object_marking_refs=['marking-definition--fa42a846-8d90-4e51-bc29-71d5b4802168'], x_mitre_detectable_by_common_defenses='No', x_mitre_detectable_by_common_defenses_explanation='Normally, defender is unable to detect.  May change for special use cases or adversary and defender overlays.', x_mitre_difficulty_for_adversary='Yes', x_mitre_difficulty_for_adversary_explanation='This is the normal adversary targeting cycle where they utilize our poor OPSEC practices to their advantage.', x_mitre_old_attack_id='PRE-T1018', x_mitre_version='1.0'),\n",
       " AttackPattern(type='attack-pattern', id='attack-pattern--2f442206-2983-4fc2-93fd-0a828e026412', created_by_ref='identity--c78cb6e5-0c4b-4611-8297-d1b8b55e40b5', created='2017-12-14T16:46:06.044Z', modified='2018-10-17T00:14:20.652Z', name='Disseminate removable media', description='Removable media containing malware can be injected in to a supply chain at large or small scale. It can also be physically placed for someone to find or can be sent to someone in a more targeted manner. The intent is to have the user utilize the removable media on a system where the adversary is trying to gain access. (Citation: USBMalwareAttacks) (Citation: FPDefendNewDomain) (Citation: ParkingLotUSB)', kill_chain_phases=[KillChainPhase(kill_chain_name='mitre-pre-attack', phase_name='stage-capabilities')], external_references=[ExternalReference(source_name='mitre-pre-attack', url='https://attack.mitre.org/techniques/T1379', external_id='T1379'), ExternalReference(source_name='USBMalwareAttacks', description='Sean Carroll. (2010, November 4). USB Malware Attacks On the Rise. Retrieved March 9, 2017.'), ExternalReference(source_name='FPDefendNewDomain', description='William J. Lynn III. (2010, September). Defending a New Domain. Retrieved March 9, 2017.'), ExternalReference(source_name='ParkingLotUSB', description=\"Emil Protalinski. (2012, July 11). Criminals push malware by 'losing' USB sticks in parking lots. Retrieved March 9, 2017.\")], object_marking_refs=['marking-definition--fa42a846-8d90-4e51-bc29-71d5b4802168'], x_mitre_detectable_by_common_defenses='No', x_mitre_detectable_by_common_defenses_explanation='From a technical perspective, detection of an adversary disseminating removable media is not possible as there is no technical element involved until the compromise phase.  Most facilities generally do not perform extensive physical security patrols, which would be necessary in order to promptly identify an adversary deploying removable media to be used in an attack.', x_mitre_difficulty_for_adversary='Yes', x_mitre_difficulty_for_adversary_explanation='Commonly executed technique by penetration testers to gain access to networks via end users who are innately trusting of newly found or available technology.', x_mitre_old_attack_id='PRE-T1156', x_mitre_version='1.0'),\n",
       " AttackPattern(type='attack-pattern', id='attack-pattern--20a66013-8dab-4ca3-a67d-766c842c561c', created_by_ref='identity--c78cb6e5-0c4b-4611-8297-d1b8b55e40b5', created='2017-12-14T16:46:06.044Z', modified='2018-10-17T00:14:20.652Z', name='Dynamic DNS', description='Dynamic DNS is a method of automatically updating a name in the DNS system. Providers offer this rapid reconfiguration of IPs to hostnames as a service. (Citation: DellMirage2012)', kill_chain_phases=[KillChainPhase(kill_chain_name='mitre-pre-attack', phase_name='adversary-opsec')], external_references=[ExternalReference(source_name='mitre-pre-attack', url='https://attack.mitre.org/techniques/T1311', external_id='T1311'), ExternalReference(source_name='DellMirage2012', description='DELL SECUREWORKS COUNTER THREAT UNIT THREAT INTELLIGENCE. (2012, September 18). The Mirage Campaign. Retrieved March 6, 2017.')], object_marking_refs=['marking-definition--fa42a846-8d90-4e51-bc29-71d5b4802168'], x_mitre_detectable_by_common_defenses='No', x_mitre_detectable_by_common_defenses_explanation='Defender will not know at first use what is valid or hostile traffic without more context. It is possible, however, for defenders to see if the PTR record for an address is hosted by a known DDNS provider. There is potential to assign some level of risk based on this.', x_mitre_difficulty_for_adversary='Yes', x_mitre_difficulty_for_adversary_explanation='Flexible and re-configurable command and control servers, along with deniable ownership and reduced cost of ownership.', x_mitre_old_attack_id='PRE-T1088', x_mitre_version='1.0'),\n",
       " AttackPattern(type='attack-pattern', id='attack-pattern--248cbfdd-fec4-451b-b2a9-e46d4b268e30', created_by_ref='identity--c78cb6e5-0c4b-4611-8297-d1b8b55e40b5', created='2017-12-14T16:46:06.044Z', modified='2018-10-17T00:14:20.652Z', name='Fast Flux DNS', description='A technique in which a fully qualified domain name has multiple IP addresses assigned to it which are swapped with extreme frequency, using a combination of round robin IP address and short Time-To-Live (TTL) for a DNS resource record. (Citation: HoneynetFastFlux) (Citation: MisnomerFastFlux) (Citation: MehtaFastFluxPt1) (Citation: MehtaFastFluxPt2)', kill_chain_phases=[KillChainPhase(kill_chain_name='mitre-pre-attack', phase_name='adversary-opsec')], external_references=[ExternalReference(source_name='mitre-pre-attack', url='https://attack.mitre.org/techniques/T1325', external_id='T1325'), ExternalReference(source_name='HoneynetFastFlux', description='Jamie Riden. (2008, August 16). HOW FAST-FLUX SERVICE NETWORKS WORK. Retrieved March 6, 2017.'), ExternalReference(source_name='MisnomerFastFlux', description='Misnomer. (2012, May 4). RESEARCH TO DETECTION – IDENTIFY FAST FLUX IN YOUR ENVIRONMENT. Retrieved March 6, 2017.'), ExternalReference(source_name='MehtaFastFluxPt1', description='Lohit Mehta. (2014, December 17). Fast Flux Networks Working and Detection, Part 1. Retrieved March 6, 2017.'), ExternalReference(source_name='MehtaFastFluxPt2', description='Lohit Mehta. (2014, December 23). Fast Flux Networks Working and Detection, Part 2. Retrieved March 6, 2017.')], object_marking_refs=['marking-definition--fa42a846-8d90-4e51-bc29-71d5b4802168'], x_mitre_detectable_by_common_defenses='Partial', x_mitre_detectable_by_common_defenses_explanation='In general, detecting usage of fast flux DNS is difficult due to web traffic load balancing that services client requests quickly.  In single flux cases only IP addresses change for static domain names.  In double flux cases, nothing is static.  Defenders such as IPS, domain registrars, and service providers are likely in the best position for detection.', x_mitre_difficulty_for_adversary='Yes', x_mitre_difficulty_for_adversary_explanation='Fast flux is generally simple for an adversary to set up and offers several advantages.  Such advantages include limited audit trails for defenders to find, ease of operation for an adversary to maintain, and support for main nodes.', x_mitre_old_attack_id='PRE-T1102', x_mitre_version='1.0'),\n",
       " AttackPattern(type='attack-pattern', id='attack-pattern--6f088e84-37b2-44de-8df3-393908f2d77b', created_by_ref='identity--c78cb6e5-0c4b-4611-8297-d1b8b55e40b5', created='2017-12-14T16:46:06.044Z', modified='2018-10-17T00:14:20.652Z', name='Host-based hiding techniques', description='Host based hiding techniques are designed to allow an adversary to remain undetected on a machine upon which they have taken action. They may do this through the use of  static linking of binaries, polymorphic code, exploiting weakness in file formats, parsers, or self-deleting code. (Citation: VirutAP)', kill_chain_phases=[KillChainPhase(kill_chain_name='mitre-pre-attack', phase_name='adversary-opsec')], external_references=[ExternalReference(source_name='mitre-pre-attack', url='https://attack.mitre.org/techniques/T1314', external_id='T1314'), ExternalReference(source_name='VirutAP', description='Microsoft Malware Protection Center. (2008, July 30). Virus: Win32/Virut.AP. Retrieved March 6, 2017.')], object_marking_refs=['marking-definition--fa42a846-8d90-4e51-bc29-71d5b4802168'], x_mitre_detectable_by_common_defenses='No', x_mitre_detectable_by_common_defenses_explanation='Techniques are difficult to detect and might occur in uncommon use-cases (e.g., patching, anti-malware, anti-exploitation software).', x_mitre_difficulty_for_adversary='No', x_mitre_difficulty_for_adversary_explanation=\"Some of the host-based hiding techniques require advanced knowledge combined with an understanding and awareness of the target's environment (e.g., exploiting weaknesses in  file formats, parsers and detection capabilities).\", x_mitre_old_attack_id='PRE-T1091', x_mitre_version='1.0'),\n",
       " AttackPattern(type='attack-pattern', id='attack-pattern--73e7d7d5-1782-4cd0-a4d7-00c7ec051c2a', created_by_ref='identity--c78cb6e5-0c4b-4611-8297-d1b8b55e40b5', created='2017-12-14T16:46:06.044Z', modified='2018-10-17T00:14:20.652Z', name='Identify business relationships', description='Business relationship information may be used by an adversary to shape social engineering attempts (exploiting who a target expects to hear from) or to plan for technical actions such as exploiting network trust relationship. (Citation: 11StepsAttackers)', kill_chain_phases=[KillChainPhase(kill_chain_name='mitre-pre-attack', phase_name='organizational-information-gathering')], external_references=[ExternalReference(source_name='mitre-pre-attack', url='https://attack.mitre.org/techniques/T1283', external_id='T1283'), ExternalReference(source_name='11StepsAttackers', description='Thor Olavsrud. (2014, September 2). 11 Steps Attackers Took to Crack Target. Retrieved March 5, 2017.')], object_marking_refs=['marking-definition--fa42a846-8d90-4e51-bc29-71d5b4802168'], x_mitre_detectable_by_common_defenses='No', x_mitre_detectable_by_common_defenses_explanation='Exception to the rule is if the adversary tips off the target that others have been asking about the relationship with them.', x_mitre_difficulty_for_adversary='Yes', x_mitre_difficulty_for_adversary_explanation='Requires an intensive process.  In some industries, business relationships may be public in order to generate business, but this is not the case for all industries and all relationships.', x_mitre_old_attack_id='PRE-T1060', x_mitre_version='1.0'),\n",
       " AttackPattern(type='attack-pattern', id='attack-pattern--0722cd65-0c83-4c89-9502-539198467ab1', created_by_ref='identity--c78cb6e5-0c4b-4611-8297-d1b8b55e40b5', created='2017-12-14T16:46:06.044Z', modified='2018-10-17T00:14:20.652Z', name='Identify job postings and needs/gaps', description='Job postings, on either company sites, or in other forums, provide information on organizational structure and often provide contact information for someone within the organization. This may give an adversary  information on people within the organization which could be valuable in social engineering attempts. (Citation: JobPostingThreat)', kill_chain_phases=[KillChainPhase(kill_chain_name='mitre-pre-attack', phase_name='people-information-gathering')], external_references=[ExternalReference(source_name='mitre-pre-attack', url='https://attack.mitre.org/techniques/T1267', external_id='T1267'), ExternalReference(source_name='JobPostingThreat', description='Jay D. Krasnow. (2000, October). The Competitive Intelligence and National Security Threat from Website Job Listings. Retrieved March 16, 2017.')], object_marking_refs=['marking-definition--fa42a846-8d90-4e51-bc29-71d5b4802168'], x_mitre_detectable_by_common_defenses='No', x_mitre_detectable_by_common_defenses_explanation=\"Public source external to the defender's organization.\", x_mitre_difficulty_for_adversary='Yes', x_mitre_difficulty_for_adversary_explanation='Very public by design.', x_mitre_old_attack_id='PRE-T1044', x_mitre_version='1.0'),\n",
       " AttackPattern(type='attack-pattern', id='attack-pattern--7dae871c-effc-444b-9962-4b7efefe7d40', created_by_ref='identity--c78cb6e5-0c4b-4611-8297-d1b8b55e40b5', created='2017-12-14T16:46:06.044Z', modified='2018-10-17T00:14:20.652Z', name='Identify sensitive personnel information', description='An adversary may identify sensitive personnel information not typically posted on a social media site, such as address, marital status, financial history, and law enforcement infractions. This could be conducted by searching public records that are frequently available for free or at a low cost online. (Citation: RSA-APTRecon)', kill_chain_phases=[KillChainPhase(kill_chain_name='mitre-pre-attack', phase_name='people-information-gathering')], external_references=[ExternalReference(source_name='mitre-pre-attack', url='https://attack.mitre.org/techniques/T1274', external_id='T1274'), ExternalReference(source_name='RSA-APTRecon', description='Rotem Kerner. (2015, October). RECONNAISSANCE: A Walkthrough of the “APT” Intelligence Gathering Process. Retrieved March 1, 2017.')], object_marking_refs=['marking-definition--fa42a846-8d90-4e51-bc29-71d5b4802168'], x_mitre_detectable_by_common_defenses='No', x_mitre_detectable_by_common_defenses_explanation='Searching publicly available sources that cannot be monitored by a defender.', x_mitre_difficulty_for_adversary='Yes', x_mitre_difficulty_for_adversary_explanation='This type of information is useful to understand the individual and their ability to be blackmailed.  Searching public records is easy and most information can be purchased for a low cost if the adversary really wants it.', x_mitre_old_attack_id='PRE-T1051', x_mitre_version='1.0'),\n",
       " AttackPattern(type='attack-pattern', id='attack-pattern--ad124f84-52d2-40e3-95dd-cfdd44eae6ef', created_by_ref='identity--c78cb6e5-0c4b-4611-8297-d1b8b55e40b5', created='2017-12-14T16:46:06.044Z', modified='2018-10-17T00:14:20.652Z', name='Identify vulnerabilities in third-party software libraries', description='Many applications use third-party software libraries, often without full knowledge of the behavior of the libraries by the application developer. For example, mobile applications often incorporate advertising libraries to generate revenue for the application developer. Vulnerabilities in these third-party libraries could potentially be exploited in any application that uses the library, and even if the vulnerabilities are fixed, many applications may still use older, vulnerable versions of the library. (Citation: Flexera News Vulnerabilities) (Citation: Android Security Review 2015) (Citation: Android Multidex RCE)', kill_chain_phases=[KillChainPhase(kill_chain_name='mitre-pre-attack', phase_name='technical-weakness-identification')], external_references=[ExternalReference(source_name='mitre-pre-attack', url='https://attack.mitre.org/techniques/T1389', external_id='T1389'), ExternalReference(source_name='Flexera News Vulnerabilities', description='John Lipsey. (2015, March 25). 15,435 Vulnerabilities in Close to 4,000 Applications in 2014. Retrieved April 12, 2017.'), ExternalReference(source_name='Android Security Review 2015', description='Google. (2016, April). Android Security 2015 Year In Review. Retrieved April 12, 2017.'), ExternalReference(source_name='Android Multidex RCE', description='Ryan Welton. (2015, June 15). A Pattern for Remote Code Execution using Arbitrary File Writes and MultiDex Applications. Retrieved April 12, 2017.')], object_marking_refs=['marking-definition--fa42a846-8d90-4e51-bc29-71d5b4802168'], x_mitre_detectable_by_common_defenses='Partial', x_mitre_detectable_by_common_defenses_explanation=\"Open source software has great appeal mostly due to the time savings and that it is free.  However, using this code without assessing it's security is akin to blindly executing third party software.  Companies often do not dedicate the time to appropriately detect and scan for vulnerabilities. The mainstream mobile application stores scan applications for some known vulnerabilities. For example, Google's Android Application Security Improvement Program identifies and alerts developers to vulnerabilities present in their applications from use of the Vungle, Apache Cordova, WebView SSL, GnuTLS, and Vitamio third-party libraries. However, these scans are not likely to cover all vulnerable libraries, developers may not always act on the results, and the results may not be made available to impacted end users of the applications.\", x_mitre_difficulty_for_adversary='Yes', x_mitre_difficulty_for_adversary_explanation='Developers commonly use open source libraries such that where an adversary can easily discover known vulnerabilities and create exploits.  It is also generally easy to decompile arbitrary mobile applications to determine what libraries they use, and similarly use this information to correlate against known CVEs and exploit packages.', x_mitre_old_attack_id='PRE-T1166', x_mitre_version='1.0'),\n",
       " AttackPattern(type='attack-pattern', id='attack-pattern--695b1cce-57d7-49ae-a2af-820d50153f12', created_by_ref='identity--c78cb6e5-0c4b-4611-8297-d1b8b55e40b5', created='2017-12-14T16:46:06.044Z', modified='2018-10-17T00:14:20.652Z', name='Mine social media', description='An adversary may research available open source information about a target commonly found on social media sites such as [Facebook](https://www.facebook.com), [Instagram](https://www.instagram.com), or [Pinterest](https://www.pinterest.com).  Social media is public by design and provides insight into the interests and potentially inherent weaknesses of a target for exploitation by the adversary. (Citation: RSA-APTRecon)', kill_chain_phases=[KillChainPhase(kill_chain_name='mitre-pre-attack', phase_name='people-information-gathering')], external_references=[ExternalReference(source_name='mitre-pre-attack', url='https://attack.mitre.org/techniques/T1273', external_id='T1273'), ExternalReference(source_name='RSA-APTRecon', description='Rotem Kerner. (2015, October). RECONNAISSANCE: A Walkthrough of the “APT” Intelligence Gathering Process. Retrieved March 1, 2017.')], object_marking_refs=['marking-definition--fa42a846-8d90-4e51-bc29-71d5b4802168'], x_mitre_detectable_by_common_defenses='No', x_mitre_detectable_by_common_defenses_explanation='Searching publicly available sources that cannot be monitored by a defender.', x_mitre_difficulty_for_adversary='Yes', x_mitre_difficulty_for_adversary_explanation='Very public by design.  Application of privacy settings is not a panacea.', x_mitre_old_attack_id='PRE-T1050', x_mitre_version='1.0'),\n",
       " AttackPattern(type='attack-pattern', id='attack-pattern--5436571f-2332-4b51-b7ed-0bc822fe02c2', created_by_ref='identity--c78cb6e5-0c4b-4611-8297-d1b8b55e40b5', created='2017-12-14T16:46:06.044Z', modified='2018-10-17T00:14:20.652Z', name='OS-vendor provided communication channels', description='Google and Apple provide Google Cloud Messaging and Apple Push Notification Service, respectively, services designed to enable efficient communication between third-party mobile app backend servers and the mobile apps running on individual devices. These services maintain an encrypted connection between every mobile device and Google or Apple that cannot easily be inspected and must be allowed to traverse networks as part of normal device operation. These services could be used by adversaries for communication to compromised mobile devices. (Citation: Securelist Mobile Malware 2013) (Citation: DroydSeuss)', kill_chain_phases=[KillChainPhase(kill_chain_name='mitre-pre-attack', phase_name='adversary-opsec')], external_references=[ExternalReference(source_name='mitre-pre-attack', url='https://attack.mitre.org/techniques/T1390', external_id='T1390'), ExternalReference(source_name='Securelist Mobile Malware 2013', description='Roman Unuchek, Victor Chebyshev. (2014, February 24). Mobile Malware Evolution: 2013. Retrieved April 12, 2017.'), ExternalReference(source_name='DroydSeuss', description='Alberto Coletta, Victor van der Veen, and Federico Maggi. (2016). DroydSeuss: A Mobile Banking Trojan Tracker - Short Paper. Retrieved April 12, 2017.')], object_marking_refs=['marking-definition--fa42a846-8d90-4e51-bc29-71d5b4802168'], x_mitre_detectable_by_common_defenses='No', x_mitre_detectable_by_common_defenses_explanation='These services are heavily utilized by mainstream mobile app developers.  High volume of communications makes it extremely hard for a defender to distinguish between legitimate and adversary communications.', x_mitre_difficulty_for_adversary='Yes', x_mitre_difficulty_for_adversary_explanation='These are free services provided by Google and Apple to app developers, and information on how to use them is readily available.', x_mitre_old_attack_id='PRE-T1167', x_mitre_version='1.0'),\n",
       " AttackPattern(type='attack-pattern', id='attack-pattern--c2ffd229-11bb-4fd8-9208-edbe97b14c93', created_by_ref='identity--c78cb6e5-0c4b-4611-8297-d1b8b55e40b5', created='2017-12-14T16:46:06.044Z', modified='2018-10-17T00:14:20.652Z', name='Obfuscation or cryptography', description='Obfuscation is the act of creating communications that are more difficult to understand.  Encryption transforms the communications such that it requires a key to reverse the encryption. (Citation: FireEyeAPT28)', kill_chain_phases=[KillChainPhase(kill_chain_name='mitre-pre-attack', phase_name='adversary-opsec')], external_references=[ExternalReference(source_name='mitre-pre-attack', url='https://attack.mitre.org/techniques/T1313', external_id='T1313'), ExternalReference(source_name='FireEyeAPT28', description='FireEye, Inc. (2014). APT 28: A Window into Russia’s Cyber Espionage Operations?. Retrieved March 1, 2017.')], object_marking_refs=['marking-definition--fa42a846-8d90-4e51-bc29-71d5b4802168'], x_mitre_detectable_by_common_defenses='No', x_mitre_detectable_by_common_defenses_explanation='Techniques and signatures are hard to detect. Advanced communications and exfiltration channels are nearly indistinguishable from background noise.', x_mitre_difficulty_for_adversary='Yes', x_mitre_difficulty_for_adversary_explanation='Known approaches include the use of cryptography for communications, rotating drops sites (such as random list of chat fora), and one-time [https://aws.amazon.com/s3/ Simple Storage Service (S3)] buckets, etc.  All require sophisticated knowledge, infrastructure, and funding.', x_mitre_old_attack_id='PRE-T1090', x_mitre_version='1.0'),\n",
       " AttackPattern(type='attack-pattern', id='attack-pattern--27f3ddf8-1b77-4cc2-a4c0-e6da3d31a768', created_by_ref='identity--c78cb6e5-0c4b-4611-8297-d1b8b55e40b5', created='2017-12-14T16:46:06.044Z', modified='2018-10-17T00:14:20.652Z', name='Obtain/re-use payloads', description='A payload is the part of the malware which performs a malicious action. The adversary may re-use payloads when the needed capability is already available. (Citation: SonyDestover)', kill_chain_phases=[KillChainPhase(kill_chain_name='mitre-pre-attack', phase_name='build-capabilities')], external_references=[ExternalReference(source_name='mitre-pre-attack', url='https://attack.mitre.org/techniques/T1346', external_id='T1346'), ExternalReference(source_name='SonyDestover', description='Kurt Baumgartner. (2014, December 4). Sony/Destover: mystery North Korean actor’s destructive and past network activity. Retrieved March 9, 2017.')], object_marking_refs=['marking-definition--fa42a846-8d90-4e51-bc29-71d5b4802168'], x_mitre_detectable_by_common_defenses='No', x_mitre_detectable_by_common_defenses_explanation='Adversary will likely use code repositories, but detecting an adversary acquiring a payload would require the defender to be monitoring the code repository where the payload is stored. If the adversary re-uses payloads, this allows the defender to create signatures to detect using these known indicators of compromise (e.g., hashes).', x_mitre_difficulty_for_adversary='Yes', x_mitre_difficulty_for_adversary_explanation='Several exploit repositories and tool suites exist for re-use and tailoring.', x_mitre_old_attack_id='PRE-T1123', x_mitre_version='1.0'),\n",
       " AttackPattern(type='attack-pattern', id='attack-pattern--b14f6692-b613-44bb-9f30-8381a5ff10d5', created_by_ref='identity--c78cb6e5-0c4b-4611-8297-d1b8b55e40b5', created='2017-12-14T16:46:06.044Z', modified='2018-10-17T00:14:20.652Z', name='Proxy/protocol relays', description='Proxies act as an intermediary for clients seeking resources from other systems. Using a proxy may make it more difficult to track back the origin of a network communication. (Citation: APT1)', kill_chain_phases=[KillChainPhase(kill_chain_name='mitre-pre-attack', phase_name='adversary-opsec')], external_references=[ExternalReference(source_name='mitre-pre-attack', url='https://attack.mitre.org/techniques/T1304', external_id='T1304'), ExternalReference(source_name='APT1', description='Mandiant. (n.d.). APT1: Exposing One of China’s Cyber Espionage Units. Retrieved March 5, 2017.')], object_marking_refs=['marking-definition--fa42a846-8d90-4e51-bc29-71d5b4802168'], x_mitre_detectable_by_common_defenses='No', x_mitre_detectable_by_common_defenses_explanation='Defenders with standard capabilities will traditionally be able to see the first hop but not all the subsequent earlier hops an adversary takes to be able to conduct reconnaissance.', x_mitre_difficulty_for_adversary='Yes', x_mitre_difficulty_for_adversary_explanation='Proxies are readily available for the adversary with both free and cost-based options available.', x_mitre_old_attack_id='PRE-T1081', x_mitre_version='1.0'),\n",
       " AttackPattern(type='attack-pattern', id='attack-pattern--0d759854-9b69-438c-8325-74b03cc80cf0', created_by_ref='identity--c78cb6e5-0c4b-4611-8297-d1b8b55e40b5', created='2017-12-14T16:46:06.044Z', modified='2018-10-17T00:14:20.652Z', name='Replace legitimate binary with malware', description=\"This technique has been deprecated. Please see ATT&CK's Initial Access and Execution tactics for replacement techniques.\\n\\nReplacing a legitimate binary with malware can be accomplished either by replacing a binary on a legitimate download site or standing up a fake or alternative site with the malicious binary. The intent is to have a user download and run the malicious binary thereby executing malware. (Citation: FSecureICS)\", kill_chain_phases=[KillChainPhase(kill_chain_name='mitre-pre-attack', phase_name='launch')], external_references=[ExternalReference(source_name='mitre-pre-attack', url='https://attack.mitre.org/techniques/T1378', external_id='T1378'), ExternalReference(source_name='FSecureICS', description='Daavid and Antti. (2014, June 23). Havex Hunts For ICS/SCADA Systems. Retrieved March 9, 2017.')], object_marking_refs=['marking-definition--fa42a846-8d90-4e51-bc29-71d5b4802168'], x_mitre_deprecated=True, x_mitre_detectable_by_common_defenses='No', x_mitre_detectable_by_common_defenses_explanation='On the host end user system, integrity checking (e.g., hash verification, code signing enforcement), application whitelisting, sandboxing, or behavioral-based/heuristic-based systems are most likely to be successful in detecting this technique.  On the source webserver, detecting binary changes is easy to detect if performed.', x_mitre_difficulty_for_adversary='No', x_mitre_difficulty_for_adversary_explanation='Requires the adversary to replace a binary on a website where users will download the binary (e.g., patch, firmware update, software application) as innately trusted.  The additional challenge is the reduced set of vendor-trusted websites that are vulnerable.', x_mitre_old_attack_id='PRE-T1155', x_mitre_version='1.0'),\n",
       " AttackPattern(type='attack-pattern', id='attack-pattern--e34b9ca1-8778-41a3-bba5-8edaab4076dc', created_by_ref='identity--c78cb6e5-0c4b-4611-8297-d1b8b55e40b5', created='2017-12-14T16:46:06.044Z', modified='2018-10-17T00:14:20.652Z', name='SSL certificate acquisition for domain', description=\"Certificates are designed to instill trust. They  include information about the key, information about its owner's identity, and the digital signature of an entity that has verified the certificate's contents are correct. If the signature is valid, and the person examining the certificate trusts the signer, then they know they can use that key to communicate with its owner. Acquiring a certificate for a  domain name similar to one that is expected to be trusted may allow an adversary to trick a user in to trusting the domain (e.g., vvachovia instead of [Wachovia](https://www.wellsfargo.com/about/corporate/wachovia) -- homoglyphs). (Citation: SubvertSSL) (Citation: PaypalScam)\", kill_chain_phases=[KillChainPhase(kill_chain_name='mitre-pre-attack', phase_name='establish-&-maintain-infrastructure')], external_references=[ExternalReference(source_name='mitre-pre-attack', url='https://attack.mitre.org/techniques/T1337', external_id='T1337'), ExternalReference(source_name='SubvertSSL', description='Ryan Singel. (2010, March 24). Law Enforcement Appliance Subverts SSL. Retrieved March 2, 2017.'), ExternalReference(source_name='PaypalScam', description=\"Bob Sullivan. (2000, July 24). PayPal alert! Beware the 'PaypaI' scam. Retrieved March 2, 2017.\")], object_marking_refs=['marking-definition--fa42a846-8d90-4e51-bc29-71d5b4802168'], x_mitre_detectable_by_common_defenses='Yes', x_mitre_detectable_by_common_defenses_explanation=\"Defender can monitor for domains similar to popular sites (possibly leverage [https://www.alexa.com Alexa] top ''N'' lists as starting point).\", x_mitre_difficulty_for_adversary='Yes', x_mitre_difficulty_for_adversary_explanation='SSL certificates are readily available at little to no cost.', x_mitre_old_attack_id='PRE-T1114', x_mitre_version='1.0'),\n",
       " AttackPattern(type='attack-pattern', id='attack-pattern--489a7797-01c3-4706-8cd1-ec56a9db3adc', created_by_ref='identity--c78cb6e5-0c4b-4611-8297-d1b8b55e40b5', created='2017-12-14T16:46:06.044Z', modified='2018-10-17T00:14:20.652Z', name='Spear phishing messages with malicious links', description=\"This technique has been deprecated. Please see ATT&CK's Initial Access and Execution tactics for replacement techniques.\\n\\nEmails with malicious links are designed to get a user to click on the link in order to deliver malware payloads. (Citation: GoogleDrive Phishing) (Citation: RSASEThreat)\", kill_chain_phases=[KillChainPhase(kill_chain_name='mitre-pre-attack', phase_name='launch')], external_references=[ExternalReference(source_name='mitre-pre-attack', url='https://attack.mitre.org/techniques/T1369', external_id='T1369'), ExternalReference(source_name='GoogleDrive Phishing', description='Nick Johnston. (2014, March 13). Google Docs Users Targeted by Sophisticated Phishing Scam. Retrieved March 29, 2017.'), ExternalReference(source_name='RSASEThreat', description='Bob Griffin. (2015, May 16). THE ON-GOING THREAT OF SOCIAL ENGINEERING. Retrieved March 9, 2017.')], object_marking_refs=['marking-definition--fa42a846-8d90-4e51-bc29-71d5b4802168'], x_mitre_deprecated=True, x_mitre_detectable_by_common_defenses='Yes', x_mitre_detectable_by_common_defenses_explanation='Defenders can implement mechanisms to analyze links and identify levels of concerns.  However, the adversary has the advantage of creating new links or finding ways to obfuscate the link so that common detection lists can not identify it.  Detection of a malicious link could be identified once the file has been downloaded.', x_mitre_difficulty_for_adversary='Yes', x_mitre_difficulty_for_adversary_explanation=\"Sending emails is trivial and expected.  The adversary needs to ensure links don't get tampered, removed, or flagged as a previously black-listed site.\", x_mitre_old_attack_id='PRE-T1146', x_mitre_version='1.0'),\n",
       " AttackPattern(type='attack-pattern', id='attack-pattern--eb517589-eefc-480e-b8e3-7a8b1066f6f1', created_by_ref='identity--c78cb6e5-0c4b-4611-8297-d1b8b55e40b5', created='2017-12-14T16:46:06.044Z', modified='2018-10-17T00:14:20.652Z', name='Targeted social media phishing', description=\"This technique has been deprecated. Please see ATT&CK's Initial Access and Execution tactics for replacement techniques.\\n\\nSending messages through social media platforms to individuals identified as a target. These messages may include malicious attachments or links to malicious sites or they may be designed to establish communications for future actions. (Citation: APT1) (Citation: Nemucod Facebook)\", kill_chain_phases=[KillChainPhase(kill_chain_name='mitre-pre-attack', phase_name='launch')], external_references=[ExternalReference(source_name='mitre-pre-attack', url='https://attack.mitre.org/techniques/T1366', external_id='T1366'), ExternalReference(source_name='APT1', description='Mandiant. (n.d.). APT1: Exposing One of China’s Cyber Espionage Units. Retrieved March 5, 2017.'), ExternalReference(source_name='Nemucod Facebook', description='Bart Blaze. (2016, November 20). Nemucod downloader spreading via Facebook. Retrieved March 28, 2017.')], object_marking_refs=['marking-definition--fa42a846-8d90-4e51-bc29-71d5b4802168'], x_mitre_deprecated=True, x_mitre_detectable_by_common_defenses='No', x_mitre_detectable_by_common_defenses_explanation=\"Extremely hard to identify (in the launch phase) what message via social media is hostile versus what is not.  Increased use of encrypted communications increases the difficulty average defender's have in detecting use of this technique.\", x_mitre_difficulty_for_adversary='Yes', x_mitre_difficulty_for_adversary_explanation='Sending messages to individuals identified as a target follows normal tradecraft for using social media.', x_mitre_old_attack_id='PRE-T1143', x_mitre_version='1.0'),\n",
       " AttackPattern(type='attack-pattern', id='attack-pattern--8b57a8f1-9cbc-4b95-b162-cc2a1add94f2', created_by_ref='identity--c78cb6e5-0c4b-4611-8297-d1b8b55e40b5', created='2017-12-14T16:46:06.044Z', modified='2018-10-17T00:14:20.652Z', name='Test malware to evade detection', description='An adversary can run their code on systems with cyber security protections, such as antivirus products, in place to see if their code is detected. They can also test their malware on freely available public services. (Citation: MalwareQAZirtest)', kill_chain_phases=[KillChainPhase(kill_chain_name='mitre-pre-attack', phase_name='test-capabilities')], external_references=[ExternalReference(source_name='mitre-pre-attack', url='https://attack.mitre.org/techniques/T1359', external_id='T1359'), ExternalReference(source_name='MalwareQAZirtest', description='Damballa Day Before Zero Blog. (2009, December 17). Malware QA and Exploit Testing Services – Virtest.com. Retrieved March 9, 2017.')], object_marking_refs=['marking-definition--fa42a846-8d90-4e51-bc29-71d5b4802168'], x_mitre_detectable_by_common_defenses='No', x_mitre_detectable_by_common_defenses_explanation='Adversary controls the testing and can ensure data does not leak with proper OPSEC on testing.', x_mitre_difficulty_for_adversary='Yes', x_mitre_difficulty_for_adversary_explanation='Adversary has the ability to procure products and not have reporting return to vendors or can choose to use freely available services', x_mitre_old_attack_id='PRE-T1136', x_mitre_version='1.0'),\n",
       " AttackPattern(type='attack-pattern', id='attack-pattern--58d0b955-ae3d-424a-a537-2804dab38793', created_by_ref='identity--c78cb6e5-0c4b-4611-8297-d1b8b55e40b5', created='2017-12-14T16:46:06.044Z', modified='2018-10-17T00:14:20.652Z', name='Unconditional client-side exploitation/Injected Website/Driveby', description=\"This technique has been deprecated. Please see ATT&CK's Initial Access and Execution tactics for replacement techniques.\\n\\nA technique used to compromise victims wherein the victims visit a compromised website that redirects their browser to a malicious web site, such as an exploit kit's landing page.  The exploit kit landing page will probe the victim's operating system, web browser, or other software to find an exploitable vulnerability to infect the victim. (Citation: GeorgeDriveBy) (Citation: BellDriveBy)\", kill_chain_phases=[KillChainPhase(kill_chain_name='mitre-pre-attack', phase_name='launch')], external_references=[ExternalReference(source_name='mitre-pre-attack', url='https://attack.mitre.org/techniques/T1372', external_id='T1372'), ExternalReference(source_name='GeorgeDriveBy', description=\"Torsten George. (2014, October 15). The Internet's Big Threat: Drive-by Attacks. Retrieved March 7, 2017.\"), ExternalReference(source_name='BellDriveBy', description='Lee Bell. (2013, January 8). Drive-by exploits are the top web security threat, says ENISA. Retrieved March 7, 2017.')], object_marking_refs=['marking-definition--fa42a846-8d90-4e51-bc29-71d5b4802168'], x_mitre_deprecated=True, x_mitre_detectable_by_common_defenses='Partial', x_mitre_detectable_by_common_defenses_explanation='With the use of malware detonation chambers (e.g., for web or email traffic), this improves detection.  Encryption and other techniques reduces the efficacy of these defenses.', x_mitre_difficulty_for_adversary='Yes', x_mitre_difficulty_for_adversary_explanation='Placing an exploit on a public web site for driveby types of delivery is not impossible.  However, gaining access to a web site with high enough traffic to meet specific objectives could be the challenge.', x_mitre_old_attack_id='PRE-T1149', x_mitre_version='1.0'),\n",
       " AttackPattern(type='attack-pattern', id='attack-pattern--8a64f743-acaa-49d5-9d3d-ae5616a3876f', created_by_ref='identity--c78cb6e5-0c4b-4611-8297-d1b8b55e40b5', created='2017-12-14T16:46:06.044Z', modified='2018-10-17T00:14:20.652Z', name='Exploit public-facing application', description=\"This technique has been deprecated. Please see ATT&CK's Initial Access and Execution tactics for replacement techniques.\\n\\nThe use of software, data, or commands to take advantage of a weakness in a computer system or program in order to cause unintended or unanticipated behavior. The weakness in the system can be a bug, a glitch, or a design vulnerability. (Citation: GoogleCrawlerSQLInj)\", kill_chain_phases=[KillChainPhase(kill_chain_name='mitre-pre-attack', phase_name='launch')], external_references=[ExternalReference(source_name='mitre-pre-attack', url='https://attack.mitre.org/techniques/T1377', external_id='T1377'), ExternalReference(source_name='GoogleCrawlerSQLInj', description='PETER BRIGHT. (2013, November 6). Google crawler tricked into performing SQL injection attacks using decade-old technique. Retrieved March 9, 2017.')], object_marking_refs=['marking-definition--fa42a846-8d90-4e51-bc29-71d5b4802168'], x_mitre_deprecated=True, x_mitre_detectable_by_common_defenses='Yes', x_mitre_detectable_by_common_defenses_explanation='If the application and network are designed well, the defender should be able to utilize logging and application logic to catch and deflect SQL injection attacks.', x_mitre_difficulty_for_adversary='Yes', x_mitre_difficulty_for_adversary_explanation='Launching a SQL injection attack is not overly complex and a commonly used technique.  This technique, however, requires finding a vulnerable application.', x_mitre_old_attack_id='PRE-T1154', x_mitre_version='1.0'),\n",
       " AttackPattern(type='attack-pattern', id='attack-pattern--388f3a5c-2cdd-466c-9159-b507fa429fcd', created_by_ref='identity--c78cb6e5-0c4b-4611-8297-d1b8b55e40b5', created='2017-12-14T16:46:06.044Z', modified='2018-10-17T00:14:20.652Z', name='Hardware or software supply chain implant', description='During production and distribution, the placement of software, firmware, or a CPU chip in a computer, handheld, or other electronic device that enables an adversary to gain illegal entrance. (Citation: McDRecall) (Citation: SeagateMaxtor)', kill_chain_phases=[KillChainPhase(kill_chain_name='mitre-pre-attack', phase_name='stage-capabilities')], external_references=[ExternalReference(source_name='mitre-pre-attack', url='https://attack.mitre.org/techniques/T1365', external_id='T1365'), ExternalReference(source_name='McDRecall', description='Tash Shifrin. (2006, October 16). Malware forces McDonald’s recall of giveaway MP3s. Retrieved March 9, 2017.'), ExternalReference(source_name='SeagateMaxtor', description='Brandon Hill. (2007, November 14). Seagate Serves External HDDs with a Side of Virus. Retrieved March 9, 2017.')], object_marking_refs=['marking-definition--fa42a846-8d90-4e51-bc29-71d5b4802168'], x_mitre_detectable_by_common_defenses='No', x_mitre_detectable_by_common_defenses_explanation='The number of elements and components in a supply chain of HW or SW is vast and detecting an implant is complex for SW, but more complex for HW.', x_mitre_difficulty_for_adversary='No', x_mitre_difficulty_for_adversary_explanation='Access to the supply chain by an adversary can be a challenging endeavor, depending on what element is attempting to be subverted.', x_mitre_old_attack_id='PRE-T1142', x_mitre_version='1.0'),\n",
       " AttackPattern(type='attack-pattern', id='attack-pattern--5b6ce031-bb86-407a-9984-2b9700ac4549', created_by_ref='identity--c78cb6e5-0c4b-4611-8297-d1b8b55e40b5', created='2017-12-14T16:46:06.044Z', modified='2018-10-17T00:14:20.652Z', name='Identify business relationships', description='Business relationship information includes the associates of a target and may be discovered via social media sites such as [LinkedIn](https://www.linkedin.com) or public press releases announcing new partnerships between organizations or people (such as key hire announcements in industry articles).  This information may be used by an adversary to shape social engineering attempts (exploiting who a target expects to hear from) or to plan for technical actions such as exploiting network trust relationship. (Citation: RSA-APTRecon) (Citation: Scasny2015)', kill_chain_phases=[KillChainPhase(kill_chain_name='mitre-pre-attack', phase_name='people-information-gathering')], external_references=[ExternalReference(source_name='mitre-pre-attack', url='https://attack.mitre.org/techniques/T1272', external_id='T1272'), ExternalReference(source_name='RSA-APTRecon', description='Rotem Kerner. (2015, October). RECONNAISSANCE: A Walkthrough of the “APT” Intelligence Gathering Process. Retrieved March 1, 2017.'), ExternalReference(source_name='Scasny2015', description='Gregory Scasny. (2015, September 14). Understanding Open Source Intelligence (OSINT) and its relationship to Identity Theft. Retrieved March 1, 2017.')], object_marking_refs=['marking-definition--fa42a846-8d90-4e51-bc29-71d5b4802168'], x_mitre_detectable_by_common_defenses='No', x_mitre_detectable_by_common_defenses_explanation='Searching publicly available sources that cannot be monitored by a defender.  Much of this information is widely known and difficult to obscure.', x_mitre_difficulty_for_adversary='Yes', x_mitre_difficulty_for_adversary_explanation=\"Made easier by today's current social media.\", x_mitre_old_attack_id='PRE-T1049', x_mitre_version='1.0'),\n",
       " AttackPattern(type='attack-pattern', id='attack-pattern--7718e92f-b011-4f88-b822-ae245a1de407', created_by_ref='identity--c78cb6e5-0c4b-4611-8297-d1b8b55e40b5', created='2017-12-14T16:46:06.044Z', modified='2018-10-17T00:14:20.652Z', name='Identify job postings and needs/gaps', description='Job postings, on either company sites, or in other forums, provide information on organizational structure, needs, and gaps in an organization. This may give an adversary an indication of weakness in an organization (such as under-resourced IT shop). Job postings can also provide information on an organizations structure which could be valuable in social engineering attempts. (Citation: JobPostingThreat) (Citation: RSA-APTRecon)', kill_chain_phases=[KillChainPhase(kill_chain_name='mitre-pre-attack', phase_name='organizational-information-gathering')], external_references=[ExternalReference(source_name='mitre-pre-attack', url='https://attack.mitre.org/techniques/T1278', external_id='T1278'), ExternalReference(source_name='JobPostingThreat', description='Jay D. Krasnow. (2000, October). The Competitive Intelligence and National Security Threat from Website Job Listings. Retrieved March 16, 2017.'), ExternalReference(source_name='RSA-APTRecon', description='Rotem Kerner. (2015, October). RECONNAISSANCE: A Walkthrough of the “APT” Intelligence Gathering Process. Retrieved March 1, 2017.')], object_marking_refs=['marking-definition--fa42a846-8d90-4e51-bc29-71d5b4802168'], x_mitre_detectable_by_common_defenses='No', x_mitre_detectable_by_common_defenses_explanation=\"Public source external to the defender's organization.\", x_mitre_difficulty_for_adversary='Yes', x_mitre_difficulty_for_adversary_explanation='Very public by design.', x_mitre_old_attack_id='PRE-T1055', x_mitre_version='1.0'),\n",
       " AttackPattern(type='attack-pattern', id='attack-pattern--04e93ca1-8415-4a46-8549-73b7c84f8dc3', created_by_ref='identity--c78cb6e5-0c4b-4611-8297-d1b8b55e40b5', created='2017-12-14T16:46:06.044Z', modified='2018-10-17T00:14:20.652Z', name='Identify security defensive capabilities', description='Security defensive capabilities are designed to stop or limit unauthorized network traffic or other types of accesses. (Citation: OSFingerprinting2014) (Citation: NMAP WAF NSE)', kill_chain_phases=[KillChainPhase(kill_chain_name='mitre-pre-attack', phase_name='technical-information-gathering')], external_references=[ExternalReference(source_name='mitre-pre-attack', url='https://attack.mitre.org/techniques/T1263', external_id='T1263'), ExternalReference(source_name='OSFingerprinting2014', description='InfoSec Institute. (2014, June 19). What You Must Know About OS Fingerprinting. Retrieved March 1, 2017.'), ExternalReference(source_name='NMAP WAF NSE', description='Paulino Calderon. (n.d.). http-waf-detect. Retrieved April 2, 2017.')], object_marking_refs=['marking-definition--fa42a846-8d90-4e51-bc29-71d5b4802168'], x_mitre_detectable_by_common_defenses='Yes', x_mitre_detectable_by_common_defenses_explanation='Technically, the defender has the ability to detect.  However, this is typically not performed as this type of traffic would likely not prompt the defender to take any actionable defense.  In addition, this would require the defender to closely review their access logs for any suspicious activity (if the activity is even logged).', x_mitre_difficulty_for_adversary='No', x_mitre_difficulty_for_adversary_explanation='The adversary will have some insight into defenses based on dropped traffic or filtered responses.  It is more difficult to pinpoint which defenses are implemented (e.g., [https://www.fireeye.com FireEye] WMPS, [https://www.hpe.com Hewlett Packard Enterprise] Tipping Point IPS).', x_mitre_old_attack_id='PRE-T1040', x_mitre_version='1.0'),\n",
       " AttackPattern(type='attack-pattern', id='attack-pattern--194bff4f-c218-40df-bea3-1ace715de8dd', created_by_ref='identity--c78cb6e5-0c4b-4611-8297-d1b8b55e40b5', created='2017-12-14T16:46:06.044Z', modified='2018-10-17T00:14:20.652Z', name='Identify technology usage patterns', description='Technology usage patterns include identifying if users work offsite, connect remotely, or other possibly less restricted/secured access techniques. (Citation: SANSRemoteAccess)', kill_chain_phases=[KillChainPhase(kill_chain_name='mitre-pre-attack', phase_name='technical-information-gathering')], external_references=[ExternalReference(source_name='mitre-pre-attack', url='https://attack.mitre.org/techniques/T1264', external_id='T1264'), ExternalReference(source_name='SANSRemoteAccess', description='Jason Ragland. (2010, January 18). Remotely Accessing Sensitive Resources. Retrieved March 5, 2017.')], object_marking_refs=['marking-definition--fa42a846-8d90-4e51-bc29-71d5b4802168'], x_mitre_detectable_by_common_defenses='No', x_mitre_detectable_by_common_defenses_explanation='Physical observations, OSINT for remote access instructions, and other techniques are not detectable.', x_mitre_difficulty_for_adversary='Yes', x_mitre_difficulty_for_adversary_explanation='Determine if users work offsite, connect remotely, or other possibly less restricted/secured access techniques.', x_mitre_old_attack_id='PRE-T1041', x_mitre_version='1.0'),\n",
       " AttackPattern(type='attack-pattern', id='attack-pattern--cdfdb0cd-a839-403c-9dd6-8a85d8c5c73d', created_by_ref='identity--c78cb6e5-0c4b-4611-8297-d1b8b55e40b5', created='2017-12-14T16:46:06.044Z', modified='2019-02-05T23:14:47.048Z', name='Map network topology', description='A network topology is the arrangement of the various elements of a network (e.g., servers, workstations, printers, routers, firewalls, etc.). Mapping a network allows an adversary to understand how the elements are connected or related. (Citation: man traceroute) (Citation: Shodan Tutorial)', kill_chain_phases=[KillChainPhase(kill_chain_name='mitre-pre-attack', phase_name='technical-information-gathering')], external_references=[ExternalReference(source_name='mitre-pre-attack', url='https://attack.mitre.org/techniques/T1252', external_id='T1252'), ExternalReference(source_name='man traceroute', description='Linux Man Page. (n.d.). traceroute(8) - Linux man page. Retrieved April 2, 2017.'), ExternalReference(source_name='Shodan Tutorial', description='A Shodan Tutorial and Primer Daniel Miessler. (n.d.). A Shodan Tutorial and Primer. Retrieved April 2, 2017.')], object_marking_refs=['marking-definition--fa42a846-8d90-4e51-bc29-71d5b4802168'], x_mitre_detectable_by_common_defenses='Yes', x_mitre_detectable_by_common_defenses_explanation='Network mapping techniques/tools typically generate benign traffic that does not require further investigation by a defender since there is no actionable defense to execute.  Defender review of access logs may provide some insight based on trends or patterns.', x_mitre_difficulty_for_adversary='Yes', x_mitre_difficulty_for_adversary_explanation='Various available tools and data sources for scouting and detecting network topologies.', x_mitre_old_attack_id='PRE-T1029', x_mitre_version='1.0'),\n",
       " AttackPattern(type='attack-pattern', id='attack-pattern--b79e8a3f-a109-47c2-a0e3-564955590a3d', created_by_ref='identity--c78cb6e5-0c4b-4611-8297-d1b8b55e40b5', created='2017-12-14T16:46:06.044Z', modified='2018-10-17T00:14:20.652Z', name='Non-traditional or less attributable payment options', description='Using alternative payment options allows an adversary to hide their activities. Options include crypto currencies, barter systems, pre-paid cards or shell accounts. (Citation: Goodin300InBitcoins)', kill_chain_phases=[KillChainPhase(kill_chain_name='mitre-pre-attack', phase_name='adversary-opsec')], external_references=[ExternalReference(source_name='mitre-pre-attack', url='https://attack.mitre.org/techniques/T1316', external_id='T1316'), ExternalReference(source_name='Goodin300InBitcoins', description='Dan Goodin. (2013, October 17). You’re infected—if you want to see your data again, pay us $300 in Bitcoins. Retrieved March 6, 2017.')], object_marking_refs=['marking-definition--fa42a846-8d90-4e51-bc29-71d5b4802168'], x_mitre_detectable_by_common_defenses='No', x_mitre_detectable_by_common_defenses_explanation='Defender likely will not have access to payment information.  Monitoring crypto-currency or barter boards is resource intensive and not fully automatable.', x_mitre_difficulty_for_adversary='Yes', x_mitre_difficulty_for_adversary_explanation='Easy to use pre-paid cards or shell accounts to pay for services online.  Crypto currencies and barter systems can avoid use of trace-able bank or credit apparatus.', x_mitre_old_attack_id='PRE-T1093', x_mitre_version='1.0'),\n",
       " AttackPattern(type='attack-pattern', id='attack-pattern--357e137c-7589-4af1-895c-3fbad35ea4d2', created_by_ref='identity--c78cb6e5-0c4b-4611-8297-d1b8b55e40b5', created='2017-12-14T16:46:06.044Z', modified='2018-10-17T00:14:20.652Z', name='Obfuscate or encrypt code', description='Obfuscation is the act of creating code that is more difficult to understand. Encoding transforms the code using a publicly available format. Encryption transforms the code such that it requires a key to reverse the encryption. (Citation: CylanceOpCleaver)', kill_chain_phases=[KillChainPhase(kill_chain_name='mitre-pre-attack', phase_name='adversary-opsec')], external_references=[ExternalReference(source_name='mitre-pre-attack', url='https://attack.mitre.org/techniques/T1319', external_id='T1319'), ExternalReference(source_name='CylanceOpCleaver', description='CYLANCE. (n.d.). Operation Cleaver. Retrieved March 6, 2017.')], object_marking_refs=['marking-definition--fa42a846-8d90-4e51-bc29-71d5b4802168'], x_mitre_detectable_by_common_defenses='Yes', x_mitre_detectable_by_common_defenses_explanation='Detecting encryption is easy, decrypting/deobfuscating is hard.', x_mitre_difficulty_for_adversary='Yes', x_mitre_difficulty_for_adversary_explanation='Various solutions exist for the adversary to use.  This technique is commonly used to prevent attribution and evade detection.', x_mitre_old_attack_id='PRE-T1096', x_mitre_version='1.0'),\n",
       " AttackPattern(type='attack-pattern', id='attack-pattern--68b45999-bb0c-4829-bbd0-75d6dac57c94', created_by_ref='identity--c78cb6e5-0c4b-4611-8297-d1b8b55e40b5', created='2017-12-14T16:46:06.044Z', modified='2018-10-17T00:14:20.652Z', name='Obtain templates/branding materials', description='Templates and branding materials may be used by an adversary to add authenticity to social engineering message. (Citation: Scasny2015)', kill_chain_phases=[KillChainPhase(kill_chain_name='mitre-pre-attack', phase_name='organizational-information-gathering')], external_references=[ExternalReference(source_name='mitre-pre-attack', url='https://attack.mitre.org/techniques/T1281', external_id='T1281'), ExternalReference(source_name='Scasny2015', description='Gregory Scasny. (2015, September 14). Understanding Open Source Intelligence (OSINT) and its relationship to Identity Theft. Retrieved March 1, 2017.')], object_marking_refs=['marking-definition--fa42a846-8d90-4e51-bc29-71d5b4802168'], x_mitre_detectable_by_common_defenses='No', x_mitre_detectable_by_common_defenses_explanation=\"Adversary may download templates or branding from publicly available presentations that the defender can't monitor.\", x_mitre_difficulty_for_adversary='Yes', x_mitre_difficulty_for_adversary_explanation='Some branding information is publicly available when a corporation publishes their briefings to the internet which provides insight into branding information and template materials.  An exhaustive list of templating and branding is likely not available on the internet.', x_mitre_old_attack_id='PRE-T1058', x_mitre_version='1.0'),\n",
       " AttackPattern(type='attack-pattern', id='attack-pattern--2141aea0-cf38-49aa-9e51-ac34092bc30a', created_by_ref='identity--c78cb6e5-0c4b-4611-8297-d1b8b55e40b5', created='2017-12-14T16:46:06.044Z', modified='2018-10-17T00:14:20.652Z', name='Procure required equipment and software', description='An adversary will require some physical hardware and software. They may only need a lightweight set-up if most of their activities will take place using on-line infrastructure. Or, they may need to build extensive infrastructure if they want to test, communicate, and control other aspects of their activities on their own systems. (Citation: NYTStuxnet)', kill_chain_phases=[KillChainPhase(kill_chain_name='mitre-pre-attack', phase_name='establish-&-maintain-infrastructure')], external_references=[ExternalReference(source_name='mitre-pre-attack', url='https://attack.mitre.org/techniques/T1335', external_id='T1335'), ExternalReference(source_name='NYTStuxnet', description='William J. Broad, John Markoff, and David E. Sanger. (2011, January 15). Israeli Test on Worm Called Crucial in Iran Nuclear Delay. Retrieved March 1, 2017.')], object_marking_refs=['marking-definition--fa42a846-8d90-4e51-bc29-71d5b4802168'], x_mitre_detectable_by_common_defenses='No', x_mitre_detectable_by_common_defenses_explanation='Outside of highly specific or rare HW, nearly impossible to detect and track.', x_mitre_difficulty_for_adversary='Yes', x_mitre_difficulty_for_adversary_explanation='Ease and availability of current hardware and software, mobile phones (cash and go phones), and additional online technology simplifies adversary process to achieve this technique (and possibly without traceability). The adversary has control of the infrastructure and will likely be able to add/remove tools to infrastructure, whether acquired via hacking or standard computer acquisition (e.g., [https://aws.amazon.com AWS], VPS).', x_mitre_old_attack_id='PRE-T1112', x_mitre_version='1.0'),\n",
       " AttackPattern(type='attack-pattern', id='attack-pattern--9755ecdc-deb0-40e6-af49-713cb0f8ed92', created_by_ref='identity--c78cb6e5-0c4b-4611-8297-d1b8b55e40b5', created='2017-12-14T16:46:06.044Z', modified='2018-10-17T00:14:20.652Z', name='Remote access tool development', description='A remote access tool (RAT) is a piece of software that allows a remote user to control a system as if they had physical access to that system. An adversary may utilize existing RATs, modify existing RATs, or create their own RAT. (Citation: ActiveMalwareEnergy)', kill_chain_phases=[KillChainPhase(kill_chain_name='mitre-pre-attack', phase_name='build-capabilities')], external_references=[ExternalReference(source_name='mitre-pre-attack', url='https://attack.mitre.org/techniques/T1351', external_id='T1351'), ExternalReference(source_name='ActiveMalwareEnergy', description='Dan Goodin. (2014, June 30). Active malware operation let attackers sabotage US energy industry. Retrieved March 9, 2017.')], object_marking_refs=['marking-definition--fa42a846-8d90-4e51-bc29-71d5b4802168'], x_mitre_detectable_by_common_defenses='No', x_mitre_detectable_by_common_defenses_explanation='Adversary will likely use code repositories, but development will be performed on their local systems.', x_mitre_difficulty_for_adversary='Yes', x_mitre_difficulty_for_adversary_explanation=\"Many successful RATs exist for re-use/tailoring in addition to those an adversary may choose to build from scratch.  The adversary's capabilities, target sensitivity, and needs will likely determine whether a previous RAT is modified for use a new one is built from scratch.\", x_mitre_old_attack_id='PRE-T1128', x_mitre_version='1.0'),\n",
       " AttackPattern(type='attack-pattern', id='attack-pattern--41086474-e6de-4fac-bb69-640db7fdf3d2', created_by_ref='identity--c78cb6e5-0c4b-4611-8297-d1b8b55e40b5', created='2017-12-14T16:46:06.044Z', modified='2018-10-17T00:14:20.652Z', name='Runtime code download and execution', description=\"This technique has been deprecated. Please see ATT&CK's Initial Access and Execution tactics for replacement techniques.\\n\\nMany mobile devices are configured to only allow applications to be installed from the mainstream vendor app stores (e.g., Apple App Store and Google Play Store).  These app stores scan submitted applications for malicious behavior.  However, applications can evade these scans by downloading and executing new code at runtime that was not included in the original application package. (Citation: Fruit vs Zombies) (Citation: Android Hax) (Citation: Execute This!) (Citation: HT Fake News App) (Citation: Anywhere Computing kill 2FA) (Citation: Android Security Review 2015)\", kill_chain_phases=[KillChainPhase(kill_chain_name='mitre-pre-attack', phase_name='launch')], external_references=[ExternalReference(source_name='mitre-pre-attack', url='https://attack.mitre.org/techniques/T1395', external_id='T1395'), ExternalReference(source_name='Fruit vs Zombies', description='Claud Xiao. (2016). Fruit vs Zombies: Defeat Non-jailbroken iOS Malware. Retrieved April 12, 2017.'), ExternalReference(source_name='Android Hax', description='Jon Oberheide. (2010). Android Hax. Retrieved April 12, 2017.'), ExternalReference(source_name='Execute This!', description='Sebastian Poeplau, Yanick Fratantonio, Antonio Bianchi, Christopher Kruegel, Giovanni Vigna. (2014). Execute This! Analyzing Unsafe and Malicious Dynamic Code Loading in Android Applications. Retrieved April 12, 2017.'), ExternalReference(source_name='HT Fake News App', description='Wish Wu. (2016, July 15). Fake News App in Hacking Team Dump Designed to Bypass Google Play. Retrieved April 12, 2017.'), ExternalReference(source_name='Anywhere Computing kill 2FA', description='Radhesh Krishnan Konoth, Victor van der Veen and Herbert Bos. (2016). How Anywhere Computing Just Killed Your Phone-Based Two-Factor Authentication. Retrieved April 12, 2017.'), ExternalReference(source_name='Android Security Review 2015', description='Google. (2016, April). Android Security 2015 Year In Review. Retrieved April 12, 2017.')], object_marking_refs=['marking-definition--fa42a846-8d90-4e51-bc29-71d5b4802168'], x_mitre_deprecated=True, x_mitre_detectable_by_common_defenses='Partial', x_mitre_detectable_by_common_defenses_explanation='Third-party mobile application security analysis services exist that scan for use of these techniques in iOS and Android applications. Additionally, Google specifically calls out the ability to \"identify attacks that require connection to a server and dynamic downloading of code\" in its Android Security 2015 Year in Review report. However, many applications use these techniques as part of their legitimate operation, increasing the difficulty of detecting or preventing malicious use.', x_mitre_difficulty_for_adversary='Yes', x_mitre_difficulty_for_adversary_explanation='Runtime code execution techniques and examples of their use are widely documented on both Apple iOS and Android.', x_mitre_old_attack_id='PRE-T1172', x_mitre_version='1.0'),\n",
       " AttackPattern(type='attack-pattern', id='attack-pattern--e24a9f99-cb76-42a3-a50b-464668773e97', created_by_ref='identity--c78cb6e5-0c4b-4611-8297-d1b8b55e40b5', created='2017-12-14T16:46:06.044Z', modified='2018-10-17T00:14:20.652Z', name='Spear phishing messages with malicious attachments', description=\"This technique has been deprecated. Please see ATT&CK's Initial Access and Execution tactics for replacement techniques.\\n\\nEmails with malicious attachments are designed to get a user to open/execute the attachment in order to deliver malware payloads. (Citation: APT1)\", kill_chain_phases=[KillChainPhase(kill_chain_name='mitre-pre-attack', phase_name='launch')], external_references=[ExternalReference(source_name='mitre-pre-attack', url='https://attack.mitre.org/techniques/T1367', external_id='T1367'), ExternalReference(source_name='APT1', description='Mandiant. (n.d.). APT1: Exposing One of China’s Cyber Espionage Units. Retrieved March 5, 2017.')], object_marking_refs=['marking-definition--fa42a846-8d90-4e51-bc29-71d5b4802168'], x_mitre_deprecated=True, x_mitre_detectable_by_common_defenses='Yes', x_mitre_detectable_by_common_defenses_explanation='Many technologies exist to scan content and/or emulate a workstation prior to the target receiving and executing the attachment (detonation chambers) in order to reduce malicious emails and attachments being delivered to the intended target.  However, encryption continues to be a stumbling block.  In addition, there are a variety of commercial technologies available that enable users to screen for phishing messages and which are designed to enhance email security.', x_mitre_difficulty_for_adversary='Yes', x_mitre_difficulty_for_adversary_explanation='Sending the emails is the simple part, ensuring they make it to the target (e.g., not being filtered) may be challenging.  Over time, an adversary refines their techniques to minimize detection by making their emails seem legitimate in structure and content.', x_mitre_old_attack_id='PRE-T1144', x_mitre_version='1.0'),\n",
       " AttackPattern(type='attack-pattern', id='attack-pattern--72923cae-6c8c-4da2-8f48-b73389529c25', created_by_ref='identity--c78cb6e5-0c4b-4611-8297-d1b8b55e40b5', created='2017-12-14T16:46:06.044Z', modified='2018-10-17T00:14:20.652Z', name='Targeted client-side exploitation', description=\"This technique has been deprecated. Please see ATT&CK's Initial Access and Execution tactics for replacement techniques.\\n\\nA technique used to compromise a specific group of end users by taking advantage of flaws in client-side applications. For example, infecting websites that members of a targeted group are known to visit with the goal to infect a targeted user's computer. (Citation: RSASEThreat) (Citation: WikiStagefright) (Citation: ForbesSecurityWeek) (Citation: StrongPity-waterhole)\", kill_chain_phases=[KillChainPhase(kill_chain_name='mitre-pre-attack', phase_name='launch')], external_references=[ExternalReference(source_name='mitre-pre-attack', url='https://attack.mitre.org/techniques/T1371', external_id='T1371'), ExternalReference(source_name='RSASEThreat', description='Bob Griffin. (2015, May 16). THE ON-GOING THREAT OF SOCIAL ENGINEERING. Retrieved March 9, 2017.'), ExternalReference(source_name='WikiStagefright', description='Wikipedia contributors. (2017, March 8). Stagefright (bug). Retrieved March 9, 2017.'), ExternalReference(source_name='ForbesSecurityWeek', description='Fahmida Y. Rashid. (2015, February 11). Chinese Attackers Hacked Forbes Website in Watering Hole Attack: Security Firms. Retrieved March 7, 2017.'), ExternalReference(source_name='StrongPity-waterhole', description='Kurt Baumgartner. (2016, October 3). On the StrongPity Waterhole Attacks Targeting Italian and Belgian Encryption Users. Retrieved May 9, 2017.')], object_marking_refs=['marking-definition--fa42a846-8d90-4e51-bc29-71d5b4802168'], x_mitre_deprecated=True, x_mitre_detectable_by_common_defenses='Yes', x_mitre_detectable_by_common_defenses_explanation='Defensive technologies exist to scan web content before delivery to the requested end user.  However, this is not foolproof as some sites encrypt web communications and the adversary constantly moves to sites not previously flagged as malicious thus defeating this defense.  Host-based defenses can also aid in detection/mitigation as well as detection by the web site that got compromised.  The added challenge for a conditional watering hole is the reduced scope and likely reduced ability to detect or be informed.  Determining deltas in content (e.g., differences files type/size/number/hashes) downloaded could also aid in detection.', x_mitre_difficulty_for_adversary='Yes', x_mitre_difficulty_for_adversary_explanation='Commonly executed technique to place an exploit on an often widely used public web site intended for driveby delivery.  The additional challenge is the reduced set of options for web sites to compromise since the set is reduced to those often visited by targets of interest.', x_mitre_old_attack_id='PRE-T1148', x_mitre_version='1.0'),\n",
       " AttackPattern(type='attack-pattern', id='attack-pattern--e042a41b-5ecf-4f3a-8f1f-1b528c534772', created_by_ref='identity--c78cb6e5-0c4b-4611-8297-d1b8b55e40b5', created='2017-12-14T16:46:06.044Z', modified='2018-10-17T00:14:20.652Z', name='Test malware in various execution environments', description='Malware may perform differently on different platforms (computer vs handheld) and different operating systems ([Ubuntu](http://www.ubuntu.com) vs [OS X](http://www.apple.com/osx)), and versions ([Windows](http://windows.microsoft.com) 7 vs 10) so malicious actors will test their malware in the environment(s) where they most expect it to be executed. (Citation: BypassMalwareDefense)', kill_chain_phases=[KillChainPhase(kill_chain_name='mitre-pre-attack', phase_name='test-capabilities')], external_references=[ExternalReference(source_name='mitre-pre-attack', url='https://attack.mitre.org/techniques/T1357', external_id='T1357'), ExternalReference(source_name='BypassMalwareDefense', description='Morton Christiansen. (2010, May 7). Bypassing Malware Defenses. Retrieved March 9, 2017.')], object_marking_refs=['marking-definition--fa42a846-8d90-4e51-bc29-71d5b4802168'], x_mitre_detectable_by_common_defenses='No', x_mitre_detectable_by_common_defenses_explanation='Adversary controls the test and defender likely has no visibility.', x_mitre_difficulty_for_adversary='Yes', x_mitre_difficulty_for_adversary_explanation='Adversary can simulate most environments (e.g., variable operating systems, patch levels, application versions) with details available from other techniques.', x_mitre_old_attack_id='PRE-T1134', x_mitre_version='1.0'),\n",
       " AttackPattern(type='attack-pattern', id='attack-pattern--b3253d9e-ba11-430f-b5a3-4db844ce5413', created_by_ref='identity--c78cb6e5-0c4b-4611-8297-d1b8b55e40b5', created='2017-12-14T16:46:06.044Z', modified='2018-10-17T00:14:20.652Z', name='Unauthorized user introduces compromise delivery mechanism', description=\"This technique has been deprecated. Please see ATT&CK's Initial Access and Execution tactics for replacement techniques.\\n\\nIf an adversary can gain physical access to the target's environment they can introduce a variety of  devices that provide compromise mechanisms. This could include installing keyboard loggers, adding routing/wireless equipment, or connecting computing devices. (Citation: Credit Card Skimmers)\", kill_chain_phases=[KillChainPhase(kill_chain_name='mitre-pre-attack', phase_name='compromise')], external_references=[ExternalReference(source_name='mitre-pre-attack', url='https://attack.mitre.org/techniques/T1387', external_id='T1387'), ExternalReference(source_name='Credit Card Skimmers', description='Jeremy Kirk. (2008, December 16). Swedish Police Warn of Tampered Credit Card Terminals. Retrieved April 2, 2017.')], object_marking_refs=['marking-definition--fa42a846-8d90-4e51-bc29-71d5b4802168'], x_mitre_deprecated=True, x_mitre_detectable_by_common_defenses='No', x_mitre_detectable_by_common_defenses_explanation='This varies depending on the amount of monitoring within the environment.  Highly secure environments might have more innate monitoring and catch an adversary doing this more easily.', x_mitre_difficulty_for_adversary='No', x_mitre_difficulty_for_adversary_explanation='This likely requires the adversary to have close or insider access to introduce the mechanism of compromise.', x_mitre_old_attack_id='PRE-T1164', x_mitre_version='1.0')]"
      ]
     },
     "execution_count": 112,
     "metadata": {},
     "output_type": "execute_result"
    }
   ],
   "source": [
    "list(pre_techniques)"
   ]
  },
  {
   "cell_type": "code",
   "execution_count": 113,
   "metadata": {},
   "outputs": [
    {
     "data": {
      "text/plain": [
       "174"
      ]
     },
     "execution_count": 113,
     "metadata": {},
     "output_type": "execute_result"
    }
   ],
   "source": [
    "len(pre_techniques)"
   ]
  },
  {
   "cell_type": "code",
   "execution_count": 122,
   "metadata": {},
   "outputs": [
    {
     "data": {
      "text/plain": [
       "['name',\n",
       " 'description',\n",
       " 'kill_chain_phases',\n",
       " 'id',\n",
       " 'object_marking_refs',\n",
       " 'type',\n",
       " 'created_by_ref',\n",
       " 'created',\n",
       " 'modified',\n",
       " 'external_references',\n",
       " 'x_mitre_old_attack_id',\n",
       " 'x_mitre_detectable_by_common_defenses_explanation',\n",
       " 'x_mitre_version',\n",
       " 'x_mitre_difficulty_for_adversary',\n",
       " 'x_mitre_difficulty_for_adversary_explanation',\n",
       " 'x_mitre_detectable_by_common_defenses',\n",
       " 'x_mitre_deprecated']"
      ]
     },
     "execution_count": 122,
     "metadata": {},
     "output_type": "execute_result"
    }
   ],
   "source": [
    "list_techniques =[]\n",
    "for t in pre_techniques:\n",
    "    list_techniques.append(json.loads(t.serialize()))\n",
    "df = json_normalize(list_techniques)\n",
    "list(df)"
   ]
  },
  {
   "cell_type": "code",
   "execution_count": 134,
   "metadata": {},
   "outputs": [],
   "source": [
    "df.to_excel('/Users/doreddy/Documents/GAP IR/attackcti/all_pre_techniques.xls')"
   ]
  },
  {
   "cell_type": "code",
   "execution_count": 137,
   "metadata": {},
   "outputs": [
    {
     "name": "stdout",
     "output_type": "stream",
     "text": [
      "Number of techniques in mobile ATT&CK\n",
      "CPU times: user 51.5 ms, sys: 21.2 ms, total: 72.7 ms\n",
      "Wall time: 845 ms\n"
     ]
    },
    {
     "data": {
      "text/plain": [
       "95"
      ]
     },
     "execution_count": 137,
     "metadata": {},
     "output_type": "execute_result"
    }
   ],
   "source": [
    "print('Number of techniques in mobile ATT&CK')\n",
    "techniques = lift.get_mobile_techniques()\n",
    "%time len(lift.get_mobile_techniques())"
   ]
  },
  {
   "cell_type": "code",
   "execution_count": 138,
   "metadata": {},
   "outputs": [
    {
     "data": {
      "text/plain": [
       "pandas.core.frame.DataFrame"
      ]
     },
     "execution_count": 138,
     "metadata": {},
     "output_type": "execute_result"
    }
   ],
   "source": [
    "list_techniques = []\n",
    "for t in techniques:\n",
    "    list_techniques.append(json.loads(t.serialize()))\n",
    "df = json_normalize(list_techniques)\n",
    "type(df)"
   ]
  },
  {
   "cell_type": "code",
   "execution_count": null,
   "metadata": {},
   "outputs": [],
   "source": [
    "list(df)"
   ]
  },
  {
   "cell_type": "code",
   "execution_count": 141,
   "metadata": {},
   "outputs": [],
   "source": [
    "df.to_excel('/Users/doreddy/Documents/GAP IR/attackcti/all_mobile_techniques.xls')"
   ]
  },
  {
   "cell_type": "code",
   "execution_count": null,
   "metadata": {},
   "outputs": [],
   "source": [
    "print('Number of techniques with mitigaitons')\n",
    "techniques_mitigagtons = lift.get_techniques_mitigated_by_all_mitigations()()\n"
   ]
  },
  {
   "cell_type": "code",
   "execution_count": null,
   "metadata": {},
   "outputs": [],
   "source": []
  },
  {
   "cell_type": "code",
   "execution_count": null,
   "metadata": {},
   "outputs": [],
   "source": []
  }
 ],
 "metadata": {
  "kernelspec": {
   "display_name": "Python 3",
   "language": "python",
   "name": "python3"
  },
  "language_info": {
   "codemirror_mode": {
    "name": "ipython",
    "version": 3
   },
   "file_extension": ".py",
   "mimetype": "text/x-python",
   "name": "python",
   "nbconvert_exporter": "python",
   "pygments_lexer": "ipython3",
   "version": "3.7.3"
  }
 },
 "nbformat": 4,
 "nbformat_minor": 4
}
